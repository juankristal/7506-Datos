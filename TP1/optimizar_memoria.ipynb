{
 "cells": [
  {
   "cell_type": "markdown",
   "metadata": {},
   "source": [
    "# Optimizar memoria del set de datos"
   ]
  },
  {
   "cell_type": "markdown",
   "metadata": {},
   "source": [
    "## Atajo a carga del set de datos con optimizacion"
   ]
  },
  {
   "cell_type": "code",
   "execution_count": 1,
   "metadata": {},
   "outputs": [
    {
     "data": {
      "text/plain": [
       "\"\\nzona_prop_optimizar = pd.read_csv('train.csv',                                dtype = {                                         'id' : np.int32,                                         'tipodepropiedad' : 'category',                                         'provincia' : 'category',                                         'ciudad' : 'category',                                         'antiguedad' : np.float16,                                         'habitaciones' : np.float16,                                         'garages' : np.float16,                                         'banos' : np.float16,                                         'metroscubiertos' : np.float16,                                         'metrostotales' : np.float16,                                         'idzona' : np.float32,                                         'gimnasio' : 'bool',                                         'usosmultiples' : 'bool',                                         'piscina' : 'bool',                                         'escuelascercanas' : 'bool',                                         'centroscomercialescercanos' : 'bool',                                         'precio' : np.float32                                        })\\n\""
      ]
     },
     "execution_count": 1,
     "metadata": {},
     "output_type": "execute_result"
    }
   ],
   "source": [
    "# Dejar aqui la ultima y mejor version de carga del set de datos optimizada\n",
    "\"\"\"\n",
    "zona_prop_optimizar = pd.read_csv('train.csv', \\\n",
    "                               dtype = { \\\n",
    "                                        'id' : np.int32, \\\n",
    "                                        'tipodepropiedad' : 'category', \\\n",
    "                                        'provincia' : 'category', \\\n",
    "                                        'ciudad' : 'category', \\\n",
    "                                        'antiguedad' : np.float16, \\\n",
    "                                        'habitaciones' : np.float16, \\\n",
    "                                        'garages' : np.float16, \\\n",
    "                                        'banos' : np.float16, \\\n",
    "                                        'metroscubiertos' : np.float16, \\\n",
    "                                        'metrostotales' : np.float16, \\\n",
    "                                        'idzona' : np.float32, \\\n",
    "                                        'gimnasio' : 'bool', \\\n",
    "                                        'usosmultiples' : 'bool', \\\n",
    "                                        'piscina' : 'bool', \\\n",
    "                                        'escuelascercanas' : 'bool', \\\n",
    "                                        'centroscomercialescercanos' : 'bool', \\\n",
    "                                        'precio' : np.float32 \\\n",
    "                                       })\n",
    "\"\"\""
   ]
  },
  {
   "cell_type": "markdown",
   "metadata": {},
   "source": [
    "## Imports"
   ]
  },
  {
   "cell_type": "code",
   "execution_count": 2,
   "metadata": {},
   "outputs": [],
   "source": [
    "import pandas as pd\n",
    "import numpy as np"
   ]
  },
  {
   "cell_type": "markdown",
   "metadata": {},
   "source": [
    "## Cargar set de datos"
   ]
  },
  {
   "cell_type": "code",
   "execution_count": 3,
   "metadata": {},
   "outputs": [],
   "source": [
    "zona_prop = pd.read_csv('train.csv')\n",
    "zona_prop_optimizar = zona_prop.copy()"
   ]
  },
  {
   "cell_type": "markdown",
   "metadata": {},
   "source": [
    "## ¿Que tipo de datos tenemos?"
   ]
  },
  {
   "cell_type": "code",
   "execution_count": 4,
   "metadata": {
    "scrolled": true
   },
   "outputs": [
    {
     "data": {
      "text/plain": [
       "id                              int64\n",
       "titulo                         object\n",
       "descripcion                    object\n",
       "tipodepropiedad                object\n",
       "direccion                      object\n",
       "ciudad                         object\n",
       "provincia                      object\n",
       "antiguedad                    float64\n",
       "habitaciones                  float64\n",
       "garages                       float64\n",
       "banos                         float64\n",
       "metroscubiertos               float64\n",
       "metrostotales                 float64\n",
       "idzona                        float64\n",
       "lat                           float64\n",
       "lng                           float64\n",
       "fecha                          object\n",
       "gimnasio                      float64\n",
       "usosmultiples                 float64\n",
       "piscina                       float64\n",
       "escuelascercanas              float64\n",
       "centroscomercialescercanos    float64\n",
       "precio                        float64\n",
       "dtype: object"
      ]
     },
     "execution_count": 4,
     "metadata": {},
     "output_type": "execute_result"
    }
   ],
   "source": [
    "zona_prop_optimizar.dtypes"
   ]
  },
  {
   "cell_type": "code",
   "execution_count": 5,
   "metadata": {},
   "outputs": [
    {
     "name": "stdout",
     "output_type": "stream",
     "text": [
      "<class 'pandas.core.frame.DataFrame'>\n",
      "RangeIndex: 240000 entries, 0 to 239999\n",
      "Data columns (total 23 columns):\n",
      "id                            240000 non-null int64\n",
      "titulo                        234613 non-null object\n",
      "descripcion                   238381 non-null object\n",
      "tipodepropiedad               239954 non-null object\n",
      "direccion                     186928 non-null object\n",
      "ciudad                        239628 non-null object\n",
      "provincia                     239845 non-null object\n",
      "antiguedad                    196445 non-null float64\n",
      "habitaciones                  217529 non-null float64\n",
      "garages                       202235 non-null float64\n",
      "banos                         213779 non-null float64\n",
      "metroscubiertos               222600 non-null float64\n",
      "metrostotales                 188533 non-null float64\n",
      "idzona                        211379 non-null float64\n",
      "lat                           116512 non-null float64\n",
      "lng                           116512 non-null float64\n",
      "fecha                         240000 non-null object\n",
      "gimnasio                      240000 non-null float64\n",
      "usosmultiples                 240000 non-null float64\n",
      "piscina                       240000 non-null float64\n",
      "escuelascercanas              240000 non-null float64\n",
      "centroscomercialescercanos    240000 non-null float64\n",
      "precio                        240000 non-null float64\n",
      "dtypes: float64(15), int64(1), object(7)\n",
      "memory usage: 42.1+ MB\n"
     ]
    }
   ],
   "source": [
    "zona_prop_optimizar.info()"
   ]
  },
  {
   "cell_type": "markdown",
   "metadata": {},
   "source": [
    "## ¿Que columnas pueden ser category?"
   ]
  },
  {
   "cell_type": "code",
   "execution_count": 6,
   "metadata": {},
   "outputs": [
    {
     "data": {
      "text/plain": [
       "CategoricalDtype(categories=['Apartamento', 'Bodega comercial', 'Casa',\n",
       "                  'Casa en condominio', 'Casa uso de suelo',\n",
       "                  'Departamento Compartido', 'Duplex', 'Edificio', 'Garage',\n",
       "                  'Hospedaje', 'Huerta', 'Inmuebles productivos urbanos',\n",
       "                  'Local Comercial', 'Local en centro comercial', 'Lote',\n",
       "                  'Nave industrial', 'Oficina comercial', 'Otros',\n",
       "                  'Quinta Vacacional', 'Rancho', 'Terreno',\n",
       "                  'Terreno comercial', 'Terreno industrial', 'Villa'],\n",
       "                 ordered=False)"
      ]
     },
     "execution_count": 6,
     "metadata": {},
     "output_type": "execute_result"
    }
   ],
   "source": [
    "zona_prop_optimizar['tipodepropiedad'].astype('category').dtypes"
   ]
  },
  {
   "cell_type": "code",
   "execution_count": 7,
   "metadata": {
    "scrolled": true
   },
   "outputs": [
    {
     "data": {
      "text/plain": [
       "Index                              80\n",
       "id                            1920000\n",
       "titulo                        1920000\n",
       "descripcion                   1920000\n",
       "tipodepropiedad                240832\n",
       "direccion                     1920000\n",
       "ciudad                        1920000\n",
       "provincia                     1920000\n",
       "antiguedad                    1920000\n",
       "habitaciones                  1920000\n",
       "garages                       1920000\n",
       "banos                         1920000\n",
       "metroscubiertos               1920000\n",
       "metrostotales                 1920000\n",
       "idzona                        1920000\n",
       "lat                           1920000\n",
       "lng                           1920000\n",
       "fecha                         1920000\n",
       "gimnasio                      1920000\n",
       "usosmultiples                 1920000\n",
       "piscina                       1920000\n",
       "escuelascercanas              1920000\n",
       "centroscomercialescercanos    1920000\n",
       "precio                        1920000\n",
       "dtype: int64"
      ]
     },
     "execution_count": 7,
     "metadata": {},
     "output_type": "execute_result"
    }
   ],
   "source": [
    "zona_prop_optimizar.astype({'tipodepropiedad' : 'category'}).memory_usage()"
   ]
  },
  {
   "cell_type": "code",
   "execution_count": 8,
   "metadata": {},
   "outputs": [
    {
     "data": {
      "text/plain": [
       "CategoricalDtype(categories=['Abalá', 'Abasolo', 'Abejones', 'Acajete', 'Acambay',\n",
       "                  'Acaponeta', 'Acapulco de Juárez', 'Acateno', 'Acatic',\n",
       "                  'Acatzingo',\n",
       "                  ...\n",
       "                  'Zitácuaro', 'Zumpahuacán', 'Zumpango', 'otra', 'ácatlán',\n",
       "                  'ácatlán de Juárez', 'ácaxochitlán', 'ácámbaro',\n",
       "                  'áutlán de Navarro', 'áyotlán'],\n",
       "                 ordered=False)"
      ]
     },
     "execution_count": 8,
     "metadata": {},
     "output_type": "execute_result"
    }
   ],
   "source": [
    "zona_prop_optimizar['ciudad'].astype('category').dtypes"
   ]
  },
  {
   "cell_type": "code",
   "execution_count": null,
   "metadata": {},
   "outputs": [],
   "source": []
  },
  {
   "cell_type": "code",
   "execution_count": 9,
   "metadata": {
    "scrolled": true
   },
   "outputs": [
    {
     "data": {
      "text/plain": [
       "Index                              80\n",
       "id                            1920000\n",
       "titulo                        1920000\n",
       "descripcion                   1920000\n",
       "tipodepropiedad               1920000\n",
       "direccion                     1920000\n",
       "ciudad                         527960\n",
       "provincia                     1920000\n",
       "antiguedad                    1920000\n",
       "habitaciones                  1920000\n",
       "garages                       1920000\n",
       "banos                         1920000\n",
       "metroscubiertos               1920000\n",
       "metrostotales                 1920000\n",
       "idzona                        1920000\n",
       "lat                           1920000\n",
       "lng                           1920000\n",
       "fecha                         1920000\n",
       "gimnasio                      1920000\n",
       "usosmultiples                 1920000\n",
       "piscina                       1920000\n",
       "escuelascercanas              1920000\n",
       "centroscomercialescercanos    1920000\n",
       "precio                        1920000\n",
       "dtype: int64"
      ]
     },
     "execution_count": 9,
     "metadata": {},
     "output_type": "execute_result"
    }
   ],
   "source": [
    "zona_prop_optimizar.astype({'ciudad' : 'category'}).memory_usage()"
   ]
  },
  {
   "cell_type": "code",
   "execution_count": 10,
   "metadata": {},
   "outputs": [
    {
     "data": {
      "text/plain": [
       "CategoricalDtype(categories=['Aguascalientes', 'Baja California Norte',\n",
       "                  'Baja California Sur', 'Campeche', 'Chiapas', 'Chihuahua',\n",
       "                  'Coahuila', 'Colima', 'Distrito Federal', 'Durango',\n",
       "                  'Edo. de México', 'Guanajuato', 'Guerrero', 'Hidalgo',\n",
       "                  'Jalisco', 'Michoacán', 'Morelos', 'Nayarit', 'Nuevo León',\n",
       "                  'Oaxaca', 'Puebla', 'Querétaro', 'Quintana Roo',\n",
       "                  'San luis Potosí', 'Sinaloa', 'Sonora', 'Tabasco',\n",
       "                  'Tamaulipas', 'Tlaxcala', 'Veracruz', 'Yucatán',\n",
       "                  'Zacatecas'],\n",
       "                 ordered=False)"
      ]
     },
     "execution_count": 10,
     "metadata": {},
     "output_type": "execute_result"
    }
   ],
   "source": [
    "zona_prop_optimizar['provincia'].astype('category').dtypes"
   ]
  },
  {
   "cell_type": "code",
   "execution_count": 11,
   "metadata": {},
   "outputs": [
    {
     "data": {
      "text/plain": [
       "Index                              80\n",
       "id                            1920000\n",
       "titulo                        1920000\n",
       "descripcion                   1920000\n",
       "tipodepropiedad               1920000\n",
       "direccion                     1920000\n",
       "ciudad                        1920000\n",
       "provincia                      241536\n",
       "antiguedad                    1920000\n",
       "habitaciones                  1920000\n",
       "garages                       1920000\n",
       "banos                         1920000\n",
       "metroscubiertos               1920000\n",
       "metrostotales                 1920000\n",
       "idzona                        1920000\n",
       "lat                           1920000\n",
       "lng                           1920000\n",
       "fecha                         1920000\n",
       "gimnasio                      1920000\n",
       "usosmultiples                 1920000\n",
       "piscina                       1920000\n",
       "escuelascercanas              1920000\n",
       "centroscomercialescercanos    1920000\n",
       "precio                        1920000\n",
       "dtype: int64"
      ]
     },
     "execution_count": 11,
     "metadata": {},
     "output_type": "execute_result"
    }
   ],
   "source": [
    "zona_prop_optimizar.astype({'provincia' : 'category'}).memory_usage()"
   ]
  },
  {
   "cell_type": "code",
   "execution_count": 12,
   "metadata": {},
   "outputs": [
    {
     "data": {
      "text/plain": [
       "CategoricalDtype(categories=['\\t Cuautitlan Izcalli, Estado de México, Lago de Guadalupe, El Mirador Residencial',\n",
       "                  '\\t19.041962,-98.264873',\n",
       "                  '\\tAv Eugenio Garza Sada 1700,  Aguascalientes, AGS',\n",
       "                  '\\tAv de la Salvación 711',\n",
       "                  '\\tAv. Ferrocarril, Col.No. 9 Marina Nacional, Municipio Tlalnepantla, Edo. De México, C.P. 54190. (A 5 Min. De Indios Verdes).',\n",
       "                  '\\tAv. Madeiras #197-106',\n",
       "                  '\\tBARTOLOME R. SALIDO 144  501 G',\n",
       "                  '\\tCalle Agustin de Iturbide No. 154\\t\\t\\t\\t\\t\\t\\t\\t\\t\\t\\t\\t\\t\\t\\t',\n",
       "                  '\\tCalle Eduardo Loarca catillo No. 5030, Casa No. 48',\n",
       "                  '\\tCamino Real a Colima S/N',\n",
       "                  ...\n",
       "                  'Ópalo # 131 Fraccionamiento Los Prismas 1a. sección ',\n",
       "                  'Ópalo # 2, Col. Presa San Bruno, Xalapa', 'Ópalo s/n',\n",
       "                  'ÚRSULO GALVÁN', 'Últimas 2 Residencias', 'Úrsulo Galván',\n",
       "                  'Úrsulo Galván, Presidentes Ejidales', 'álamos 1era ',\n",
       "                  'ángel Urraza', 'ángel urraza 1608'],\n",
       "                 ordered=False)"
      ]
     },
     "execution_count": 12,
     "metadata": {},
     "output_type": "execute_result"
    }
   ],
   "source": [
    "zona_prop_optimizar['direccion'].astype('category').dtypes"
   ]
  },
  {
   "cell_type": "code",
   "execution_count": 13,
   "metadata": {
    "scrolled": true
   },
   "outputs": [
    {
     "data": {
      "text/plain": [
       "Index                              80\n",
       "id                            1920000\n",
       "titulo                        1920000\n",
       "descripcion                   1920000\n",
       "tipodepropiedad               1920000\n",
       "direccion                     7325032\n",
       "ciudad                        1920000\n",
       "provincia                     1920000\n",
       "antiguedad                    1920000\n",
       "habitaciones                  1920000\n",
       "garages                       1920000\n",
       "banos                         1920000\n",
       "metroscubiertos               1920000\n",
       "metrostotales                 1920000\n",
       "idzona                        1920000\n",
       "lat                           1920000\n",
       "lng                           1920000\n",
       "fecha                         1920000\n",
       "gimnasio                      1920000\n",
       "usosmultiples                 1920000\n",
       "piscina                       1920000\n",
       "escuelascercanas              1920000\n",
       "centroscomercialescercanos    1920000\n",
       "precio                        1920000\n",
       "dtype: int64"
      ]
     },
     "execution_count": 13,
     "metadata": {},
     "output_type": "execute_result"
    }
   ],
   "source": [
    "zona_prop_optimizar.astype({'direccion' : 'category'}).memory_usage()"
   ]
  },
  {
   "cell_type": "markdown",
   "metadata": {},
   "source": [
    "En este caso, no conviene cambiar el tipo de direccion"
   ]
  },
  {
   "cell_type": "markdown",
   "metadata": {},
   "source": [
    "Las columnas tipodepropiedad, ciudad, provincia podrian ser casteados a 'category', pues son pocos valores en cada una.  "
   ]
  },
  {
   "cell_type": "code",
   "execution_count": 14,
   "metadata": {},
   "outputs": [],
   "source": [
    "zona_prop_optimizar = pd.read_csv('train.csv', \\\n",
    "                               dtype = { \\\n",
    "                                        'tipodepropiedad' : 'category', \\\n",
    "                                        'provincia' : 'category', \\\n",
    "                                        'ciudad' : 'category' \\\n",
    "                                       })"
   ]
  },
  {
   "cell_type": "code",
   "execution_count": 15,
   "metadata": {
    "scrolled": true
   },
   "outputs": [
    {
     "name": "stdout",
     "output_type": "stream",
     "text": [
      "<class 'pandas.core.frame.DataFrame'>\n",
      "RangeIndex: 240000 entries, 0 to 239999\n",
      "Data columns (total 23 columns):\n",
      "id                            240000 non-null int64\n",
      "titulo                        234613 non-null object\n",
      "descripcion                   238381 non-null object\n",
      "tipodepropiedad               239954 non-null category\n",
      "direccion                     186928 non-null object\n",
      "ciudad                        239628 non-null category\n",
      "provincia                     239845 non-null category\n",
      "antiguedad                    196445 non-null float64\n",
      "habitaciones                  217529 non-null float64\n",
      "garages                       202235 non-null float64\n",
      "banos                         213779 non-null float64\n",
      "metroscubiertos               222600 non-null float64\n",
      "metrostotales                 188533 non-null float64\n",
      "idzona                        211379 non-null float64\n",
      "lat                           116512 non-null float64\n",
      "lng                           116512 non-null float64\n",
      "fecha                         240000 non-null object\n",
      "gimnasio                      240000 non-null float64\n",
      "usosmultiples                 240000 non-null float64\n",
      "piscina                       240000 non-null float64\n",
      "escuelascercanas              240000 non-null float64\n",
      "centroscomercialescercanos    240000 non-null float64\n",
      "precio                        240000 non-null float64\n",
      "dtypes: category(3), float64(15), int64(1), object(4)\n",
      "memory usage: 37.6+ MB\n"
     ]
    }
   ],
   "source": [
    "zona_prop_optimizar.info()"
   ]
  },
  {
   "cell_type": "code",
   "execution_count": 16,
   "metadata": {
    "scrolled": true
   },
   "outputs": [
    {
     "data": {
      "text/plain": [
       "Index                              80\n",
       "id                            1920000\n",
       "titulo                        1920000\n",
       "descripcion                   1920000\n",
       "tipodepropiedad                240832\n",
       "direccion                     1920000\n",
       "ciudad                         527960\n",
       "provincia                      241536\n",
       "antiguedad                    1920000\n",
       "habitaciones                  1920000\n",
       "garages                       1920000\n",
       "banos                         1920000\n",
       "metroscubiertos               1920000\n",
       "metrostotales                 1920000\n",
       "idzona                        1920000\n",
       "lat                           1920000\n",
       "lng                           1920000\n",
       "fecha                         1920000\n",
       "gimnasio                      1920000\n",
       "usosmultiples                 1920000\n",
       "piscina                       1920000\n",
       "escuelascercanas              1920000\n",
       "centroscomercialescercanos    1920000\n",
       "precio                        1920000\n",
       "dtype: int64"
      ]
     },
     "execution_count": 16,
     "metadata": {},
     "output_type": "execute_result"
    }
   ],
   "source": [
    "zona_prop_optimizar.memory_usage()"
   ]
  },
  {
   "cell_type": "markdown",
   "metadata": {},
   "source": [
    "## ¿Cuales valores numericos pueden ser guardados en tipos menos precisos?"
   ]
  },
  {
   "cell_type": "code",
   "execution_count": 17,
   "metadata": {},
   "outputs": [
    {
     "data": {
      "text/plain": [
       "dtype('int64')"
      ]
     },
     "execution_count": 17,
     "metadata": {},
     "output_type": "execute_result"
    }
   ],
   "source": [
    "zona_prop_optimizar['id'].dtype"
   ]
  },
  {
   "cell_type": "code",
   "execution_count": 18,
   "metadata": {},
   "outputs": [
    {
     "data": {
      "text/plain": [
       "299999"
      ]
     },
     "execution_count": 18,
     "metadata": {},
     "output_type": "execute_result"
    }
   ],
   "source": [
    "zona_prop_optimizar['id'].max()"
   ]
  },
  {
   "cell_type": "code",
   "execution_count": 19,
   "metadata": {
    "scrolled": true
   },
   "outputs": [
    {
     "data": {
      "text/plain": [
       "1"
      ]
     },
     "execution_count": 19,
     "metadata": {},
     "output_type": "execute_result"
    }
   ],
   "source": [
    "zona_prop_optimizar['id'].min()"
   ]
  },
  {
   "cell_type": "code",
   "execution_count": 20,
   "metadata": {},
   "outputs": [
    {
     "data": {
      "text/plain": [
       "65536"
      ]
     },
     "execution_count": 20,
     "metadata": {},
     "output_type": "execute_result"
    }
   ],
   "source": [
    "2**16"
   ]
  },
  {
   "cell_type": "code",
   "execution_count": 21,
   "metadata": {},
   "outputs": [
    {
     "data": {
      "text/plain": [
       "4294967296"
      ]
     },
     "execution_count": 21,
     "metadata": {},
     "output_type": "execute_result"
    }
   ],
   "source": [
    "2**32"
   ]
  },
  {
   "cell_type": "code",
   "execution_count": 22,
   "metadata": {
    "scrolled": true
   },
   "outputs": [
    {
     "data": {
      "text/plain": [
       "Index                              80\n",
       "id                             960000\n",
       "titulo                        1920000\n",
       "descripcion                   1920000\n",
       "tipodepropiedad                240832\n",
       "direccion                     1920000\n",
       "ciudad                         527960\n",
       "provincia                      241536\n",
       "antiguedad                    1920000\n",
       "habitaciones                  1920000\n",
       "garages                       1920000\n",
       "banos                         1920000\n",
       "metroscubiertos               1920000\n",
       "metrostotales                 1920000\n",
       "idzona                        1920000\n",
       "lat                           1920000\n",
       "lng                           1920000\n",
       "fecha                         1920000\n",
       "gimnasio                      1920000\n",
       "usosmultiples                 1920000\n",
       "piscina                       1920000\n",
       "escuelascercanas              1920000\n",
       "centroscomercialescercanos    1920000\n",
       "precio                        1920000\n",
       "dtype: int64"
      ]
     },
     "execution_count": 22,
     "metadata": {},
     "output_type": "execute_result"
    }
   ],
   "source": [
    "zona_prop_optimizar.astype({'id' : np.int32}).memory_usage()"
   ]
  },
  {
   "cell_type": "code",
   "execution_count": 23,
   "metadata": {},
   "outputs": [
    {
     "data": {
      "text/plain": [
       "0.0"
      ]
     },
     "execution_count": 23,
     "metadata": {},
     "output_type": "execute_result"
    }
   ],
   "source": [
    "zona_prop_optimizar['antiguedad'].min()"
   ]
  },
  {
   "cell_type": "code",
   "execution_count": 24,
   "metadata": {},
   "outputs": [
    {
     "data": {
      "text/plain": [
       "80.0"
      ]
     },
     "execution_count": 24,
     "metadata": {},
     "output_type": "execute_result"
    }
   ],
   "source": [
    "zona_prop_optimizar['antiguedad'].max()"
   ]
  },
  {
   "cell_type": "code",
   "execution_count": 25,
   "metadata": {},
   "outputs": [
    {
     "data": {
      "text/plain": [
       "256"
      ]
     },
     "execution_count": 25,
     "metadata": {},
     "output_type": "execute_result"
    }
   ],
   "source": [
    "2**8"
   ]
  },
  {
   "cell_type": "code",
   "execution_count": 26,
   "metadata": {},
   "outputs": [
    {
     "data": {
      "text/plain": [
       "dtype('float64')"
      ]
     },
     "execution_count": 26,
     "metadata": {},
     "output_type": "execute_result"
    }
   ],
   "source": [
    "zona_prop_optimizar['antiguedad'].dtype"
   ]
  },
  {
   "cell_type": "code",
   "execution_count": 27,
   "metadata": {
    "scrolled": true
   },
   "outputs": [
    {
     "data": {
      "text/plain": [
       "Index                              80\n",
       "id                            1920000\n",
       "titulo                        1920000\n",
       "descripcion                   1920000\n",
       "tipodepropiedad                240832\n",
       "direccion                     1920000\n",
       "ciudad                         527960\n",
       "provincia                      241536\n",
       "antiguedad                     480000\n",
       "habitaciones                  1920000\n",
       "garages                       1920000\n",
       "banos                         1920000\n",
       "metroscubiertos               1920000\n",
       "metrostotales                 1920000\n",
       "idzona                        1920000\n",
       "lat                           1920000\n",
       "lng                           1920000\n",
       "fecha                         1920000\n",
       "gimnasio                      1920000\n",
       "usosmultiples                 1920000\n",
       "piscina                       1920000\n",
       "escuelascercanas              1920000\n",
       "centroscomercialescercanos    1920000\n",
       "precio                        1920000\n",
       "dtype: int64"
      ]
     },
     "execution_count": 27,
     "metadata": {},
     "output_type": "execute_result"
    }
   ],
   "source": [
    "zona_prop_optimizar.astype({'antiguedad' : np.float16}).memory_usage()"
   ]
  },
  {
   "cell_type": "code",
   "execution_count": 28,
   "metadata": {},
   "outputs": [
    {
     "data": {
      "text/plain": [
       "1.0"
      ]
     },
     "execution_count": 28,
     "metadata": {},
     "output_type": "execute_result"
    }
   ],
   "source": [
    "zona_prop_optimizar['piscina'].max()"
   ]
  },
  {
   "cell_type": "code",
   "execution_count": 29,
   "metadata": {
    "scrolled": true
   },
   "outputs": [
    {
     "data": {
      "text/plain": [
       "0.0"
      ]
     },
     "execution_count": 29,
     "metadata": {},
     "output_type": "execute_result"
    }
   ],
   "source": [
    "zona_prop_optimizar['piscina'].min()"
   ]
  },
  {
   "cell_type": "code",
   "execution_count": 30,
   "metadata": {
    "scrolled": true
   },
   "outputs": [
    {
     "data": {
      "text/plain": [
       "Index                              80\n",
       "id                            1920000\n",
       "titulo                        1920000\n",
       "descripcion                   1920000\n",
       "tipodepropiedad                240832\n",
       "direccion                     1920000\n",
       "ciudad                         527960\n",
       "provincia                      241536\n",
       "antiguedad                    1920000\n",
       "habitaciones                  1920000\n",
       "garages                       1920000\n",
       "banos                         1920000\n",
       "metroscubiertos               1920000\n",
       "metrostotales                 1920000\n",
       "idzona                        1920000\n",
       "lat                           1920000\n",
       "lng                           1920000\n",
       "fecha                         1920000\n",
       "gimnasio                      1920000\n",
       "usosmultiples                 1920000\n",
       "piscina                        240000\n",
       "escuelascercanas              1920000\n",
       "centroscomercialescercanos    1920000\n",
       "precio                        1920000\n",
       "dtype: int64"
      ]
     },
     "execution_count": 30,
     "metadata": {},
     "output_type": "execute_result"
    }
   ],
   "source": [
    "zona_prop_optimizar.astype({'piscina' : 'bool'}).memory_usage()"
   ]
  },
  {
   "cell_type": "code",
   "execution_count": 31,
   "metadata": {
    "scrolled": true
   },
   "outputs": [
    {
     "data": {
      "text/plain": [
       "Index                              80\n",
       "id                            1920000\n",
       "titulo                        1920000\n",
       "descripcion                   1920000\n",
       "tipodepropiedad                240832\n",
       "direccion                     1920000\n",
       "ciudad                         527960\n",
       "provincia                      241536\n",
       "antiguedad                    1920000\n",
       "habitaciones                  1920000\n",
       "garages                       1920000\n",
       "banos                         1920000\n",
       "metroscubiertos               1920000\n",
       "metrostotales                 1920000\n",
       "idzona                        1920000\n",
       "lat                           1920000\n",
       "lng                           1920000\n",
       "fecha                         1920000\n",
       "gimnasio                      1920000\n",
       "usosmultiples                 1920000\n",
       "piscina                        240000\n",
       "escuelascercanas              1920000\n",
       "centroscomercialescercanos    1920000\n",
       "precio                        1920000\n",
       "dtype: int64"
      ]
     },
     "execution_count": 31,
     "metadata": {},
     "output_type": "execute_result"
    }
   ],
   "source": [
    "zona_prop_optimizar.astype({'piscina' : np.int8}).memory_usage()"
   ]
  },
  {
   "cell_type": "markdown",
   "metadata": {},
   "source": [
    "Con int8 y bool ahorra la misma memoria, pero prefiero int8"
   ]
  },
  {
   "cell_type": "code",
   "execution_count": 32,
   "metadata": {
    "scrolled": true
   },
   "outputs": [
    {
     "data": {
      "text/plain": [
       "3.0"
      ]
     },
     "execution_count": 32,
     "metadata": {},
     "output_type": "execute_result"
    }
   ],
   "source": [
    "zona_prop_optimizar['garages'].max()"
   ]
  },
  {
   "cell_type": "code",
   "execution_count": 33,
   "metadata": {},
   "outputs": [
    {
     "data": {
      "text/plain": [
       "0.0"
      ]
     },
     "execution_count": 33,
     "metadata": {},
     "output_type": "execute_result"
    }
   ],
   "source": [
    "zona_prop_optimizar['garages'].min()"
   ]
  },
  {
   "cell_type": "code",
   "execution_count": 34,
   "metadata": {
    "scrolled": true
   },
   "outputs": [
    {
     "data": {
      "text/plain": [
       "Index                              80\n",
       "id                            1920000\n",
       "titulo                        1920000\n",
       "descripcion                   1920000\n",
       "tipodepropiedad                240832\n",
       "direccion                     1920000\n",
       "ciudad                         527960\n",
       "provincia                      241536\n",
       "antiguedad                    1920000\n",
       "habitaciones                  1920000\n",
       "garages                        480000\n",
       "banos                         1920000\n",
       "metroscubiertos               1920000\n",
       "metrostotales                 1920000\n",
       "idzona                        1920000\n",
       "lat                           1920000\n",
       "lng                           1920000\n",
       "fecha                         1920000\n",
       "gimnasio                      1920000\n",
       "usosmultiples                 1920000\n",
       "piscina                       1920000\n",
       "escuelascercanas              1920000\n",
       "centroscomercialescercanos    1920000\n",
       "precio                        1920000\n",
       "dtype: int64"
      ]
     },
     "execution_count": 34,
     "metadata": {},
     "output_type": "execute_result"
    }
   ],
   "source": [
    "zona_prop_optimizar.astype({'garages' : np.float16}).memory_usage()"
   ]
  },
  {
   "cell_type": "code",
   "execution_count": 35,
   "metadata": {
    "scrolled": true
   },
   "outputs": [
    {
     "ename": "ValueError",
     "evalue": "Cannot convert non-finite values (NA or inf) to integer",
     "output_type": "error",
     "traceback": [
      "\u001b[0;31m---------------------------------------------------------------------------\u001b[0m",
      "\u001b[0;31mValueError\u001b[0m                                Traceback (most recent call last)",
      "\u001b[0;32m<ipython-input-35-4d2abf40abb7>\u001b[0m in \u001b[0;36m<module>\u001b[0;34m\u001b[0m\n\u001b[0;32m----> 1\u001b[0;31m \u001b[0mzona_prop_optimizar\u001b[0m\u001b[0;34m.\u001b[0m\u001b[0mastype\u001b[0m\u001b[0;34m(\u001b[0m\u001b[0;34m{\u001b[0m\u001b[0;34m'garages'\u001b[0m \u001b[0;34m:\u001b[0m \u001b[0mnp\u001b[0m\u001b[0;34m.\u001b[0m\u001b[0mint8\u001b[0m\u001b[0;34m}\u001b[0m\u001b[0;34m)\u001b[0m\u001b[0;34m.\u001b[0m\u001b[0mmemory_usage\u001b[0m\u001b[0;34m(\u001b[0m\u001b[0;34m)\u001b[0m\u001b[0;34m\u001b[0m\u001b[0;34m\u001b[0m\u001b[0m\n\u001b[0m",
      "\u001b[0;32m~/anaconda3/lib/python3.7/site-packages/pandas/core/generic.py\u001b[0m in \u001b[0;36mastype\u001b[0;34m(self, dtype, copy, errors, **kwargs)\u001b[0m\n\u001b[1;32m   5676\u001b[0m             \u001b[0;32mfor\u001b[0m \u001b[0mcol_name\u001b[0m\u001b[0;34m,\u001b[0m \u001b[0mcol\u001b[0m \u001b[0;32min\u001b[0m \u001b[0mself\u001b[0m\u001b[0;34m.\u001b[0m\u001b[0miteritems\u001b[0m\u001b[0;34m(\u001b[0m\u001b[0;34m)\u001b[0m\u001b[0;34m:\u001b[0m\u001b[0;34m\u001b[0m\u001b[0;34m\u001b[0m\u001b[0m\n\u001b[1;32m   5677\u001b[0m                 \u001b[0;32mif\u001b[0m \u001b[0mcol_name\u001b[0m \u001b[0;32min\u001b[0m \u001b[0mdtype\u001b[0m\u001b[0;34m:\u001b[0m\u001b[0;34m\u001b[0m\u001b[0;34m\u001b[0m\u001b[0m\n\u001b[0;32m-> 5678\u001b[0;31m                     \u001b[0mresults\u001b[0m\u001b[0;34m.\u001b[0m\u001b[0mappend\u001b[0m\u001b[0;34m(\u001b[0m\u001b[0mcol\u001b[0m\u001b[0;34m.\u001b[0m\u001b[0mastype\u001b[0m\u001b[0;34m(\u001b[0m\u001b[0mdtype\u001b[0m\u001b[0;34m[\u001b[0m\u001b[0mcol_name\u001b[0m\u001b[0;34m]\u001b[0m\u001b[0;34m,\u001b[0m \u001b[0mcopy\u001b[0m\u001b[0;34m=\u001b[0m\u001b[0mcopy\u001b[0m\u001b[0;34m)\u001b[0m\u001b[0;34m)\u001b[0m\u001b[0;34m\u001b[0m\u001b[0;34m\u001b[0m\u001b[0m\n\u001b[0m\u001b[1;32m   5679\u001b[0m                 \u001b[0;32melse\u001b[0m\u001b[0;34m:\u001b[0m\u001b[0;34m\u001b[0m\u001b[0;34m\u001b[0m\u001b[0m\n\u001b[1;32m   5680\u001b[0m                     \u001b[0mresults\u001b[0m\u001b[0;34m.\u001b[0m\u001b[0mappend\u001b[0m\u001b[0;34m(\u001b[0m\u001b[0mresults\u001b[0m\u001b[0;34m.\u001b[0m\u001b[0mappend\u001b[0m\u001b[0;34m(\u001b[0m\u001b[0mcol\u001b[0m\u001b[0;34m.\u001b[0m\u001b[0mcopy\u001b[0m\u001b[0;34m(\u001b[0m\u001b[0;34m)\u001b[0m \u001b[0;32mif\u001b[0m \u001b[0mcopy\u001b[0m \u001b[0;32melse\u001b[0m \u001b[0mcol\u001b[0m\u001b[0;34m)\u001b[0m\u001b[0;34m)\u001b[0m\u001b[0;34m\u001b[0m\u001b[0;34m\u001b[0m\u001b[0m\n",
      "\u001b[0;32m~/anaconda3/lib/python3.7/site-packages/pandas/core/generic.py\u001b[0m in \u001b[0;36mastype\u001b[0;34m(self, dtype, copy, errors, **kwargs)\u001b[0m\n\u001b[1;32m   5689\u001b[0m             \u001b[0;31m# else, only a single dtype is given\u001b[0m\u001b[0;34m\u001b[0m\u001b[0;34m\u001b[0m\u001b[0;34m\u001b[0m\u001b[0m\n\u001b[1;32m   5690\u001b[0m             new_data = self._data.astype(dtype=dtype, copy=copy, errors=errors,\n\u001b[0;32m-> 5691\u001b[0;31m                                          **kwargs)\n\u001b[0m\u001b[1;32m   5692\u001b[0m             \u001b[0;32mreturn\u001b[0m \u001b[0mself\u001b[0m\u001b[0;34m.\u001b[0m\u001b[0m_constructor\u001b[0m\u001b[0;34m(\u001b[0m\u001b[0mnew_data\u001b[0m\u001b[0;34m)\u001b[0m\u001b[0;34m.\u001b[0m\u001b[0m__finalize__\u001b[0m\u001b[0;34m(\u001b[0m\u001b[0mself\u001b[0m\u001b[0;34m)\u001b[0m\u001b[0;34m\u001b[0m\u001b[0;34m\u001b[0m\u001b[0m\n\u001b[1;32m   5693\u001b[0m \u001b[0;34m\u001b[0m\u001b[0m\n",
      "\u001b[0;32m~/anaconda3/lib/python3.7/site-packages/pandas/core/internals/managers.py\u001b[0m in \u001b[0;36mastype\u001b[0;34m(self, dtype, **kwargs)\u001b[0m\n\u001b[1;32m    529\u001b[0m \u001b[0;34m\u001b[0m\u001b[0m\n\u001b[1;32m    530\u001b[0m     \u001b[0;32mdef\u001b[0m \u001b[0mastype\u001b[0m\u001b[0;34m(\u001b[0m\u001b[0mself\u001b[0m\u001b[0;34m,\u001b[0m \u001b[0mdtype\u001b[0m\u001b[0;34m,\u001b[0m \u001b[0;34m**\u001b[0m\u001b[0mkwargs\u001b[0m\u001b[0;34m)\u001b[0m\u001b[0;34m:\u001b[0m\u001b[0;34m\u001b[0m\u001b[0;34m\u001b[0m\u001b[0m\n\u001b[0;32m--> 531\u001b[0;31m         \u001b[0;32mreturn\u001b[0m \u001b[0mself\u001b[0m\u001b[0;34m.\u001b[0m\u001b[0mapply\u001b[0m\u001b[0;34m(\u001b[0m\u001b[0;34m'astype'\u001b[0m\u001b[0;34m,\u001b[0m \u001b[0mdtype\u001b[0m\u001b[0;34m=\u001b[0m\u001b[0mdtype\u001b[0m\u001b[0;34m,\u001b[0m \u001b[0;34m**\u001b[0m\u001b[0mkwargs\u001b[0m\u001b[0;34m)\u001b[0m\u001b[0;34m\u001b[0m\u001b[0;34m\u001b[0m\u001b[0m\n\u001b[0m\u001b[1;32m    532\u001b[0m \u001b[0;34m\u001b[0m\u001b[0m\n\u001b[1;32m    533\u001b[0m     \u001b[0;32mdef\u001b[0m \u001b[0mconvert\u001b[0m\u001b[0;34m(\u001b[0m\u001b[0mself\u001b[0m\u001b[0;34m,\u001b[0m \u001b[0;34m**\u001b[0m\u001b[0mkwargs\u001b[0m\u001b[0;34m)\u001b[0m\u001b[0;34m:\u001b[0m\u001b[0;34m\u001b[0m\u001b[0;34m\u001b[0m\u001b[0m\n",
      "\u001b[0;32m~/anaconda3/lib/python3.7/site-packages/pandas/core/internals/managers.py\u001b[0m in \u001b[0;36mapply\u001b[0;34m(self, f, axes, filter, do_integrity_check, consolidate, **kwargs)\u001b[0m\n\u001b[1;32m    393\u001b[0m                                             copy=align_copy)\n\u001b[1;32m    394\u001b[0m \u001b[0;34m\u001b[0m\u001b[0m\n\u001b[0;32m--> 395\u001b[0;31m             \u001b[0mapplied\u001b[0m \u001b[0;34m=\u001b[0m \u001b[0mgetattr\u001b[0m\u001b[0;34m(\u001b[0m\u001b[0mb\u001b[0m\u001b[0;34m,\u001b[0m \u001b[0mf\u001b[0m\u001b[0;34m)\u001b[0m\u001b[0;34m(\u001b[0m\u001b[0;34m**\u001b[0m\u001b[0mkwargs\u001b[0m\u001b[0;34m)\u001b[0m\u001b[0;34m\u001b[0m\u001b[0;34m\u001b[0m\u001b[0m\n\u001b[0m\u001b[1;32m    396\u001b[0m             \u001b[0mresult_blocks\u001b[0m \u001b[0;34m=\u001b[0m \u001b[0m_extend_blocks\u001b[0m\u001b[0;34m(\u001b[0m\u001b[0mapplied\u001b[0m\u001b[0;34m,\u001b[0m \u001b[0mresult_blocks\u001b[0m\u001b[0;34m)\u001b[0m\u001b[0;34m\u001b[0m\u001b[0;34m\u001b[0m\u001b[0m\n\u001b[1;32m    397\u001b[0m \u001b[0;34m\u001b[0m\u001b[0m\n",
      "\u001b[0;32m~/anaconda3/lib/python3.7/site-packages/pandas/core/internals/blocks.py\u001b[0m in \u001b[0;36mastype\u001b[0;34m(self, dtype, copy, errors, values, **kwargs)\u001b[0m\n\u001b[1;32m    532\u001b[0m     \u001b[0;32mdef\u001b[0m \u001b[0mastype\u001b[0m\u001b[0;34m(\u001b[0m\u001b[0mself\u001b[0m\u001b[0;34m,\u001b[0m \u001b[0mdtype\u001b[0m\u001b[0;34m,\u001b[0m \u001b[0mcopy\u001b[0m\u001b[0;34m=\u001b[0m\u001b[0;32mFalse\u001b[0m\u001b[0;34m,\u001b[0m \u001b[0merrors\u001b[0m\u001b[0;34m=\u001b[0m\u001b[0;34m'raise'\u001b[0m\u001b[0;34m,\u001b[0m \u001b[0mvalues\u001b[0m\u001b[0;34m=\u001b[0m\u001b[0;32mNone\u001b[0m\u001b[0;34m,\u001b[0m \u001b[0;34m**\u001b[0m\u001b[0mkwargs\u001b[0m\u001b[0;34m)\u001b[0m\u001b[0;34m:\u001b[0m\u001b[0;34m\u001b[0m\u001b[0;34m\u001b[0m\u001b[0m\n\u001b[1;32m    533\u001b[0m         return self._astype(dtype, copy=copy, errors=errors, values=values,\n\u001b[0;32m--> 534\u001b[0;31m                             **kwargs)\n\u001b[0m\u001b[1;32m    535\u001b[0m \u001b[0;34m\u001b[0m\u001b[0m\n\u001b[1;32m    536\u001b[0m     def _astype(self, dtype, copy=False, errors='raise', values=None,\n",
      "\u001b[0;32m~/anaconda3/lib/python3.7/site-packages/pandas/core/internals/blocks.py\u001b[0m in \u001b[0;36m_astype\u001b[0;34m(self, dtype, copy, errors, values, **kwargs)\u001b[0m\n\u001b[1;32m    631\u001b[0m \u001b[0;34m\u001b[0m\u001b[0m\n\u001b[1;32m    632\u001b[0m                     \u001b[0;31m# _astype_nansafe works fine with 1-d only\u001b[0m\u001b[0;34m\u001b[0m\u001b[0;34m\u001b[0m\u001b[0;34m\u001b[0m\u001b[0m\n\u001b[0;32m--> 633\u001b[0;31m                     \u001b[0mvalues\u001b[0m \u001b[0;34m=\u001b[0m \u001b[0mastype_nansafe\u001b[0m\u001b[0;34m(\u001b[0m\u001b[0mvalues\u001b[0m\u001b[0;34m.\u001b[0m\u001b[0mravel\u001b[0m\u001b[0;34m(\u001b[0m\u001b[0;34m)\u001b[0m\u001b[0;34m,\u001b[0m \u001b[0mdtype\u001b[0m\u001b[0;34m,\u001b[0m \u001b[0mcopy\u001b[0m\u001b[0;34m=\u001b[0m\u001b[0;32mTrue\u001b[0m\u001b[0;34m)\u001b[0m\u001b[0;34m\u001b[0m\u001b[0;34m\u001b[0m\u001b[0m\n\u001b[0m\u001b[1;32m    634\u001b[0m \u001b[0;34m\u001b[0m\u001b[0m\n\u001b[1;32m    635\u001b[0m                 \u001b[0;31m# TODO(extension)\u001b[0m\u001b[0;34m\u001b[0m\u001b[0;34m\u001b[0m\u001b[0;34m\u001b[0m\u001b[0m\n",
      "\u001b[0;32m~/anaconda3/lib/python3.7/site-packages/pandas/core/dtypes/cast.py\u001b[0m in \u001b[0;36mastype_nansafe\u001b[0;34m(arr, dtype, copy, skipna)\u001b[0m\n\u001b[1;32m    674\u001b[0m \u001b[0;34m\u001b[0m\u001b[0m\n\u001b[1;32m    675\u001b[0m         \u001b[0;32mif\u001b[0m \u001b[0;32mnot\u001b[0m \u001b[0mnp\u001b[0m\u001b[0;34m.\u001b[0m\u001b[0misfinite\u001b[0m\u001b[0;34m(\u001b[0m\u001b[0marr\u001b[0m\u001b[0;34m)\u001b[0m\u001b[0;34m.\u001b[0m\u001b[0mall\u001b[0m\u001b[0;34m(\u001b[0m\u001b[0;34m)\u001b[0m\u001b[0;34m:\u001b[0m\u001b[0;34m\u001b[0m\u001b[0;34m\u001b[0m\u001b[0m\n\u001b[0;32m--> 676\u001b[0;31m             raise ValueError('Cannot convert non-finite values (NA or inf) to '\n\u001b[0m\u001b[1;32m    677\u001b[0m                              'integer')\n\u001b[1;32m    678\u001b[0m \u001b[0;34m\u001b[0m\u001b[0m\n",
      "\u001b[0;31mValueError\u001b[0m: Cannot convert non-finite values (NA or inf) to integer"
     ]
    }
   ],
   "source": [
    "zona_prop_optimizar.astype({'garages' : np.int8}).memory_usage()"
   ]
  },
  {
   "cell_type": "markdown",
   "metadata": {},
   "source": [
    "Hay conflictos con los NaN, al querer pasarlo a otro tipo.  \n",
    "Requiere limpieza previa.  \n",
    "Tal vez, si lo hago desde la carga, no resulte en conflicto."
   ]
  },
  {
   "cell_type": "code",
   "execution_count": null,
   "metadata": {},
   "outputs": [],
   "source": [
    "zona_prop_optimizar['usosmultiples'].max()"
   ]
  },
  {
   "cell_type": "code",
   "execution_count": null,
   "metadata": {},
   "outputs": [],
   "source": [
    "zona_prop_optimizar['usosmultiples'].min()"
   ]
  },
  {
   "cell_type": "code",
   "execution_count": null,
   "metadata": {
    "scrolled": true
   },
   "outputs": [],
   "source": [
    "zona_prop_optimizar.astype({'usosmultiples' : np.int8}).memory_usage()"
   ]
  },
  {
   "cell_type": "code",
   "execution_count": null,
   "metadata": {},
   "outputs": [],
   "source": []
  },
  {
   "cell_type": "code",
   "execution_count": null,
   "metadata": {
    "scrolled": true
   },
   "outputs": [],
   "source": [
    "zona_prop_optimizar.astype({'usosmultiples' : 'bool'}).memory_usage()"
   ]
  },
  {
   "cell_type": "markdown",
   "metadata": {},
   "source": [
    "En este caso usar bool antes que int8, puede ser mas apropiado.  \n",
    "(Ambos ocupan lo mismo)"
   ]
  },
  {
   "cell_type": "code",
   "execution_count": null,
   "metadata": {},
   "outputs": [],
   "source": [
    "zona_prop_optimizar['escuelascercanas'].max()"
   ]
  },
  {
   "cell_type": "code",
   "execution_count": null,
   "metadata": {
    "scrolled": true
   },
   "outputs": [],
   "source": [
    "zona_prop_optimizar['escuelascercanas'].min()"
   ]
  },
  {
   "cell_type": "code",
   "execution_count": null,
   "metadata": {
    "scrolled": true
   },
   "outputs": [],
   "source": [
    "zona_prop_optimizar.astype({'escuelascercanas' : np.int8}).memory_usage()"
   ]
  },
  {
   "cell_type": "code",
   "execution_count": null,
   "metadata": {},
   "outputs": [],
   "source": [
    "zona_prop_optimizar['gimnasio'].max()"
   ]
  },
  {
   "cell_type": "code",
   "execution_count": null,
   "metadata": {},
   "outputs": [],
   "source": [
    "zona_prop_optimizar['gimnasio'].min()"
   ]
  },
  {
   "cell_type": "code",
   "execution_count": null,
   "metadata": {
    "scrolled": true
   },
   "outputs": [],
   "source": [
    "zona_prop_optimizar.astype({'gimnasio' : 'bool'}).memory_usage()"
   ]
  },
  {
   "cell_type": "code",
   "execution_count": null,
   "metadata": {},
   "outputs": [],
   "source": [
    "zona_prop_optimizar['centroscomercialescercanos'].max()"
   ]
  },
  {
   "cell_type": "code",
   "execution_count": null,
   "metadata": {},
   "outputs": [],
   "source": [
    "zona_prop_optimizar['centroscomercialescercanos'].min()"
   ]
  },
  {
   "cell_type": "code",
   "execution_count": null,
   "metadata": {},
   "outputs": [],
   "source": [
    "zona_prop_optimizar.astype({'centroscomercialescercanos' : np.int8}).memory_usage()"
   ]
  },
  {
   "cell_type": "code",
   "execution_count": null,
   "metadata": {},
   "outputs": [],
   "source": [
    "zona_prop_optimizar['banos'].max()"
   ]
  },
  {
   "cell_type": "code",
   "execution_count": null,
   "metadata": {},
   "outputs": [],
   "source": [
    "zona_prop_optimizar['banos'].min()"
   ]
  },
  {
   "cell_type": "code",
   "execution_count": null,
   "metadata": {
    "scrolled": true
   },
   "outputs": [],
   "source": [
    "zona_prop_optimizar.astype({'banos' : np.int8}).memory_usage()"
   ]
  },
  {
   "cell_type": "code",
   "execution_count": null,
   "metadata": {
    "scrolled": true
   },
   "outputs": [],
   "source": [
    "zona_prop_optimizar.astype({'banos' : np.float16}).memory_usage()"
   ]
  },
  {
   "cell_type": "code",
   "execution_count": null,
   "metadata": {},
   "outputs": [],
   "source": [
    "zona_prop_optimizar['habitaciones'].max()"
   ]
  },
  {
   "cell_type": "code",
   "execution_count": null,
   "metadata": {},
   "outputs": [],
   "source": [
    "zona_prop_optimizar['habitaciones'].min()"
   ]
  },
  {
   "cell_type": "code",
   "execution_count": null,
   "metadata": {
    "scrolled": true
   },
   "outputs": [],
   "source": [
    "zona_prop_optimizar.astype({'habitaciones' : np.int8}).memory_usage()"
   ]
  },
  {
   "cell_type": "code",
   "execution_count": null,
   "metadata": {
    "scrolled": true
   },
   "outputs": [],
   "source": [
    "zona_prop_optimizar.astype({'habitaciones' : np.float16}).memory_usage()"
   ]
  },
  {
   "cell_type": "code",
   "execution_count": null,
   "metadata": {
    "scrolled": true
   },
   "outputs": [],
   "source": [
    "zona_prop_optimizar = pd.read_csv('train.csv', \\\n",
    "                               dtype = { \\\n",
    "                                        'tipodepropiedad' : 'category', \\\n",
    "                                        'provincia' : 'category', \\\n",
    "                                        'ciudad' : 'category', \\\n",
    "                                        'antiguedad' : np.float16, \\\n",
    "                                        'habitaciones' : np.int8, \\\n",
    "                                        'garages' : np.int8, \\\n",
    "                                        'banos' : np.int8, \\\n",
    "                                        'gimnasio' : 'bool', \\\n",
    "                                        'usosmultiples' : 'bool', \\\n",
    "                                        'piscina' : 'bool', \\\n",
    "                                        'escuelascercanas' : 'bool', \\\n",
    "                                        'centroscomercialescercanos' : 'bool' \\\n",
    "                                       })"
   ]
  },
  {
   "cell_type": "code",
   "execution_count": null,
   "metadata": {},
   "outputs": [],
   "source": [
    "zona_prop_optimizar = pd.read_csv('train.csv', \\\n",
    "                               dtype = { \\\n",
    "                                        'tipodepropiedad' : 'category', \\\n",
    "                                        'provincia' : 'category', \\\n",
    "                                        'ciudad' : 'category', \\\n",
    "                                        'antiguedad' : np.float16, \\\n",
    "                                        'habitaciones' : np.float16, \\\n",
    "                                        'garages' : np.float16, \\\n",
    "                                        'banos' : np.float16, \\\n",
    "                                        'gimnasio' : 'bool', \\\n",
    "                                        'usosmultiples' : 'bool', \\\n",
    "                                        'piscina' : 'bool', \\\n",
    "                                        'escuelascercanas' : 'bool', \\\n",
    "                                        'centroscomercialescercanos' : 'bool' \\\n",
    "                                       })"
   ]
  },
  {
   "cell_type": "code",
   "execution_count": null,
   "metadata": {
    "scrolled": true
   },
   "outputs": [],
   "source": [
    "zona_prop_optimizar.info()"
   ]
  },
  {
   "cell_type": "code",
   "execution_count": null,
   "metadata": {
    "scrolled": true
   },
   "outputs": [],
   "source": [
    "zona_prop_optimizar.memory_usage()"
   ]
  },
  {
   "cell_type": "code",
   "execution_count": null,
   "metadata": {},
   "outputs": [],
   "source": [
    "zona_prop_optimizar['fecha'].head()"
   ]
  },
  {
   "cell_type": "code",
   "execution_count": null,
   "metadata": {
    "scrolled": true
   },
   "outputs": [],
   "source": [
    "zona_prop_optimizar.astype({'fecha' : 'datetime64'}).memory_usage()"
   ]
  },
  {
   "cell_type": "markdown",
   "metadata": {},
   "source": [
    "No cambio el espacio en memoria, pero seguro es mas facil usar datetime64 para fechar que object"
   ]
  },
  {
   "cell_type": "code",
   "execution_count": null,
   "metadata": {},
   "outputs": [],
   "source": [
    "zona_prop_optimizar['idzona'].max()"
   ]
  },
  {
   "cell_type": "code",
   "execution_count": null,
   "metadata": {},
   "outputs": [],
   "source": [
    "zona_prop_optimizar['idzona'].min()"
   ]
  },
  {
   "cell_type": "code",
   "execution_count": null,
   "metadata": {},
   "outputs": [],
   "source": [
    "2**16"
   ]
  },
  {
   "cell_type": "code",
   "execution_count": null,
   "metadata": {},
   "outputs": [],
   "source": [
    "2**32"
   ]
  },
  {
   "cell_type": "code",
   "execution_count": null,
   "metadata": {
    "scrolled": true
   },
   "outputs": [],
   "source": [
    "zona_prop_optimizar.astype({'idzona' : np.float32}).memory_usage()"
   ]
  },
  {
   "cell_type": "code",
   "execution_count": null,
   "metadata": {},
   "outputs": [],
   "source": [
    "zona_prop_optimizar['precio'].max()"
   ]
  },
  {
   "cell_type": "code",
   "execution_count": null,
   "metadata": {},
   "outputs": [],
   "source": [
    "zona_prop_optimizar['precio'].min()"
   ]
  },
  {
   "cell_type": "code",
   "execution_count": null,
   "metadata": {},
   "outputs": [],
   "source": [
    "2**16"
   ]
  },
  {
   "cell_type": "code",
   "execution_count": null,
   "metadata": {
    "scrolled": true
   },
   "outputs": [],
   "source": [
    "2**32"
   ]
  },
  {
   "cell_type": "code",
   "execution_count": null,
   "metadata": {
    "scrolled": true
   },
   "outputs": [],
   "source": [
    "zona_prop_optimizar.astype({'precio' : np.float32}).memory_usage()"
   ]
  },
  {
   "cell_type": "code",
   "execution_count": null,
   "metadata": {},
   "outputs": [],
   "source": [
    "zona_prop_optimizar['metrostotales'].max()"
   ]
  },
  {
   "cell_type": "code",
   "execution_count": null,
   "metadata": {},
   "outputs": [],
   "source": [
    "2**8"
   ]
  },
  {
   "cell_type": "code",
   "execution_count": null,
   "metadata": {},
   "outputs": [],
   "source": [
    "2**16"
   ]
  },
  {
   "cell_type": "code",
   "execution_count": null,
   "metadata": {
    "scrolled": true
   },
   "outputs": [],
   "source": [
    "zona_prop_optimizar.astype({'metrostotales' : np.float16}).memory_usage()"
   ]
  },
  {
   "cell_type": "code",
   "execution_count": null,
   "metadata": {},
   "outputs": [],
   "source": [
    "zona_prop_optimizar['metroscubiertos'].max()"
   ]
  },
  {
   "cell_type": "markdown",
   "metadata": {},
   "source": [
    "Aqui podemos usar la misma conversion que antes"
   ]
  },
  {
   "cell_type": "code",
   "execution_count": null,
   "metadata": {
    "scrolled": true
   },
   "outputs": [],
   "source": [
    "zona_prop_optimizar = pd.read_csv('train.csv', \\\n",
    "                               dtype = { \\\n",
    "                                        'tipodepropiedad' : 'category', \\\n",
    "                                        'provincia' : 'category', \\\n",
    "                                        'ciudad' : 'category', \\\n",
    "                                        'antiguedad' : np.float16, \\\n",
    "                                        'habitaciones' : np.float16, \\\n",
    "                                        'garages' : np.float16, \\\n",
    "                                        'banos' : np.float16, \\\n",
    "                                        'metroscubiertos' : np.float16, \\\n",
    "                                        'metrostotales' : np.float16, \\\n",
    "                                        'idzona' : np.float32, \\\n",
    "                                        'fecha' : 'datetime64', \\\n",
    "                                        'gimnasio' : 'bool', \\\n",
    "                                        'usosmultiples' : 'bool', \\\n",
    "                                        'piscina' : 'bool', \\\n",
    "                                        'escuelascercanas' : 'bool', \\\n",
    "                                        'centroscomercialescercanos' : 'bool', \\\n",
    "                                        'precio' : np.float32 \\\n",
    "                                       })"
   ]
  },
  {
   "cell_type": "code",
   "execution_count": null,
   "metadata": {},
   "outputs": [],
   "source": [
    "zona_prop_optimizar = pd.read_csv('train.csv', \\\n",
    "                               dtype = { \\\n",
    "                                        'tipodepropiedad' : 'category', \\\n",
    "                                        'provincia' : 'category', \\\n",
    "                                        'ciudad' : 'category', \\\n",
    "                                        'antiguedad' : np.float16, \\\n",
    "                                        'habitaciones' : np.float16, \\\n",
    "                                        'garages' : np.float16, \\\n",
    "                                        'banos' : np.float16, \\\n",
    "                                        'metroscubiertos' : np.float16, \\\n",
    "                                        'metrostotales' : np.float16, \\\n",
    "                                        'idzona' : np.float32, \\\n",
    "                                        'gimnasio' : 'bool', \\\n",
    "                                        'usosmultiples' : 'bool', \\\n",
    "                                        'piscina' : 'bool', \\\n",
    "                                        'escuelascercanas' : 'bool', \\\n",
    "                                        'centroscomercialescercanos' : 'bool', \\\n",
    "                                        'precio' : np.float32 \\\n",
    "                                       })"
   ]
  },
  {
   "cell_type": "code",
   "execution_count": null,
   "metadata": {
    "scrolled": true
   },
   "outputs": [],
   "source": [
    "zona_prop_optimizar.info()"
   ]
  },
  {
   "cell_type": "code",
   "execution_count": null,
   "metadata": {
    "scrolled": true
   },
   "outputs": [],
   "source": [
    "zona_prop_optimizar.memory_usage()"
   ]
  },
  {
   "cell_type": "code",
   "execution_count": null,
   "metadata": {},
   "outputs": [],
   "source": [
    "zona_prop_optimizar['id'].max()"
   ]
  },
  {
   "cell_type": "code",
   "execution_count": null,
   "metadata": {},
   "outputs": [],
   "source": [
    "zona_prop_optimizar['id'].min()"
   ]
  },
  {
   "cell_type": "code",
   "execution_count": null,
   "metadata": {
    "scrolled": true
   },
   "outputs": [],
   "source": [
    "2**16"
   ]
  },
  {
   "cell_type": "code",
   "execution_count": null,
   "metadata": {
    "scrolled": true
   },
   "outputs": [],
   "source": [
    "2**32"
   ]
  },
  {
   "cell_type": "code",
   "execution_count": null,
   "metadata": {
    "scrolled": true
   },
   "outputs": [],
   "source": [
    "zona_prop_optimizar.astype({'id' : np.int32}).memory_usage()"
   ]
  },
  {
   "cell_type": "code",
   "execution_count": null,
   "metadata": {},
   "outputs": [],
   "source": [
    "zona_prop_optimizar = pd.read_csv('train.csv', \\\n",
    "                               dtype = { \\\n",
    "                                        'id' : np.int32, \\\n",
    "                                        'tipodepropiedad' : 'category', \\\n",
    "                                        'provincia' : 'category', \\\n",
    "                                        'ciudad' : 'category', \\\n",
    "                                        'antiguedad' : np.float16, \\\n",
    "                                        'habitaciones' : np.float16, \\\n",
    "                                        'garages' : np.float16, \\\n",
    "                                        'banos' : np.float16, \\\n",
    "                                        'metroscubiertos' : np.float16, \\\n",
    "                                        'metrostotales' : np.float16, \\\n",
    "                                        'idzona' : np.float32, \\\n",
    "                                        'gimnasio' : 'bool', \\\n",
    "                                        'usosmultiples' : 'bool', \\\n",
    "                                        'piscina' : 'bool', \\\n",
    "                                        'escuelascercanas' : 'bool', \\\n",
    "                                        'centroscomercialescercanos' : 'bool', \\\n",
    "                                        'precio' : np.float32 \\\n",
    "                                       })"
   ]
  },
  {
   "cell_type": "code",
   "execution_count": null,
   "metadata": {
    "scrolled": true
   },
   "outputs": [],
   "source": [
    "zona_prop_optimizar.info()"
   ]
  },
  {
   "cell_type": "code",
   "execution_count": null,
   "metadata": {
    "scrolled": true
   },
   "outputs": [],
   "source": [
    "zona_prop_optimizar.memory_usage()"
   ]
  },
  {
   "cell_type": "code",
   "execution_count": null,
   "metadata": {},
   "outputs": [],
   "source": [
    "zona_prop_optimizar['lat'].max()"
   ]
  },
  {
   "cell_type": "code",
   "execution_count": null,
   "metadata": {
    "scrolled": true
   },
   "outputs": [],
   "source": [
    "zona_prop_optimizar['lng'].min()"
   ]
  },
  {
   "cell_type": "code",
   "execution_count": null,
   "metadata": {},
   "outputs": [],
   "source": [
    "zona_prop_optimizar['lat'].dtype"
   ]
  },
  {
   "cell_type": "code",
   "execution_count": null,
   "metadata": {
    "scrolled": true
   },
   "outputs": [],
   "source": [
    "zona_prop_optimizar['lat'].astype(np.float32).max()"
   ]
  },
  {
   "cell_type": "markdown",
   "metadata": {},
   "source": [
    "Perdemos mucha precision.  \n",
    "Por el momento no conviene realizar el casteo."
   ]
  },
  {
   "cell_type": "markdown",
   "metadata": {},
   "source": [
    "## ¿Podemos castear float a int?"
   ]
  },
  {
   "cell_type": "markdown",
   "metadata": {},
   "source": [
    "### ¿Que columnas queriamos como int?\n",
    "* habitaciones\n",
    "* garages\n",
    "* banos"
   ]
  },
  {
   "cell_type": "code",
   "execution_count": null,
   "metadata": {
    "scrolled": true
   },
   "outputs": [],
   "source": [
    "zona_prop_optimizar['habitaciones'] = zona_prop_optimizar['habitaciones'].astype(np.int8)"
   ]
  },
  {
   "cell_type": "markdown",
   "metadata": {},
   "source": [
    "Opciones:"
   ]
  },
  {
   "cell_type": "markdown",
   "metadata": {},
   "source": [
    "Llenar los NA habitaciones con 0"
   ]
  },
  {
   "cell_type": "code",
   "execution_count": null,
   "metadata": {},
   "outputs": [],
   "source": [
    "zona_prop_optimizar.fillna(value = {'habitaciones' : 0}, inplace = True)\n",
    "zona_prop_optimizar['habitaciones'] = zona_prop_optimizar['habitaciones'].astype(np.int8)"
   ]
  },
  {
   "cell_type": "code",
   "execution_count": null,
   "metadata": {
    "scrolled": true
   },
   "outputs": [],
   "source": [
    "zona_prop_optimizar['garages'] = zona_prop_optimizar['garages'].astype(np.int8)"
   ]
  },
  {
   "cell_type": "markdown",
   "metadata": {},
   "source": [
    "Opciones : "
   ]
  },
  {
   "cell_type": "markdown",
   "metadata": {},
   "source": [
    "Llenar gareges NaN con ceros (0)"
   ]
  },
  {
   "cell_type": "code",
   "execution_count": null,
   "metadata": {},
   "outputs": [],
   "source": [
    "zona_prop_optimizar.fillna(value = {'garages' : 0}, inplace = True)\n",
    "zona_prop_optimizar['garages'] = zona_prop_optimizar['garages'].astype(np.int8)"
   ]
  },
  {
   "cell_type": "code",
   "execution_count": null,
   "metadata": {
    "scrolled": true
   },
   "outputs": [],
   "source": [
    "zona_prop_optimizar['banos'] = zona_prop_optimizar['banos'].astype(np.int8)"
   ]
  },
  {
   "cell_type": "markdown",
   "metadata": {},
   "source": [
    "Opciones :"
   ]
  },
  {
   "cell_type": "markdown",
   "metadata": {},
   "source": [
    "Llenar banos NaN con ceros (0)"
   ]
  },
  {
   "cell_type": "code",
   "execution_count": null,
   "metadata": {},
   "outputs": [],
   "source": [
    "zona_prop_optimizar.fillna(value = {'banos' : 0}, inplace = True)\n",
    "zona_prop_optimizar['banos'] = zona_prop_optimizar['banos'].astype(np.int8)"
   ]
  },
  {
   "cell_type": "code",
   "execution_count": null,
   "metadata": {
    "scrolled": true
   },
   "outputs": [],
   "source": [
    "zona_prop_optimizar.memory_usage()"
   ]
  },
  {
   "cell_type": "code",
   "execution_count": null,
   "metadata": {
    "scrolled": true
   },
   "outputs": [],
   "source": [
    "zona_prop_optimizar.info()"
   ]
  },
  {
   "cell_type": "markdown",
   "metadata": {},
   "source": [
    "## Resumen"
   ]
  },
  {
   "cell_type": "markdown",
   "metadata": {},
   "source": [
    "### Carga del set de datos optimizada"
   ]
  },
  {
   "cell_type": "code",
   "execution_count": null,
   "metadata": {},
   "outputs": [],
   "source": [
    "zona_prop_optimizar = pd.read_csv('train.csv', \\\n",
    "                               dtype = { \\\n",
    "                                        'id' : np.int32, \\\n",
    "                                        'tipodepropiedad' : 'category', \\\n",
    "                                        'provincia' : 'category', \\\n",
    "                                        'ciudad' : 'category', \\\n",
    "                                        'antiguedad' : np.float16, \\\n",
    "                                        'habitaciones' : np.float16, \\\n",
    "                                        'garages' : np.float16, \\\n",
    "                                        'banos' : np.float16, \\\n",
    "                                        'metroscubiertos' : np.float16, \\\n",
    "                                        'metrostotales' : np.float16, \\\n",
    "                                        'idzona' : np.float32, \\\n",
    "                                        'gimnasio' : 'bool', \\\n",
    "                                        'usosmultiples' : 'bool', \\\n",
    "                                        'piscina' : 'bool', \\\n",
    "                                        'escuelascercanas' : 'bool', \\\n",
    "                                        'centroscomercialescercanos' : 'bool', \\\n",
    "                                        'precio' : np.float32 \\\n",
    "                                       })"
   ]
  },
  {
   "cell_type": "code",
   "execution_count": null,
   "metadata": {
    "scrolled": true
   },
   "outputs": [],
   "source": [
    "zona_prop_optimizar.memory_usage()"
   ]
  },
  {
   "cell_type": "code",
   "execution_count": null,
   "metadata": {
    "scrolled": true
   },
   "outputs": [],
   "source": [
    "zona_prop_optimizar.info()"
   ]
  },
  {
   "cell_type": "markdown",
   "metadata": {},
   "source": [
    "### Un poco mas de optimizacion con limpieza"
   ]
  },
  {
   "cell_type": "code",
   "execution_count": null,
   "metadata": {},
   "outputs": [],
   "source": [
    "#Llenar habitaciones NaN con cero (0)\n",
    "zona_prop_optimizar.fillna(value = {'habitaciones' : 0}, inplace = True)\n",
    "zona_prop_optimizar['habitaciones'] = zona_prop_optimizar['habitaciones'].astype(np.int8)\n",
    "\n",
    "# Llenar banos NaN con cero (0)\n",
    "zona_prop_optimizar.fillna(value = {'garages' : 0}, inplace = True)\n",
    "zona_prop_optimizar['garages'] = zona_prop_optimizar['garages'].astype(np.int8)\n",
    "\n",
    "# Llenar banos NaN con cero (0)\n",
    "zona_prop_optimizar.fillna(value = {'banos' : 0}, inplace = True)\n",
    "zona_prop_optimizar['banos'] = zona_prop_optimizar['banos'].astype(np.int8)"
   ]
  },
  {
   "cell_type": "code",
   "execution_count": null,
   "metadata": {
    "scrolled": true
   },
   "outputs": [],
   "source": [
    "zona_prop_optimizar.memory_usage()"
   ]
  },
  {
   "cell_type": "code",
   "execution_count": null,
   "metadata": {
    "scrolled": true
   },
   "outputs": [],
   "source": [
    "zona_prop_optimizar.info()"
   ]
  },
  {
   "cell_type": "markdown",
   "metadata": {},
   "source": [
    "Se ahorra poco menos de un 1 MB, a costo de suponer habitaciones, garages, y banos NaN como cero (0).  \n",
    "Tambien son validas otra limpiezas como promedios, por ejemplo, pero requiere que todos los NaN sean reemplados por algun valor numerico."
   ]
  }
 ],
 "metadata": {
  "kernelspec": {
   "display_name": "Python 3",
   "language": "python",
   "name": "python3"
  },
  "language_info": {
   "codemirror_mode": {
    "name": "ipython",
    "version": 3
   },
   "file_extension": ".py",
   "mimetype": "text/x-python",
   "name": "python",
   "nbconvert_exporter": "python",
   "pygments_lexer": "ipython3",
   "version": "3.7.3"
  }
 },
 "nbformat": 4,
 "nbformat_minor": 2
}
