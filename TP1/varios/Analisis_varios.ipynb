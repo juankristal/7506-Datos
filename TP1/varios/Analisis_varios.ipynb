{
 "cells": [
  {
   "cell_type": "markdown",
   "metadata": {},
   "source": [
    "# Analisis de Ciudades"
   ]
  },
  {
   "cell_type": "code",
   "execution_count": 1,
   "metadata": {},
   "outputs": [],
   "source": [
    "import pandas as pd\n",
    "import numpy as np\n",
    "import seaborn as sns\n",
    "import matplotlib.pyplot as plt\n",
    "from matplotlib.colors import LogNorm\n",
    "from wordcloud import WordCloud, STOPWORDS\n",
    "from difflib import SequenceMatcher"
   ]
  },
  {
   "cell_type": "code",
   "execution_count": 2,
   "metadata": {},
   "outputs": [
    {
     "data": {
      "text/html": [
       "<div>\n",
       "<style scoped>\n",
       "    .dataframe tbody tr th:only-of-type {\n",
       "        vertical-align: middle;\n",
       "    }\n",
       "\n",
       "    .dataframe tbody tr th {\n",
       "        vertical-align: top;\n",
       "    }\n",
       "\n",
       "    .dataframe thead th {\n",
       "        text-align: right;\n",
       "    }\n",
       "</style>\n",
       "<table border=\"1\" class=\"dataframe\">\n",
       "  <thead>\n",
       "    <tr style=\"text-align: right;\">\n",
       "      <th></th>\n",
       "      <th>id</th>\n",
       "      <th>titulo</th>\n",
       "      <th>descripcion</th>\n",
       "      <th>tipodepropiedad</th>\n",
       "      <th>direccion</th>\n",
       "      <th>ciudad</th>\n",
       "      <th>provincia</th>\n",
       "      <th>antiguedad</th>\n",
       "      <th>habitaciones</th>\n",
       "      <th>garages</th>\n",
       "      <th>...</th>\n",
       "      <th>idzona</th>\n",
       "      <th>lat</th>\n",
       "      <th>lng</th>\n",
       "      <th>fecha</th>\n",
       "      <th>gimnasio</th>\n",
       "      <th>usosmultiples</th>\n",
       "      <th>piscina</th>\n",
       "      <th>escuelascercanas</th>\n",
       "      <th>centroscomercialescercanos</th>\n",
       "      <th>precio</th>\n",
       "    </tr>\n",
       "  </thead>\n",
       "  <tbody>\n",
       "    <tr>\n",
       "      <td>0</td>\n",
       "      <td>254099</td>\n",
       "      <td>depto. tipo a-402</td>\n",
       "      <td>depto. interior de 80.15m2, consta de sala com...</td>\n",
       "      <td>Apartamento</td>\n",
       "      <td>Avenida Division del Norte 2005</td>\n",
       "      <td>Benito Juárez</td>\n",
       "      <td>Distrito Federal</td>\n",
       "      <td>NaN</td>\n",
       "      <td>2.0</td>\n",
       "      <td>1.0</td>\n",
       "      <td>...</td>\n",
       "      <td>23533.0</td>\n",
       "      <td>NaN</td>\n",
       "      <td>NaN</td>\n",
       "      <td>2015-08-23 00:00:00</td>\n",
       "      <td>0.0</td>\n",
       "      <td>0.0</td>\n",
       "      <td>0.0</td>\n",
       "      <td>0.0</td>\n",
       "      <td>0.0</td>\n",
       "      <td>2273000.0</td>\n",
       "    </tr>\n",
       "    <tr>\n",
       "      <td>1</td>\n",
       "      <td>53461</td>\n",
       "      <td>condominio horizontal en venta</td>\n",
       "      <td>&lt;p&gt;entre sonora y guerrero, atr&amp;aacute;s del h...</td>\n",
       "      <td>Casa en condominio</td>\n",
       "      <td>AV. MEXICO</td>\n",
       "      <td>La Magdalena Contreras</td>\n",
       "      <td>Distrito Federal</td>\n",
       "      <td>10.0</td>\n",
       "      <td>3.0</td>\n",
       "      <td>2.0</td>\n",
       "      <td>...</td>\n",
       "      <td>24514.0</td>\n",
       "      <td>19.310205</td>\n",
       "      <td>-99.227655</td>\n",
       "      <td>2013-06-28 00:00:00</td>\n",
       "      <td>0.0</td>\n",
       "      <td>0.0</td>\n",
       "      <td>0.0</td>\n",
       "      <td>1.0</td>\n",
       "      <td>1.0</td>\n",
       "      <td>3600000.0</td>\n",
       "    </tr>\n",
       "    <tr>\n",
       "      <td>2</td>\n",
       "      <td>247984</td>\n",
       "      <td>casa en venta urbi 3 recamaras tonala</td>\n",
       "      <td>descripcion \\nla mejor ubicacion residencial e...</td>\n",
       "      <td>Casa</td>\n",
       "      <td>Urbi Tonala</td>\n",
       "      <td>Tonalá</td>\n",
       "      <td>Jalisco</td>\n",
       "      <td>5.0</td>\n",
       "      <td>3.0</td>\n",
       "      <td>2.0</td>\n",
       "      <td>...</td>\n",
       "      <td>48551.0</td>\n",
       "      <td>NaN</td>\n",
       "      <td>NaN</td>\n",
       "      <td>2015-10-17 00:00:00</td>\n",
       "      <td>0.0</td>\n",
       "      <td>0.0</td>\n",
       "      <td>0.0</td>\n",
       "      <td>0.0</td>\n",
       "      <td>0.0</td>\n",
       "      <td>1200000.0</td>\n",
       "    </tr>\n",
       "    <tr>\n",
       "      <td>3</td>\n",
       "      <td>209067</td>\n",
       "      <td>casa sola en toluca zinacantepec con credito i...</td>\n",
       "      <td>casa en privada con caseta de vigilancia casas...</td>\n",
       "      <td>Casa</td>\n",
       "      <td>IGNACIO MANUEL ALTAMIRANO 128</td>\n",
       "      <td>Zinacantepec</td>\n",
       "      <td>Edo. de México</td>\n",
       "      <td>1.0</td>\n",
       "      <td>2.0</td>\n",
       "      <td>1.0</td>\n",
       "      <td>...</td>\n",
       "      <td>53666.0</td>\n",
       "      <td>19.301890</td>\n",
       "      <td>-99.688015</td>\n",
       "      <td>2012-03-09 00:00:00</td>\n",
       "      <td>0.0</td>\n",
       "      <td>0.0</td>\n",
       "      <td>0.0</td>\n",
       "      <td>1.0</td>\n",
       "      <td>1.0</td>\n",
       "      <td>650000.0</td>\n",
       "    </tr>\n",
       "    <tr>\n",
       "      <td>4</td>\n",
       "      <td>185997</td>\n",
       "      <td>paseos del sol</td>\n",
       "      <td>bonito departamento en excelentes condiciones ...</td>\n",
       "      <td>Apartamento</td>\n",
       "      <td>PASEOS DEL SOL</td>\n",
       "      <td>Zapopan</td>\n",
       "      <td>Jalisco</td>\n",
       "      <td>10.0</td>\n",
       "      <td>2.0</td>\n",
       "      <td>1.0</td>\n",
       "      <td>...</td>\n",
       "      <td>47835.0</td>\n",
       "      <td>NaN</td>\n",
       "      <td>NaN</td>\n",
       "      <td>2016-06-07 00:00:00</td>\n",
       "      <td>0.0</td>\n",
       "      <td>0.0</td>\n",
       "      <td>0.0</td>\n",
       "      <td>0.0</td>\n",
       "      <td>0.0</td>\n",
       "      <td>1150000.0</td>\n",
       "    </tr>\n",
       "  </tbody>\n",
       "</table>\n",
       "<p>5 rows × 23 columns</p>\n",
       "</div>"
      ],
      "text/plain": [
       "       id                                             titulo  \\\n",
       "0  254099                                  depto. tipo a-402   \n",
       "1   53461                     condominio horizontal en venta   \n",
       "2  247984              casa en venta urbi 3 recamaras tonala   \n",
       "3  209067  casa sola en toluca zinacantepec con credito i...   \n",
       "4  185997                                     paseos del sol   \n",
       "\n",
       "                                         descripcion     tipodepropiedad  \\\n",
       "0  depto. interior de 80.15m2, consta de sala com...         Apartamento   \n",
       "1  <p>entre sonora y guerrero, atr&aacute;s del h...  Casa en condominio   \n",
       "2  descripcion \\nla mejor ubicacion residencial e...                Casa   \n",
       "3  casa en privada con caseta de vigilancia casas...                Casa   \n",
       "4  bonito departamento en excelentes condiciones ...         Apartamento   \n",
       "\n",
       "                         direccion                  ciudad         provincia  \\\n",
       "0  Avenida Division del Norte 2005           Benito Juárez  Distrito Federal   \n",
       "1                       AV. MEXICO  La Magdalena Contreras  Distrito Federal   \n",
       "2                      Urbi Tonala                  Tonalá           Jalisco   \n",
       "3    IGNACIO MANUEL ALTAMIRANO 128            Zinacantepec    Edo. de México   \n",
       "4                  PASEOS DEL SOL                  Zapopan           Jalisco   \n",
       "\n",
       "   antiguedad  habitaciones  garages  ...   idzona        lat        lng  \\\n",
       "0         NaN           2.0      1.0  ...  23533.0        NaN        NaN   \n",
       "1        10.0           3.0      2.0  ...  24514.0  19.310205 -99.227655   \n",
       "2         5.0           3.0      2.0  ...  48551.0        NaN        NaN   \n",
       "3         1.0           2.0      1.0  ...  53666.0  19.301890 -99.688015   \n",
       "4        10.0           2.0      1.0  ...  47835.0        NaN        NaN   \n",
       "\n",
       "                 fecha  gimnasio  usosmultiples piscina  escuelascercanas  \\\n",
       "0  2015-08-23 00:00:00       0.0            0.0     0.0               0.0   \n",
       "1  2013-06-28 00:00:00       0.0            0.0     0.0               1.0   \n",
       "2  2015-10-17 00:00:00       0.0            0.0     0.0               0.0   \n",
       "3  2012-03-09 00:00:00       0.0            0.0     0.0               1.0   \n",
       "4  2016-06-07 00:00:00       0.0            0.0     0.0               0.0   \n",
       "\n",
       "   centroscomercialescercanos     precio  \n",
       "0                         0.0  2273000.0  \n",
       "1                         1.0  3600000.0  \n",
       "2                         0.0  1200000.0  \n",
       "3                         1.0   650000.0  \n",
       "4                         0.0  1150000.0  \n",
       "\n",
       "[5 rows x 23 columns]"
      ]
     },
     "execution_count": 2,
     "metadata": {},
     "output_type": "execute_result"
    }
   ],
   "source": [
    "df = pd.read_csv('train.csv')\n",
    "df.head()"
   ]
  },
  {
   "cell_type": "code",
   "execution_count": 3,
   "metadata": {},
   "outputs": [
    {
     "name": "stdout",
     "output_type": "stream",
     "text": [
      "<class 'pandas.core.frame.DataFrame'>\n",
      "RangeIndex: 240000 entries, 0 to 239999\n",
      "Data columns (total 23 columns):\n",
      "id                            240000 non-null int64\n",
      "titulo                        234613 non-null object\n",
      "descripcion                   238381 non-null object\n",
      "tipodepropiedad               239954 non-null object\n",
      "direccion                     186928 non-null object\n",
      "ciudad                        239628 non-null object\n",
      "provincia                     239845 non-null object\n",
      "antiguedad                    196445 non-null float64\n",
      "habitaciones                  217529 non-null float64\n",
      "garages                       202235 non-null float64\n",
      "banos                         213779 non-null float64\n",
      "metroscubiertos               222600 non-null float64\n",
      "metrostotales                 188533 non-null float64\n",
      "idzona                        211379 non-null float64\n",
      "lat                           116512 non-null float64\n",
      "lng                           116512 non-null float64\n",
      "fecha                         240000 non-null object\n",
      "gimnasio                      240000 non-null float64\n",
      "usosmultiples                 240000 non-null float64\n",
      "piscina                       240000 non-null float64\n",
      "escuelascercanas              240000 non-null float64\n",
      "centroscomercialescercanos    240000 non-null float64\n",
      "precio                        240000 non-null float64\n",
      "dtypes: float64(15), int64(1), object(7)\n",
      "memory usage: 42.1+ MB\n"
     ]
    }
   ],
   "source": [
    "df.info()"
   ]
  },
  {
   "cell_type": "markdown",
   "metadata": {},
   "source": [
    "# Asignacion de zonas a las publicaciones"
   ]
  },
  {
   "cell_type": "code",
   "execution_count": 4,
   "metadata": {},
   "outputs": [],
   "source": [
    "def definir_zona(lat):\n",
    "    if lat >= 25:\n",
    "        return 'Norte'\n",
    "    if lat < 20:\n",
    "        return 'Sur'\n",
    "    if 20 < lat < 25:\n",
    "        return 'Centro'\n",
    "    return np.nan\n",
    "    \n",
    "    \n",
    "\n",
    "zonas = df.set_index('ciudad')['lat'].transform(definir_zona)\n",
    "aux = df.loc[:,['ciudad']]\n",
    "aux['zona'] = df['lat'].transform(definir_zona)\n",
    "aux['cant'] = 1\n",
    "\n",
    "df2 = aux.groupby(['ciudad','zona']).agg({'cant':'count'}).reset_index()\n",
    "df2 = df2[df2.groupby('ciudad')['cant'].transform('max') == df2['cant']].loc[:,['ciudad','zona']].set_index('ciudad')\n",
    "\n",
    "df_zonas = df2.merge(df, on = 'ciudad', how = 'inner')\n"
   ]
  },
  {
   "cell_type": "code",
   "execution_count": 5,
   "metadata": {},
   "outputs": [],
   "source": [
    "def min_threshold(df, threshold):\n",
    "    '''Funcion para filtrar por una minima cantidad de datos'''\n",
    "    return df[\"ciudad\"].count() > threshold\n",
    "\n",
    "#Filtro la informacion a ciudades de mas de 400 propiedades\n",
    "#df = df.groupby(['ciudad','provincia']).filter(min_threshold, threshold = 2000)\n",
    "#df['provincia'].value_counts()"
   ]
  },
  {
   "cell_type": "code",
   "execution_count": 6,
   "metadata": {},
   "outputs": [],
   "source": [
    "df[\"fecha_publicacion\"] = pd.to_datetime(df[\"fecha\"])\n",
    "df[\"año_publicacion\"] = df[\"fecha_publicacion\"].dt.year\n",
    "df[\"mes_publicacion\"] = df[\"fecha_publicacion\"].dt.month"
   ]
  },
  {
   "cell_type": "code",
   "execution_count": 7,
   "metadata": {},
   "outputs": [
    {
     "data": {
      "text/html": [
       "<div>\n",
       "<style scoped>\n",
       "    .dataframe tbody tr th:only-of-type {\n",
       "        vertical-align: middle;\n",
       "    }\n",
       "\n",
       "    .dataframe tbody tr th {\n",
       "        vertical-align: top;\n",
       "    }\n",
       "\n",
       "    .dataframe thead th {\n",
       "        text-align: right;\n",
       "    }\n",
       "</style>\n",
       "<table border=\"1\" class=\"dataframe\">\n",
       "  <thead>\n",
       "    <tr style=\"text-align: right;\">\n",
       "      <th>año_publicacion</th>\n",
       "      <th>2012</th>\n",
       "      <th>2013</th>\n",
       "      <th>2014</th>\n",
       "      <th>2015</th>\n",
       "      <th>2016</th>\n",
       "    </tr>\n",
       "    <tr>\n",
       "      <th>mes_publicacion</th>\n",
       "      <th></th>\n",
       "      <th></th>\n",
       "      <th></th>\n",
       "      <th></th>\n",
       "      <th></th>\n",
       "    </tr>\n",
       "  </thead>\n",
       "  <tbody>\n",
       "    <tr>\n",
       "      <td>1</td>\n",
       "      <td>0.064927</td>\n",
       "      <td>0.065589</td>\n",
       "      <td>0.059228</td>\n",
       "      <td>0.083738</td>\n",
       "      <td>0.061411</td>\n",
       "    </tr>\n",
       "    <tr>\n",
       "      <td>2</td>\n",
       "      <td>0.056387</td>\n",
       "      <td>0.046107</td>\n",
       "      <td>0.062457</td>\n",
       "      <td>0.075170</td>\n",
       "      <td>0.048831</td>\n",
       "    </tr>\n",
       "    <tr>\n",
       "      <td>3</td>\n",
       "      <td>0.046868</td>\n",
       "      <td>0.057066</td>\n",
       "      <td>0.071872</td>\n",
       "      <td>0.076880</td>\n",
       "      <td>0.053404</td>\n",
       "    </tr>\n",
       "    <tr>\n",
       "      <td>4</td>\n",
       "      <td>0.060933</td>\n",
       "      <td>0.060192</td>\n",
       "      <td>0.068520</td>\n",
       "      <td>0.073499</td>\n",
       "      <td>0.070610</td>\n",
       "    </tr>\n",
       "    <tr>\n",
       "      <td>5</td>\n",
       "      <td>0.078907</td>\n",
       "      <td>0.065820</td>\n",
       "      <td>0.075693</td>\n",
       "      <td>0.071809</td>\n",
       "      <td>0.057828</td>\n",
       "    </tr>\n",
       "    <tr>\n",
       "      <td>6</td>\n",
       "      <td>0.064757</td>\n",
       "      <td>0.066346</td>\n",
       "      <td>0.075964</td>\n",
       "      <td>0.073907</td>\n",
       "      <td>0.072258</td>\n",
       "    </tr>\n",
       "    <tr>\n",
       "      <td>7</td>\n",
       "      <td>0.083836</td>\n",
       "      <td>0.083065</td>\n",
       "      <td>0.077024</td>\n",
       "      <td>0.075287</td>\n",
       "      <td>0.063942</td>\n",
       "    </tr>\n",
       "    <tr>\n",
       "      <td>8</td>\n",
       "      <td>0.168735</td>\n",
       "      <td>0.078128</td>\n",
       "      <td>0.088312</td>\n",
       "      <td>0.087935</td>\n",
       "      <td>0.068515</td>\n",
       "    </tr>\n",
       "    <tr>\n",
       "      <td>9</td>\n",
       "      <td>0.110393</td>\n",
       "      <td>0.109294</td>\n",
       "      <td>0.096397</td>\n",
       "      <td>0.094482</td>\n",
       "      <td>0.063049</td>\n",
       "    </tr>\n",
       "    <tr>\n",
       "      <td>10</td>\n",
       "      <td>0.134316</td>\n",
       "      <td>0.133483</td>\n",
       "      <td>0.093932</td>\n",
       "      <td>0.107869</td>\n",
       "      <td>0.071524</td>\n",
       "    </tr>\n",
       "    <tr>\n",
       "      <td>11</td>\n",
       "      <td>0.068327</td>\n",
       "      <td>0.132034</td>\n",
       "      <td>0.113699</td>\n",
       "      <td>0.095318</td>\n",
       "      <td>0.064719</td>\n",
       "    </tr>\n",
       "    <tr>\n",
       "      <td>12</td>\n",
       "      <td>0.061613</td>\n",
       "      <td>0.102876</td>\n",
       "      <td>0.116903</td>\n",
       "      <td>0.084107</td>\n",
       "      <td>0.303909</td>\n",
       "    </tr>\n",
       "  </tbody>\n",
       "</table>\n",
       "</div>"
      ],
      "text/plain": [
       "año_publicacion      2012      2013      2014      2015      2016\n",
       "mes_publicacion                                                  \n",
       "1                0.064927  0.065589  0.059228  0.083738  0.061411\n",
       "2                0.056387  0.046107  0.062457  0.075170  0.048831\n",
       "3                0.046868  0.057066  0.071872  0.076880  0.053404\n",
       "4                0.060933  0.060192  0.068520  0.073499  0.070610\n",
       "5                0.078907  0.065820  0.075693  0.071809  0.057828\n",
       "6                0.064757  0.066346  0.075964  0.073907  0.072258\n",
       "7                0.083836  0.083065  0.077024  0.075287  0.063942\n",
       "8                0.168735  0.078128  0.088312  0.087935  0.068515\n",
       "9                0.110393  0.109294  0.096397  0.094482  0.063049\n",
       "10               0.134316  0.133483  0.093932  0.107869  0.071524\n",
       "11               0.068327  0.132034  0.113699  0.095318  0.064719\n",
       "12               0.061613  0.102876  0.116903  0.084107  0.303909"
      ]
     },
     "execution_count": 7,
     "metadata": {},
     "output_type": "execute_result"
    }
   ],
   "source": [
    "fechas = df.groupby(['año_publicacion', 'mes_publicacion']).agg({'mes_publicacion': 'size'})\n",
    "fechas = fechas.rename(columns = {'mes_publicacion':'publicaciones'})\n",
    "fechas = fechas.reset_index().pivot(index=\"año_publicacion\", columns = \"mes_publicacion\", values = \"publicaciones\")\n",
    "fechas = fechas.T\n",
    "for año in fechas.columns:\n",
    "    fechas[año]/=fechas[año].sum()\n",
    "fechas"
   ]
  },
  {
   "cell_type": "markdown",
   "metadata": {},
   "source": [
    "## ¿Existe crecimiento anual? ¿Existe alguna epoca del año de mayor flujo de propiedades?"
   ]
  },
  {
   "cell_type": "code",
   "execution_count": 8,
   "metadata": {},
   "outputs": [
    {
     "data": {
      "image/png": "[encoded data removed]",
      "text/plain": [
       "<Figure size 432x288 with 2 Axes>"
      ]
     },
     "metadata": {
      "needs_background": "light"
     },
     "output_type": "display_data"
    }
   ],
   "source": [
    "ax = sns.heatmap(fechas.T, cmap=\"Oranges\")\n",
    "ax.set_yticklabels(ax.get_yticklabels(), rotation=10)\n",
    "plt.title(\"Distribucion porcentual de publicaciones por mes y año\")\n",
    "plt.xlabel(\"Mes de publicacion\")\n",
    "plt.ylabel(\"Año de publicacion\")\n",
    "ax.set_ylim(5.0, 0)\n",
    "plt.savefig(\"figs/heatmap_fechas.png\")\n",
    "plt.show()"
   ]
  },
  {
   "cell_type": "markdown",
   "metadata": {},
   "source": [
    "# Relacion habitaciones / banos. ¿Que combinacion es comun?"
   ]
  },
  {
   "cell_type": "code",
   "execution_count": 9,
   "metadata": {},
   "outputs": [
    {
     "data": {
      "image/png": "[encoded data removed]",
      "text/plain": [
       "<Figure size 504x288 with 2 Axes>"
      ]
     },
     "metadata": {
      "needs_background": "light"
     },
     "output_type": "display_data"
    }
   ],
   "source": [
    "habitaciones_banos = df.groupby(['habitaciones', 'banos']).agg({'id':'count'})\n",
    "habitaciones_banos.rename(columns = {'id':'cantidad'}, inplace=True)\n",
    "habitaciones_banos = habitaciones_banos.\\\n",
    "                                        reset_index()\\\n",
    "                                        .pivot(index=\"habitaciones\", columns = \"banos\", values = \"cantidad\")\n",
    "\n",
    "plt.figure(figsize = (7,4))\n",
    "ax = sns.heatmap(habitaciones_banos.T, cmap=\"Blues\")\n",
    "ax.set_ylim(4.0, 0)\n",
    "plt.title('Relacion habitaciones / banos')\n",
    "plt.savefig('./figs/heatmap_habitaciones_banos.png')\n",
    "plt.show()"
   ]
  },
  {
   "cell_type": "markdown",
   "metadata": {},
   "source": [
    "## Ciudades - Antiguedad"
   ]
  },
  {
   "cell_type": "code",
   "execution_count": 10,
   "metadata": {},
   "outputs": [
    {
     "data": {
      "text/html": [
       "<div>\n",
       "<style scoped>\n",
       "    .dataframe tbody tr th:only-of-type {\n",
       "        vertical-align: middle;\n",
       "    }\n",
       "\n",
       "    .dataframe tbody tr th {\n",
       "        vertical-align: top;\n",
       "    }\n",
       "\n",
       "    .dataframe thead th {\n",
       "        text-align: right;\n",
       "    }\n",
       "</style>\n",
       "<table border=\"1\" class=\"dataframe\">\n",
       "  <thead>\n",
       "    <tr style=\"text-align: right;\">\n",
       "      <th></th>\n",
       "      <th>antiguedad_promedio</th>\n",
       "      <th>cantidad_de_propiedades</th>\n",
       "    </tr>\n",
       "    <tr>\n",
       "      <th>ciudad</th>\n",
       "      <th></th>\n",
       "      <th></th>\n",
       "    </tr>\n",
       "  </thead>\n",
       "  <tbody>\n",
       "    <tr>\n",
       "      <td>Agua Dulce</td>\n",
       "      <td>80.0</td>\n",
       "      <td>1</td>\n",
       "    </tr>\n",
       "    <tr>\n",
       "      <td>Acuitzio</td>\n",
       "      <td>50.0</td>\n",
       "      <td>1</td>\n",
       "    </tr>\n",
       "    <tr>\n",
       "      <td>Tepetitlán</td>\n",
       "      <td>36.2</td>\n",
       "      <td>5</td>\n",
       "    </tr>\n",
       "    <tr>\n",
       "      <td>Poanas</td>\n",
       "      <td>35.0</td>\n",
       "      <td>1</td>\n",
       "    </tr>\n",
       "    <tr>\n",
       "      <td>Acateno</td>\n",
       "      <td>35.0</td>\n",
       "      <td>1</td>\n",
       "    </tr>\n",
       "    <tr>\n",
       "      <td>...</td>\n",
       "      <td>...</td>\n",
       "      <td>...</td>\n",
       "    </tr>\n",
       "    <tr>\n",
       "      <td>Villanueva</td>\n",
       "      <td>NaN</td>\n",
       "      <td>1</td>\n",
       "    </tr>\n",
       "    <tr>\n",
       "      <td>Xicotepec</td>\n",
       "      <td>NaN</td>\n",
       "      <td>1</td>\n",
       "    </tr>\n",
       "    <tr>\n",
       "      <td>Yuriria</td>\n",
       "      <td>NaN</td>\n",
       "      <td>1</td>\n",
       "    </tr>\n",
       "    <tr>\n",
       "      <td>Zináparo</td>\n",
       "      <td>NaN</td>\n",
       "      <td>1</td>\n",
       "    </tr>\n",
       "    <tr>\n",
       "      <td>ácatlán de Juárez</td>\n",
       "      <td>NaN</td>\n",
       "      <td>1</td>\n",
       "    </tr>\n",
       "  </tbody>\n",
       "</table>\n",
       "<p>875 rows × 2 columns</p>\n",
       "</div>"
      ],
      "text/plain": [
       "                   antiguedad_promedio  cantidad_de_propiedades\n",
       "ciudad                                                         \n",
       "Agua Dulce                        80.0                        1\n",
       "Acuitzio                          50.0                        1\n",
       "Tepetitlán                        36.2                        5\n",
       "Poanas                            35.0                        1\n",
       "Acateno                           35.0                        1\n",
       "...                                ...                      ...\n",
       "Villanueva                         NaN                        1\n",
       "Xicotepec                          NaN                        1\n",
       "Yuriria                            NaN                        1\n",
       "Zináparo                           NaN                        1\n",
       "ácatlán de Juárez                  NaN                        1\n",
       "\n",
       "[875 rows x 2 columns]"
      ]
     },
     "execution_count": 10,
     "metadata": {},
     "output_type": "execute_result"
    }
   ],
   "source": [
    "antiguedades = df.groupby('ciudad').agg({'antiguedad': 'mean', 'ciudad': 'size'})\n",
    "antiguedades.rename(columns = {'antiguedad' : 'antiguedad_promedio','ciudad':'cantidad_de_propiedades'}, inplace = True)\n",
    "antiguedades.sort_values('antiguedad_promedio', ascending = False)\n",
    "# Antiguedades promedio, ciudades +- viejas"
   ]
  },
  {
   "cell_type": "code",
   "execution_count": 11,
   "metadata": {},
   "outputs": [
    {
     "data": {
      "text/html": [
       "<div>\n",
       "<style scoped>\n",
       "    .dataframe tbody tr th:only-of-type {\n",
       "        vertical-align: middle;\n",
       "    }\n",
       "\n",
       "    .dataframe tbody tr th {\n",
       "        vertical-align: top;\n",
       "    }\n",
       "\n",
       "    .dataframe thead th {\n",
       "        text-align: right;\n",
       "    }\n",
       "</style>\n",
       "<table border=\"1\" class=\"dataframe\">\n",
       "  <thead>\n",
       "    <tr style=\"text-align: right;\">\n",
       "      <th>antiguedad</th>\n",
       "      <th>0.0</th>\n",
       "      <th>1.0</th>\n",
       "      <th>2.0</th>\n",
       "      <th>3.0</th>\n",
       "      <th>4.0</th>\n",
       "      <th>5.0</th>\n",
       "      <th>6.0</th>\n",
       "      <th>7.0</th>\n",
       "      <th>8.0</th>\n",
       "      <th>9.0</th>\n",
       "      <th>10.0</th>\n",
       "      <th>11.0</th>\n",
       "      <th>12.0</th>\n",
       "      <th>13.0</th>\n",
       "      <th>14.0</th>\n",
       "      <th>15.0</th>\n",
       "      <th>16.0</th>\n",
       "      <th>17.0</th>\n",
       "      <th>18.0</th>\n",
       "      <th>19.0</th>\n",
       "    </tr>\n",
       "    <tr>\n",
       "      <th>ciudad</th>\n",
       "      <th></th>\n",
       "      <th></th>\n",
       "      <th></th>\n",
       "      <th></th>\n",
       "      <th></th>\n",
       "      <th></th>\n",
       "      <th></th>\n",
       "      <th></th>\n",
       "      <th></th>\n",
       "      <th></th>\n",
       "      <th></th>\n",
       "      <th></th>\n",
       "      <th></th>\n",
       "      <th></th>\n",
       "      <th></th>\n",
       "      <th></th>\n",
       "      <th></th>\n",
       "      <th></th>\n",
       "      <th></th>\n",
       "      <th></th>\n",
       "    </tr>\n",
       "  </thead>\n",
       "  <tbody>\n",
       "    <tr>\n",
       "      <td>Benito Juárez</td>\n",
       "      <td>0.139381</td>\n",
       "      <td>0.188008</td>\n",
       "      <td>0.225248</td>\n",
       "      <td>0.209741</td>\n",
       "      <td>0.255358</td>\n",
       "      <td>0.300532</td>\n",
       "      <td>0.278481</td>\n",
       "      <td>0.373702</td>\n",
       "      <td>0.280453</td>\n",
       "      <td>0.234899</td>\n",
       "      <td>0.295008</td>\n",
       "      <td>0.173077</td>\n",
       "      <td>0.210526</td>\n",
       "      <td>0.200000</td>\n",
       "      <td>0.160714</td>\n",
       "      <td>0.216000</td>\n",
       "      <td>0.283333</td>\n",
       "      <td>0.260870</td>\n",
       "      <td>0.074074</td>\n",
       "      <td>0.076923</td>\n",
       "    </tr>\n",
       "    <tr>\n",
       "      <td>Mérida</td>\n",
       "      <td>0.192475</td>\n",
       "      <td>0.201558</td>\n",
       "      <td>0.116337</td>\n",
       "      <td>0.084053</td>\n",
       "      <td>0.088181</td>\n",
       "      <td>0.070754</td>\n",
       "      <td>0.120253</td>\n",
       "      <td>0.072664</td>\n",
       "      <td>0.076487</td>\n",
       "      <td>0.100671</td>\n",
       "      <td>0.077536</td>\n",
       "      <td>0.230769</td>\n",
       "      <td>0.092105</td>\n",
       "      <td>0.050000</td>\n",
       "      <td>0.071429</td>\n",
       "      <td>0.122667</td>\n",
       "      <td>0.066667</td>\n",
       "      <td>0.043478</td>\n",
       "      <td>0.024691</td>\n",
       "      <td>0.076923</td>\n",
       "    </tr>\n",
       "    <tr>\n",
       "      <td>Querétaro</td>\n",
       "      <td>0.311805</td>\n",
       "      <td>0.319106</td>\n",
       "      <td>0.311056</td>\n",
       "      <td>0.386489</td>\n",
       "      <td>0.314146</td>\n",
       "      <td>0.222050</td>\n",
       "      <td>0.343882</td>\n",
       "      <td>0.304498</td>\n",
       "      <td>0.297450</td>\n",
       "      <td>0.308725</td>\n",
       "      <td>0.184280</td>\n",
       "      <td>0.243590</td>\n",
       "      <td>0.355263</td>\n",
       "      <td>0.466667</td>\n",
       "      <td>0.375000</td>\n",
       "      <td>0.240000</td>\n",
       "      <td>0.316667</td>\n",
       "      <td>0.217391</td>\n",
       "      <td>0.345679</td>\n",
       "      <td>0.384615</td>\n",
       "    </tr>\n",
       "    <tr>\n",
       "      <td>San Luis Potosí</td>\n",
       "      <td>0.160409</td>\n",
       "      <td>0.141599</td>\n",
       "      <td>0.106436</td>\n",
       "      <td>0.073056</td>\n",
       "      <td>0.075934</td>\n",
       "      <td>0.080027</td>\n",
       "      <td>0.128692</td>\n",
       "      <td>0.093426</td>\n",
       "      <td>0.164306</td>\n",
       "      <td>0.147651</td>\n",
       "      <td>0.071429</td>\n",
       "      <td>0.185897</td>\n",
       "      <td>0.118421</td>\n",
       "      <td>0.066667</td>\n",
       "      <td>0.142857</td>\n",
       "      <td>0.160000</td>\n",
       "      <td>0.133333</td>\n",
       "      <td>0.108696</td>\n",
       "      <td>0.172840</td>\n",
       "      <td>0.192308</td>\n",
       "    </tr>\n",
       "    <tr>\n",
       "      <td>Zapopan</td>\n",
       "      <td>0.195930</td>\n",
       "      <td>0.149729</td>\n",
       "      <td>0.240924</td>\n",
       "      <td>0.246661</td>\n",
       "      <td>0.266381</td>\n",
       "      <td>0.326636</td>\n",
       "      <td>0.128692</td>\n",
       "      <td>0.155709</td>\n",
       "      <td>0.181303</td>\n",
       "      <td>0.208054</td>\n",
       "      <td>0.371747</td>\n",
       "      <td>0.166667</td>\n",
       "      <td>0.223684</td>\n",
       "      <td>0.216667</td>\n",
       "      <td>0.250000</td>\n",
       "      <td>0.261333</td>\n",
       "      <td>0.200000</td>\n",
       "      <td>0.369565</td>\n",
       "      <td>0.382716</td>\n",
       "      <td>0.269231</td>\n",
       "    </tr>\n",
       "  </tbody>\n",
       "</table>\n",
       "</div>"
      ],
      "text/plain": [
       "antiguedad           0.0       1.0       2.0       3.0       4.0       5.0   \\\n",
       "ciudad                                                                        \n",
       "Benito Juárez    0.139381  0.188008  0.225248  0.209741  0.255358  0.300532   \n",
       "Mérida           0.192475  0.201558  0.116337  0.084053  0.088181  0.070754   \n",
       "Querétaro        0.311805  0.319106  0.311056  0.386489  0.314146  0.222050   \n",
       "San Luis Potosí  0.160409  0.141599  0.106436  0.073056  0.075934  0.080027   \n",
       "Zapopan          0.195930  0.149729  0.240924  0.246661  0.266381  0.326636   \n",
       "\n",
       "antiguedad           6.0       7.0       8.0       9.0       10.0      11.0  \\\n",
       "ciudad                                                                        \n",
       "Benito Juárez    0.278481  0.373702  0.280453  0.234899  0.295008  0.173077   \n",
       "Mérida           0.120253  0.072664  0.076487  0.100671  0.077536  0.230769   \n",
       "Querétaro        0.343882  0.304498  0.297450  0.308725  0.184280  0.243590   \n",
       "San Luis Potosí  0.128692  0.093426  0.164306  0.147651  0.071429  0.185897   \n",
       "Zapopan          0.128692  0.155709  0.181303  0.208054  0.371747  0.166667   \n",
       "\n",
       "antiguedad           12.0      13.0      14.0      15.0      16.0      17.0  \\\n",
       "ciudad                                                                        \n",
       "Benito Juárez    0.210526  0.200000  0.160714  0.216000  0.283333  0.260870   \n",
       "Mérida           0.092105  0.050000  0.071429  0.122667  0.066667  0.043478   \n",
       "Querétaro        0.355263  0.466667  0.375000  0.240000  0.316667  0.217391   \n",
       "San Luis Potosí  0.118421  0.066667  0.142857  0.160000  0.133333  0.108696   \n",
       "Zapopan          0.223684  0.216667  0.250000  0.261333  0.200000  0.369565   \n",
       "\n",
       "antiguedad           18.0      19.0  \n",
       "ciudad                               \n",
       "Benito Juárez    0.074074  0.076923  \n",
       "Mérida           0.024691  0.076923  \n",
       "Querétaro        0.345679  0.384615  \n",
       "San Luis Potosí  0.172840  0.192308  \n",
       "Zapopan          0.382716  0.269231  "
      ]
     },
     "execution_count": 11,
     "metadata": {},
     "output_type": "execute_result"
    }
   ],
   "source": [
    "grandes_ciudades = df.groupby('ciudad').filter(min_threshold, threshold = 7000)\n",
    "antiguedades_ciudades = grandes_ciudades.groupby(['ciudad', 'antiguedad']).agg({'ciudad':'size'})\n",
    "antiguedades_ciudades = antiguedades_ciudades.rename(columns = {'ciudad':'cantidades'}).reset_index()\n",
    "antiguedades_ciudades = antiguedades_ciudades.reset_index().pivot('ciudad', 'antiguedad', 'cantidades')\n",
    "\n",
    "for antiguedad in antiguedades_ciudades.columns:\n",
    "    antiguedades_ciudades[antiguedad]/=antiguedades_ciudades[antiguedad].sum()\n",
    "\n",
    "antiguedades_ciudades = antiguedades_ciudades.T.iloc[:20].T\n",
    "antiguedades_ciudades"
   ]
  },
  {
   "cell_type": "markdown",
   "metadata": {},
   "source": [
    "## ¿Son parejas las antiguedades para ciudades en distintas condiciones?"
   ]
  },
  {
   "cell_type": "code",
   "execution_count": 12,
   "metadata": {},
   "outputs": [
    {
     "data": {
      "image/png": "[encoded data removed]",
      "text/plain": [
       "<Figure size 432x288 with 1 Axes>"
      ]
     },
     "metadata": {
      "needs_background": "light"
     },
     "output_type": "display_data"
    }
   ],
   "source": [
    "ax = plt.stackplot(list(map(lambda x:2016-x, list(antiguedades_ciudades.columns))),antiguedades_ciudades)\n",
    "plt.xlabel('Año')\n",
    "plt.ylabel('Publicaciones')\n",
    "plt.show()\n",
    "\n",
    "# Horrible este plot, meu deus"
   ]
  },
  {
   "cell_type": "markdown",
   "metadata": {},
   "source": [
    "## ¿Existen patrones para cantidad de habitaciones por ciudad?"
   ]
  },
  {
   "cell_type": "code",
   "execution_count": 13,
   "metadata": {},
   "outputs": [],
   "source": [
    "def obtener_promedio_por_ciudad_de(df, parametro):\n",
    "    nuevo_df = df.groupby(['ciudad',parametro]).agg({parametro:'size', 'precio':'mean'})\n",
    "    nuevo_df.rename(columns = {parametro:'cantidad'}, inplace = True)\n",
    "    cantidades = df.groupby('ciudad').agg({parametro:'sum'})[parametro]\n",
    "    nuevo_df = nuevo_df.reset_index().set_index('ciudad')\n",
    "    nuevo_df['totales'] = cantidades\n",
    "    return nuevo_df\n",
    "\n",
    "def agrupar_y_aplicar(df, agrupaciones, targets, funciones):\n",
    "    d = {}\n",
    "    for target in targets:\n",
    "        for func in funciones:\n",
    "            if len(funciones) == 1:\n",
    "                d[target] = func\n",
    "            else:\n",
    "                d[target] = d.get(target, []) + [func]\n",
    "    return df.groupby(agrupaciones).agg(d)\n"
   ]
  },
  {
   "cell_type": "code",
   "execution_count": 14,
   "metadata": {},
   "outputs": [],
   "source": [
    "def filtrar_cantidad(df, cantidad):\n",
    "    df['cantidad'] = 1\n",
    "    df2 = df.groupby('provincia').agg({'cantidad':'size'})\n",
    "    return df.loc[df['provincia'].isin(df2[df2['cantidad'] > cantidad].index)]\n",
    "\n",
    "def generar_barplot_ciudades(df, nombre):\n",
    "    plt.figure(figsize=(15, 5))\n",
    "    serie = setup_barplot_ciudades(df,nombre)\n",
    "    for provincia in serie['provincia'].unique():\n",
    "        ax = sns.barplot(x=nombre, y = 'ciudad', data = serie.loc[serie['provincia'] == provincia], palette=\"Oranges_d\")\n",
    "        plt.title(f'Porcentaje de {nombre} para la provincia {provincia} segun ciudad')\n",
    "        plt.xlabel('Porcentaje de banos')\n",
    "        #plt.savefig(f'./figs/{provincia}_porcentaje_{nombre}_por_ciudad.jpg')\n",
    "        \n",
    "def setup_barplot_ciudades(df, caracteristica):\n",
    "    provincias_mas_grandes = filtrar_cantidad(df,7000)\n",
    "    serie = agrupar_y_aplicar(provincias_mas_grandes, ['provincia','ciudad'], [caracteristica], ['sum']).reset_index()\n",
    "    serie_provincias = serie.groupby('provincia').agg({caracteristica:'sum'})\n",
    "    serie.set_index('provincia',inplace=True)\n",
    "    serie[caracteristica] /= serie_provincias[caracteristica]\n",
    "    serie[caracteristica] *= 100\n",
    "    serie = serie.reset_index()\n",
    "    return serie\n",
    "        \n",
    "#generar_barplot_ciudades(df, 'banos')\n",
    "#generar_barplot_ciudades(df, 'habitaciones')\n",
    "#generar_barplot_ciudades(df, 'garages')"
   ]
  },
  {
   "cell_type": "code",
   "execution_count": 15,
   "metadata": {},
   "outputs": [
    {
     "data": {
      "text/html": [
       "<div>\n",
       "<style scoped>\n",
       "    .dataframe tbody tr th:only-of-type {\n",
       "        vertical-align: middle;\n",
       "    }\n",
       "\n",
       "    .dataframe tbody tr th {\n",
       "        vertical-align: top;\n",
       "    }\n",
       "\n",
       "    .dataframe thead th {\n",
       "        text-align: right;\n",
       "    }\n",
       "</style>\n",
       "<table border=\"1\" class=\"dataframe\">\n",
       "  <thead>\n",
       "    <tr style=\"text-align: right;\">\n",
       "      <th></th>\n",
       "      <th>habitaciones</th>\n",
       "    </tr>\n",
       "    <tr>\n",
       "      <th>ciudad</th>\n",
       "      <th></th>\n",
       "    </tr>\n",
       "  </thead>\n",
       "  <tbody>\n",
       "    <tr>\n",
       "      <td>Abalá</td>\n",
       "      <td>NaN</td>\n",
       "    </tr>\n",
       "    <tr>\n",
       "      <td>Abasolo</td>\n",
       "      <td>4.000000</td>\n",
       "    </tr>\n",
       "    <tr>\n",
       "      <td>Abejones</td>\n",
       "      <td>3.000000</td>\n",
       "    </tr>\n",
       "    <tr>\n",
       "      <td>Acajete</td>\n",
       "      <td>2.833333</td>\n",
       "    </tr>\n",
       "    <tr>\n",
       "      <td>Acambay</td>\n",
       "      <td>2.875000</td>\n",
       "    </tr>\n",
       "    <tr>\n",
       "      <td>...</td>\n",
       "      <td>...</td>\n",
       "    </tr>\n",
       "    <tr>\n",
       "      <td>ácatlán de Juárez</td>\n",
       "      <td>NaN</td>\n",
       "    </tr>\n",
       "    <tr>\n",
       "      <td>ácaxochitlán</td>\n",
       "      <td>3.250000</td>\n",
       "    </tr>\n",
       "    <tr>\n",
       "      <td>ácámbaro</td>\n",
       "      <td>3.000000</td>\n",
       "    </tr>\n",
       "    <tr>\n",
       "      <td>áutlán de Navarro</td>\n",
       "      <td>3.000000</td>\n",
       "    </tr>\n",
       "    <tr>\n",
       "      <td>áyotlán</td>\n",
       "      <td>4.000000</td>\n",
       "    </tr>\n",
       "  </tbody>\n",
       "</table>\n",
       "<p>875 rows × 1 columns</p>\n",
       "</div>"
      ],
      "text/plain": [
       "                   habitaciones\n",
       "ciudad                         \n",
       "Abalá                       NaN\n",
       "Abasolo                4.000000\n",
       "Abejones               3.000000\n",
       "Acajete                2.833333\n",
       "Acambay                2.875000\n",
       "...                         ...\n",
       "ácatlán de Juárez           NaN\n",
       "ácaxochitlán           3.250000\n",
       "ácámbaro               3.000000\n",
       "áutlán de Navarro      3.000000\n",
       "áyotlán                4.000000\n",
       "\n",
       "[875 rows x 1 columns]"
      ]
     },
     "execution_count": 15,
     "metadata": {},
     "output_type": "execute_result"
    }
   ],
   "source": [
    "habitaciones = agrupar_y_aplicar(df, ['ciudad'], ['habitaciones'], ['mean'])#['habitaciones']\n",
    "habitaciones#.sort_values(ascending = False).head(10)"
   ]
  },
  {
   "cell_type": "code",
   "execution_count": 16,
   "metadata": {},
   "outputs": [
    {
     "data": {
      "text/plain": [
       "ciudad\n",
       "Chignautla                3.0\n",
       "Chalchicomula de Sesma    3.0\n",
       "Ixtlán                    3.0\n",
       "Ixhuatlancillo            3.0\n",
       "Totoltepec de Guerrero    3.0\n",
       "Ucú                       3.0\n",
       "Tetela del Volcán         3.0\n",
       "Tihuatlán                 3.0\n",
       "Dzitás                    3.0\n",
       "Cerro Azul                3.0\n",
       "Name: garages, dtype: float64"
      ]
     },
     "execution_count": 16,
     "metadata": {},
     "output_type": "execute_result"
    }
   ],
   "source": [
    "garages = agrupar_y_aplicar(df, ['ciudad'], ['garages'], ['mean'])['garages']\n",
    "garages.sort_values(ascending = False).head(10)"
   ]
  },
  {
   "cell_type": "markdown",
   "metadata": {},
   "source": [
    "## La cercania a un centro comercial tiene un impacto positivo en el precio de una propiedad para cualquier ciudad"
   ]
  },
  {
   "cell_type": "code",
   "execution_count": 17,
   "metadata": {},
   "outputs": [],
   "source": [
    "precios_promedio_por_ciudad = df.groupby('ciudad').agg({'precio':'mean'})\n",
    "precios_promedio_por_ciudad_con_comercio = df[df['centroscomercialescercanos'] == 1].groupby('ciudad').agg({'precio':'mean'})"
   ]
  },
  {
   "cell_type": "markdown",
   "metadata": {},
   "source": [
    "## ¿Es el nivel de oferta una variable que afecte al valor del metro cuadrado cubierto?"
   ]
  },
  {
   "cell_type": "code",
   "execution_count": 18,
   "metadata": {},
   "outputs": [
    {
     "data": {
      "text/plain": [
       "Text(0, 0.5, 'Cantidad de publicaciones del mes')"
      ]
     },
     "execution_count": 18,
     "metadata": {},
     "output_type": "execute_result"
    },
    {
     "data": {
      "image/png": "[encoded data removed]",
      "text/plain": [
       "<Figure size 432x288 with 1 Axes>"
      ]
     },
     "metadata": {
      "needs_background": "light"
     },
     "output_type": "display_data"
    }
   ],
   "source": [
    "plt.scatter(df['precio']/df['metroscubiertos'], df.groupby(['mes_publicacion', 'año_publicacion'])['mes_publicacion'].transform('count'), s=2)\n",
    "plt.xlabel('Precio por metro cuadrado cubierto')\n",
    "plt.ylabel('Cantidad de publicaciones del mes')"
   ]
  },
  {
   "cell_type": "code",
   "execution_count": 19,
   "metadata": {},
   "outputs": [
    {
     "name": "stderr",
     "output_type": "stream",
     "text": [
      "c:\\users\\juani\\appdata\\local\\programs\\python\\python36\\lib\\site-packages\\pandas\\core\\indexing.py:1418: FutureWarning: \n",
      "Passing list-likes to .loc or [] with any missing label will raise\n",
      "KeyError in the future, you can use .reindex() as an alternative.\n",
      "\n",
      "See the documentation here:\n",
      "https://pandas.pydata.org/pandas-docs/stable/user_guide/indexing.html#deprecate-loc-reindex-listlike\n",
      "  return self._getitem_tuple(key)\n"
     ]
    }
   ],
   "source": [
    "sin_diciembre = df.loc[lambda x:(x['año_publicacion'] != 2016) | (x['mes_publicacion'] != 12), ['mes_publicacion','año_publicacion','zona','precio','metroscubiertos']]"
   ]
  },
  {
   "cell_type": "code",
   "execution_count": 20,
   "metadata": {},
   "outputs": [
    {
     "data": {
      "image/png": "[encoded data removed]",
      "text/plain": [
       "<Figure size 432x288 with 1 Axes>"
      ]
     },
     "metadata": {
      "needs_background": "light"
     },
     "output_type": "display_data"
    }
   ],
   "source": [
    "def generar_scatter(df,zona):\n",
    "    #plt.figure(figsize = (16,6))\n",
    "    for año in range(2012,2017):\n",
    "        nuevo_df = pd.DataFrame()\n",
    "        info = df.loc[lambda x:(x['año_publicacion'] == año)]\\\n",
    "                                            .groupby(['mes_publicacion','año_publicacion'])\n",
    "        info = info.agg({'precio':'sum', 'metroscubiertos':'sum', 'mes_publicacion':'count'})\n",
    "        plt.scatter(info['mes_publicacion'],info['precio']/info['metroscubiertos'], label = año)\n",
    "        plt.ylabel('Precio')\n",
    "        plt.xlabel('Cantidad de publicaciones por mes')\n",
    "        plt.title(f'Relacion oferta/precio por metro cuadrado promedio para zona {zona}')\n",
    "        plt.legend(loc = 'lower right')\n",
    "    plt.tight_layout()\n",
    "    plt.savefig(f'./figs/scatter_oferta_precio_zona_{zona}.jpg')\n",
    "    \n",
    "\n",
    "\n",
    "#generar_scatter(sin_diciembre)\n",
    "for zona in sin_diciembre['zona'].unique():\n",
    "    generar_scatter(sin_diciembre.loc[lambda x:x['zona'] == zona,], zona)\n",
    "    plt.show()\n",
    "\n",
    "    "
   ]
  },
  {
   "cell_type": "markdown",
   "metadata": {},
   "source": [
    "¿A mayor cantidad de publicaciones mensuales, mayor dispersion en los precios y mayor precio promedio?\n",
    "\n",
    "Ideas a implementar: \n",
    "- Dividir a las ciudades en 4 zonas (N-O-S-E) y utilizar colores para los mismos y ver si hay relaciones espaciales\n",
    "- Agregar una curva para los valores promedios de cada barra de puntos para ver el desvio\n"
   ]
  },
  {
   "cell_type": "code",
   "execution_count": 21,
   "metadata": {},
   "outputs": [],
   "source": [
    "diciembre = df.loc[lambda x:(x['año_publicacion'] == 2016) & (x['mes_publicacion'] == 12), ['fecha_publicacion','id']]\n",
    "diciembre['dia']=diciembre['fecha_publicacion'].dt.day\n",
    "diciembre = diciembre.groupby('dia').count().reset_index()\n",
    "diciembre.rename(columns = {'id':'publicaciones'}, inplace = True)"
   ]
  },
  {
   "cell_type": "code",
   "execution_count": 22,
   "metadata": {},
   "outputs": [
    {
     "data": {
      "image/png": "[encoded data removed]",
      "text/plain": [
       "<Figure size 432x288 with 1 Axes>"
      ]
     },
     "metadata": {
      "needs_background": "light"
     },
     "output_type": "display_data"
    }
   ],
   "source": [
    "sns.lineplot(x = diciembre['dia'], y = diciembre['publicaciones'])\n",
    "plt.title('Cantidad de publicaciones por dia\\n en diciembre de 2016')\n",
    "plt.savefig('./figs/diciembre_2016.png')"
   ]
  },
  {
   "cell_type": "code",
   "execution_count": 23,
   "metadata": {},
   "outputs": [
    {
     "data": {
      "image/png": "[encoded data removed]",
      "text/plain": [
       "<Figure size 432x288 with 2 Axes>"
      ]
     },
     "metadata": {
      "needs_background": "light"
     },
     "output_type": "display_data"
    }
   ],
   "source": [
    "ax = sns.heatmap(fechas.T, cmap=\"Oranges\")\n",
    "ax.set_yticklabels(ax.get_yticklabels(), rotation=10)\n",
    "plt.title(\"Distribucion porcentual de publicaciones por mes y año\")\n",
    "plt.xlabel(\"Mes de publicacion\")\n",
    "plt.ylabel(\"Año de publicacion\")\n",
    "ax.set_ylim(5.0, 0)\n",
    "plt.savefig(\"figs/heatmap_fechas.png\")\n",
    "plt.show()"
   ]
  }
 ],
 "metadata": {
  "kernelspec": {
   "display_name": "Python 3",
   "language": "python",
   "name": "python3"
  },
  "language_info": {
   "codemirror_mode": {
    "name": "ipython",
    "version": 3
   },
   "file_extension": ".py",
   "mimetype": "text/x-python",
   "name": "python",
   "nbconvert_exporter": "python",
   "pygments_lexer": "ipython3",
   "version": "3.6.0"
  }
 },
 "nbformat": 4,
 "nbformat_minor": 2
}
