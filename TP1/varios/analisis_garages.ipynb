{
 "cells": [
  {
   "cell_type": "markdown",
   "metadata": {},
   "source": [
    "# Imports"
   ]
  },
  {
   "cell_type": "code",
   "execution_count": 4,
   "metadata": {},
   "outputs": [
    {
     "ename": "SyntaxError",
     "evalue": "invalid syntax (<ipython-input-4-3289da24cb0f>, line 5)",
     "output_type": "error",
     "traceback": [
      "\u001b[0;36m  File \u001b[0;32m\"<ipython-input-4-3289da24cb0f>\"\u001b[0;36m, line \u001b[0;32m5\u001b[0m\n\u001b[0;31m    import ../common/common_pandas_lib as common\u001b[0m\n\u001b[0m           ^\u001b[0m\n\u001b[0;31mSyntaxError\u001b[0m\u001b[0;31m:\u001b[0m invalid syntax\n"
     ]
    }
   ],
   "source": [
    "import pandas as pd\n",
    "import numpy as np\n",
    "import seaborn as sns\n",
    "from matplotlib import pyplot as plt\n",
    "import ../common/common_pandas_lib as common"
   ]
  },
  {
   "cell_type": "markdown",
   "metadata": {},
   "source": [
    "# Configuraciones"
   ]
  },
  {
   "cell_type": "markdown",
   "metadata": {},
   "source": [
    "### Configuraciones librerias"
   ]
  },
  {
   "cell_type": "code",
   "execution_count": null,
   "metadata": {},
   "outputs": [],
   "source": [
    "%matplotlib inline\n",
    "\n",
    "plt.style.use('default') # haciendo los graficos un poco mas bonitos en matplotlib\n",
    "plt.rcParams['figure.figsize'] = (18, 8)\n",
    "\n",
    "sns.set(style=\"whitegrid\", font_scale = 2) # seteando tipo de grid en seaborn\n",
    "                                           # seteando tamanio de ticks label\n",
    "sns.set_palette(common.COLORES_BARRAS)\n",
    "pd.options.display.float_format = '{:20,.2f}'.format # suprimimos la notacion cientifica en los outputs"
   ]
  },
  {
   "cell_type": "markdown",
   "metadata": {},
   "source": [
    "# Carga optimizada del set de datos"
   ]
  },
  {
   "cell_type": "code",
   "execution_count": null,
   "metadata": {},
   "outputs": [],
   "source": [
    "zona_prop = common.cargar_train_optimizado('train.csv')"
   ]
  },
  {
   "cell_type": "markdown",
   "metadata": {},
   "source": [
    "# Analisis de garage"
   ]
  },
  {
   "cell_type": "code",
   "execution_count": null,
   "metadata": {},
   "outputs": [],
   "source": [
    "cant_garages_nan = zona_prop['garages'].isnull().sum()\n",
    "cant_garages_nan"
   ]
  },
  {
   "cell_type": "code",
   "execution_count": null,
   "metadata": {},
   "outputs": [],
   "source": [
    "cant_garages_no_nan = (~zona_prop['garages'].isnull()).sum()\n",
    "cant_garages_no_nan"
   ]
  },
  {
   "cell_type": "code",
   "execution_count": null,
   "metadata": {},
   "outputs": [],
   "source": [
    "cant_propiedades = zona_prop.shape[0]\n",
    "cant_propiedades"
   ]
  },
  {
   "cell_type": "markdown",
   "metadata": {},
   "source": [
    "## ¿Cuantas propiedades tienen NaN en garage?"
   ]
  },
  {
   "cell_type": "code",
   "execution_count": null,
   "metadata": {
    "scrolled": true
   },
   "outputs": [],
   "source": [
    "df_cant_garages_nan = pd.DataFrame(\n",
    "    {'estado_garage' : ['no_nan', 'nan'], \n",
    "     'cantidad' : [\n",
    "         cant_garages_no_nan, \n",
    "         cant_garages_nan\n",
    "     ]}\n",
    "    )\n",
    "plot_bar_cant_garage_nan = sns.barplot(\n",
    "                                x = 'estado_garage',\n",
    "                                y = 'cantidad',\n",
    "                                data = df_cant_garages_nan\n",
    "                            )\n",
    "\n",
    "# Titulos\n",
    "common.setear_titulos_plot(\n",
    "    plot_bar_cant_garage_nan,\n",
    "    'Barplot : \\n¿Cuantas propiedades tiene NaN en garage?',\n",
    "    'Estado del garage de todas las propiedades',\n",
    "    'Cantidad de propiedades'\n",
    ")\n",
    "\n",
    "# Y Ticks\n",
    "plot_bar_cant_garage_nan.set_yticks(df_cant_garages_nan['cantidad'].get_values())\n",
    "\n",
    "plt.show()"
   ]
  },
  {
   "cell_type": "markdown",
   "metadata": {},
   "source": [
    "Descartamos las propiedades con NaN en Garage para el analisis"
   ]
  },
  {
   "cell_type": "code",
   "execution_count": null,
   "metadata": {},
   "outputs": [],
   "source": [
    "zona_garages = zona_prop.dropna(subset = ['garages'])\n",
    "zona_garages['garages'].isnull().sum()"
   ]
  },
  {
   "cell_type": "markdown",
   "metadata": {},
   "source": [
    "## ¿Cuantos garages hay por propiedad?"
   ]
  },
  {
   "cell_type": "code",
   "execution_count": null,
   "metadata": {},
   "outputs": [],
   "source": [
    "zona_garages['garages'].value_counts()"
   ]
  },
  {
   "cell_type": "code",
   "execution_count": null,
   "metadata": {},
   "outputs": [],
   "source": [
    "df_frecuencia_garages = zona_garages['garages'].value_counts().to_frame()\n",
    "df_frecuencia_garages.reset_index(inplace = True)\n",
    "df_frecuencia_garages.rename(columns = {'index' : 'cantidad', 'garages': 'frecuencia'}, inplace = True)\n",
    "df_frecuencia_garages.sort_values(by = 'cantidad', inplace = True)\n",
    "df_frecuencia_garages"
   ]
  },
  {
   "cell_type": "code",
   "execution_count": null,
   "metadata": {
    "scrolled": true
   },
   "outputs": [],
   "source": [
    "plot_bar_frecuencia_garages = sns.barplot(\n",
    "                                x = 'cantidad',\n",
    "                                y = 'frecuencia',\n",
    "                                data = df_frecuencia_garages\n",
    "                            )\n",
    "common.setear_titulos_plot(\n",
    "    plot_bar_frecuencia_garages,\n",
    "    'Barplot : \\nFrecuencia de cantidad de garages por propiedad',\n",
    "    'Cantidad de garages',\n",
    "    'Frecuencia'\n",
    ")\n",
    "plot_bar_frecuencia_garages.set_yticks(df_frecuencia_garages['frecuencia'].get_values())\n",
    "plt.show()"
   ]
  },
  {
   "cell_type": "markdown",
   "metadata": {},
   "source": [
    "## Garages-Banos"
   ]
  },
  {
   "cell_type": "markdown",
   "metadata": {},
   "source": [
    "### ¿Cuantos datos perdemos si descartamos todos garages en NaN y garages con banos en NaN?"
   ]
  },
  {
   "cell_type": "code",
   "execution_count": null,
   "metadata": {},
   "outputs": [],
   "source": [
    "cant_garages_no_nan_y_banos_nan = zona_garages['banos'].isnull().sum()\n",
    "cant_garages_no_nan_y_banos_nan"
   ]
  },
  {
   "cell_type": "code",
   "execution_count": null,
   "metadata": {},
   "outputs": [],
   "source": [
    "cant_garages_nan"
   ]
  },
  {
   "cell_type": "code",
   "execution_count": null,
   "metadata": {},
   "outputs": [],
   "source": [
    "(cant_garages_nan + cant_garages_no_nan_y_banos_nan) / zona_prop.shape[0]"
   ]
  },
  {
   "cell_type": "markdown",
   "metadata": {},
   "source": [
    "Se termina descartando el 20 % de los datos"
   ]
  },
  {
   "cell_type": "code",
   "execution_count": null,
   "metadata": {
    "scrolled": true
   },
   "outputs": [],
   "source": [
    "zona_garages_banos = zona_garages.dropna(subset = ['banos'])\n",
    "zona_garages_banos['banos'].isnull().sum()"
   ]
  },
  {
   "cell_type": "markdown",
   "metadata": {},
   "source": [
    "### ¿Cuantas propiedades, en Mexico, hay para cada combinacion de garages y banos?"
   ]
  },
  {
   "cell_type": "code",
   "execution_count": null,
   "metadata": {},
   "outputs": [],
   "source": [
    "garages_banos_agrupados = zona_garages_banos.groupby(['garages','banos']).agg({'garages' : 'count'})\n",
    "garages_banos_agrupados.columns = ['cantidad']\n",
    "garages_banos_agrupados = garages_banos_agrupados.reset_index()\n",
    "garages_banos_pivot_cantidad = garages_banos_agrupados.pivot_table(index = 'garages', columns = 'banos', values = 'cantidad')\n",
    "garages_banos_pivot_cantidad"
   ]
  },
  {
   "cell_type": "code",
   "execution_count": null,
   "metadata": {
    "scrolled": false
   },
   "outputs": [],
   "source": [
    "plot_heatmap_garages_banos_cant = sns.heatmap(\n",
    "                                    garages_banos_pivot_cantidad, \n",
    "                                    cmap = 'Blues',\n",
    "                                    cbar_kws = {'label' : 'Cantidad de propiedades'}\n",
    "                                )\n",
    "plot_heatmap_garages_banos_cant.invert_yaxis()\n",
    "\n",
    "common.setear_titulos_plot(\n",
    "    plot_heatmap_garages_banos_cant,\n",
    "    'Heatmap : \\nCantidad de propiedades en funcion\\n de la cantidad de garages y banos',\n",
    "    'Cantidad de banos',\n",
    "    'Cantidad de garages'\n",
    ")\n",
    "plt.show()"
   ]
  },
  {
   "cell_type": "markdown",
   "metadata": {},
   "source": [
    "Se observa una gran cantidad de propiedades con 2 garages y 2 banos.  \n",
    "En segundo lugar le siguen las propiedades con 1 garage y 1 bano.  "
   ]
  },
  {
   "cell_type": "markdown",
   "metadata": {},
   "source": [
    "## Garages-Metroscubiertos"
   ]
  },
  {
   "cell_type": "markdown",
   "metadata": {},
   "source": [
    "### ¿Cuantos datos perdermos si descartamos todos los garages NaN y los garages con metroscubiertos NaN?"
   ]
  },
  {
   "cell_type": "code",
   "execution_count": null,
   "metadata": {},
   "outputs": [],
   "source": [
    "cant_garages_nan"
   ]
  },
  {
   "cell_type": "code",
   "execution_count": null,
   "metadata": {},
   "outputs": [],
   "source": [
    "cant_garages_no_nan_y_metroscubiertos_nan = zona_garages['metroscubiertos'].isnull().sum()\n",
    "cant_garages_no_nan_y_metroscubiertos_nan"
   ]
  },
  {
   "cell_type": "code",
   "execution_count": null,
   "metadata": {},
   "outputs": [],
   "source": [
    "(cant_garages_nan + cant_garages_no_nan_y_metroscubiertos_nan) / zona_prop.shape[0]"
   ]
  },
  {
   "cell_type": "markdown",
   "metadata": {},
   "source": [
    "Perdemos un 20 % de los datos"
   ]
  },
  {
   "cell_type": "code",
   "execution_count": null,
   "metadata": {},
   "outputs": [],
   "source": [
    "zona_garages_metroscubiertos = zona_garages.dropna(subset = ['metroscubiertos'])\n",
    "zona_garages_metroscubiertos['metroscubiertos'].isnull().sum()"
   ]
  },
  {
   "cell_type": "markdown",
   "metadata": {},
   "source": [
    "### ¿Como se distribuye los metroscubiertos segun la cantidad de garages por propiedad?"
   ]
  },
  {
   "cell_type": "code",
   "execution_count": null,
   "metadata": {},
   "outputs": [],
   "source": [
    "garages_agrupados_metroscubiertos_estadisticas = zona_garages_metroscubiertos.groupby(['garages']).agg({'metroscubiertos' : [common.cuantil_1, 'median', common.cuantil_3]})\n",
    "garages_agrupados_metroscubiertos_estadisticas.columns = garages_agrupados_metroscubiertos_estadisticas.columns.get_level_values(0) \\\n",
    "                                                            + '_' + \\\n",
    "                                                            garages_agrupados_metroscubiertos_estadisticas.columns.get_level_values(1)\n",
    "garages_agrupados_metroscubiertos_estadisticas"
   ]
  },
  {
   "cell_type": "code",
   "execution_count": null,
   "metadata": {},
   "outputs": [],
   "source": [
    "plot_boxplot_metroscubiertos_garages = sns.boxplot(\n",
    "                                            x = 'garages',\n",
    "                                            y = 'metroscubiertos',\n",
    "                                            data = zona_garages_metroscubiertos\n",
    "                                        )\n",
    "# Titulos\n",
    "common.setear_titulos_plot(\n",
    "    plot_boxplot_metroscubiertos_garages,\n",
    "    'Boxplot: \\nDistribucion de metroscubiertos, en Mexico, para \\ndistintas propiedades segun la cantidad de garages',\n",
    "    'Cantidad de garages',\n",
    "    'Metroscubiertos [m]'\n",
    ")\n",
    "\n",
    "# Cuantiles y Medianas\n",
    "common.agregar_serie_plot(\n",
    "    plot_boxplot_metroscubiertos_garages,\n",
    "    garages_agrupados_metroscubiertos_estadisticas['metroscubiertos_cuantil_1'],\n",
    "    garages_agrupados_metroscubiertos_estadisticas['metroscubiertos_cuantil_1'],\n",
    "    'k',\n",
    "    -0.25, -25\n",
    ")\n",
    "\n",
    "common.agregar_serie_plot(\n",
    "    plot_boxplot_metroscubiertos_garages,\n",
    "    garages_agrupados_metroscubiertos_estadisticas['metroscubiertos_median'],\n",
    "    garages_agrupados_metroscubiertos_estadisticas['metroscubiertos_median'],\n",
    "    'w',\n",
    "    0, 5\n",
    ")\n",
    "\n",
    "common.agregar_serie_plot(\n",
    "    plot_boxplot_metroscubiertos_garages,\n",
    "    garages_agrupados_metroscubiertos_estadisticas['metroscubiertos_cuantil_3'],\n",
    "    garages_agrupados_metroscubiertos_estadisticas['metroscubiertos_cuantil_3'],\n",
    "    'k',\n",
    "    0.25, 5\n",
    ")\n",
    "plt.show()"
   ]
  },
  {
   "cell_type": "markdown",
   "metadata": {},
   "source": [
    "## Garages-Metrostotales"
   ]
  },
  {
   "cell_type": "markdown",
   "metadata": {},
   "source": [
    "### ¿Cuantos datos perdemos si descartamos todos los garages NaN y los garages con metrostotales NaN?"
   ]
  },
  {
   "cell_type": "code",
   "execution_count": null,
   "metadata": {},
   "outputs": [],
   "source": [
    "cant_garages_nan"
   ]
  },
  {
   "cell_type": "code",
   "execution_count": null,
   "metadata": {},
   "outputs": [],
   "source": [
    "cant_garages_no_nan_metrostotales_nan = zona_garages['metrostotales'].isnull().sum()\n",
    "cant_garages_no_nan_metrostotales_nan"
   ]
  },
  {
   "cell_type": "code",
   "execution_count": null,
   "metadata": {},
   "outputs": [],
   "source": [
    "(cant_garages_nan + cant_garages_no_nan_metrostotales_nan) / zona_prop.shape[0]"
   ]
  },
  {
   "cell_type": "markdown",
   "metadata": {},
   "source": [
    "Perdemos el 33 % de los datos"
   ]
  },
  {
   "cell_type": "code",
   "execution_count": null,
   "metadata": {},
   "outputs": [],
   "source": [
    "zona_garages_metrostotales = zona_garages.dropna(subset = ['metrostotales'])\n",
    "zona_garages_metrostotales['metrostotales'].isnull().sum()"
   ]
  },
  {
   "cell_type": "markdown",
   "metadata": {},
   "source": [
    "### ¿Como se distribuyen los metrostotales segun la cantidad de garages por propiedad?"
   ]
  },
  {
   "cell_type": "code",
   "execution_count": null,
   "metadata": {},
   "outputs": [],
   "source": [
    "garages_agrupados_metrostotales_estadisticas = zona_garages_metrostotales.groupby(['garages']).agg({'metrostotales' : [common.cuantil_1,'median', common.cuantil_3]})\n",
    "garages_agrupados_metrostotales_estadisticas"
   ]
  },
  {
   "cell_type": "code",
   "execution_count": null,
   "metadata": {},
   "outputs": [],
   "source": [
    "garages_agrupados_metrostotales_estadisticas.columns = garages_agrupados_metrostotales_estadisticas.columns.get_level_values(0) \\\n",
    "                                                        + '_' + \\\n",
    "                                                        garages_agrupados_metrostotales_estadisticas.columns.get_level_values(1)\n",
    "garages_agrupados_metrostotales_estadisticas"
   ]
  },
  {
   "cell_type": "code",
   "execution_count": null,
   "metadata": {},
   "outputs": [],
   "source": [
    "plot_boxplot_metrostotales_garages = sns.boxplot(\n",
    "                                            x = 'garages',\n",
    "                                            y = 'metrostotales',\n",
    "                                            data = zona_garages_metrostotales\n",
    "                                        )\n",
    "# Titulos\n",
    "common.setear_titulos_plot(\n",
    "    plot_boxplot_metrostotales_garages,\n",
    "    'Boxplot: \\nDistribucion de metrostotales para distintas \\npropiedades segun la cantidad de garages',\n",
    "    'Cantidad de garages',\n",
    "    'Metrostotales [m]'\n",
    ")\n",
    "\n",
    "# Cuantiles y Medianas\n",
    "common.agregar_serie_plot(\n",
    "    plot_boxplot_metrostotales_garages, \n",
    "    garages_agrupados_metrostotales_estadisticas['metrostotales_cuantil_1'],\n",
    "    garages_agrupados_metrostotales_estadisticas['metrostotales_cuantil_1'],\n",
    "    'w',\n",
    "    -0.23, 5\n",
    ")\n",
    "\n",
    "common.agregar_serie_plot(\n",
    "    plot_boxplot_metrostotales_garages, \n",
    "    garages_agrupados_metrostotales_estadisticas['metrostotales_median'],\n",
    "    garages_agrupados_metrostotales_estadisticas['metrostotales_median'],\n",
    "    'w',\n",
    "    0, 5\n",
    ")\n",
    "\n",
    "common.agregar_serie_plot(\n",
    "    plot_boxplot_metrostotales_garages, \n",
    "    garages_agrupados_metrostotales_estadisticas['metrostotales_cuantil_3'],\n",
    "    garages_agrupados_metrostotales_estadisticas['metrostotales_cuantil_3'],\n",
    "    'k',\n",
    "    0.25, 5\n",
    ")\n",
    "plt.show()"
   ]
  },
  {
   "cell_type": "markdown",
   "metadata": {},
   "source": [
    "## Garages-Metroscubiertos vs Garages-Metrostotales"
   ]
  },
  {
   "cell_type": "markdown",
   "metadata": {},
   "source": [
    "### ¿Cuantos datos perdemos si descartamos garages nan, garages con metroscubiertos nan y garages con metroscubiertos y metrostolaes nan?"
   ]
  },
  {
   "cell_type": "code",
   "execution_count": null,
   "metadata": {},
   "outputs": [],
   "source": [
    "cant_garages_nan"
   ]
  },
  {
   "cell_type": "code",
   "execution_count": null,
   "metadata": {},
   "outputs": [],
   "source": [
    "cant_garages_no_nan_y_metroscubiertos_nan"
   ]
  },
  {
   "cell_type": "code",
   "execution_count": null,
   "metadata": {},
   "outputs": [],
   "source": [
    "(cant_garages_nan + cant_garages_no_nan_y_metroscubiertos_nan + zona_garages_metroscubiertos['metrostotales'].isnull().sum()) / zona_prop.shape[0]"
   ]
  },
  {
   "cell_type": "markdown",
   "metadata": {},
   "source": [
    "Perdemos el 38 % de los datos"
   ]
  },
  {
   "cell_type": "code",
   "execution_count": null,
   "metadata": {},
   "outputs": [],
   "source": [
    "zona_garages_metros = zona_garages_metroscubiertos.dropna(subset = ['metrostotales'])\n",
    "zona_garages_metros['metrostotales'].isnull().sum()"
   ]
  },
  {
   "cell_type": "markdown",
   "metadata": {},
   "source": [
    "### ¿Que podemos visualizar en la comparacion de los metros cubiertos y totales de cada propiedad, en Mexico, segun la cantidad de garages?"
   ]
  },
  {
   "cell_type": "code",
   "execution_count": null,
   "metadata": {},
   "outputs": [],
   "source": [
    "garages_agrupados_metros_estadisticas =  zona_garages_metros.groupby(['garages']).agg({'metroscubiertos' : [common.cuantil_1, 'median', common.cuantil_3], 'metrostotales' : [common.cuantil_1, 'median', common.cuantil_3]})\n",
    "garages_agrupados_metros_estadisticas"
   ]
  },
  {
   "cell_type": "code",
   "execution_count": null,
   "metadata": {},
   "outputs": [],
   "source": [
    "garages_agrupados_metros_estadisticas.columns = garages_agrupados_metros_estadisticas.columns.get_level_values(0) + '_' + garages_agrupados_metros_estadisticas.columns.get_level_values(1)\n",
    "garages_agrupados_metros_estadisticas = garages_agrupados_metros_estadisticas.reset_index()\n",
    "garages_agrupados_metros_estadisticas"
   ]
  },
  {
   "cell_type": "code",
   "execution_count": null,
   "metadata": {
    "scrolled": true
   },
   "outputs": [],
   "source": [
    "melt_garages_metros = pd.melt(zona_garages_metros, id_vars = 'garages', value_vars = ['metroscubiertos', 'metrostotales'])\n",
    "melt_garages_metros.columns = ['garages', 'tipometros', 'valor']\n",
    "melt_garages_metros"
   ]
  },
  {
   "cell_type": "code",
   "execution_count": null,
   "metadata": {},
   "outputs": [],
   "source": [
    "garages_agrupados_metros_estadisticas = melt_garages_metros.groupby(['garages', 'tipometros']).agg({'valor' : [common.cuantil_1, 'median', common.cuantil_3]})\n",
    "garages_agrupados_metros_estadisticas = garages_agrupados_metros_estadisticas.unstack()\n",
    "garages_agrupados_metros_estadisticas.columns = garages_agrupados_metros_estadisticas.columns.get_level_values(2) + '_' + garages_agrupados_metros_estadisticas.columns.get_level_values(1)\n",
    "garages_agrupados_metros_estadisticas"
   ]
  },
  {
   "cell_type": "code",
   "execution_count": null,
   "metadata": {},
   "outputs": [],
   "source": [
    "plot_boxplot_group_tipometros_garages = sns.boxplot(\n",
    "                                            x = melt_garages_metros['garages'].get_values(),\n",
    "                                            y = melt_garages_metros['valor'].get_values(),\n",
    "                                            hue = 'tipometros',\n",
    "                                            data = melt_garages_metros\n",
    "                                        )\n",
    "\n",
    "plot_boxplot_group_tipometros_garages.legend(loc = 'upper left')\n",
    "\n",
    "common.setear_titulos_plot(\n",
    "    plot_boxplot_group_tipometros_garages,\n",
    "    'Boxplot : \\nComparacion de las distribuciones de metros cubiertos \\ny totales en funcion de la cantidad de garages',\n",
    "    'Cantidad de garages',\n",
    "    'Metros [m]'\n",
    "    \n",
    ")\n",
    "\n",
    "plt.show()"
   ]
  },
  {
   "cell_type": "markdown",
   "metadata": {},
   "source": [
    "## Garages-Fecha"
   ]
  },
  {
   "cell_type": "markdown",
   "metadata": {},
   "source": [
    "### ¿Cuantos datos perdemos si descartamos garages NaN y garages con fechas NaN?"
   ]
  },
  {
   "cell_type": "code",
   "execution_count": null,
   "metadata": {},
   "outputs": [],
   "source": [
    "cant_garages_nan"
   ]
  },
  {
   "cell_type": "code",
   "execution_count": null,
   "metadata": {},
   "outputs": [],
   "source": [
    "zona_garages['fecha'].isnull().sum()"
   ]
  },
  {
   "cell_type": "markdown",
   "metadata": {},
   "source": [
    "No tenemos fechas NaN.  \n",
    "Pero, ¿ todas las fechas tienen sentido en el contexto del data set ?"
   ]
  },
  {
   "cell_type": "code",
   "execution_count": null,
   "metadata": {},
   "outputs": [],
   "source": [
    "zona_garages['fecha'].dt.year.unique()"
   ]
  },
  {
   "cell_type": "markdown",
   "metadata": {},
   "source": [
    "Ningun año parece fuera de contexto, dado que son cada uno seguido de otro.  \n",
    "Concluimos que las fechas estan limpias (aunque no hayamos verificado, mes, dias, hora, minuto, segundo)"
   ]
  },
  {
   "cell_type": "code",
   "execution_count": null,
   "metadata": {},
   "outputs": [],
   "source": [
    "(cant_garages_nan + zona_garages['fecha'].isnull().sum()) / zona_prop.shape[0]"
   ]
  },
  {
   "cell_type": "markdown",
   "metadata": {},
   "source": [
    "No perdemos mas datos de los ya descartados por garages NaN.  "
   ]
  },
  {
   "cell_type": "markdown",
   "metadata": {},
   "source": [
    "### ¿Como evoluciono la cantidad de garages por propiedad, en Mexico, con el tiempo?"
   ]
  },
  {
   "cell_type": "code",
   "execution_count": null,
   "metadata": {},
   "outputs": [],
   "source": [
    "zona_garages = zona_garages.copy()\n",
    "zona_garages['anio'] = zona_garages['fecha'].dt.year"
   ]
  },
  {
   "cell_type": "code",
   "execution_count": null,
   "metadata": {},
   "outputs": [],
   "source": [
    "plot_countplot_garages_anio = sns.countplot(\n",
    "                                x = 'anio',\n",
    "                                hue  = 'garages',\n",
    "                                data = zona_garages\n",
    "                            )\n",
    "# Titulos\n",
    "common.setear_titulos_plot(\n",
    "    plot_countplot_garages_anio,\n",
    "    'Countplot : \\nCantidad de propiedades, en Mexico, \\npor año, segun cantidad de garages',\n",
    "    'Año de puesta en venta',\n",
    "    'Cantidad de propiedades'\n",
    ")\n",
    "\n",
    "# Leyenda\n",
    "plot_countplot_garages_anio.legend(title = 'Cantidad de garages')\n",
    "\n",
    "plt.show()"
   ]
  },
  {
   "cell_type": "markdown",
   "metadata": {},
   "source": [
    "Desde 2012 hasta 2015 vemos un crecimiento lineal de las cantidades de propiedades en todo  en venta para todas las variaciones de cantidad de propiedades.  \n",
    "Del 2015 a 2016, vemos que la cantidad de propiedades en venta se duplica en todas las categorias.  \n",
    "En todos la años, siempre predomina las propiedades con 2 garages, seguidos de 1, 0 y 3.\n"
   ]
  },
  {
   "cell_type": "markdown",
   "metadata": {},
   "source": [
    "## Garages-Gimnasio"
   ]
  },
  {
   "cell_type": "markdown",
   "metadata": {},
   "source": [
    "### ¿Cuantos datos perdemos si descaramos todos la garages NaN y los garages con Gimnasio NaN?"
   ]
  },
  {
   "cell_type": "code",
   "execution_count": null,
   "metadata": {},
   "outputs": [],
   "source": [
    "cant_garages_nan"
   ]
  },
  {
   "cell_type": "code",
   "execution_count": null,
   "metadata": {},
   "outputs": [],
   "source": [
    "zona_garages['gimnasio'].isnull().sum()"
   ]
  },
  {
   "cell_type": "markdown",
   "metadata": {},
   "source": [
    "No perdemos mas datos, en este analisis"
   ]
  },
  {
   "cell_type": "markdown",
   "metadata": {},
   "source": [
    "### ¿Cuantas propieades tienen gimnasio segun la cantidad de garages?"
   ]
  },
  {
   "cell_type": "code",
   "execution_count": null,
   "metadata": {
    "scrolled": true
   },
   "outputs": [],
   "source": [
    "garages_agrupados_gimnasio_cantidad = zona_garages.groupby(['garages']).agg({'gimnasio' : 'value_counts'})\n",
    "garages_agrupados_gimnasio_cantidad.columns = ['cantidad_propieades']\n",
    "garages_agrupados_gimnasio_cantidad = garages_agrupados_gimnasio_cantidad.reset_index()\n",
    "garages_agrupados_gimnasio_cantidad.columns = ['garages', 'tiene_gimnasio', 'cantidad_propieades']\n",
    "garages_agrupados_gimnasio_cantidad"
   ]
  },
  {
   "cell_type": "code",
   "execution_count": null,
   "metadata": {},
   "outputs": [],
   "source": [
    "plot_countplot_garages_gimnasio = sns.barplot(\n",
    "                                    x = 'garages', \n",
    "                                    hue = 'tiene_gimnasio',\n",
    "                                    y = 'cantidad_propieades',\n",
    "                                    data = garages_agrupados_gimnasio_cantidad\n",
    "                                )\n",
    "# Titulos\n",
    "common.setear_titulos_plot(\n",
    "    plot_countplot_garages_gimnasio,\n",
    "    'Barplot : \\nCantidad de propiedades, en Mexico, que \\ntienen gimnasio, segun la cantidad de garages',\n",
    "    'Cantidad de garages',\n",
    "    'Cantidad de propiedades'\n",
    ")\n",
    "\n",
    "# Leyenda\n",
    "plot_countplot_garages_gimnasio.legend(title = 'Tiene gimnasio')\n",
    "\n",
    "plt.show()"
   ]
  },
  {
   "cell_type": "markdown",
   "metadata": {},
   "source": [
    "Practicamenet hay pocas propiedades que tienen gimnasio, y eso parece no depender de la cantidad de garages.  \n",
    "La cantidad de propiedades con gimnasio parece nula en para los que tienen garage, pero en realidad es un valor muy chico."
   ]
  },
  {
   "cell_type": "code",
   "execution_count": null,
   "metadata": {},
   "outputs": [],
   "source": [
    "garages_agrupados_gimnasio_cantidad_zoom_sin_1_2 = garages_agrupados_gimnasio_cantidad.loc[(~(garages_agrupados_gimnasio_cantidad['garages'].isin([1,2])))]\n",
    "garages_agrupados_gimnasio_cantidad_zoom_sin_1_2"
   ]
  },
  {
   "cell_type": "code",
   "execution_count": null,
   "metadata": {},
   "outputs": [],
   "source": [
    "plot_countplot_garages_gimnasio = sns.barplot(\n",
    "                                    x = 'garages', \n",
    "                                    hue = 'tiene_gimnasio',\n",
    "                                    y = 'cantidad_propieades',\n",
    "                                    data = garages_agrupados_gimnasio_cantidad_zoom_sin_1_2\n",
    "                                )\n",
    "\n",
    "# Titulos\n",
    "common.setear_titulos_plot(\n",
    "    plot_countplot_garages_gimnasio,\n",
    "    'Barplot : \\nCantidad de propiedades, en Mexico, que \\ntienen gimnasio, segun la 0 y 3 garages',\n",
    "    'Cantidad de garages',\n",
    "    'Cantidad de propiedades'\n",
    ")\n",
    "# Leyenda\n",
    "plot_countplot_garages_gimnasio.legend(title = 'Tiene gimnasio')\n",
    "\n",
    "plt.show()"
   ]
  },
  {
   "cell_type": "markdown",
   "metadata": {},
   "source": [
    "Aun con este zoom, la cantidad de propiedades con cero garages y gimansio es muy pequeña, comparado al grueso de todo Mexico."
   ]
  },
  {
   "cell_type": "markdown",
   "metadata": {},
   "source": [
    "## Garages-Usomultiples"
   ]
  },
  {
   "cell_type": "markdown",
   "metadata": {},
   "source": [
    "### ¿Cuantos datos pierdo si descarto garages NaN y garages con usomultiples NaN?"
   ]
  },
  {
   "cell_type": "code",
   "execution_count": null,
   "metadata": {},
   "outputs": [],
   "source": [
    "zona_garages['usosmultiples'].isnull().sum()"
   ]
  },
  {
   "cell_type": "markdown",
   "metadata": {},
   "source": [
    "usosmultiples esta limpio"
   ]
  },
  {
   "cell_type": "markdown",
   "metadata": {},
   "source": [
    "### ¿Cuantas propiedades en Mexico hay por cantidad de garages, diferenciando entren los que tienen usosmultiples y no los tienen?"
   ]
  },
  {
   "cell_type": "code",
   "execution_count": null,
   "metadata": {},
   "outputs": [],
   "source": [
    "garages_agrupados_usosmultiples_cantidad = zona_garages.groupby(['garages']).agg({'usosmultiples' : 'value_counts'})\n",
    "garages_agrupados_usosmultiples_cantidad.columns = ['cantidad_propieades']\n",
    "garages_agrupados_usosmultiples_cantidad = garages_agrupados_usosmultiples_cantidad.reset_index()\n",
    "garages_agrupados_usosmultiples_cantidad.columns = ['garages', 'tiene_usosmultiples', 'cantidad_propiedades']\n",
    "garages_agrupados_usosmultiples_cantidad"
   ]
  },
  {
   "cell_type": "code",
   "execution_count": null,
   "metadata": {},
   "outputs": [],
   "source": [
    "plot_barplot_garages_usosmultiples = sns.barplot(\n",
    "                                        x = 'garages',\n",
    "                                        y = 'cantidad_propiedades',\n",
    "                                        hue = 'tiene_usosmultiples',\n",
    "                                        data = garages_agrupados_usosmultiples_cantidad\n",
    "                                    )\n",
    "# Titulos\n",
    "common.setear_titulos_plot(\n",
    "    plot_barplot_garages_usosmultiples,\n",
    "    'Barplot : \\nCantidad de propiedades, en Mexico, que tienen \\nusosmultiples segun la cantidad de garages',\n",
    "    'Cantidad de garages',\n",
    "    'Cantidad de propiedades'\n",
    ")\n",
    "# Leyenda\n",
    "plot_barplot_garages_usosmultiples.legend(title = \"Tiene usos multiples\")\n",
    "\n",
    "plt.show()"
   ]
  },
  {
   "cell_type": "markdown",
   "metadata": {},
   "source": [
    "Tiene un forma muy parecida al barplot de garages-gimnasio.  \n",
    "Al igual que en dicho grafico la cantidad de propiedades con 0 garages, y usosmultiples, parace nula, cuando en realidad es solo  y chica comparado a las cantidades con las que se trabaja.  \n",
    "No se observa una relacion entre garages-gimnasio o garages-usosmultiples, pero tal vez si haya alguna para gimnasio-usosmultiples.  \n"
   ]
  },
  {
   "cell_type": "markdown",
   "metadata": {},
   "source": [
    "## Garages-Piscina"
   ]
  },
  {
   "cell_type": "markdown",
   "metadata": {},
   "source": [
    "### ¿Cuantos datos perdemos sin descartamos los garage NaN y los garages con piscina NaN?"
   ]
  },
  {
   "cell_type": "code",
   "execution_count": null,
   "metadata": {},
   "outputs": [],
   "source": [
    "zona_garages['piscina'].isnull().sum()"
   ]
  },
  {
   "cell_type": "markdown",
   "metadata": {},
   "source": [
    "La columna piscina esta limpia; no se pierden datos.  "
   ]
  },
  {
   "cell_type": "markdown",
   "metadata": {},
   "source": [
    "### ¿Cuantas propiedades, en Mexico, tienen piscina segun la cantidad de garages?"
   ]
  },
  {
   "cell_type": "code",
   "execution_count": null,
   "metadata": {},
   "outputs": [],
   "source": [
    "garages_agrupados_piscina_cantidad = zona_garages.groupby(['garages']).agg({'piscina': 'value_counts'})\n",
    "garages_agrupados_piscina_cantidad.columns = ['cantidad_propiedades']\n",
    "garages_agrupados_piscina_cantidad = garages_agrupados_piscina_cantidad.reset_index()\n",
    "garages_agrupados_piscina_cantidad.columns = ['garages', 'tiene_piscina', 'cantidad_propiedades']\n",
    "garages_agrupados_piscina_cantidad"
   ]
  },
  {
   "cell_type": "code",
   "execution_count": null,
   "metadata": {},
   "outputs": [],
   "source": [
    "plot_barplot_garages_piscina = sns.barplot(\n",
    "                                    x = 'garages',\n",
    "                                    y = 'cantidad_propiedades',\n",
    "                                    hue = 'tiene_piscina',\n",
    "                                    data = garages_agrupados_piscina_cantidad\n",
    "                                )\n",
    "\n",
    "common.setear_titulos_plot(\n",
    "    plot_barplot_garages_piscina,\n",
    "    'Barplot : \\nCantidad de propiedades, en Mexico, \\ncon piscina, segun la cantidad de garages',\n",
    "    'Cantidad de garages',\n",
    "    'Cantidad de propiedades'\n",
    ")\n",
    "\n",
    "plot_barplot_garages_piscina.legend(title = 'Tienen piscina')\n",
    "plt.show()"
   ]
  },
  {
   "cell_type": "markdown",
   "metadata": {},
   "source": [
    "Tiene forma similar a graficos anteriores, aunque en este caso, parece haber un pequeño aumento de las propiedades que si tienen piscina.  \n",
    "Tambien podriamos hayar un relacion : gimnasion-usosmultiples-piscina"
   ]
  },
  {
   "cell_type": "markdown",
   "metadata": {},
   "source": [
    "## Garages-Escuelascercanas"
   ]
  },
  {
   "cell_type": "markdown",
   "metadata": {},
   "source": [
    "### ¿Cuantos datos perdemos si descartamos garages NaN y garages con escuelasceranas NaN?"
   ]
  },
  {
   "cell_type": "code",
   "execution_count": null,
   "metadata": {},
   "outputs": [],
   "source": [
    "zona_garages['escuelascercanas'].isnull().sum()"
   ]
  },
  {
   "cell_type": "markdown",
   "metadata": {},
   "source": [
    "La columna de escuelas cercanas esta limpia; no perdemos mas datos."
   ]
  },
  {
   "cell_type": "markdown",
   "metadata": {},
   "source": [
    "### ¿Cuantas propiedades, en Mexico, tienen escuelas cercanas, segun la cantidad de garages?"
   ]
  },
  {
   "cell_type": "code",
   "execution_count": null,
   "metadata": {},
   "outputs": [],
   "source": [
    "garages_agrupados_escuelascercanas_cantidad = zona_garages.groupby(['garages']).agg({'escuelascercanas' : 'value_counts'})\n",
    "garages_agrupados_escuelascercanas_cantidad.columns = ['cantidad_propiedades']\n",
    "garages_agrupados_escuelascercanas_cantidad = garages_agrupados_escuelascercanas_cantidad.reset_index()\n",
    "garages_agrupados_escuelascercanas_cantidad.columns = ['garages', 'tiene_escuelascercanas', 'cantidad_propiedades']\n",
    "garages_agrupados_escuelascercanas_cantidad"
   ]
  },
  {
   "cell_type": "code",
   "execution_count": null,
   "metadata": {},
   "outputs": [],
   "source": [
    "plot_barplot_garages_escuelascercanas = sns.barplot(\n",
    "                                            x = 'garages',\n",
    "                                            y = 'cantidad_propiedades',\n",
    "                                            hue = 'tiene_escuelascercanas',\n",
    "                                            data = garages_agrupados_escuelascercanas_cantidad\n",
    "                                        )\n",
    "# Titulos\n",
    "common.setear_titulos_plot(\n",
    "    plot_barplot_garages_escuelascercanas,\n",
    "    'Barplot : \\nCantidad de propiedades, en Mexico, que tienen \\nescuelas cercanas, segun la cantidad de garages',\n",
    "    'Cantidad de garages',\n",
    "    'Cantidad de propiedades'\n",
    ")\n",
    "\n",
    "# Leyenda\n",
    "plot_barplot_garages_escuelascercanas.legend(title = 'Tienen escuelas cercanas')\n",
    "\n",
    "plt.show()"
   ]
  },
  {
   "cell_type": "markdown",
   "metadata": {},
   "source": [
    "En este caso parace haber un equilibrio 50-50 entre las distintas cantidades de garages, y la presencia de escuelas cercanas, exceptuando los 0 garages.  \n",
    "Aun asi, no podemos argumentar que la cantidad de garages tiene algun tipo de relacion con la presencia de escuelas cercanas, pues, justamente, este fenomeno es el mismo para cada cantidad."
   ]
  },
  {
   "cell_type": "markdown",
   "metadata": {},
   "source": [
    "## Garages-Centroscomercialescercanos"
   ]
  },
  {
   "cell_type": "markdown",
   "metadata": {},
   "source": [
    "### ¿Cuantos datos perdemos si decartamos garages NaN y garages con centroscomercialescercanos NaN?"
   ]
  },
  {
   "cell_type": "code",
   "execution_count": null,
   "metadata": {},
   "outputs": [],
   "source": [
    "zona_garages['centroscomercialescercanos'].isnull().sum()"
   ]
  },
  {
   "cell_type": "markdown",
   "metadata": {},
   "source": [
    "La columna de centroscomercialescercanos esta limpiar; no perdemos mas datos."
   ]
  },
  {
   "cell_type": "markdown",
   "metadata": {},
   "source": [
    "### ¿Cuantas propiedades, en Mexico, tienen centros comerciales cercanos, segun la cantidad de garages?"
   ]
  },
  {
   "cell_type": "code",
   "execution_count": null,
   "metadata": {},
   "outputs": [],
   "source": [
    "garages_agrupados_centroscomercialescercanos_cantidad = zona_garages.groupby(['garages']).agg({'centroscomercialescercanos' : 'value_counts'})\n",
    "garages_agrupados_centroscomercialescercanos_cantidad.columns = ['cantidad_propiedades']\n",
    "garages_agrupados_centroscomercialescercanos_cantidad = garages_agrupados_centroscomercialescercanos_cantidad.reset_index()\n",
    "garages_agrupados_centroscomercialescercanos_cantidad.columns = ['garages', 'tiene_centroscomercialescercanos', 'cantidad_propiedades']\n",
    "garages_agrupados_centroscomercialescercanos_cantidad"
   ]
  },
  {
   "cell_type": "code",
   "execution_count": null,
   "metadata": {},
   "outputs": [],
   "source": [
    "plot_barplot_garages_centroscomercialescercanos = sns.barplot(\n",
    "                                                    x = 'garages',\n",
    "                                                    y = 'cantidad_propiedades',\n",
    "                                                    hue = 'tiene_centroscomercialescercanos',\n",
    "                                                    data = garages_agrupados_centroscomercialescercanos_cantidad\n",
    "                                                )\n",
    "# Titulo\n",
    "common.setear_titulos_plot(\n",
    "    plot_barplot_garages_centroscomercialescercanos,\n",
    "    'Barplot : \\nCantidad de propiedades, en Mexico, que tienen centros \\ncomerciales cercanos, segun la cantida de garages',\n",
    "    'Cantidad de garages',\n",
    "    'Cantidad de propiedades'\n",
    ")\n",
    "\n",
    "# Leyenda\n",
    "plot_barplot_garages_centroscomercialescercanos.legend(title = 'Tienen centros comerciales cercanos')\n",
    "\n",
    "plt.show()"
   ]
  },
  {
   "cell_type": "markdown",
   "metadata": {},
   "source": [
    "La relacion de haber o no  haber centros comerciales cercanos parece mantenerse sin variar mucho segun la cantidad de garages.  \n",
    "El grafico es similar al de garages-escuelascercanas, por lo que tal vez se pueda hallar una relacion alli.  "
   ]
  },
  {
   "cell_type": "markdown",
   "metadata": {},
   "source": [
    "## Garages-Precio"
   ]
  },
  {
   "cell_type": "markdown",
   "metadata": {},
   "source": [
    "### ¿Cuantos datos perdemos si descartamos garages NaN y garages con precio NaN?"
   ]
  },
  {
   "cell_type": "code",
   "execution_count": null,
   "metadata": {},
   "outputs": [],
   "source": [
    "zona_garages['precio'].isnull().sum()"
   ]
  },
  {
   "cell_type": "markdown",
   "metadata": {},
   "source": [
    "La columna de precio esta limpiar; no perdemos mas datos."
   ]
  },
  {
   "cell_type": "markdown",
   "metadata": {},
   "source": [
    "### ¿Como se distribuye el precio de las propiedades, en Mexico, segun la cantidad de garages?"
   ]
  },
  {
   "cell_type": "code",
   "execution_count": null,
   "metadata": {},
   "outputs": [],
   "source": [
    "garages_agrupados_precio_estadisticas = zona_garages.groupby(['garages']).agg({'precio' : [common.cuantil_1, 'median', common.cuantil_3]})\n",
    "garages_agrupados_precio_estadisticas.columns = garages_agrupados_precio_estadisticas.columns.get_level_values(0) \\\n",
    "                                                    + '_' +\\\n",
    "                                                    garages_agrupados_precio_estadisticas.columns.get_level_values(1)\n",
    "garages_agrupados_precio_estadisticas = garages_agrupados_precio_estadisticas.reset_index()\n",
    "garages_agrupados_precio_estadisticas"
   ]
  },
  {
   "cell_type": "code",
   "execution_count": null,
   "metadata": {},
   "outputs": [],
   "source": [
    "plot_boxplot_garages_precio = sns.boxplot(\n",
    "                                x = 'garages',\n",
    "                                y = 'precio',\n",
    "                                data = zona_garages\n",
    "                            )\n",
    "# Titulos\n",
    "common.setear_titulos_plot(\n",
    "    plot_boxplot_garages_precio,\n",
    "    'Boxplot : \\nDistribucion del precio de las propiedades, \\nen Mexico, segun la cantidad de garages',\n",
    "    'Cantidad de garages',\n",
    "    'Precio [pesos mexicanos]'\n",
    ")\n",
    "\n",
    "# Elimino notacion cientifica del eje y\n",
    "plot_boxplot_garages_precio.ticklabel_format(style = 'plain', axis = 'y')\n",
    "\n",
    "# Seteo limite en el eje y para mejorar visualizacion\n",
    "plot_boxplot_garages_precio.set_ylim(0,10600000)\n",
    "\n",
    "plt.show()"
   ]
  },
  {
   "cell_type": "code",
   "execution_count": null,
   "metadata": {},
   "outputs": [],
   "source": [
    "plot_boxplot_garages_0_1_precio = sns.boxplot(\n",
    "                                x = 'garages',\n",
    "                                y = 'precio',\n",
    "                                data = zona_garages.loc[zona_garages['garages'] <= 1]\n",
    "                            )\n",
    "# Titulos\n",
    "common.setear_titulos_plot(\n",
    "    plot_boxplot_garages_0_1_precio,\n",
    "    'Boxplot : \\nDistribucion del precio de las propiedades, \\nen Mexico, segun 0 y 1 garage',\n",
    "    'Cantidad de garages',\n",
    "    'Precio [pesos mexicanos]'\n",
    ")\n",
    "\n",
    "# Elimino notacion cientifica del eje y\n",
    "plot_boxplot_garages_0_1_precio.ticklabel_format(style = 'plain', axis = 'y')\n",
    "\n",
    "# Seteo limite en el eje y para mejorar visualizacion\n",
    "plot_boxplot_garages_0_1_precio.set_ylim(0,5500000)\n",
    "\n",
    "# Agrego cuantiles y mediaNA\n",
    "garages_0_1_agrupados_precio_estadisticas = garages_agrupados_precio_estadisticas.loc[garages_agrupados_precio_estadisticas['garages'] <= 1]\n",
    "common.agregar_serie_plot(\n",
    "    plot_boxplot_garages_0_1_precio,\n",
    "    garages_0_1_agrupados_precio_estadisticas['precio_cuantil_1'],\n",
    "    garages_0_1_agrupados_precio_estadisticas['precio_cuantil_1'],\n",
    "    'k',\n",
    "    -0.25, -250000\n",
    ")\n",
    "\n",
    "common.agregar_serie_plot(\n",
    "    plot_boxplot_garages_0_1_precio,\n",
    "    garages_0_1_agrupados_precio_estadisticas['precio_median'],\n",
    "    garages_0_1_agrupados_precio_estadisticas['precio_median'],\n",
    "    'w',\n",
    "    0, 50000\n",
    ")\n",
    "\n",
    "common.agregar_serie_plot(\n",
    "    plot_boxplot_garages_0_1_precio,\n",
    "    garages_0_1_agrupados_precio_estadisticas['precio_cuantil_3'],\n",
    "    garages_0_1_agrupados_precio_estadisticas['precio_cuantil_3'],\n",
    "    'k',\n",
    "    0.25, 50000\n",
    ")\n",
    "\n",
    "plt.show()"
   ]
  },
  {
   "cell_type": "code",
   "execution_count": null,
   "metadata": {},
   "outputs": [],
   "source": [
    "plot_boxplot_garages_2_3_precio = sns.boxplot(\n",
    "                                x = 'garages',\n",
    "                                y = 'precio',\n",
    "                                data = zona_garages.loc[zona_garages['garages'] > 1],\n",
    "                                palette = sns.color_palette(common.COLORES_BARRAS)[2:4]\n",
    "                            )\n",
    "# Titulos\n",
    "common.setear_titulos_plot(\n",
    "    plot_boxplot_garages_2_3_precio,\n",
    "    'Boxplot : \\nDistribucion del precio de las propiedades, \\nen Mexico, segun 2 y 3 garages',\n",
    "    'Cantidad de garages',\n",
    "    'Precio [pesos mexicanos]'\n",
    ")\n",
    "\n",
    "# Elimino notacion cientifica del eje y\n",
    "plot_boxplot_garages_2_3_precio.ticklabel_format(style = 'plain', axis = 'y')\n",
    "\n",
    "# Seteo limite en el eje y para mejorar visualizacion\n",
    "plot_boxplot_garages_2_3_precio.set_ylim(0,10600000)\n",
    "\n",
    "# Marco cuantiles y media\n",
    "garages_2_3_agrupados_precio_estadisticas = garages_agrupados_precio_estadisticas.loc[garages_agrupados_precio_estadisticas['garages'] > 1]\n",
    "common.agregar_serie_plot(\n",
    "    plot_boxplot_garages_2_3_precio,\n",
    "    garages_2_3_agrupados_precio_estadisticas['precio_cuantil_1'],\n",
    "    garages_2_3_agrupados_precio_estadisticas['precio_cuantil_1'],\n",
    "    'k',\n",
    "    -0.25, -600000\n",
    ")\n",
    "\n",
    "common.agregar_serie_plot(\n",
    "    plot_boxplot_garages_2_3_precio,\n",
    "    garages_2_3_agrupados_precio_estadisticas['precio_median'],\n",
    "    garages_2_3_agrupados_precio_estadisticas['precio_median'],\n",
    "    'w',\n",
    "    0, 120000\n",
    ")\n",
    "\n",
    "common.agregar_serie_plot(\n",
    "    plot_boxplot_garages_2_3_precio,\n",
    "    garages_2_3_agrupados_precio_estadisticas['precio_cuantil_3'],\n",
    "    garages_2_3_agrupados_precio_estadisticas['precio_cuantil_3'],\n",
    "    'k',\n",
    "    0.25, 120000\n",
    ")\n",
    "\n",
    "plt.show()"
   ]
  }
 ],
 "metadata": {
  "kernelspec": {
   "display_name": "Python 3",
   "language": "python",
   "name": "python3"
  },
  "language_info": {
   "codemirror_mode": {
    "name": "ipython",
    "version": 3
   },
   "file_extension": ".py",
   "mimetype": "text/x-python",
   "name": "python",
   "nbconvert_exporter": "python",
   "pygments_lexer": "ipython3",
   "version": "3.7.3"
  }
 },
 "nbformat": 4,
 "nbformat_minor": 2
}
