{
 "cells": [
  {
   "cell_type": "code",
   "execution_count": 1,
   "metadata": {},
   "outputs": [],
   "source": [
    "import pandas as pd\n",
    "import numpy as np\n",
    "import matplotlib.pyplot as plt\n",
    "import seaborn as sns\n",
    "from nltk.stem.snowball import SnowballStemmer\n",
    "from nltk.corpus import stopwords\n",
    "from PIL import Image\n",
    "from wordcloud import WordCloud, STOPWORDS, ImageColorGenerator\n",
    "import json\n",
    "import os"
   ]
  },
  {
   "cell_type": "code",
   "execution_count": 2,
   "metadata": {},
   "outputs": [],
   "source": [
    "df = pd.read_csv('train.csv')"
   ]
  },
  {
   "cell_type": "code",
   "execution_count": 3,
   "metadata": {},
   "outputs": [],
   "source": [
    "### Funciones Auxiliares ###\n",
    "\n",
    "\n",
    "\n",
    "def densidad_plot_comparativo(df, tipos, columna, caracteristica):\n",
    "    for col in tipos: \n",
    "        sns.distplot(df[df[columna] == col][caracteristica].dropna(), hist = False, label = col)\n",
    "    plt.ylabel('Densidad')\n",
    "    plt.title(f'Distribucion de {caracteristica} para diferentes tipos de propiedad')\n",
    "\n",
    "def definir_zona(lat):\n",
    "    if lat >= 25:\n",
    "        return 'Norte'\n",
    "    if lat < 20:\n",
    "        return 'Sur'\n",
    "    if 20 < lat < 25:\n",
    "        return 'Centro'\n",
    "    return np.nan\n",
    "\n",
    "def min_threshold(df, threshold):\n",
    "    '''Funcion para filtrar por una minima cantidad de datos'''\n",
    "    return df[\"ciudad\"].count() > threshold\n",
    "\n",
    "def generar_scatter(df,zona):\n",
    "    #plt.figure(figsize = (16,6))\n",
    "    for año in range(2012,2017):\n",
    "        nuevo_df = pd.DataFrame()\n",
    "        info = df.loc[lambda x:(x['año_publicacion'] == año)]\\\n",
    "                                            .groupby(['mes_publicacion','año_publicacion'])\n",
    "        info = info.agg({'precio':'sum', 'metroscubiertos':'sum', 'mes_publicacion':'count'})\n",
    "        plt.scatter(info['mes_publicacion'],info['precio']/info['metroscubiertos'], label = año)\n",
    "        plt.ylabel('Precio')\n",
    "        plt.xlabel('Cantidad de publicaciones por mes')\n",
    "        plt.title(f'Relacion oferta/precio por metro cuadrado promedio para zona {zona}')\n",
    "        plt.legend(loc = 'lower right')\n",
    "    plt.tight_layout()\n",
    "    plt.savefig(f'./figs/scatter_oferta_precio_zona_{zona}.jpg')\n",
    "\n",
    "def barplot_para_no_bools_zonal(df, categoria):\n",
    "    aux = df.groupby(['zona', categoria]).agg({'precio':'sum', 'metroscubiertos':'sum'})\n",
    "    aux['promedio_precio_metro_cubierto'] = aux['precio']/aux['metroscubiertos']\n",
    "    ax = sns.barplot(x = 'zona', y = 'promedio_precio_metro_cubierto', hue = categoria, order = ['Norte', 'Centro', 'Sur'], data = aux.reset_index())\n",
    "    handles, labels = ax.get_legend_handles_labels()\n",
    "    ax.legend(handles, labels)\n",
    "    plt.title(f'Precio promedio por metro cubierto\\n para una cantidad de {categoria} segun zona')\n",
    "    plt.xlabel('')\n",
    "    plt.ylabel('Precio')\n",
    "    plt.savefig(f'./figs/{categoria}-Metrocubierto-Precio barplot.jpg')\n",
    "\n",
    "def get_frequency(palabras):\n",
    "    spanish_stemmer = SnowballStemmer('spanish')\n",
    "\n",
    "    distancias = {}\n",
    "    apariciones = {}\n",
    "\n",
    "    for palabra in palabras:\n",
    "        raiz = spanish_stemmer.stem(palabra)\n",
    "        distancias[raiz] = distancias.get(raiz,{}) #get_closest_word(raiz, distances.get(stemmed_word, palabra), palabra)\n",
    "        distancias[raiz][palabra] = distancias[raiz].get(palabra, 0) + 1\n",
    "        apariciones[raiz] = apariciones.get(raiz, 0) + 1\n",
    "    \n",
    "    representantes = {}\n",
    "    for raiz in apariciones:\n",
    "        representantes[raiz] = max(list(distancias[raiz].items()), key = lambda x:x[1])[0]\n",
    "              \n",
    "    return {representantes[raiz]:apariciones[raiz] for raiz in distancias}\n",
    "\n",
    "def get_palabras_descripciones(df):\n",
    "    palabras = []\n",
    "    for texto in list(df['descripcion']):\n",
    "        texto = str(texto)\n",
    "        for palabra in texto.split():\n",
    "            aux = ''\n",
    "            for letra in palabra:\n",
    "                if letra.isalpha():\n",
    "                    aux+=letra\n",
    "            if aux:\n",
    "                palabras.append(aux)\n",
    "    return palabras\n"
   ]
  },
  {
   "cell_type": "markdown",
   "metadata": {},
   "source": [
    "# Setup"
   ]
  },
  {
   "cell_type": "code",
   "execution_count": 4,
   "metadata": {},
   "outputs": [],
   "source": [
    "df[\"fecha_publicacion\"] = pd.to_datetime(df[\"fecha\"])\n",
    "df[\"año_publicacion\"] = df[\"fecha_publicacion\"].dt.year\n",
    "df[\"mes_publicacion\"] = df[\"fecha_publicacion\"].dt.month"
   ]
  },
  {
   "cell_type": "markdown",
   "metadata": {},
   "source": [
    "# Wordcloud (Descripciones)"
   ]
  },
  {
   "cell_type": "code",
   "execution_count": 5,
   "metadata": {},
   "outputs": [],
   "source": [
    "df_wc = df[['descripcion']]"
   ]
  },
  {
   "cell_type": "markdown",
   "metadata": {},
   "source": [
    "## Filtrado de palabras"
   ]
  },
  {
   "cell_type": "code",
   "execution_count": null,
   "metadata": {},
   "outputs": [],
   "source": [
    "stop_words_sp = set(stopwords.words('spanish'))\n",
    "stop_words_en = set(stopwords.words('english'))\n",
    "stopwords = stop_words_sp | stop_words_en\n",
    "stopwords.add('para')\n",
    "spanish_stemmer = SnowballStemmer('spanish')\n",
    "stopwords = set(map(spanish_stemmer.stem, stopwords))\n",
    "\n",
    "palabras = get_palabras_descripciones(df)\n",
    "\n",
    "if not os.path.isfile('wordcloud.json'): # Evito que se generen las frecuencias si ya estan cargadas en el archivo de wordcloud\n",
    "    frecuencias = get_frequency(palabras)\n",
    "    with open('wordcloud.json', 'w') as f:\n",
    "        f.write(json.dumps(frecuencias))\n",
    "\n",
    "with open('wordcloud.json') as f:\n",
    "    frecuencias = json.loads(f.read())\n",
    "    \n",
    "palabras_filtradas = dict(filter(lambda k:spanish_stemmer.stem(k[0].lower()) not in stopwords, frecuencias.items()))"
   ]
  },
  {
   "cell_type": "markdown",
   "metadata": {},
   "source": [
    "## Wordcloud base"
   ]
  },
  {
   "cell_type": "code",
   "execution_count": null,
   "metadata": {},
   "outputs": [],
   "source": [
    "wordcloud = WordCloud(width=800,height=400, max_words=400, background_color=\"white\").generate_from_frequencies(palabras_filtradas)\n",
    "plt.figure(figsize=(18,12))\n",
    "plt.imshow(wordcloud, interpolation='bilinear')\n",
    "plt.axis(\"off\")\n",
    "plt.savefig('./figs/wordcloud_basica.png')\n",
    "plt.show()"
   ]
  },
  {
   "cell_type": "markdown",
   "metadata": {},
   "source": [
    "## Wordcloud bandera"
   ]
  },
  {
   "cell_type": "code",
   "execution_count": null,
   "metadata": {},
   "outputs": [],
   "source": [
    "mask = np.array(Image.open(\"mexico.png\"))\n",
    "wordcloud = WordCloud(width=800,height=400, max_words=400, mode=\"RGBA\", background_color=\"white\", mask = mask).generate_from_frequencies(palabras_filtradas)\n",
    "image_colors = ImageColorGenerator(mask)\n",
    "plt.figure(figsize=(18,12))\n",
    "plt.imshow(wordcloud.recolor(color_func=image_colors), interpolation=\"bilinear\")\n",
    "plt.axis(\"off\")\n",
    "plt.savefig('./figs/wordcloud_mexico.png')\n",
    "plt.show()"
   ]
  },
  {
   "cell_type": "markdown",
   "metadata": {},
   "source": [
    "# Distribuciones"
   ]
  },
  {
   "cell_type": "markdown",
   "metadata": {},
   "source": [
    "## Antiguedad"
   ]
  },
  {
   "cell_type": "code",
   "execution_count": null,
   "metadata": {},
   "outputs": [],
   "source": [
    "tipos_comunes = ['Casa', 'Local Comercial', 'Oficina comercial', 'Terreno', 'Apartamento', 'Casa en condominio']\n",
    "densidad_plot_comparativo(df, tipos_comunes, 'tipodepropiedad', 'antiguedad')\n",
    "plt.savefig('./figs/distribucion_antiguedad_2.png')"
   ]
  },
  {
   "cell_type": "code",
   "execution_count": null,
   "metadata": {},
   "outputs": [],
   "source": [
    "tipos_comunes = ['Casa', 'Local Comercial', 'Oficina comercial']\n",
    "densidad_plot_comparativo(df, tipos_comunes, 'tipodepropiedad', 'antiguedad')\n",
    "plt.savefig('./figs/distribucion_antiguedad_1.png')"
   ]
  },
  {
   "cell_type": "markdown",
   "metadata": {},
   "source": [
    "## Precio"
   ]
  },
  {
   "cell_type": "code",
   "execution_count": null,
   "metadata": {},
   "outputs": [],
   "source": [
    "tipos_comunes.append('Apartamento')\n",
    "tipos_comunes.append('Casa en condominio')\n",
    "precios = df['precio'].copy()\n",
    "df['precio'] = df['precio'].transform(lambda x:x/100000)\n",
    "densidad_plot_comparativo(df, tipos_comunes, 'tipodepropiedad', 'precio')\n",
    "df['precio'] = precios\n",
    "plt.xlabel('Precio en cientos de miles de pesos mexicanos')\n",
    "plt.savefig('./figs/distribucion_precios.png')\n",
    "plt.show()"
   ]
  },
  {
   "cell_type": "markdown",
   "metadata": {},
   "source": [
    "# Tiempo"
   ]
  },
  {
   "cell_type": "code",
   "execution_count": null,
   "metadata": {},
   "outputs": [],
   "source": [
    "fechas = df.groupby(['año_publicacion', 'mes_publicacion']).agg({'mes_publicacion': 'size'})\n",
    "fechas = fechas.rename(columns = {'mes_publicacion':'publicaciones'})\n",
    "fechas = fechas.reset_index().pivot(index=\"año_publicacion\", columns = \"mes_publicacion\", values = \"publicaciones\")\n",
    "fechas = fechas.T\n",
    "for año in fechas.columns:\n",
    "    fechas[año]/=fechas[año].sum()"
   ]
  },
  {
   "cell_type": "code",
   "execution_count": null,
   "metadata": {},
   "outputs": [],
   "source": [
    "ax = sns.heatmap(fechas.T, cmap=\"Oranges\")\n",
    "ax.set_yticklabels(ax.get_yticklabels(), rotation=10)\n",
    "plt.title(\"Distribucion porcentual de publicaciones por mes y año\")\n",
    "plt.xlabel(\"Mes de publicacion\")\n",
    "plt.ylabel(\"Año de publicacion\")\n",
    "ax.set_ylim(5.0, 0)\n",
    "plt.savefig(\"figs/heatmap_fechas.png\")\n",
    "plt.show()"
   ]
  },
  {
   "cell_type": "code",
   "execution_count": null,
   "metadata": {},
   "outputs": [],
   "source": [
    "diciembre = df.loc[lambda x:(x['año_publicacion'] == 2016) & (x['mes_publicacion'] == 12), ['fecha_publicacion','id']]\n",
    "diciembre['dia']=diciembre['fecha_publicacion'].dt.day\n",
    "diciembre = diciembre.groupby('dia').count().reset_index()\n",
    "diciembre.rename(columns = {'id':'publicaciones'}, inplace = True)"
   ]
  },
  {
   "cell_type": "code",
   "execution_count": null,
   "metadata": {},
   "outputs": [],
   "source": [
    "sns.lineplot(x = diciembre['dia'], y = diciembre['publicaciones'])\n",
    "plt.title('Cantidad de publicaciones por dia\\n en diciembre de 2016')\n",
    "plt.savefig('./figs/diciembre_2016.png')"
   ]
  },
  {
   "cell_type": "markdown",
   "metadata": {},
   "source": [
    "# Metros cubiertos"
   ]
  },
  {
   "cell_type": "code",
   "execution_count": null,
   "metadata": {},
   "outputs": [],
   "source": [
    "df2 = df.dropna(subset = ['metroscubiertos','metrostotales'])\n",
    "metros = df2.loc[(df['metroscubiertos'] < 250) & (df['metrostotales'] < 250),]\n",
    "m_totales = metros['metrostotales']\n",
    "m_cubiertos = metros['metroscubiertos']\n",
    "sns.kdeplot(m_cubiertos, m_totales, cmap=\"Blues\", shade=True, bw=.15)\n",
    "plt.title('Relacion metros totales y metros cubiertos')\n",
    "plt.tight_layout()\n",
    "plt.savefig('./figs/densidad_metroscubierto_con_metrostotales.png')"
   ]
  },
  {
   "cell_type": "markdown",
   "metadata": {},
   "source": [
    "# Zonas"
   ]
  },
  {
   "cell_type": "markdown",
   "metadata": {},
   "source": [
    "## Setup"
   ]
  },
  {
   "cell_type": "code",
   "execution_count": null,
   "metadata": {},
   "outputs": [],
   "source": [
    "zonas = df.set_index('ciudad')['lat'].transform(definir_zona)\n",
    "aux = df.loc[:,['ciudad']]\n",
    "aux['zona'] = df['lat'].transform(definir_zona)\n",
    "aux['cant'] = 1\n",
    "\n",
    "df2 = aux.groupby(['ciudad','zona']).agg({'cant':'count'}).reset_index()\n",
    "df2 = df2[df2.groupby('ciudad')['cant'].transform('max') == df2['cant']].loc[:,['ciudad','zona']].set_index('ciudad')\n",
    "\n",
    "df_zonas = df2.merge(df, on = 'ciudad', how = 'inner')\n",
    "sin_diciembre = df_zonas.loc[lambda x:(x['año_publicacion'] != 2016) | (x['mes_publicacion'] != 12), ['mes_publicacion','año_publicacion','zona','precio','metroscubiertos']]\n",
    "\n",
    "df2 = df_zonas.loc[lambda x:(x['año_publicacion'] != 2016) | (x['mes_publicacion'] != 12),]\n",
    "evolucion_zonal = df2.groupby(['año_publicacion', 'mes_publicacion','zona']).agg({'id':'count'}).reset_index()\n",
    "evolucion_por_zona = [evolucion_zonal.loc[evolucion_zonal['zona'] == 'Norte',]['id'],\\\n",
    "                      evolucion_zonal.loc[evolucion_zonal['zona'] == 'Centro',]['id'],\\\n",
    "                      evolucion_zonal.loc[evolucion_zonal['zona'] == 'Sur',]['id']]"
   ]
  },
  {
   "cell_type": "markdown",
   "metadata": {},
   "source": [
    "## Precios"
   ]
  },
  {
   "cell_type": "code",
   "execution_count": null,
   "metadata": {},
   "outputs": [],
   "source": [
    "precio_zonal = df_zonas.groupby('zona').agg({'precio':'sum', 'metroscubiertos':'sum', 'id':'count'})\n",
    "precio_zonal['promedio_precio_metro_cubierto'] = precio_zonal['precio']/precio_zonal['metroscubiertos']\n",
    "sns.barplot(y = 'zona', x = 'promedio_precio_metro_cubierto', \\\n",
    "            data = precio_zonal.reset_index()\\\n",
    "                               .sort_values(by='promedio_precio_metro_cubierto', ascending = False))\n",
    "plt.title('Precio del metro cuadrado promedio por zona')\n",
    "plt.xlabel('Precio')\n",
    "plt.savefig('./figs/precio_metro_cubierto_zonal.png')"
   ]
  },
  {
   "cell_type": "code",
   "execution_count": null,
   "metadata": {},
   "outputs": [],
   "source": [
    "for zona in sin_diciembre['zona'].unique():\n",
    "    generar_scatter_zonal_oferta(sin_diciembre.loc[lambda x:x['zona'] == zona,], zona)\n",
    "    plt.show()"
   ]
  },
  {
   "cell_type": "code",
   "execution_count": null,
   "metadata": {},
   "outputs": [],
   "source": [
    "fig, ax = plt.subplots()\n",
    "ax.stackplot(range(59), evolucion_por_zona[::-1] ,labels = evolucion_zonal['zona'].unique())\n",
    "plt.title('Cantidad de propiedades por zona a lo largo del tiempo')\n",
    "handles, labels = ax.get_legend_handles_labels()\n",
    "order = [2,1,0]\n",
    "plt.legend([handles[idx] for idx in order],['Norte', 'Centro', 'Sur'], loc = 'upper left')\n",
    "plt.xlabel('Tiempo en meses desde enero de 2012')\n",
    "plt.tight_layout()\n",
    "fig.savefig('./figs/Evolucion_cantidad_de_publicaciones_zonal_tiempo.png')\n",
    "plt.show()"
   ]
  },
  {
   "cell_type": "code",
   "execution_count": null,
   "metadata": {},
   "outputs": [],
   "source": [
    "for tipo in ['garages', 'banos']:\n",
    "    barplot_para_no_bools_zonal(df_zonas, tipo)\n",
    "    plt.tight_layout()\n",
    "    plt.savefig(f'./figs/precio_{tipo}_zonal.png')\n",
    "    plt.show()"
   ]
  },
  {
   "cell_type": "code",
   "execution_count": null,
   "metadata": {},
   "outputs": [],
   "source": []
  }
 ],
 "metadata": {
  "kernelspec": {
   "display_name": "Python 3",
   "language": "python",
   "name": "python3"
  },
  "language_info": {
   "codemirror_mode": {
    "name": "ipython",
    "version": 3
   },
   "file_extension": ".py",
   "mimetype": "text/x-python",
   "name": "python",
   "nbconvert_exporter": "python",
   "pygments_lexer": "ipython3",
   "version": "3.6.0"
  }
 },
 "nbformat": 4,
 "nbformat_minor": 2
}
