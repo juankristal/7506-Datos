{
 "cells": [
  {
   "cell_type": "code",
   "execution_count": 1,
   "metadata": {},
   "outputs": [],
   "source": [
    "import pandas as pd\n",
    "import matplotlib.pyplot as plt"
   ]
  },
  {
   "cell_type": "markdown",
   "metadata": {},
   "source": [
    "# Comienzo el analisis"
   ]
  },
  {
   "cell_type": "code",
   "execution_count": 2,
   "metadata": {},
   "outputs": [
    {
     "data": {
      "text/html": [
       "<div>\n",
       "<style scoped>\n",
       "    .dataframe tbody tr th:only-of-type {\n",
       "        vertical-align: middle;\n",
       "    }\n",
       "\n",
       "    .dataframe tbody tr th {\n",
       "        vertical-align: top;\n",
       "    }\n",
       "\n",
       "    .dataframe thead th {\n",
       "        text-align: right;\n",
       "    }\n",
       "</style>\n",
       "<table border=\"1\" class=\"dataframe\">\n",
       "  <thead>\n",
       "    <tr style=\"text-align: right;\">\n",
       "      <th></th>\n",
       "      <th>id</th>\n",
       "      <th>titulo</th>\n",
       "      <th>descripcion</th>\n",
       "      <th>tipodepropiedad</th>\n",
       "      <th>direccion</th>\n",
       "      <th>ciudad</th>\n",
       "      <th>provincia</th>\n",
       "      <th>antiguedad</th>\n",
       "      <th>habitaciones</th>\n",
       "      <th>garages</th>\n",
       "      <th>...</th>\n",
       "      <th>idzona</th>\n",
       "      <th>lat</th>\n",
       "      <th>lng</th>\n",
       "      <th>fecha</th>\n",
       "      <th>gimnasio</th>\n",
       "      <th>usosmultiples</th>\n",
       "      <th>piscina</th>\n",
       "      <th>escuelascercanas</th>\n",
       "      <th>centroscomercialescercanos</th>\n",
       "      <th>precio</th>\n",
       "    </tr>\n",
       "  </thead>\n",
       "  <tbody>\n",
       "    <tr>\n",
       "      <td>0</td>\n",
       "      <td>254099</td>\n",
       "      <td>depto. tipo a-402</td>\n",
       "      <td>depto. interior de 80.15m2, consta de sala com...</td>\n",
       "      <td>Apartamento</td>\n",
       "      <td>Avenida Division del Norte 2005</td>\n",
       "      <td>Benito Juárez</td>\n",
       "      <td>Distrito Federal</td>\n",
       "      <td>NaN</td>\n",
       "      <td>2.0</td>\n",
       "      <td>1.0</td>\n",
       "      <td>...</td>\n",
       "      <td>23533.0</td>\n",
       "      <td>NaN</td>\n",
       "      <td>NaN</td>\n",
       "      <td>2015-08-23 00:00:00</td>\n",
       "      <td>0.0</td>\n",
       "      <td>0.0</td>\n",
       "      <td>0.0</td>\n",
       "      <td>0.0</td>\n",
       "      <td>0.0</td>\n",
       "      <td>2273000.0</td>\n",
       "    </tr>\n",
       "    <tr>\n",
       "      <td>1</td>\n",
       "      <td>53461</td>\n",
       "      <td>condominio horizontal en venta</td>\n",
       "      <td>&lt;p&gt;entre sonora y guerrero, atr&amp;aacute;s del h...</td>\n",
       "      <td>Casa en condominio</td>\n",
       "      <td>AV. MEXICO</td>\n",
       "      <td>La Magdalena Contreras</td>\n",
       "      <td>Distrito Federal</td>\n",
       "      <td>10.0</td>\n",
       "      <td>3.0</td>\n",
       "      <td>2.0</td>\n",
       "      <td>...</td>\n",
       "      <td>24514.0</td>\n",
       "      <td>19.310205</td>\n",
       "      <td>-99.227655</td>\n",
       "      <td>2013-06-28 00:00:00</td>\n",
       "      <td>0.0</td>\n",
       "      <td>0.0</td>\n",
       "      <td>0.0</td>\n",
       "      <td>1.0</td>\n",
       "      <td>1.0</td>\n",
       "      <td>3600000.0</td>\n",
       "    </tr>\n",
       "    <tr>\n",
       "      <td>2</td>\n",
       "      <td>247984</td>\n",
       "      <td>casa en venta urbi 3 recamaras tonala</td>\n",
       "      <td>descripcion \\nla mejor ubicacion residencial e...</td>\n",
       "      <td>Casa</td>\n",
       "      <td>Urbi Tonala</td>\n",
       "      <td>Tonalá</td>\n",
       "      <td>Jalisco</td>\n",
       "      <td>5.0</td>\n",
       "      <td>3.0</td>\n",
       "      <td>2.0</td>\n",
       "      <td>...</td>\n",
       "      <td>48551.0</td>\n",
       "      <td>NaN</td>\n",
       "      <td>NaN</td>\n",
       "      <td>2015-10-17 00:00:00</td>\n",
       "      <td>0.0</td>\n",
       "      <td>0.0</td>\n",
       "      <td>0.0</td>\n",
       "      <td>0.0</td>\n",
       "      <td>0.0</td>\n",
       "      <td>1200000.0</td>\n",
       "    </tr>\n",
       "    <tr>\n",
       "      <td>3</td>\n",
       "      <td>209067</td>\n",
       "      <td>casa sola en toluca zinacantepec con credito i...</td>\n",
       "      <td>casa en privada con caseta de vigilancia casas...</td>\n",
       "      <td>Casa</td>\n",
       "      <td>IGNACIO MANUEL ALTAMIRANO 128</td>\n",
       "      <td>Zinacantepec</td>\n",
       "      <td>Edo. de México</td>\n",
       "      <td>1.0</td>\n",
       "      <td>2.0</td>\n",
       "      <td>1.0</td>\n",
       "      <td>...</td>\n",
       "      <td>53666.0</td>\n",
       "      <td>19.301890</td>\n",
       "      <td>-99.688015</td>\n",
       "      <td>2012-03-09 00:00:00</td>\n",
       "      <td>0.0</td>\n",
       "      <td>0.0</td>\n",
       "      <td>0.0</td>\n",
       "      <td>1.0</td>\n",
       "      <td>1.0</td>\n",
       "      <td>650000.0</td>\n",
       "    </tr>\n",
       "    <tr>\n",
       "      <td>4</td>\n",
       "      <td>185997</td>\n",
       "      <td>paseos del sol</td>\n",
       "      <td>bonito departamento en excelentes condiciones ...</td>\n",
       "      <td>Apartamento</td>\n",
       "      <td>PASEOS DEL SOL</td>\n",
       "      <td>Zapopan</td>\n",
       "      <td>Jalisco</td>\n",
       "      <td>10.0</td>\n",
       "      <td>2.0</td>\n",
       "      <td>1.0</td>\n",
       "      <td>...</td>\n",
       "      <td>47835.0</td>\n",
       "      <td>NaN</td>\n",
       "      <td>NaN</td>\n",
       "      <td>2016-06-07 00:00:00</td>\n",
       "      <td>0.0</td>\n",
       "      <td>0.0</td>\n",
       "      <td>0.0</td>\n",
       "      <td>0.0</td>\n",
       "      <td>0.0</td>\n",
       "      <td>1150000.0</td>\n",
       "    </tr>\n",
       "  </tbody>\n",
       "</table>\n",
       "<p>5 rows × 23 columns</p>\n",
       "</div>"
      ],
      "text/plain": [
       "       id                                             titulo  \\\n",
       "0  254099                                  depto. tipo a-402   \n",
       "1   53461                     condominio horizontal en venta   \n",
       "2  247984              casa en venta urbi 3 recamaras tonala   \n",
       "3  209067  casa sola en toluca zinacantepec con credito i...   \n",
       "4  185997                                     paseos del sol   \n",
       "\n",
       "                                         descripcion     tipodepropiedad  \\\n",
       "0  depto. interior de 80.15m2, consta de sala com...         Apartamento   \n",
       "1  <p>entre sonora y guerrero, atr&aacute;s del h...  Casa en condominio   \n",
       "2  descripcion \\nla mejor ubicacion residencial e...                Casa   \n",
       "3  casa en privada con caseta de vigilancia casas...                Casa   \n",
       "4  bonito departamento en excelentes condiciones ...         Apartamento   \n",
       "\n",
       "                         direccion                  ciudad         provincia  \\\n",
       "0  Avenida Division del Norte 2005           Benito Juárez  Distrito Federal   \n",
       "1                       AV. MEXICO  La Magdalena Contreras  Distrito Federal   \n",
       "2                      Urbi Tonala                  Tonalá           Jalisco   \n",
       "3    IGNACIO MANUEL ALTAMIRANO 128            Zinacantepec    Edo. de México   \n",
       "4                  PASEOS DEL SOL                  Zapopan           Jalisco   \n",
       "\n",
       "   antiguedad  habitaciones  garages  ...   idzona        lat        lng  \\\n",
       "0         NaN           2.0      1.0  ...  23533.0        NaN        NaN   \n",
       "1        10.0           3.0      2.0  ...  24514.0  19.310205 -99.227655   \n",
       "2         5.0           3.0      2.0  ...  48551.0        NaN        NaN   \n",
       "3         1.0           2.0      1.0  ...  53666.0  19.301890 -99.688015   \n",
       "4        10.0           2.0      1.0  ...  47835.0        NaN        NaN   \n",
       "\n",
       "                 fecha  gimnasio  usosmultiples piscina  escuelascercanas  \\\n",
       "0  2015-08-23 00:00:00       0.0            0.0     0.0               0.0   \n",
       "1  2013-06-28 00:00:00       0.0            0.0     0.0               1.0   \n",
       "2  2015-10-17 00:00:00       0.0            0.0     0.0               0.0   \n",
       "3  2012-03-09 00:00:00       0.0            0.0     0.0               1.0   \n",
       "4  2016-06-07 00:00:00       0.0            0.0     0.0               0.0   \n",
       "\n",
       "   centroscomercialescercanos     precio  \n",
       "0                         0.0  2273000.0  \n",
       "1                         1.0  3600000.0  \n",
       "2                         0.0  1200000.0  \n",
       "3                         1.0   650000.0  \n",
       "4                         0.0  1150000.0  \n",
       "\n",
       "[5 rows x 23 columns]"
      ]
     },
     "execution_count": 2,
     "metadata": {},
     "output_type": "execute_result"
    }
   ],
   "source": [
    "df = pd.read_csv('train.csv')\n",
    "df.head()"
   ]
  },
  {
   "cell_type": "markdown",
   "metadata": {},
   "source": [
    "## Analisis de tamaño y columnas"
   ]
  },
  {
   "cell_type": "code",
   "execution_count": 3,
   "metadata": {},
   "outputs": [
    {
     "data": {
      "text/plain": [
       "Index(['id', 'titulo', 'descripcion', 'tipodepropiedad', 'direccion', 'ciudad',\n",
       "       'provincia', 'antiguedad', 'habitaciones', 'garages', 'banos',\n",
       "       'metroscubiertos', 'metrostotales', 'idzona', 'lat', 'lng', 'fecha',\n",
       "       'gimnasio', 'usosmultiples', 'piscina', 'escuelascercanas',\n",
       "       'centroscomercialescercanos', 'precio'],\n",
       "      dtype='object')"
      ]
     },
     "execution_count": 3,
     "metadata": {},
     "output_type": "execute_result"
    }
   ],
   "source": [
    "df.columns"
   ]
  },
  {
   "cell_type": "code",
   "execution_count": 4,
   "metadata": {},
   "outputs": [
    {
     "name": "stdout",
     "output_type": "stream",
     "text": [
      "<class 'pandas.core.frame.DataFrame'>\n",
      "RangeIndex: 240000 entries, 0 to 239999\n",
      "Data columns (total 23 columns):\n",
      "id                            240000 non-null int64\n",
      "titulo                        234613 non-null object\n",
      "descripcion                   238381 non-null object\n",
      "tipodepropiedad               239954 non-null object\n",
      "direccion                     186928 non-null object\n",
      "ciudad                        239628 non-null object\n",
      "provincia                     239845 non-null object\n",
      "antiguedad                    196445 non-null float64\n",
      "habitaciones                  217529 non-null float64\n",
      "garages                       202235 non-null float64\n",
      "banos                         213779 non-null float64\n",
      "metroscubiertos               222600 non-null float64\n",
      "metrostotales                 188533 non-null float64\n",
      "idzona                        211379 non-null float64\n",
      "lat                           116512 non-null float64\n",
      "lng                           116512 non-null float64\n",
      "fecha                         240000 non-null object\n",
      "gimnasio                      240000 non-null float64\n",
      "usosmultiples                 240000 non-null float64\n",
      "piscina                       240000 non-null float64\n",
      "escuelascercanas              240000 non-null float64\n",
      "centroscomercialescercanos    240000 non-null float64\n",
      "precio                        240000 non-null float64\n",
      "dtypes: float64(15), int64(1), object(7)\n",
      "memory usage: 42.1+ MB\n"
     ]
    }
   ],
   "source": [
    "df.shape\n",
    "df.info()"
   ]
  },
  {
   "cell_type": "markdown",
   "metadata": {},
   "source": [
    "## Testeo de lambdas y minor plotting"
   ]
  },
  {
   "cell_type": "code",
   "execution_count": 5,
   "metadata": {},
   "outputs": [
    {
     "name": "stdout",
     "output_type": "stream",
     "text": [
      "2605529.0 2481760.0\n"
     ]
    }
   ],
   "source": [
    "promedio_comercio = round(df.loc[lambda row:row[\"centroscomercialescercanos\"] == 1, \"precio\"].mean())\n",
    "promedio_sin_comercio = round(df.loc[lambda row:row[\"centroscomercialescercanos\"] == 0, \"precio\" ].mean())\n",
    "print(promedio_comercio, promedio_sin_comercio)\n"
   ]
  },
  {
   "cell_type": "code",
   "execution_count": 6,
   "metadata": {},
   "outputs": [
    {
     "data": {
      "image/png": "[encoded data removed]",
      "text/plain": [
       "<Figure size 432x288 with 1 Axes>"
      ]
     },
     "metadata": {
      "needs_background": "light"
     },
     "output_type": "display_data"
    },
    {
     "data": {
      "image/png": "[encoded data removed]",
      "text/plain": [
       "<Figure size 432x288 with 1 Axes>"
      ]
     },
     "metadata": {
      "needs_background": "light"
     },
     "output_type": "display_data"
    },
    {
     "data": {
      "image/png": "[encoded data removed]",
      "text/plain": [
       "<Figure size 432x288 with 1 Axes>"
      ]
     },
     "metadata": {
      "needs_background": "light"
     },
     "output_type": "display_data"
    },
    {
     "data": {
      "image/png": "[encoded data removed]",
      "text/plain": [
       "<Figure size 432x288 with 1 Axes>"
      ]
     },
     "metadata": {
      "needs_background": "light"
     },
     "output_type": "display_data"
    }
   ],
   "source": [
    "d = {}\n",
    "for tipo in df[\"tipodepropiedad\"].dropna().unique():\n",
    "    dfa = df.loc[lambda row:row[\"tipodepropiedad\"] == tipo, \"precio\"]\n",
    "    d[tipo] = {\"mean\":round(dfa.mean()),\n",
    "               \"max\":round(dfa.max()),\n",
    "               \"min\":round(dfa.min()),\n",
    "               \"median\":round(dfa.median())}\n",
    "l = [pd.DataFrame({stat: [d[tipo][stat] for tipo in d]}, index = list(d.keys())).plot.bar() for stat in d[\"Casa\"]]"
   ]
  },
  {
   "cell_type": "markdown",
   "metadata": {},
   "source": [
    "## Ejercitacion de groupby"
   ]
  },
  {
   "cell_type": "code",
   "execution_count": 7,
   "metadata": {},
   "outputs": [
    {
     "name": "stdout",
     "output_type": "stream",
     "text": [
      "                                        precio           \n",
      "                                          mean        max\n",
      "ciudad            tipodepropiedad                        \n",
      "Abalá             Terreno             315000.0   315000.0\n",
      "Abasolo           Casa               1651525.0  2500000.0\n",
      "                  Casa uso de suelo  4590000.0  8500000.0\n",
      "Abejones          Casa               2500000.0  2500000.0\n",
      "Acajete           Apartamento        2368686.0  2368686.0\n",
      "...                                        ...        ...\n",
      "ácaxochitlán      Terreno comercial  8000000.0  8000000.0\n",
      "ácámbaro          Casa               1760000.0  2500000.0\n",
      "                  Local Comercial    8000000.0  8000000.0\n",
      "áutlán de Navarro Casa               1199000.0  1199000.0\n",
      "áyotlán           Casa               3800000.0  3800000.0\n",
      "\n",
      "[3191 rows x 2 columns]\n"
     ]
    }
   ],
   "source": [
    "grouped = df.groupby([\"ciudad\",\"tipodepropiedad\"]).agg({\"precio\": [\"mean\", \"max\"]})\n",
    "print(grouped)"
   ]
  },
  {
   "cell_type": "code",
   "execution_count": 8,
   "metadata": {},
   "outputs": [
    {
     "data": {
      "text/html": [
       "<div>\n",
       "<style scoped>\n",
       "    .dataframe tbody tr th:only-of-type {\n",
       "        vertical-align: middle;\n",
       "    }\n",
       "\n",
       "    .dataframe tbody tr th {\n",
       "        vertical-align: top;\n",
       "    }\n",
       "\n",
       "    .dataframe thead th {\n",
       "        text-align: right;\n",
       "    }\n",
       "</style>\n",
       "<table border=\"1\" class=\"dataframe\">\n",
       "  <thead>\n",
       "    <tr style=\"text-align: right;\">\n",
       "      <th></th>\n",
       "      <th></th>\n",
       "      <th>precio_mean</th>\n",
       "      <th>precio_max</th>\n",
       "    </tr>\n",
       "    <tr>\n",
       "      <th>ciudad</th>\n",
       "      <th>tipodepropiedad</th>\n",
       "      <th></th>\n",
       "      <th></th>\n",
       "    </tr>\n",
       "  </thead>\n",
       "  <tbody>\n",
       "    <tr>\n",
       "      <td>Abalá</td>\n",
       "      <td>Terreno</td>\n",
       "      <td>315000.0</td>\n",
       "      <td>315000.0</td>\n",
       "    </tr>\n",
       "    <tr>\n",
       "      <td rowspan=\"2\" valign=\"top\">Abasolo</td>\n",
       "      <td>Casa</td>\n",
       "      <td>1651525.0</td>\n",
       "      <td>2500000.0</td>\n",
       "    </tr>\n",
       "    <tr>\n",
       "      <td>Casa uso de suelo</td>\n",
       "      <td>4590000.0</td>\n",
       "      <td>8500000.0</td>\n",
       "    </tr>\n",
       "    <tr>\n",
       "      <td>Abejones</td>\n",
       "      <td>Casa</td>\n",
       "      <td>2500000.0</td>\n",
       "      <td>2500000.0</td>\n",
       "    </tr>\n",
       "    <tr>\n",
       "      <td>Acajete</td>\n",
       "      <td>Apartamento</td>\n",
       "      <td>2368686.0</td>\n",
       "      <td>2368686.0</td>\n",
       "    </tr>\n",
       "    <tr>\n",
       "      <td>...</td>\n",
       "      <td>...</td>\n",
       "      <td>...</td>\n",
       "      <td>...</td>\n",
       "    </tr>\n",
       "    <tr>\n",
       "      <td>ácaxochitlán</td>\n",
       "      <td>Terreno comercial</td>\n",
       "      <td>8000000.0</td>\n",
       "      <td>8000000.0</td>\n",
       "    </tr>\n",
       "    <tr>\n",
       "      <td rowspan=\"2\" valign=\"top\">ácámbaro</td>\n",
       "      <td>Casa</td>\n",
       "      <td>1760000.0</td>\n",
       "      <td>2500000.0</td>\n",
       "    </tr>\n",
       "    <tr>\n",
       "      <td>Local Comercial</td>\n",
       "      <td>8000000.0</td>\n",
       "      <td>8000000.0</td>\n",
       "    </tr>\n",
       "    <tr>\n",
       "      <td>áutlán de Navarro</td>\n",
       "      <td>Casa</td>\n",
       "      <td>1199000.0</td>\n",
       "      <td>1199000.0</td>\n",
       "    </tr>\n",
       "    <tr>\n",
       "      <td>áyotlán</td>\n",
       "      <td>Casa</td>\n",
       "      <td>3800000.0</td>\n",
       "      <td>3800000.0</td>\n",
       "    </tr>\n",
       "  </tbody>\n",
       "</table>\n",
       "<p>3191 rows × 2 columns</p>\n",
       "</div>"
      ],
      "text/plain": [
       "                                     precio_mean  precio_max\n",
       "ciudad            tipodepropiedad                           \n",
       "Abalá             Terreno               315000.0    315000.0\n",
       "Abasolo           Casa                 1651525.0   2500000.0\n",
       "                  Casa uso de suelo    4590000.0   8500000.0\n",
       "Abejones          Casa                 2500000.0   2500000.0\n",
       "Acajete           Apartamento          2368686.0   2368686.0\n",
       "...                                          ...         ...\n",
       "ácaxochitlán      Terreno comercial    8000000.0   8000000.0\n",
       "ácámbaro          Casa                 1760000.0   2500000.0\n",
       "                  Local Comercial      8000000.0   8000000.0\n",
       "áutlán de Navarro Casa                 1199000.0   1199000.0\n",
       "áyotlán           Casa                 3800000.0   3800000.0\n",
       "\n",
       "[3191 rows x 2 columns]"
      ]
     },
     "execution_count": 8,
     "metadata": {},
     "output_type": "execute_result"
    }
   ],
   "source": [
    "def agrupar_columnas(df):\n",
    "    level0 = df.columns.get_level_values(0)\n",
    "    level1 = df.columns.get_level_values(1)\n",
    "    return level0 + '_' + level1\n",
    "grouped.columns = agrupar_columnas(grouped)\n",
    "grouped"
   ]
  },
  {
   "cell_type": "code",
   "execution_count": 9,
   "metadata": {},
   "outputs": [
    {
     "data": {
      "text/html": [
       "<div>\n",
       "<style scoped>\n",
       "    .dataframe tbody tr th:only-of-type {\n",
       "        vertical-align: middle;\n",
       "    }\n",
       "\n",
       "    .dataframe tbody tr th {\n",
       "        vertical-align: top;\n",
       "    }\n",
       "\n",
       "    .dataframe thead th {\n",
       "        text-align: right;\n",
       "    }\n",
       "</style>\n",
       "<table border=\"1\" class=\"dataframe\">\n",
       "  <thead>\n",
       "    <tr style=\"text-align: right;\">\n",
       "      <th></th>\n",
       "      <th>ciudad</th>\n",
       "      <th>tipodepropiedad</th>\n",
       "      <th>precio_mean</th>\n",
       "      <th>precio_max</th>\n",
       "    </tr>\n",
       "  </thead>\n",
       "  <tbody>\n",
       "    <tr>\n",
       "      <td>0</td>\n",
       "      <td>Abalá</td>\n",
       "      <td>Terreno</td>\n",
       "      <td>315000.0</td>\n",
       "      <td>315000.0</td>\n",
       "    </tr>\n",
       "    <tr>\n",
       "      <td>1</td>\n",
       "      <td>Abasolo</td>\n",
       "      <td>Casa</td>\n",
       "      <td>1651525.0</td>\n",
       "      <td>2500000.0</td>\n",
       "    </tr>\n",
       "    <tr>\n",
       "      <td>2</td>\n",
       "      <td>Abasolo</td>\n",
       "      <td>Casa uso de suelo</td>\n",
       "      <td>4590000.0</td>\n",
       "      <td>8500000.0</td>\n",
       "    </tr>\n",
       "    <tr>\n",
       "      <td>3</td>\n",
       "      <td>Abejones</td>\n",
       "      <td>Casa</td>\n",
       "      <td>2500000.0</td>\n",
       "      <td>2500000.0</td>\n",
       "    </tr>\n",
       "    <tr>\n",
       "      <td>4</td>\n",
       "      <td>Acajete</td>\n",
       "      <td>Apartamento</td>\n",
       "      <td>2368686.0</td>\n",
       "      <td>2368686.0</td>\n",
       "    </tr>\n",
       "    <tr>\n",
       "      <td>...</td>\n",
       "      <td>...</td>\n",
       "      <td>...</td>\n",
       "      <td>...</td>\n",
       "      <td>...</td>\n",
       "    </tr>\n",
       "    <tr>\n",
       "      <td>3186</td>\n",
       "      <td>ácaxochitlán</td>\n",
       "      <td>Terreno comercial</td>\n",
       "      <td>8000000.0</td>\n",
       "      <td>8000000.0</td>\n",
       "    </tr>\n",
       "    <tr>\n",
       "      <td>3187</td>\n",
       "      <td>ácámbaro</td>\n",
       "      <td>Casa</td>\n",
       "      <td>1760000.0</td>\n",
       "      <td>2500000.0</td>\n",
       "    </tr>\n",
       "    <tr>\n",
       "      <td>3188</td>\n",
       "      <td>ácámbaro</td>\n",
       "      <td>Local Comercial</td>\n",
       "      <td>8000000.0</td>\n",
       "      <td>8000000.0</td>\n",
       "    </tr>\n",
       "    <tr>\n",
       "      <td>3189</td>\n",
       "      <td>áutlán de Navarro</td>\n",
       "      <td>Casa</td>\n",
       "      <td>1199000.0</td>\n",
       "      <td>1199000.0</td>\n",
       "    </tr>\n",
       "    <tr>\n",
       "      <td>3190</td>\n",
       "      <td>áyotlán</td>\n",
       "      <td>Casa</td>\n",
       "      <td>3800000.0</td>\n",
       "      <td>3800000.0</td>\n",
       "    </tr>\n",
       "  </tbody>\n",
       "</table>\n",
       "<p>3191 rows × 4 columns</p>\n",
       "</div>"
      ],
      "text/plain": [
       "                 ciudad    tipodepropiedad  precio_mean  precio_max\n",
       "0                 Abalá            Terreno     315000.0    315000.0\n",
       "1               Abasolo               Casa    1651525.0   2500000.0\n",
       "2               Abasolo  Casa uso de suelo    4590000.0   8500000.0\n",
       "3              Abejones               Casa    2500000.0   2500000.0\n",
       "4               Acajete        Apartamento    2368686.0   2368686.0\n",
       "...                 ...                ...          ...         ...\n",
       "3186       ácaxochitlán  Terreno comercial    8000000.0   8000000.0\n",
       "3187           ácámbaro               Casa    1760000.0   2500000.0\n",
       "3188           ácámbaro    Local Comercial    8000000.0   8000000.0\n",
       "3189  áutlán de Navarro               Casa    1199000.0   1199000.0\n",
       "3190            áyotlán               Casa    3800000.0   3800000.0\n",
       "\n",
       "[3191 rows x 4 columns]"
      ]
     },
     "execution_count": 9,
     "metadata": {},
     "output_type": "execute_result"
    }
   ],
   "source": [
    "grouped.reset_index(inplace = True)\n",
    "grouped"
   ]
  },
  {
   "cell_type": "markdown",
   "metadata": {},
   "source": [
    "### Cantidad de propiedades por ciudad\n",
    "\n",
    "Utilizo filter para eliminar las ciudades con cantidad de propiedades insignificante (<100)"
   ]
  },
  {
   "cell_type": "markdown",
   "metadata": {},
   "source": [
    "#### Se puede observar que solo hay una ciudad con al menos 100 bogedas comerciales.\n",
    "\n",
    "# Ciudades mas caras/baratas (hacer luego para los demas parametros)"
   ]
  },
  {
   "cell_type": "code",
   "execution_count": 10,
   "metadata": {},
   "outputs": [
    {
     "data": {
      "text/plain": [
       "Casa                  133\n",
       "Apartamento            43\n",
       "Casa en condominio     43\n",
       "Terreno                22\n",
       "Local Comercial         6\n",
       "Oficina comercial       5\n",
       "Edificio                2\n",
       "Terreno comercial       2\n",
       "Bodega comercial        1\n",
       "Name: tipodepropiedad, dtype: int64"
      ]
     },
     "execution_count": 10,
     "metadata": {},
     "output_type": "execute_result"
    }
   ],
   "source": [
    "cantidades = df.groupby([\"ciudad\", \"tipodepropiedad\"])#.agg({\"precio\":[\"mean\", \"max\"], \"tipodepropiedad\": \"count\"})\n",
    "def min_threshold(df, threshold):\n",
    "    return df[\"id\"].count() > threshold\n",
    "cantidades_filtradas = cantidades.filter(min_threshold, threshold = 100)\n",
    "datos_filtrados = cantidades_filtradas.groupby([\"ciudad\", \"tipodepropiedad\"]).agg({\"precio\":[\"mean\", \"max\"], \"tipodepropiedad\": \"count\"})\n",
    "datos_filtrados.columns = agrupar_columnas(datos_filtrados)\n",
    "datos_filtrados.reset_index(inplace=True)\n",
    "datos_filtrados[\"tipodepropiedad\"].value_counts()"
   ]
  },
  {
   "cell_type": "code",
   "execution_count": 11,
   "metadata": {},
   "outputs": [
    {
     "data": {
      "text/html": [
       "<div>\n",
       "<style scoped>\n",
       "    .dataframe tbody tr th:only-of-type {\n",
       "        vertical-align: middle;\n",
       "    }\n",
       "\n",
       "    .dataframe tbody tr th {\n",
       "        vertical-align: top;\n",
       "    }\n",
       "\n",
       "    .dataframe thead th {\n",
       "        text-align: right;\n",
       "    }\n",
       "</style>\n",
       "<table border=\"1\" class=\"dataframe\">\n",
       "  <thead>\n",
       "    <tr style=\"text-align: right;\">\n",
       "      <th></th>\n",
       "      <th>ciudad</th>\n",
       "      <th>tipodepropiedad</th>\n",
       "      <th>precio_mean</th>\n",
       "      <th>precio_max</th>\n",
       "      <th>tipodepropiedad_count</th>\n",
       "    </tr>\n",
       "  </thead>\n",
       "  <tbody>\n",
       "    <tr>\n",
       "      <td>0</td>\n",
       "      <td>Acapulco de Juárez</td>\n",
       "      <td>Apartamento</td>\n",
       "      <td>2.976989e+06</td>\n",
       "      <td>12500000.0</td>\n",
       "      <td>1498</td>\n",
       "    </tr>\n",
       "    <tr>\n",
       "      <td>1</td>\n",
       "      <td>Acapulco de Juárez</td>\n",
       "      <td>Casa</td>\n",
       "      <td>2.018941e+06</td>\n",
       "      <td>12000000.0</td>\n",
       "      <td>499</td>\n",
       "    </tr>\n",
       "    <tr>\n",
       "      <td>2</td>\n",
       "      <td>Acapulco de Juárez</td>\n",
       "      <td>Casa en condominio</td>\n",
       "      <td>1.662111e+06</td>\n",
       "      <td>7000000.0</td>\n",
       "      <td>283</td>\n",
       "    </tr>\n",
       "    <tr>\n",
       "      <td>3</td>\n",
       "      <td>Aguascalientes</td>\n",
       "      <td>Casa</td>\n",
       "      <td>1.477098e+06</td>\n",
       "      <td>12312122.0</td>\n",
       "      <td>1131</td>\n",
       "    </tr>\n",
       "    <tr>\n",
       "      <td>4</td>\n",
       "      <td>Aguascalientes</td>\n",
       "      <td>Casa en condominio</td>\n",
       "      <td>1.916089e+06</td>\n",
       "      <td>7500000.0</td>\n",
       "      <td>145</td>\n",
       "    </tr>\n",
       "    <tr>\n",
       "      <td>...</td>\n",
       "      <td>...</td>\n",
       "      <td>...</td>\n",
       "      <td>...</td>\n",
       "      <td>...</td>\n",
       "      <td>...</td>\n",
       "    </tr>\n",
       "    <tr>\n",
       "      <td>252</td>\n",
       "      <td>Zapopan</td>\n",
       "      <td>Casa</td>\n",
       "      <td>2.804997e+06</td>\n",
       "      <td>12500000.0</td>\n",
       "      <td>7000</td>\n",
       "    </tr>\n",
       "    <tr>\n",
       "      <td>253</td>\n",
       "      <td>Zapopan</td>\n",
       "      <td>Casa en condominio</td>\n",
       "      <td>3.094673e+06</td>\n",
       "      <td>12500000.0</td>\n",
       "      <td>1146</td>\n",
       "    </tr>\n",
       "    <tr>\n",
       "      <td>254</td>\n",
       "      <td>Zapopan</td>\n",
       "      <td>Local Comercial</td>\n",
       "      <td>2.177816e+06</td>\n",
       "      <td>8000000.0</td>\n",
       "      <td>127</td>\n",
       "    </tr>\n",
       "    <tr>\n",
       "      <td>255</td>\n",
       "      <td>Zapopan</td>\n",
       "      <td>Terreno</td>\n",
       "      <td>2.209834e+06</td>\n",
       "      <td>12500000.0</td>\n",
       "      <td>612</td>\n",
       "    </tr>\n",
       "    <tr>\n",
       "      <td>256</td>\n",
       "      <td>Zumpango</td>\n",
       "      <td>Casa</td>\n",
       "      <td>5.723822e+05</td>\n",
       "      <td>5000000.0</td>\n",
       "      <td>157</td>\n",
       "    </tr>\n",
       "  </tbody>\n",
       "</table>\n",
       "<p>257 rows × 5 columns</p>\n",
       "</div>"
      ],
      "text/plain": [
       "                 ciudad     tipodepropiedad   precio_mean  precio_max  \\\n",
       "0    Acapulco de Juárez         Apartamento  2.976989e+06  12500000.0   \n",
       "1    Acapulco de Juárez                Casa  2.018941e+06  12000000.0   \n",
       "2    Acapulco de Juárez  Casa en condominio  1.662111e+06   7000000.0   \n",
       "3        Aguascalientes                Casa  1.477098e+06  12312122.0   \n",
       "4        Aguascalientes  Casa en condominio  1.916089e+06   7500000.0   \n",
       "..                  ...                 ...           ...         ...   \n",
       "252             Zapopan                Casa  2.804997e+06  12500000.0   \n",
       "253             Zapopan  Casa en condominio  3.094673e+06  12500000.0   \n",
       "254             Zapopan     Local Comercial  2.177816e+06   8000000.0   \n",
       "255             Zapopan             Terreno  2.209834e+06  12500000.0   \n",
       "256            Zumpango                Casa  5.723822e+05   5000000.0   \n",
       "\n",
       "     tipodepropiedad_count  \n",
       "0                     1498  \n",
       "1                      499  \n",
       "2                      283  \n",
       "3                     1131  \n",
       "4                      145  \n",
       "..                     ...  \n",
       "252                   7000  \n",
       "253                   1146  \n",
       "254                    127  \n",
       "255                    612  \n",
       "256                    157  \n",
       "\n",
       "[257 rows x 5 columns]"
      ]
     },
     "execution_count": 11,
     "metadata": {},
     "output_type": "execute_result"
    }
   ],
   "source": [
    "datos_filtrados"
   ]
  },
  {
   "cell_type": "code",
   "execution_count": 12,
   "metadata": {},
   "outputs": [],
   "source": [
    "casas = datos_filtrados.loc[lambda x:x[\"tipodepropiedad\"] == \"Casa\",].sort_values(\"precio_mean\")"
   ]
  },
  {
   "cell_type": "code",
   "execution_count": null,
   "metadata": {},
   "outputs": [],
   "source": []
  },
  {
   "cell_type": "markdown",
   "metadata": {},
   "source": [
    "## Analisis random de ciudad random"
   ]
  },
  {
   "cell_type": "code",
   "execution_count": 13,
   "metadata": {},
   "outputs": [
    {
     "data": {
      "image/png": "[encoded data removed]",
      "text/plain": [
       "<Figure size 432x288 with 1 Axes>"
      ]
     },
     "metadata": {
      "needs_background": "light"
     },
     "output_type": "display_data"
    }
   ],
   "source": [
    "f = datos_filtrados.loc[lambda row:row['ciudad'] == 'Zapopan', ['precio_mean', 'precio_max', 'tipodepropiedad']].set_index('tipodepropiedad')\n",
    "ax = f.plot.bar(color = [\"SkyBlue\",\"IndianRed\"], title = 'Precios maximos y promedios segun tipo de propiedad en Zapopan\\n')\n",
    "ax.set_xlabel(\"tipo de propiedad\")\n",
    "ax.set_ylabel(\"precio\")\n",
    "plt.xticks(rotation=45)\n",
    "plt.show()"
   ]
  },
  {
   "cell_type": "markdown",
   "metadata": {},
   "source": [
    "# Analisis de precios por ciudad-tipodeciudad"
   ]
  },
  {
   "cell_type": "code",
   "execution_count": 14,
   "metadata": {},
   "outputs": [
    {
     "data": {
      "text/plain": [
       "Casa                             141717\n",
       "Apartamento                       57341\n",
       "Casa en condominio                19297\n",
       "Terreno                            9945\n",
       "Local Comercial                    3055\n",
       "Oficina comercial                  1741\n",
       "Bodega comercial                   1406\n",
       "Edificio                           1396\n",
       "Terreno comercial                  1326\n",
       "Casa uso de suelo                   708\n",
       "Quinta Vacacional                   395\n",
       "Duplex                              343\n",
       "Villa                               340\n",
       "Inmuebles productivos urbanos       200\n",
       "Rancho                              170\n",
       "Local en centro comercial           165\n",
       "Departamento Compartido             141\n",
       "Otros                               134\n",
       "Nave industrial                      76\n",
       "Terreno industrial                   31\n",
       "Huerta                               20\n",
       "Lote                                  5\n",
       "Hospedaje                             1\n",
       "Garage                                1\n",
       "Name: tipodepropiedad, dtype: int64"
      ]
     },
     "execution_count": 14,
     "metadata": {},
     "output_type": "execute_result"
    }
   ],
   "source": [
    "df[\"tipodepropiedad\"].value_counts()"
   ]
  },
  {
   "cell_type": "code",
   "execution_count": 15,
   "metadata": {},
   "outputs": [
    {
     "data": {
      "text/plain": [
       "2.0    87683\n",
       "1.0    58173\n",
       "3.0    49365\n",
       "4.0    18558\n",
       "Name: banos, dtype: int64"
      ]
     },
     "execution_count": 15,
     "metadata": {},
     "output_type": "execute_result"
    }
   ],
   "source": [
    "df[\"ciudad\"].value_counts()\n",
    "df[\"banos\"].value_counts()"
   ]
  },
  {
   "cell_type": "markdown",
   "metadata": {},
   "source": [
    "# Graficos a la N"
   ]
  },
  {
   "cell_type": "code",
   "execution_count": 16,
   "metadata": {},
   "outputs": [
    {
     "data": {
      "text/plain": [
       "Text(0.5, 0, 'Antiguedad (años)')"
      ]
     },
     "execution_count": 16,
     "metadata": {},
     "output_type": "execute_result"
    },
    {
     "data": {
      "image/png": "[encoded data removed]",
      "text/plain": [
       "<Figure size 432x288 with 1 Axes>"
      ]
     },
     "metadata": {
      "needs_background": "light"
     },
     "output_type": "display_data"
    }
   ],
   "source": [
    "ax = df[\"antiguedad\"].dropna().plot.hist(bins=20, color=\"lightblue\")\n",
    "ax.set_title(\"Histograma de la antiguedad de propiedades\", fontsize = 18)\n",
    "ax.set_ylabel(\"Frecuencia\")\n",
    "ax.set_xlabel(\"Antiguedad (años)\")"
   ]
  },
  {
   "cell_type": "code",
   "execution_count": 17,
   "metadata": {},
   "outputs": [
    {
     "data": {
      "text/plain": [
       "Text(0.5, 0, 'Antiguedad (años)')"
      ]
     },
     "execution_count": 17,
     "metadata": {},
     "output_type": "execute_result"
    },
    {
     "data": {
      "image/png": "[encoded data removed]",
      "text/plain": [
       "<Figure size 432x288 with 1 Axes>"
      ]
     },
     "metadata": {
      "needs_background": "light"
     },
     "output_type": "display_data"
    }
   ],
   "source": [
    "ax = df[\"banos\"].dropna().plot.hist(bins=4, color=\"lightblue\")\n",
    "ax.set_title(\"Histograma de la antiguedad de propiedades\", fontsize = 18)\n",
    "ax.set_ylabel(\"Frecuencia\")\n",
    "ax.set_xlabel(\"Antiguedad (años)\")"
   ]
  },
  {
   "cell_type": "code",
   "execution_count": 18,
   "metadata": {},
   "outputs": [
    {
     "data": {
      "text/plain": [
       "0.0     50335\n",
       "5.0     33268\n",
       "10.0    28844\n",
       "20.0    19904\n",
       "1.0     12353\n",
       "4.0      7944\n",
       "3.0      5616\n",
       "2.0      5059\n",
       "15.0     3965\n",
       "6.0      3169\n",
       "Name: antiguedad, dtype: int64"
      ]
     },
     "execution_count": 18,
     "metadata": {},
     "output_type": "execute_result"
    }
   ],
   "source": [
    "df['antiguedad'].dropna().value_counts().head(10)"
   ]
  },
  {
   "cell_type": "code",
   "execution_count": 19,
   "metadata": {},
   "outputs": [
    {
     "data": {
      "text/plain": [
       "Querétaro              12646\n",
       "Benito Juárez          11014\n",
       "Zapopan                10360\n",
       "San Luis Potosí         7925\n",
       "Mérida                  7162\n",
       "                       ...  \n",
       "Juárez Hidalgo             1\n",
       "Gustavo Díaz Ordaz         1\n",
       "Ocotlán de Morelos         1\n",
       "Zimatlán de Alvarez        1\n",
       "Villa de Allende           1\n",
       "Name: ciudad, Length: 875, dtype: int64"
      ]
     },
     "execution_count": 19,
     "metadata": {},
     "output_type": "execute_result"
    }
   ],
   "source": [
    "df['ciudad'].value_counts()"
   ]
  },
  {
   "cell_type": "code",
   "execution_count": 20,
   "metadata": {},
   "outputs": [
    {
     "data": {
      "text/plain": [
       "2626"
      ]
     },
     "execution_count": 20,
     "metadata": {},
     "output_type": "execute_result"
    }
   ],
   "source": [
    "cantidades = df.groupby([\"ciudad\", \"habitaciones\"])\n",
    "cantidades.ngroups"
   ]
  },
  {
   "cell_type": "code",
   "execution_count": null,
   "metadata": {},
   "outputs": [],
   "source": []
  }
 ],
 "metadata": {
  "kernelspec": {
   "display_name": "Python 3",
   "language": "python",
   "name": "python3"
  },
  "language_info": {
   "codemirror_mode": {
    "name": "ipython",
    "version": 3
   },
   "file_extension": ".py",
   "mimetype": "text/x-python",
   "name": "python",
   "nbconvert_exporter": "python",
   "pygments_lexer": "ipython3",
   "version": "3.6.0"
  }
 },
 "nbformat": 4,
 "nbformat_minor": 2
}
