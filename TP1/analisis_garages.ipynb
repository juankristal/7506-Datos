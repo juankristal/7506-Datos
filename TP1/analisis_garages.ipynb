{
 "cells": [
  {
   "cell_type": "markdown",
   "metadata": {},
   "source": [
    "# Imports"
   ]
  },
  {
   "cell_type": "code",
   "execution_count": 1,
   "metadata": {},
   "outputs": [],
   "source": [
    "import pandas as pd\n",
    "import numpy as np\n",
    "import seaborn as sns\n",
    "from matplotlib import pyplot as plt"
   ]
  },
  {
   "cell_type": "markdown",
   "metadata": {},
   "source": [
    "# Carga optimizada del set de datos"
   ]
  },
  {
   "cell_type": "code",
   "execution_count": 2,
   "metadata": {},
   "outputs": [],
   "source": [
    "zona_prop = pd.read_csv('train.csv', \\\n",
    "                               dtype = { \\\n",
    "                                        'id' : np.int32, \\\n",
    "                                        'tipodepropiedad' : 'category', \\\n",
    "                                        'provincia' : 'category', \\\n",
    "                                        'ciudad' : 'category', \\\n",
    "                                        'antiguedad' : np.float16, \\\n",
    "                                        'habitaciones' : np.float16, \\\n",
    "                                        'garages' : np.float16, \\\n",
    "                                        'banos' : np.float16, \\\n",
    "                                        'metroscubiertos' : np.float16, \\\n",
    "                                        'metrostotales' : np.float16, \\\n",
    "                                        'idzona' : np.float32, \\\n",
    "                                        'gimnasio' : 'bool', \\\n",
    "                                        'usosmultiples' : 'bool', \\\n",
    "                                        'piscina' : 'bool', \\\n",
    "                                        'escuelascercanas' : 'bool', \\\n",
    "                                        'centroscomercialescercanos' : 'bool', \\\n",
    "                                        'precio' : np.float32 \\\n",
    "                                       })"
   ]
  },
  {
   "cell_type": "markdown",
   "metadata": {},
   "source": [
    "# Analisis de garage"
   ]
  },
  {
   "cell_type": "code",
   "execution_count": 16,
   "metadata": {},
   "outputs": [
    {
     "data": {
      "text/plain": [
       "37765"
      ]
     },
     "execution_count": 16,
     "metadata": {},
     "output_type": "execute_result"
    }
   ],
   "source": [
    "cant_garage_nan = zona_prop['garages'].isnull().sum()\n",
    "cant_garage_nan"
   ]
  },
  {
   "cell_type": "code",
   "execution_count": 17,
   "metadata": {},
   "outputs": [
    {
     "data": {
      "text/plain": [
       "202235"
      ]
     },
     "execution_count": 17,
     "metadata": {},
     "output_type": "execute_result"
    }
   ],
   "source": [
    "cant_garage_no_nan = (~zona_prop['garages'].isnull()).sum()\n",
    "cant_garage_no_nan"
   ]
  },
  {
   "cell_type": "code",
   "execution_count": 22,
   "metadata": {},
   "outputs": [
    {
     "data": {
      "text/plain": [
       "240000"
      ]
     },
     "execution_count": 22,
     "metadata": {},
     "output_type": "execute_result"
    }
   ],
   "source": [
    "cant_propiedades = zona_prop.shape[0]\n",
    "cant_propiedades"
   ]
  },
  {
   "cell_type": "markdown",
   "metadata": {},
   "source": [
    "## ¿Cuantas propiedades tienen NaN en garage?"
   ]
  },
  {
   "cell_type": "code",
   "execution_count": 40,
   "metadata": {
    "scrolled": true
   },
   "outputs": [
    {
     "data": {
      "text/plain": [
       "[<matplotlib.axis.YTick at 0x7f10c4d4f780>,\n",
       " <matplotlib.axis.YTick at 0x7f10c4d4f0b8>]"
      ]
     },
     "execution_count": 40,
     "metadata": {},
     "output_type": "execute_result"
    },
    {
     "data": {
      "image/png": "[encoded data removed]",
      "text/plain": [
       "<Figure size 432x288 with 1 Axes>"
      ]
     },
     "metadata": {
      "needs_background": "light"
     },
     "output_type": "display_data"
    }
   ],
   "source": [
    "df_cant_garage_nan = pd.DataFrame(\n",
    "    {'estado_garage' : ['no_nan', 'nan'], \n",
    "     'cantidad' : [\n",
    "         cant_garage_no_nan, \n",
    "         cant_garage_nan\n",
    "     ]}\n",
    "    )\n",
    "plot_bar_cant_garage_nan = sns.barplot(\n",
    "                                x = df_cant_garage_nan['estado_garage'].get_values(),\n",
    "                                y = df_cant_garage_nan['cantidad'].get_values()\n",
    "                            )\n",
    "plot_bar_cant_garage_nan.set_title(\n",
    "    '¿Cuantas propiedades tiene NaN en garage?',\n",
    "    fontsize = 18\n",
    ")\n",
    "plot_bar_cant_garage_nan.set_xlabel('Estado del garage de todas las propiedades', fontsize = 16)\n",
    "plot_bar_cant_garage_nan.set_ylabel('Cantidad', fontsize = 16)\n",
    "plot_bar_cant_garage_nan.set_yticks(df_cant_garage_nan['cantidad'].get_values())\n"
   ]
  },
  {
   "cell_type": "markdown",
   "metadata": {},
   "source": [
    "Descartamos las propiedades con NaN en Garage para el analisis"
   ]
  },
  {
   "cell_type": "code",
   "execution_count": 44,
   "metadata": {},
   "outputs": [
    {
     "data": {
      "text/plain": [
       "0"
      ]
     },
     "execution_count": 44,
     "metadata": {},
     "output_type": "execute_result"
    }
   ],
   "source": [
    "zona_garages = zona_prop.dropna(subset = ['garages'])\n",
    "zona_garages['garages'].isnull().sum()"
   ]
  },
  {
   "cell_type": "markdown",
   "metadata": {},
   "source": [
    "## ¿Cuantas garages hay por propiedad?"
   ]
  },
  {
   "cell_type": "code",
   "execution_count": 45,
   "metadata": {},
   "outputs": [
    {
     "data": {
      "text/plain": [
       "2.0    94167\n",
       "1.0    59464\n",
       "0.0    26926\n",
       "3.0    21678\n",
       "Name: garages, dtype: int64"
      ]
     },
     "execution_count": 45,
     "metadata": {},
     "output_type": "execute_result"
    }
   ],
   "source": [
    "zona_garages['garages'].value_counts()"
   ]
  },
  {
   "cell_type": "code",
   "execution_count": 66,
   "metadata": {},
   "outputs": [
    {
     "data": {
      "text/html": [
       "<div>\n",
       "<style scoped>\n",
       "    .dataframe tbody tr th:only-of-type {\n",
       "        vertical-align: middle;\n",
       "    }\n",
       "\n",
       "    .dataframe tbody tr th {\n",
       "        vertical-align: top;\n",
       "    }\n",
       "\n",
       "    .dataframe thead th {\n",
       "        text-align: right;\n",
       "    }\n",
       "</style>\n",
       "<table border=\"1\" class=\"dataframe\">\n",
       "  <thead>\n",
       "    <tr style=\"text-align: right;\">\n",
       "      <th></th>\n",
       "      <th>cantidad</th>\n",
       "      <th>frecuencia</th>\n",
       "    </tr>\n",
       "  </thead>\n",
       "  <tbody>\n",
       "    <tr>\n",
       "      <th>2</th>\n",
       "      <td>0.0</td>\n",
       "      <td>26926</td>\n",
       "    </tr>\n",
       "    <tr>\n",
       "      <th>1</th>\n",
       "      <td>1.0</td>\n",
       "      <td>59464</td>\n",
       "    </tr>\n",
       "    <tr>\n",
       "      <th>0</th>\n",
       "      <td>2.0</td>\n",
       "      <td>94167</td>\n",
       "    </tr>\n",
       "    <tr>\n",
       "      <th>3</th>\n",
       "      <td>3.0</td>\n",
       "      <td>21678</td>\n",
       "    </tr>\n",
       "  </tbody>\n",
       "</table>\n",
       "</div>"
      ],
      "text/plain": [
       "   cantidad  frecuencia\n",
       "2       0.0       26926\n",
       "1       1.0       59464\n",
       "0       2.0       94167\n",
       "3       3.0       21678"
      ]
     },
     "execution_count": 66,
     "metadata": {},
     "output_type": "execute_result"
    }
   ],
   "source": [
    "df_frecuencia_garages = zona_garages['garages'].value_counts().to_frame()\n",
    "df_frecuencia_garages.reset_index(inplace = True)\n",
    "df_frecuencia_garages.rename(columns = {'index' : 'cantidad', 'garages': 'frecuencia'}, inplace = True)\n",
    "df_frecuencia_garages.sort_values(by = 'cantidad', inplace = True)\n",
    "df_frecuencia_garages"
   ]
  },
  {
   "cell_type": "code",
   "execution_count": 73,
   "metadata": {},
   "outputs": [
    {
     "data": {
      "text/plain": [
       "[<matplotlib.axis.YTick at 0x7f10b7c222e8>,\n",
       " <matplotlib.axis.YTick at 0x7f10c46c5da0>,\n",
       " <matplotlib.axis.YTick at 0x7f10c46c5588>,\n",
       " <matplotlib.axis.YTick at 0x7f10b7a98780>]"
      ]
     },
     "execution_count": 73,
     "metadata": {},
     "output_type": "execute_result"
    },
    {
     "data": {
      "image/png": "[encoded data removed]",
      "text/plain": [
       "<Figure size 432x288 with 1 Axes>"
      ]
     },
     "metadata": {
      "needs_background": "light"
     },
     "output_type": "display_data"
    }
   ],
   "source": [
    "plot_bar_frecuencia_garages = sns.barplot(\n",
    "                                x = df_frecuencia_garages['cantidad'],\n",
    "                                y = df_frecuencia_garages['frecuencia']\n",
    "                            )\n",
    "plot_bar_frecuencia_garages.set_title(\n",
    "    'Frecuencia de cantidad de garages por propiedad', \n",
    "    fontsize = 18\n",
    ")\n",
    "plot_bar_frecuencia_garages.set_xlabel('Cantidad de garages', fontsize = 16)\n",
    "plot_bar_frecuencia_garages.set_ylabel('Frecuencia', fontsize = 16)\n",
    "plot_bar_frecuencia_garages.set_yticks(df_frecuencia_garages['frecuencia'].get_values())\n"
   ]
  }
 ],
 "metadata": {
  "kernelspec": {
   "display_name": "Python 3",
   "language": "python",
   "name": "python3"
  },
  "language_info": {
   "codemirror_mode": {
    "name": "ipython",
    "version": 3
   },
   "file_extension": ".py",
   "mimetype": "text/x-python",
   "name": "python",
   "nbconvert_exporter": "python",
   "pygments_lexer": "ipython3",
   "version": "3.7.3"
  }
 },
 "nbformat": 4,
 "nbformat_minor": 2
}
