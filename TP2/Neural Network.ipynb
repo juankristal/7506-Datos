{
 "cells": [
  {
   "cell_type": "code",
   "execution_count": 98,
   "metadata": {},
   "outputs": [],
   "source": [
    "import os\n",
    "import sys\n",
    "stderr = sys.stderr\n",
    "sys.stderr = open(os.devnull, 'w')\n",
    "import keras\n",
    "sys.stderr = stderr\n",
    "\n",
    "import pandas as pd"
   ]
  },
  {
   "cell_type": "markdown",
   "metadata": {},
   "source": [
    "## Preparación del dataframe"
   ]
  },
  {
   "cell_type": "markdown",
   "metadata": {},
   "source": [
    "### Elimino NAN"
   ]
  },
  {
   "cell_type": "markdown",
   "metadata": {},
   "source": [
    "Me quedo con las columnas que me interesan basándome en la importancia medida con univariate."
   ]
  },
  {
   "cell_type": "code",
   "execution_count": 99,
   "metadata": {},
   "outputs": [],
   "source": [
    "TARGET = 'precio'\n",
    "columnas = [\"tipodepropiedad\", \"ciudad\", \"antiguedad\", \"habitaciones\", \"garages\", \"banos\", \"metroscubiertos\",\n",
    "           \"metrostotales\", \"gimnasio\", \"usosmultiples\", \"piscina\", \"escuelascercanas\", \"centroscomercialescercanos\", \"precio\"]"
   ]
  },
  {
   "cell_type": "code",
   "execution_count": 100,
   "metadata": {},
   "outputs": [],
   "source": [
    "train = pd.read_csv('sets_de_datos/train.csv')"
   ]
  },
  {
   "cell_type": "code",
   "execution_count": 101,
   "metadata": {},
   "outputs": [],
   "source": [
    "train = train[columnas]\n",
    "train[\"antiguedad\"].fillna(train[\"antiguedad\"].mean(),inplace=True)\n",
    "train[\"metroscubiertos\"].fillna(train[\"metroscubiertos\"].mean(), inplace=True)\n",
    "train[\"metrostotales\"].fillna(train[\"metrostotales\"].mean(), inplace=True)\n",
    "train[\"precio\"].fillna(train[\"precio\"].mean(), inplace=True)\n",
    "train.dropna(subset=[\"tipodepropiedad\", \"ciudad\"], inplace=True)\n",
    "train.fillna(0, inplace=True)"
   ]
  },
  {
   "cell_type": "markdown",
   "metadata": {},
   "source": [
    "### Transformo las variables de tipo de propiedad y ciudad en numéricas con OHE"
   ]
  },
  {
   "cell_type": "code",
   "execution_count": 102,
   "metadata": {},
   "outputs": [
    {
     "data": {
      "text/plain": [
       "(875, 2)"
      ]
     },
     "execution_count": 102,
     "metadata": {},
     "output_type": "execute_result"
    }
   ],
   "source": [
    "ciudades_validas = train[\"ciudad\"].value_counts().to_frame().reset_index()\n",
    "ciudades_validas.columns = [\"ciudad\", \"cantidad\"]\n",
    "ciudades_validas.shape"
   ]
  },
  {
   "cell_type": "code",
   "execution_count": 103,
   "metadata": {},
   "outputs": [],
   "source": [
    "# Elimino las ciudades con menos de 100 casas para reducir la cantidad de col cuando se haga OHE\n",
    "ciudades_validas = ciudades_validas[ciudades_validas[\"cantidad\"] >= 100]\n",
    "train = pd.merge(train, ciudades_validas, on = \"ciudad\", how = \"inner\")\n",
    "train = train.drop([\"cantidad\"], axis = 1)"
   ]
  },
  {
   "cell_type": "markdown",
   "metadata": {},
   "source": [
    "### Split del set de datos"
   ]
  },
  {
   "cell_type": "code",
   "execution_count": 104,
   "metadata": {},
   "outputs": [],
   "source": [
    "from sklearn import preprocessing\n",
    "from sklearn.model_selection import train_test_split\n",
    "from keras.models import Sequential\n",
    "from keras.layers import Dense"
   ]
  },
  {
   "cell_type": "code",
   "execution_count": 105,
   "metadata": {},
   "outputs": [],
   "source": [
    "train  = pd.get_dummies(train)"
   ]
  },
  {
   "cell_type": "code",
   "execution_count": 106,
   "metadata": {},
   "outputs": [
    {
     "data": {
      "text/plain": [
       "(232962, 182)"
      ]
     },
     "execution_count": 106,
     "metadata": {},
     "output_type": "execute_result"
    }
   ],
   "source": [
    "train.shape"
   ]
  },
  {
   "cell_type": "code",
   "execution_count": 107,
   "metadata": {},
   "outputs": [],
   "source": [
    "X = train.drop([TARGET], axis = 1).copy()\n",
    "Y = train[TARGET].copy().values\n",
    "\n",
    "min_max_scaler = preprocessing.MinMaxScaler()\n",
    "X = min_max_scaler.fit_transform(X)\n",
    "\n",
    "X_train, X_val_and_test, Y_train, Y_val_and_test = train_test_split(X, Y, test_size=0.3, random_state=42)\n",
    "X_val, X_test, Y_val, Y_test = train_test_split(X_val_and_test, Y_val_and_test, test_size=0.5, random_state=42)"
   ]
  },
  {
   "cell_type": "markdown",
   "metadata": {},
   "source": [
    "## Creación de la neural network"
   ]
  },
  {
   "cell_type": "code",
   "execution_count": 108,
   "metadata": {},
   "outputs": [],
   "source": [
    "from sklearn import preprocessing\n",
    "from sklearn.model_selection import train_test_split\n",
    "from keras.models import Sequential\n",
    "from keras.layers import Dense"
   ]
  },
  {
   "cell_type": "code",
   "execution_count": 109,
   "metadata": {},
   "outputs": [],
   "source": [
    "model = Sequential([\n",
    "    Dense(32, activation='relu', input_shape=(182 - 1,)),\n",
    "    Dense(32, activation='relu'),\n",
    "    Dense(1, activation='softmax'),\n",
    "])"
   ]
  },
  {
   "cell_type": "code",
   "execution_count": 110,
   "metadata": {},
   "outputs": [],
   "source": [
    "model.compile(optimizer='adam',\n",
    "              loss='mean_squared_error',\n",
    "              metrics=['mean_squared_error'])"
   ]
  },
  {
   "cell_type": "code",
   "execution_count": 112,
   "metadata": {},
   "outputs": [
    {
     "name": "stdout",
     "output_type": "stream",
     "text": [
      "Train on 163073 samples, validate on 34944 samples\n",
      "Epoch 1/100\n",
      "163073/163073 [==============================] - 10s 63us/step - loss: 11176511611831.2031 - mean_squared_error: 11176511611831.2031 - val_loss: 11342327631917.0117 - val_mean_squared_error: 11342327631917.0117\n",
      "Epoch 2/100\n",
      "163073/163073 [==============================] - 10s 60us/step - loss: 11176511599163.9023 - mean_squared_error: 11176511599163.9023 - val_loss: 11342327631917.0117 - val_mean_squared_error: 11342327631917.0117\n",
      "Epoch 3/100\n",
      "163073/163073 [==============================] - 10s 62us/step - loss: 11176511615746.3320 - mean_squared_error: 11176511615746.3320 - val_loss: 11342327631917.0117 - val_mean_squared_error: 11342327631917.0117\n",
      "Epoch 4/100\n",
      "163073/163073 [==============================] - 14s 84us/step - loss: 11176511606053.7559 - mean_squared_error: 11176511606053.7559 - val_loss: 11342327631917.0117 - val_mean_squared_error: 11342327631917.0117\n",
      "Epoch 5/100\n",
      "163073/163073 [==============================] - 11s 66us/step - loss: 11176511608706.1738 - mean_squared_error: 11176511608706.1738 - val_loss: 11342327631917.0117 - val_mean_squared_error: 11342327631917.0117\n",
      "Epoch 6/100\n",
      "163073/163073 [==============================] - 10s 60us/step - loss: 11176511596083.8828 - mean_squared_error: 11176511596083.8828 - val_loss: 11342327631917.0117 - val_mean_squared_error: 11342327631917.0117\n",
      "Epoch 7/100\n",
      "163073/163073 [==============================] - 12s 71us/step - loss: 11176511593695.9043 - mean_squared_error: 11176511593695.9043 - val_loss: 11342327631917.0117 - val_mean_squared_error: 11342327631917.0117\n",
      "Epoch 8/100\n",
      "163073/163073 [==============================] - 13s 78us/step - loss: 11176511596553.2812 - mean_squared_error: 11176511596553.2812 - val_loss: 11342327631917.0117 - val_mean_squared_error: 11342327631917.0117\n",
      "Epoch 9/100\n",
      "163073/163073 [==============================] - 11s 66us/step - loss: 11176511600752.1367 - mean_squared_error: 11176511600752.1367 - val_loss: 11342327631917.0117 - val_mean_squared_error: 11342327631917.0117\n",
      "Epoch 10/100\n",
      "163073/163073 [==============================] - 12s 76us/step - loss: 11176511604867.8047 - mean_squared_error: 11176511604867.8047 - val_loss: 11342327631917.0117 - val_mean_squared_error: 11342327631917.0117\n",
      "Epoch 11/100\n",
      "163073/163073 [==============================] - 12s 72us/step - loss: 11176511601681.2871 - mean_squared_error: 11176511601681.2871 - val_loss: 11342327631917.0117 - val_mean_squared_error: 11342327631917.0117\n",
      "Epoch 12/100\n",
      "163073/163073 [==============================] - 13s 80us/step - loss: 11176511603126.4531 - mean_squared_error: 11176511603126.4531 - val_loss: 11342327631917.0117 - val_mean_squared_error: 11342327631917.0117\n",
      "Epoch 13/100\n",
      "163073/163073 [==============================] - 15s 95us/step - loss: 11176511605979.8105 - mean_squared_error: 11176511605979.8105 - val_loss: 11342327631917.0117 - val_mean_squared_error: 11342327631917.0117\n",
      "Epoch 14/100\n",
      "163073/163073 [==============================] - 13s 82us/step - loss: 11176511603044.4688 - mean_squared_error: 11176511603044.4688 - val_loss: 11342327631917.0117 - val_mean_squared_error: 11342327631917.0117\n",
      "Epoch 15/100\n",
      "163073/163073 [==============================] - 13s 80us/step - loss: 11176511603718.8262 - mean_squared_error: 11176511603718.8262 - val_loss: 11342327631917.0117 - val_mean_squared_error: 11342327631917.0117\n",
      "Epoch 16/100\n",
      "163073/163073 [==============================] - 16s 95us/step - loss: 11176511604092.5742 - mean_squared_error: 11176511604092.5742 - val_loss: 11342327631917.0117 - val_mean_squared_error: 11342327631917.0117\n",
      "Epoch 17/100\n",
      "163073/163073 [==============================] - 11s 68us/step - loss: 11176511607175.8105 - mean_squared_error: 11176511607175.8105 - val_loss: 11342327631917.0117 - val_mean_squared_error: 11342327631917.0117\n",
      "Epoch 18/100\n",
      "163073/163073 [==============================] - 11s 70us/step - loss: 11176511600493.3242 - mean_squared_error: 11176511600493.3242 - val_loss: 11342327631917.0117 - val_mean_squared_error: 11342327631917.0117\n",
      "Epoch 19/100\n",
      "163073/163073 [==============================] - 10s 63us/step - loss: 11176511615663.5449 - mean_squared_error: 11176511615663.5449 - val_loss: 11342327631917.0117 - val_mean_squared_error: 11342327631917.0117\n",
      "Epoch 20/100\n",
      "163073/163073 [==============================] - 11s 65us/step - loss: 11176511609343.3555 - mean_squared_error: 11176511609343.3555 - val_loss: 11342327631917.0117 - val_mean_squared_error: 11342327631917.0117\n",
      "Epoch 21/100\n",
      "163073/163073 [==============================] - 11s 67us/step - loss: 11176511603478.5000 - mean_squared_error: 11176511603478.5000 - val_loss: 11342327631917.0117 - val_mean_squared_error: 11342327631917.0117\n",
      "Epoch 22/100\n",
      "163073/163073 [==============================] - 10s 63us/step - loss: 11176511600321.3203 - mean_squared_error: 11176511600321.3203 - val_loss: 11342327631917.0117 - val_mean_squared_error: 11342327631917.0117\n",
      "Epoch 23/100\n",
      "163073/163073 [==============================] - 11s 67us/step - loss: 11176511609551.7324 - mean_squared_error: 11176511609551.7324 - val_loss: 11342327631917.0117 - val_mean_squared_error: 11342327631917.0117\n",
      "Epoch 24/100\n",
      "163073/163073 [==============================] - 11s 69us/step - loss: 11176511604467.9336 - mean_squared_error: 11176511604467.9336 - val_loss: 11342327631917.0117 - val_mean_squared_error: 11342327631917.0117\n",
      "Epoch 25/100\n",
      "163073/163073 [==============================] - 10s 62us/step - loss: 11176511604825.6055 - mean_squared_error: 11176511604825.6055 - val_loss: 11342327631917.0117 - val_mean_squared_error: 11342327631917.0117\n",
      "Epoch 26/100\n",
      "163073/163073 [==============================] - 11s 66us/step - loss: 11176511607677.3555 - mean_squared_error: 11176511607677.3555 - val_loss: 11342327631917.0117 - val_mean_squared_error: 11342327631917.0117\n",
      "Epoch 27/100\n",
      "163073/163073 [==============================] - 11s 67us/step - loss: 11176511599858.3535 - mean_squared_error: 11176511599858.3535 - val_loss: 11342327631917.0117 - val_mean_squared_error: 11342327631917.0117\n",
      "Epoch 28/100\n",
      "163073/163073 [==============================] - 10s 63us/step - loss: 11176511613052.9219 - mean_squared_error: 11176511613052.9219 - val_loss: 11342327631917.0117 - val_mean_squared_error: 11342327631917.0117\n",
      "Epoch 29/100\n",
      "163073/163073 [==============================] - 11s 67us/step - loss: 11176511603557.2695 - mean_squared_error: 11176511603557.2695 - val_loss: 11342327631917.0117 - val_mean_squared_error: 11342327631917.0117\n",
      "Epoch 30/100\n",
      "163073/163073 [==============================] - 11s 66us/step - loss: 11176511599365.4453 - mean_squared_error: 11176511599365.4453 - val_loss: 11342327631917.0117 - val_mean_squared_error: 11342327631917.0117\n",
      "Epoch 31/100\n",
      "163073/163073 [==============================] - 11s 69us/step - loss: 11176511609552.9375 - mean_squared_error: 11176511609552.9375 - val_loss: 11342327631917.0117 - val_mean_squared_error: 11342327631917.0117\n",
      "Epoch 32/100\n",
      "163073/163073 [==============================] - 11s 67us/step - loss: 11176511604352.9961 - mean_squared_error: 11176511604352.9961 - val_loss: 11342327631917.0117 - val_mean_squared_error: 11342327631917.0117\n",
      "Epoch 33/100\n",
      "163073/163073 [==============================] - 12s 71us/step - loss: 11176511607555.1855 - mean_squared_error: 11176511607555.1855 - val_loss: 11342327631917.0117 - val_mean_squared_error: 11342327631917.0117\n",
      "Epoch 34/100\n",
      "163073/163073 [==============================] - 10s 64us/step - loss: 11176511595627.3457 - mean_squared_error: 11176511595627.3457 - val_loss: 11342327631917.0117 - val_mean_squared_error: 11342327631917.0117\n",
      "Epoch 35/100\n",
      "163073/163073 [==============================] - 11s 69us/step - loss: 11176511609979.3320 - mean_squared_error: 11176511609979.3320 - val_loss: 11342327631917.0117 - val_mean_squared_error: 11342327631917.0117\n",
      "Epoch 36/100\n",
      "163073/163073 [==============================] - 11s 69us/step - loss: 11176511602481.8340 - mean_squared_error: 11176511602481.8340 - val_loss: 11342327631917.0117 - val_mean_squared_error: 11342327631917.0117\n",
      "Epoch 37/100\n"
     ]
    },
    {
     "name": "stdout",
     "output_type": "stream",
     "text": [
      "163073/163073 [==============================] - 10s 59us/step - loss: 11176511588772.8574 - mean_squared_error: 11176511588772.8574 - val_loss: 11342327631917.0117 - val_mean_squared_error: 11342327631917.0117\n",
      "Epoch 38/100\n",
      "163073/163073 [==============================] - 10s 62us/step - loss: 11176511605275.7148 - mean_squared_error: 11176511605275.7148 - val_loss: 11342327631917.0117 - val_mean_squared_error: 11342327631917.0117\n",
      "Epoch 39/100\n",
      "163073/163073 [==============================] - 10s 60us/step - loss: 11176511606648.5410 - mean_squared_error: 11176511606648.5410 - val_loss: 11342327631917.0117 - val_mean_squared_error: 11342327631917.0117\n",
      "Epoch 40/100\n",
      "163073/163073 [==============================] - 10s 64us/step - loss: 11176511602880.5020 - mean_squared_error: 11176511602880.5020 - val_loss: 11342327631917.0117 - val_mean_squared_error: 11342327631917.0117\n",
      "Epoch 41/100\n",
      "163073/163073 [==============================] - 10s 64us/step - loss: 11176511595916.7012 - mean_squared_error: 11176511595916.7012 - val_loss: 11342327631917.0117 - val_mean_squared_error: 11342327631917.0117\n",
      "Epoch 42/100\n",
      "163073/163073 [==============================] - 10s 62us/step - loss: 11176511598994.9121 - mean_squared_error: 11176511598994.9121 - val_loss: 11342327631917.0117 - val_mean_squared_error: 11342327631917.0117\n",
      "Epoch 43/100\n",
      "163073/163073 [==============================] - 10s 64us/step - loss: 11176511604642.3496 - mean_squared_error: 11176511604642.3496 - val_loss: 11342327631917.0117 - val_mean_squared_error: 11342327631917.0117\n",
      "Epoch 44/100\n",
      "163073/163073 [==============================] - 11s 66us/step - loss: 11176511606005.5312 - mean_squared_error: 11176511606005.5312 - val_loss: 11342327631917.0117 - val_mean_squared_error: 11342327631917.0117\n",
      "Epoch 45/100\n",
      "163073/163073 [==============================] - 12s 72us/step - loss: 11176511626266.7812 - mean_squared_error: 11176511626266.7812 - val_loss: 11342327631917.0117 - val_mean_squared_error: 11342327631917.0117\n",
      "Epoch 46/100\n",
      "163073/163073 [==============================] - 10s 64us/step - loss: 11176511600861.4492 - mean_squared_error: 11176511600861.4492 - val_loss: 11342327631917.0117 - val_mean_squared_error: 11342327631917.0117\n",
      "Epoch 47/100\n",
      "163073/163073 [==============================] - 11s 68us/step - loss: 11176511607190.2773 - mean_squared_error: 11176511607190.2773 - val_loss: 11342327631917.0117 - val_mean_squared_error: 11342327631917.0117\n",
      "Epoch 48/100\n",
      "163073/163073 [==============================] - 13s 82us/step - loss: 11176511610892.4082 - mean_squared_error: 11176511610892.4082 - val_loss: 11342327631917.0117 - val_mean_squared_error: 11342327631917.0117\n",
      "Epoch 49/100\n",
      "163073/163073 [==============================] - 11s 70us/step - loss: 11176511608146.7539 - mean_squared_error: 11176511608146.7539 - val_loss: 11342327631917.0117 - val_mean_squared_error: 11342327631917.0117\n",
      "Epoch 50/100\n",
      "163073/163073 [==============================] - 11s 66us/step - loss: 11176511606803.6660 - mean_squared_error: 11176511606803.6660 - val_loss: 11342327631917.0117 - val_mean_squared_error: 11342327631917.0117\n",
      "Epoch 51/100\n",
      "163073/163073 [==============================] - 12s 73us/step - loss: 11176511605812.6270 - mean_squared_error: 11176511605812.6270 - val_loss: 11342327631917.0117 - val_mean_squared_error: 11342327631917.0117\n",
      "Epoch 52/100\n",
      "163073/163073 [==============================] - 11s 70us/step - loss: 11176511605022.5293 - mean_squared_error: 11176511605022.5293 - val_loss: 11342327631917.0117 - val_mean_squared_error: 11342327631917.0117\n",
      "Epoch 53/100\n",
      "163073/163073 [==============================] - 10s 64us/step - loss: 11176511605254.8164 - mean_squared_error: 11176511605254.8164 - val_loss: 11342327631917.0117 - val_mean_squared_error: 11342327631917.0117\n",
      "Epoch 54/100\n",
      "163073/163073 [==============================] - 11s 67us/step - loss: 11176511609252.7324 - mean_squared_error: 11176511609252.7324 - val_loss: 11342327631917.0117 - val_mean_squared_error: 11342327631917.0117\n",
      "Epoch 55/100\n",
      "163073/163073 [==============================] - 11s 70us/step - loss: 11176511614211.1445 - mean_squared_error: 11176511614211.1445 - val_loss: 11342327631917.0117 - val_mean_squared_error: 11342327631917.0117\n",
      "Epoch 56/100\n",
      "163073/163073 [==============================] - 11s 65us/step - loss: 11176511602295.9648 - mean_squared_error: 11176511602295.9648 - val_loss: 11342327631917.0117 - val_mean_squared_error: 11342327631917.0117\n",
      "Epoch 57/100\n",
      "163073/163073 [==============================] - 12s 74us/step - loss: 11176511609207.3184 - mean_squared_error: 11176511609207.3184 - val_loss: 11342327631917.0117 - val_mean_squared_error: 11342327631917.0117\n",
      "Epoch 58/100\n",
      "163073/163073 [==============================] - 12s 72us/step - loss: 11176511608333.6289 - mean_squared_error: 11176511608333.6289 - val_loss: 11342327631917.0117 - val_mean_squared_error: 11342327631917.0117\n",
      "Epoch 59/100\n",
      "163073/163073 [==============================] - 11s 70us/step - loss: 11176511598469.4512 - mean_squared_error: 11176511598469.4512 - val_loss: 11342327631917.0117 - val_mean_squared_error: 11342327631917.0117\n",
      "Epoch 60/100\n",
      "163073/163073 [==============================] - 11s 68us/step - loss: 11176511603047.6836 - mean_squared_error: 11176511603047.6836 - val_loss: 11342327631917.0117 - val_mean_squared_error: 11342327631917.0117\n",
      "Epoch 61/100\n",
      "163073/163073 [==============================] - 12s 75us/step - loss: 11176511615342.0371 - mean_squared_error: 11176511615342.0371 - val_loss: 11342327631917.0117 - val_mean_squared_error: 11342327631917.0117\n",
      "Epoch 62/100\n",
      "163073/163073 [==============================] - 11s 66us/step - loss: 11176511622145.0859 - mean_squared_error: 11176511622145.0859 - val_loss: 11342327631917.0117 - val_mean_squared_error: 11342327631917.0117\n",
      "Epoch 63/100\n",
      "163073/163073 [==============================] - 13s 82us/step - loss: 11176511613576.9766 - mean_squared_error: 11176511613576.9766 - val_loss: 11342327631917.0117 - val_mean_squared_error: 11342327631917.0117 loss: 11195117370783.7168 - mean_square\n",
      "Epoch 64/100\n",
      "163073/163073 [==============================] - 11s 66us/step - loss: 11176511624287.9180 - mean_squared_error: 11176511624287.9180 - val_loss: 11342327631917.0117 - val_mean_squared_error: 11342327631917.0117\n",
      "Epoch 65/100\n",
      "163073/163073 [==============================] - 11s 70us/step - loss: 11176511595691.6484 - mean_squared_error: 11176511595691.6484 - val_loss: 11342327631917.0117 - val_mean_squared_error: 11342327631917.0117\n",
      "Epoch 66/100\n",
      "163073/163073 [==============================] - 12s 72us/step - loss: 11176511598314.3262 - mean_squared_error: 11176511598314.3262 - val_loss: 11342327631917.0117 - val_mean_squared_error: 11342327631917.0117\n",
      "Epoch 67/100\n",
      "163073/163073 [==============================] - 11s 69us/step - loss: 11176511603570.1289 - mean_squared_error: 11176511603570.1289 - val_loss: 11342327631917.0117 - val_mean_squared_error: 11342327631917.0117\n",
      "Epoch 68/100\n",
      "163073/163073 [==============================] - 10s 62us/step - loss: 11176511609066.2598 - mean_squared_error: 11176511609066.2598 - val_loss: 11342327631917.0117 - val_mean_squared_error: 11342327631917.0117\n",
      "Epoch 69/100\n",
      "163073/163073 [==============================] - 11s 70us/step - loss: 11176511615882.1680 - mean_squared_error: 11176511615882.1680 - val_loss: 11342327631917.0117 - val_mean_squared_error: 11342327631917.0117\n",
      "Epoch 70/100\n",
      "163073/163073 [==============================] - 10s 64us/step - loss: 11176511605143.8984 - mean_squared_error: 11176511605143.8984 - val_loss: 11342327631917.0117 - val_mean_squared_error: 11342327631917.0117\n",
      "Epoch 71/100\n",
      "163073/163073 [==============================] - 11s 70us/step - loss: 11176511595100.0781 - mean_squared_error: 11176511595100.0781 - val_loss: 11342327631917.0117 - val_mean_squared_error: 11342327631917.0117\n",
      "Epoch 72/100\n",
      "163073/163073 [==============================] - 12s 71us/step - loss: 11176511622624.8320 - mean_squared_error: 11176511622624.8320 - val_loss: 11342327631917.0117 - val_mean_squared_error: 11342327631917.0117\n",
      "Epoch 73/100\n"
     ]
    },
    {
     "name": "stdout",
     "output_type": "stream",
     "text": [
      "163073/163073 [==============================] - 10s 64us/step - loss: 11176511588242.3750 - mean_squared_error: 11176511588242.3750 - val_loss: 11342327631917.0117 - val_mean_squared_error: 11342327631917.0117\n",
      "Epoch 74/100\n",
      "163073/163073 [==============================] - 10s 62us/step - loss: 11176511613921.5898 - mean_squared_error: 11176511613921.5898 - val_loss: 11342327631917.0117 - val_mean_squared_error: 11342327631917.0117\n",
      "Epoch 75/100\n",
      "163073/163073 [==============================] - 9s 58us/step - loss: 11176511605803.3848 - mean_squared_error: 11176511605803.3848 - val_loss: 11342327631917.0117 - val_mean_squared_error: 11342327631917.0117\n",
      "Epoch 76/100\n",
      "163073/163073 [==============================] - 10s 61us/step - loss: 11176511599716.8906 - mean_squared_error: 11176511599716.8906 - val_loss: 11342327631917.0117 - val_mean_squared_error: 11342327631917.0117\n",
      "Epoch 77/100\n",
      "163073/163073 [==============================] - 10s 63us/step - loss: 11176511594662.0273 - mean_squared_error: 11176511594662.0273 - val_loss: 11342327631917.0117 - val_mean_squared_error: 11342327631917.0117\n",
      "Epoch 78/100\n",
      "163073/163073 [==============================] - 10s 63us/step - loss: 11176511596963.3008 - mean_squared_error: 11176511596963.3008 - val_loss: 11342327631917.0117 - val_mean_squared_error: 11342327631917.0117\n",
      "Epoch 79/100\n",
      "163073/163073 [==============================] - 11s 67us/step - loss: 11176511593586.5918 - mean_squared_error: 11176511593586.5918 - val_loss: 11342327631917.0117 - val_mean_squared_error: 11342327631917.0117\n",
      "Epoch 80/100\n",
      "163073/163073 [==============================] - 12s 74us/step - loss: 11176511609620.0508 - mean_squared_error: 11176511609620.0508 - val_loss: 11342327631917.0117 - val_mean_squared_error: 11342327631917.0117\n",
      "Epoch 81/100\n",
      "163073/163073 [==============================] - 13s 82us/step - loss: 11176511602840.3145 - mean_squared_error: 11176511602840.3145 - val_loss: 11342327631917.0117 - val_mean_squared_error: 11342327631917.0117\n",
      "Epoch 82/100\n",
      "163073/163073 [==============================] - 12s 72us/step - loss: 11176511612237.9062 - mean_squared_error: 11176511612237.9062 - val_loss: 11342327631917.0117 - val_mean_squared_error: 11342327631917.0117\n",
      "Epoch 83/100\n",
      "163073/163073 [==============================] - 15s 93us/step - loss: 11176511601933.6680 - mean_squared_error: 11176511601933.6680 - val_loss: 11342327631917.0117 - val_mean_squared_error: 11342327631917.0117\n",
      "Epoch 84/100\n",
      "163073/163073 [==============================] - 11s 66us/step - loss: 11176511600869.0859 - mean_squared_error: 11176511600869.0859 - val_loss: 11342327631917.0117 - val_mean_squared_error: 11342327631917.0117\n",
      "Epoch 85/100\n",
      "163073/163073 [==============================] - 12s 75us/step - loss: 11176511600429.0254 - mean_squared_error: 11176511600429.0254 - val_loss: 11342327631917.0117 - val_mean_squared_error: 11342327631917.0117\n",
      "Epoch 86/100\n",
      "163073/163073 [==============================] - 12s 72us/step - loss: 11176511601424.0820 - mean_squared_error: 11176511601424.0820 - val_loss: 11342327631917.0117 - val_mean_squared_error: 11342327631917.0117\n",
      "Epoch 87/100\n",
      "163073/163073 [==============================] - 13s 79us/step - loss: 11176511609098.4102 - mean_squared_error: 11176511609098.4102 - val_loss: 11342327631917.0117 - val_mean_squared_error: 11342327631917.0117\n",
      "Epoch 88/100\n",
      "163073/163073 [==============================] - 11s 70us/step - loss: 11176511600004.6387 - mean_squared_error: 11176511600004.6387 - val_loss: 11342327631917.0117 - val_mean_squared_error: 11342327631917.0117\n",
      "Epoch 89/100\n",
      "163073/163073 [==============================] - 11s 66us/step - loss: 11176511609065.8574 - mean_squared_error: 11176511609065.8574 - val_loss: 11342327631917.0117 - val_mean_squared_error: 11342327631917.0117\n",
      "Epoch 90/100\n",
      "163073/163073 [==============================] - 11s 65us/step - loss: 11176511609376.5117 - mean_squared_error: 11176511609376.5117 - val_loss: 11342327631917.0117 - val_mean_squared_error: 11342327631917.0117\n",
      "Epoch 91/100\n",
      "163073/163073 [==============================] - 10s 61us/step - loss: 11176511618042.6816 - mean_squared_error: 11176511618042.6816 - val_loss: 11342327631917.0117 - val_mean_squared_error: 11342327631917.0117\n",
      "Epoch 92/100\n",
      "163073/163073 [==============================] - 11s 65us/step - loss: 11176511603478.5000 - mean_squared_error: 11176511603478.5000 - val_loss: 11342327631917.0117 - val_mean_squared_error: 11342327631917.0117\n",
      "Epoch 93/100\n",
      "163073/163073 [==============================] - 11s 65us/step - loss: 11176511623624.0098 - mean_squared_error: 11176511623624.0098 - val_loss: 11342327631917.0117 - val_mean_squared_error: 11342327631917.0117\n",
      "Epoch 94/100\n",
      "163073/163073 [==============================] - 11s 65us/step - loss: 11176511593918.5469 - mean_squared_error: 11176511593918.5469 - val_loss: 11342327631917.0117 - val_mean_squared_error: 11342327631917.0117\n",
      "Epoch 95/100\n",
      "163073/163073 [==============================] - 11s 65us/step - loss: 11176511618790.1816 - mean_squared_error: 11176511618790.1816 - val_loss: 11342327631917.0117 - val_mean_squared_error: 11342327631917.0117\n",
      "Epoch 96/100\n",
      "163073/163073 [==============================] - 11s 66us/step - loss: 11176511596517.5137 - mean_squared_error: 11176511596517.5137 - val_loss: 11342327631917.0117 - val_mean_squared_error: 11342327631917.0117\n",
      "Epoch 97/100\n",
      "163073/163073 [==============================] - 11s 66us/step - loss: 11176511609734.9902 - mean_squared_error: 11176511609734.9902 - val_loss: 11342327631917.0117 - val_mean_squared_error: 11342327631917.0117\n",
      "Epoch 98/100\n",
      "163073/163073 [==============================] - 11s 69us/step - loss: 11176511604898.7500 - mean_squared_error: 11176511604898.7500 - val_loss: 11342327631917.0117 - val_mean_squared_error: 11342327631917.0117\n",
      "Epoch 99/100\n",
      "163073/163073 [==============================] - 11s 70us/step - loss: 11176511610705.9355 - mean_squared_error: 11176511610705.9355 - val_loss: 11342327631917.0117 - val_mean_squared_error: 11342327631917.0117\n",
      "Epoch 100/100\n",
      "163073/163073 [==============================] - 10s 63us/step - loss: 11176511614245.3047 - mean_squared_error: 11176511614245.3047 - val_loss: 11342327631917.0117 - val_mean_squared_error: 11342327631917.0117\n"
     ]
    }
   ],
   "source": [
    "hist = model.fit(X_train, Y_train,\n",
    "          batch_size=32, epochs=100,\n",
    "          validation_data=(X_val, Y_val))"
   ]
  },
  {
   "cell_type": "code",
   "execution_count": 113,
   "metadata": {},
   "outputs": [
    {
     "name": "stdout",
     "output_type": "stream",
     "text": [
      "34945/34945 [==============================] - 1s 28us/step\n"
     ]
    },
    {
     "data": {
      "text/plain": [
       "11123648602120.205"
      ]
     },
     "execution_count": 113,
     "metadata": {},
     "output_type": "execute_result"
    }
   ],
   "source": [
    "model.evaluate(X_test, Y_test)[1]"
   ]
  },
  {
   "cell_type": "code",
   "execution_count": null,
   "metadata": {},
   "outputs": [],
   "source": []
  }
 ],
 "metadata": {
  "kernelspec": {
   "display_name": "Python 3",
   "language": "python",
   "name": "python3"
  },
  "language_info": {
   "codemirror_mode": {
    "name": "ipython",
    "version": 3
   },
   "file_extension": ".py",
   "mimetype": "text/x-python",
   "name": "python",
   "nbconvert_exporter": "python",
   "pygments_lexer": "ipython3",
   "version": "3.7.3"
  }
 },
 "nbformat": 4,
 "nbformat_minor": 2
}
