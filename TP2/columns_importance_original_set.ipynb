{
 "cells": [
  {
   "cell_type": "markdown",
   "metadata": {},
   "source": [
    "# Importancia de cada columna del set original"
   ]
  },
  {
   "cell_type": "markdown",
   "metadata": {},
   "source": [
    "## Constantes globales "
   ]
  },
  {
   "cell_type": "code",
   "execution_count": 2,
   "metadata": {},
   "outputs": [],
   "source": [
    "TARGET = 'precio'"
   ]
  },
  {
   "cell_type": "markdown",
   "metadata": {},
   "source": [
    "## Imports "
   ]
  },
  {
   "cell_type": "markdown",
   "metadata": {},
   "source": [
    "#### Import pandas, numpy and & plots "
   ]
  },
  {
   "cell_type": "code",
   "execution_count": 3,
   "metadata": {},
   "outputs": [],
   "source": [
    "import pandas as pd\n",
    "import numpy as np\n",
    "import seaborn as sns\n",
    "from matplotlib import pyplot as plt"
   ]
  },
  {
   "cell_type": "markdown",
   "metadata": {},
   "source": [
    "#### Import sklearn"
   ]
  },
  {
   "cell_type": "code",
   "execution_count": null,
   "metadata": {},
   "outputs": [],
   "source": [
    "from sklearn.feature_selection import SelectKBest, f_classif, chi2, mutual_info_classif\n",
    "from sklearn.linear_model import LogisticRegression\n",
    "from sklearn.feature_selection import SelectFromModel\n",
    "from sklearn.ensemble import RandomForestRegressor # precio es variable continua\n",
    "from sklearn.model_selection import train_test_split\n",
    "from sklearn.preprocessing import LabelEncoder\n",
    "from sklearn.impute import SimpleImputer"
   ]
  },
  {
   "cell_type": "markdown",
   "metadata": {},
   "source": [
    "#### Import common "
   ]
  },
  {
   "cell_type": "code",
   "execution_count": 5,
   "metadata": {},
   "outputs": [],
   "source": [
    "import common.common_machine_learning as common"
   ]
  },
  {
   "cell_type": "markdown",
   "metadata": {},
   "source": [
    "## Carga optimizada del set de datos "
   ]
  },
  {
   "cell_type": "code",
   "execution_count": 6,
   "metadata": {},
   "outputs": [],
   "source": [
    "train = common.cargar_set_optimizado('sets_de_datos/train.csv')"
   ]
  },
  {
   "cell_type": "markdown",
   "metadata": {},
   "source": [
    "### Trabajaremos con una muestra para mejorar performance "
   ]
  },
  {
   "cell_type": "code",
   "execution_count": 15,
   "metadata": {},
   "outputs": [],
   "source": [
    "muestra_25 = train.sample(frac = 0.25, random_state = 1)"
   ]
  },
  {
   "cell_type": "markdown",
   "metadata": {},
   "source": [
    "## Funciones y metodos de scoring"
   ]
  },
  {
   "cell_type": "markdown",
   "metadata": {},
   "source": [
    "Mediremos cuanto depende el target : precio, de cada columna del set original: train.csv  "
   ]
  },
  {
   "cell_type": "markdown",
   "metadata": {},
   "source": [
    "Funcion de scoring: \n",
    "\n",
    "- f_classif (ANOVA F-value)\n",
    "- chi2 (X^2), \n",
    "- mutual information score.\n",
    "\n",
    "Todas las anteriores son 'Univariate Feature Selectors'.\n",
    "Puede utilizarze SelectKBest para seleccionar las K mejores features, a partir de alguna de las funciones anteriores.\n",
    "\n",
    "Otros metodos de scoring.\n",
    "\n",
    "- L1 regularization (Lasso Regression)\n",
    "- Random Forest\n"
   ]
  },
  {
   "cell_type": "markdown",
   "metadata": {},
   "source": [
    "Estos metodos necesitan del que los features tomen valores numericos, por lo que tendremos que transformar el set de datos mediante algun encoding:\n",
    "\n",
    "- One Hot Encoding (Problema : puede generar muchos features)\n",
    "- Label Encoding (Problema : variables numericas dan sensacion de orden)"
   ]
  },
  {
   "cell_type": "code",
   "execution_count": 16,
   "metadata": {
    "scrolled": true
   },
   "outputs": [
    {
     "name": "stdout",
     "output_type": "stream",
     "text": [
      "<class 'pandas.core.frame.DataFrame'>\n",
      "Int64Index: 60000 entries, 132827 to 83779\n",
      "Data columns (total 23 columns):\n",
      "id                            60000 non-null int32\n",
      "titulo                        58647 non-null object\n",
      "descripcion                   59579 non-null object\n",
      "tipodepropiedad               59993 non-null object\n",
      "direccion                     46642 non-null object\n",
      "ciudad                        59912 non-null object\n",
      "provincia                     59958 non-null object\n",
      "antiguedad                    49120 non-null float16\n",
      "habitaciones                  54381 non-null float16\n",
      "garages                       50564 non-null float16\n",
      "banos                         53502 non-null float16\n",
      "metroscubiertos               55672 non-null float16\n",
      "metrostotales                 47273 non-null float16\n",
      "idzona                        52912 non-null float32\n",
      "lat                           29266 non-null float64\n",
      "lng                           29266 non-null float64\n",
      "fecha                         60000 non-null datetime64[ns]\n",
      "gimnasio                      60000 non-null bool\n",
      "usosmultiples                 60000 non-null bool\n",
      "piscina                       60000 non-null bool\n",
      "escuelascercanas              60000 non-null bool\n",
      "centroscomercialescercanos    60000 non-null bool\n",
      "precio                        60000 non-null float32\n",
      "dtypes: bool(5), datetime64[ns](1), float16(6), float32(2), float64(2), int32(1), object(6)\n",
      "memory usage: 6.2+ MB\n"
     ]
    }
   ],
   "source": [
    "muestra_25.info()"
   ]
  },
  {
   "cell_type": "markdown",
   "metadata": {},
   "source": [
    "Vamos a descartar para este primer analisis las columnas de titulo, descripcion, direccion, lat, lng, fecha, idzona, que generan muchisimas sub-categorias"
   ]
  },
  {
   "cell_type": "code",
   "execution_count": 17,
   "metadata": {
    "scrolled": true
   },
   "outputs": [
    {
     "name": "stdout",
     "output_type": "stream",
     "text": [
      "<class 'pandas.core.frame.DataFrame'>\n",
      "Int64Index: 60000 entries, 132827 to 83779\n",
      "Data columns (total 16 columns):\n",
      "id                            60000 non-null int32\n",
      "tipodepropiedad               59993 non-null object\n",
      "ciudad                        59912 non-null object\n",
      "provincia                     59958 non-null object\n",
      "antiguedad                    49120 non-null float16\n",
      "habitaciones                  54381 non-null float16\n",
      "garages                       50564 non-null float16\n",
      "banos                         53502 non-null float16\n",
      "metroscubiertos               55672 non-null float16\n",
      "metrostotales                 47273 non-null float16\n",
      "gimnasio                      60000 non-null bool\n",
      "usosmultiples                 60000 non-null bool\n",
      "piscina                       60000 non-null bool\n",
      "escuelascercanas              60000 non-null bool\n",
      "centroscomercialescercanos    60000 non-null bool\n",
      "precio                        60000 non-null float32\n",
      "dtypes: bool(5), float16(6), float32(1), int32(1), object(3)\n",
      "memory usage: 3.3+ MB\n"
     ]
    }
   ],
   "source": [
    "# Droppeamos strings y columnas complejas y repetidas\n",
    "drop_cols = ['titulo', 'descripcion', 'direccion', 'lat', 'lng', 'fecha', 'idzona']\n",
    "muestra_25 = muestra_25.drop(drop_cols, axis=1).copy()\n",
    "muestra_25.info()"
   ]
  },
  {
   "cell_type": "code",
   "execution_count": 19,
   "metadata": {},
   "outputs": [
    {
     "name": "stdout",
     "output_type": "stream",
     "text": [
      "Cantidad de categorias en tiposdepropiedad : 22\n",
      "Cantidad de categorias en provincia : 32\n",
      "Cantidad de categorias en ciudad : 566\n"
     ]
    }
   ],
   "source": [
    "print('Cantidad de categorias en tiposdepropiedad : ' + str(muestra_25['tipodepropiedad'].value_counts().count()))\n",
    "print('Cantidad de categorias en provincia : ' + str(muestra_25['provincia'].value_counts().count()))\n",
    "print('Cantidad de categorias en ciudad : ' + str(muestra_25['ciudad'].value_counts().count()))"
   ]
  },
  {
   "cell_type": "markdown",
   "metadata": {},
   "source": [
    "Aproximandamente tenemos 600 categorias que codificar.  \n",
    "Si usamos One Hot Encoding, entonces estariamos agregando 600 columnas a nuestro set de datos. si bien dependiendo de la  computadora podria bancarselo o no, el resultado no seria que lo que se quisiese analizar.  \n",
    "Por lo tanto, si bien el modelo podria predecir mal, vamos a utilizar Label Encoding."
   ]
  },
  {
   "cell_type": "code",
   "execution_count": 22,
   "metadata": {},
   "outputs": [],
   "source": [
    "cat_features = ['tipodepropiedad', 'provincia', 'ciudad']\n",
    "\n",
    "label_encoder = LabelEncoder()\n",
    "\n",
    "for cat in cat_features:\n",
    "    muestra_25 = muestra_25.fillna(value = {cat : 'NaN'})\n",
    "    muestra_25[cat] = label_encoder.fit_transform(muestra_25[cat])    "
   ]
  },
  {
   "cell_type": "code",
   "execution_count": 23,
   "metadata": {},
   "outputs": [
    {
     "data": {
      "text/html": [
       "<div>\n",
       "<style scoped>\n",
       "    .dataframe tbody tr th:only-of-type {\n",
       "        vertical-align: middle;\n",
       "    }\n",
       "\n",
       "    .dataframe tbody tr th {\n",
       "        vertical-align: top;\n",
       "    }\n",
       "\n",
       "    .dataframe thead th {\n",
       "        text-align: right;\n",
       "    }\n",
       "</style>\n",
       "<table border=\"1\" class=\"dataframe\">\n",
       "  <thead>\n",
       "    <tr style=\"text-align: right;\">\n",
       "      <th></th>\n",
       "      <th>id</th>\n",
       "      <th>tipodepropiedad</th>\n",
       "      <th>ciudad</th>\n",
       "      <th>provincia</th>\n",
       "      <th>antiguedad</th>\n",
       "      <th>habitaciones</th>\n",
       "      <th>garages</th>\n",
       "      <th>banos</th>\n",
       "      <th>metroscubiertos</th>\n",
       "      <th>metrostotales</th>\n",
       "      <th>gimnasio</th>\n",
       "      <th>usosmultiples</th>\n",
       "      <th>piscina</th>\n",
       "      <th>escuelascercanas</th>\n",
       "      <th>centroscomercialescercanos</th>\n",
       "      <th>precio</th>\n",
       "    </tr>\n",
       "  </thead>\n",
       "  <tbody>\n",
       "    <tr>\n",
       "      <th>132827</th>\n",
       "      <td>245130</td>\n",
       "      <td>3</td>\n",
       "      <td>332</td>\n",
       "      <td>21</td>\n",
       "      <td>10.0</td>\n",
       "      <td>3.0</td>\n",
       "      <td>2.0</td>\n",
       "      <td>2.0</td>\n",
       "      <td>172.0</td>\n",
       "      <td>110.0</td>\n",
       "      <td>False</td>\n",
       "      <td>False</td>\n",
       "      <td>False</td>\n",
       "      <td>True</td>\n",
       "      <td>True</td>\n",
       "      <td>2300000.0</td>\n",
       "    </tr>\n",
       "    <tr>\n",
       "      <th>210008</th>\n",
       "      <td>179086</td>\n",
       "      <td>0</td>\n",
       "      <td>61</td>\n",
       "      <td>8</td>\n",
       "      <td>NaN</td>\n",
       "      <td>2.0</td>\n",
       "      <td>1.0</td>\n",
       "      <td>2.0</td>\n",
       "      <td>76.0</td>\n",
       "      <td>76.0</td>\n",
       "      <td>True</td>\n",
       "      <td>True</td>\n",
       "      <td>True</td>\n",
       "      <td>True</td>\n",
       "      <td>True</td>\n",
       "      <td>2262945.0</td>\n",
       "    </tr>\n",
       "    <tr>\n",
       "      <th>189056</th>\n",
       "      <td>87774</td>\n",
       "      <td>2</td>\n",
       "      <td>140</td>\n",
       "      <td>8</td>\n",
       "      <td>17.0</td>\n",
       "      <td>5.0</td>\n",
       "      <td>0.0</td>\n",
       "      <td>NaN</td>\n",
       "      <td>245.0</td>\n",
       "      <td>170.0</td>\n",
       "      <td>False</td>\n",
       "      <td>False</td>\n",
       "      <td>False</td>\n",
       "      <td>False</td>\n",
       "      <td>False</td>\n",
       "      <td>3800000.0</td>\n",
       "    </tr>\n",
       "    <tr>\n",
       "      <th>131466</th>\n",
       "      <td>260997</td>\n",
       "      <td>2</td>\n",
       "      <td>184</td>\n",
       "      <td>14</td>\n",
       "      <td>20.0</td>\n",
       "      <td>3.0</td>\n",
       "      <td>0.0</td>\n",
       "      <td>1.0</td>\n",
       "      <td>185.0</td>\n",
       "      <td>145.0</td>\n",
       "      <td>False</td>\n",
       "      <td>False</td>\n",
       "      <td>False</td>\n",
       "      <td>False</td>\n",
       "      <td>False</td>\n",
       "      <td>1000000.0</td>\n",
       "    </tr>\n",
       "    <tr>\n",
       "      <th>207302</th>\n",
       "      <td>109591</td>\n",
       "      <td>2</td>\n",
       "      <td>35</td>\n",
       "      <td>19</td>\n",
       "      <td>NaN</td>\n",
       "      <td>2.0</td>\n",
       "      <td>1.0</td>\n",
       "      <td>1.0</td>\n",
       "      <td>40.0</td>\n",
       "      <td>90.0</td>\n",
       "      <td>False</td>\n",
       "      <td>False</td>\n",
       "      <td>False</td>\n",
       "      <td>False</td>\n",
       "      <td>False</td>\n",
       "      <td>376200.0</td>\n",
       "    </tr>\n",
       "  </tbody>\n",
       "</table>\n",
       "</div>"
      ],
      "text/plain": [
       "            id  tipodepropiedad  ciudad  provincia  antiguedad  habitaciones  \\\n",
       "132827  245130                3     332         21        10.0           3.0   \n",
       "210008  179086                0      61          8         NaN           2.0   \n",
       "189056   87774                2     140          8        17.0           5.0   \n",
       "131466  260997                2     184         14        20.0           3.0   \n",
       "207302  109591                2      35         19         NaN           2.0   \n",
       "\n",
       "        garages  banos  metroscubiertos  metrostotales  gimnasio  \\\n",
       "132827      2.0    2.0            172.0          110.0     False   \n",
       "210008      1.0    2.0             76.0           76.0      True   \n",
       "189056      0.0    NaN            245.0          170.0     False   \n",
       "131466      0.0    1.0            185.0          145.0     False   \n",
       "207302      1.0    1.0             40.0           90.0     False   \n",
       "\n",
       "        usosmultiples  piscina  escuelascercanas  centroscomercialescercanos  \\\n",
       "132827          False    False              True                        True   \n",
       "210008           True     True              True                        True   \n",
       "189056          False    False             False                       False   \n",
       "131466          False    False             False                       False   \n",
       "207302          False    False             False                       False   \n",
       "\n",
       "           precio  \n",
       "132827  2300000.0  \n",
       "210008  2262945.0  \n",
       "189056  3800000.0  \n",
       "131466  1000000.0  \n",
       "207302   376200.0  "
      ]
     },
     "execution_count": 23,
     "metadata": {},
     "output_type": "execute_result"
    }
   ],
   "source": [
    "muestra_25.head()"
   ]
  },
  {
   "cell_type": "code",
   "execution_count": 33,
   "metadata": {},
   "outputs": [],
   "source": [
    "feature_cols = muestra_25.columns.drop(TARGET)\n",
    "muestra_25_porciento = train_simple.sample(frac = 0.25, random_state = 1)\n",
    "muestra_25_X = muestra_25.drop([TARGET], axis=1)\n",
    "muestra_25_y = muestra_25[TARGET]"
   ]
  },
  {
   "cell_type": "markdown",
   "metadata": {},
   "source": [
    "### Imputar nulls numericos "
   ]
  },
  {
   "cell_type": "code",
   "execution_count": 34,
   "metadata": {},
   "outputs": [],
   "source": [
    "cols_con_null_a_cero = ['habitaciones', 'banos', 'garages']\n",
    "cols_con_null_a_promedio = ['metrostotales', 'metroscubiertos', 'antiguedad']"
   ]
  },
  {
   "cell_type": "code",
   "execution_count": 36,
   "metadata": {},
   "outputs": [],
   "source": [
    "imp_mean = SimpleImputer()\n",
    "for col in cols_con_null_a_promedio:\n",
    "    muestra_25_X[col] = imp_mean.fit_transform(muestra_25_X[[col]])  "
   ]
  },
  {
   "cell_type": "code",
   "execution_count": 37,
   "metadata": {},
   "outputs": [],
   "source": [
    "for col in cols_con_null_a_cero:\n",
    "    muestra_25_X[col] = muestra_25_X.fillna(value = {col : 0})  "
   ]
  },
  {
   "cell_type": "markdown",
   "metadata": {},
   "source": [
    "### f_classif"
   ]
  },
  {
   "cell_type": "code",
   "execution_count": 41,
   "metadata": {
    "scrolled": true
   },
   "outputs": [
    {
     "data": {
      "text/plain": [
       "array([[3, 172.0, 110.0],\n",
       "       [0, 76.0, 76.0],\n",
       "       [2, 245.0, 170.0],\n",
       "       ...,\n",
       "       [3, 173.57775901710016, 236.0],\n",
       "       [2, 89.0, 34.0],\n",
       "       [2, 120.0, 176.31362511370128]], dtype=object)"
      ]
     },
     "execution_count": 41,
     "metadata": {},
     "output_type": "execute_result"
    }
   ],
   "source": [
    "selector = SelectKBest(f_classif, k=3)\n",
    "\n",
    "muestra_25_X_new = selector.fit_transform(muestra_25_X, muestra_25_y)\n",
    "muestra_25_X_new"
   ]
  },
  {
   "cell_type": "code",
   "execution_count": 42,
   "metadata": {},
   "outputs": [
    {
     "data": {
      "text/plain": [
       "Index(['id', 'tipodepropiedad', 'ciudad', 'provincia', 'antiguedad',\n",
       "       'habitaciones', 'garages', 'banos', 'metroscubiertos', 'metrostotales',\n",
       "       'gimnasio', 'usosmultiples', 'piscina', 'escuelascercanas',\n",
       "       'centroscomercialescercanos'],\n",
       "      dtype='object')"
      ]
     },
     "execution_count": 42,
     "metadata": {},
     "output_type": "execute_result"
    }
   ],
   "source": [
    "feature_cols"
   ]
  },
  {
   "cell_type": "code",
   "execution_count": 43,
   "metadata": {},
   "outputs": [
    {
     "data": {
      "text/plain": [
       "array([0.97788589, 2.44158079, 1.20816121, 1.40583951, 0.86116748,\n",
       "       0.97788589, 0.97788589, 0.97788589, 9.35188493, 4.61121211,\n",
       "       1.63268287, 1.55937629, 1.35914493, 0.99417617, 0.97673635])"
      ]
     },
     "execution_count": 43,
     "metadata": {},
     "output_type": "execute_result"
    }
   ],
   "source": [
    "selector.scores_"
   ]
  },
  {
   "cell_type": "code",
   "execution_count": 44,
   "metadata": {},
   "outputs": [
    {
     "data": {
      "image/png": "[encoded data removed]",
      "text/plain": [
       "<Figure size 504x504 with 1 Axes>"
      ]
     },
     "metadata": {
      "needs_background": "light"
     },
     "output_type": "display_data"
    }
   ],
   "source": [
    "plot = sns.barplot(\n",
    "            x = selector.scores_,\n",
    "            y = feature_cols\n",
    "        )\n",
    "\n",
    "plot.set_xlabel('Importancia', fontsize = 15)\n",
    "plot.set_ylabel('Columnas', fontsize = 15)\n",
    "plot.set_title('Importancia columnas con Univariate (f_classif)', fontsize = 20)\n",
    "fig = plot.get_figure()\n",
    "fig.set_size_inches(7,7)\n",
    "\n",
    "#plot.set_xticklabels(plot.get_xticklabels(), rotation = 90)\n",
    "plt.show()"
   ]
  },
  {
   "cell_type": "code",
   "execution_count": 46,
   "metadata": {},
   "outputs": [
    {
     "data": {
      "text/html": [
       "<div>\n",
       "<style scoped>\n",
       "    .dataframe tbody tr th:only-of-type {\n",
       "        vertical-align: middle;\n",
       "    }\n",
       "\n",
       "    .dataframe tbody tr th {\n",
       "        vertical-align: top;\n",
       "    }\n",
       "\n",
       "    .dataframe thead th {\n",
       "        text-align: right;\n",
       "    }\n",
       "</style>\n",
       "<table border=\"1\" class=\"dataframe\">\n",
       "  <thead>\n",
       "    <tr style=\"text-align: right;\">\n",
       "      <th></th>\n",
       "      <th>id</th>\n",
       "      <th>tipodepropiedad</th>\n",
       "      <th>ciudad</th>\n",
       "      <th>provincia</th>\n",
       "      <th>antiguedad</th>\n",
       "      <th>habitaciones</th>\n",
       "      <th>garages</th>\n",
       "      <th>banos</th>\n",
       "      <th>metroscubiertos</th>\n",
       "      <th>metrostotales</th>\n",
       "      <th>gimnasio</th>\n",
       "      <th>usosmultiples</th>\n",
       "      <th>piscina</th>\n",
       "      <th>escuelascercanas</th>\n",
       "      <th>centroscomercialescercanos</th>\n",
       "    </tr>\n",
       "  </thead>\n",
       "  <tbody>\n",
       "    <tr>\n",
       "      <th>132827</th>\n",
       "      <td>0</td>\n",
       "      <td>3</td>\n",
       "      <td>0</td>\n",
       "      <td>0</td>\n",
       "      <td>0</td>\n",
       "      <td>0</td>\n",
       "      <td>0</td>\n",
       "      <td>0</td>\n",
       "      <td>172</td>\n",
       "      <td>110</td>\n",
       "      <td>0</td>\n",
       "      <td>0</td>\n",
       "      <td>0</td>\n",
       "      <td>0</td>\n",
       "      <td>0</td>\n",
       "    </tr>\n",
       "    <tr>\n",
       "      <th>210008</th>\n",
       "      <td>0</td>\n",
       "      <td>0</td>\n",
       "      <td>0</td>\n",
       "      <td>0</td>\n",
       "      <td>0</td>\n",
       "      <td>0</td>\n",
       "      <td>0</td>\n",
       "      <td>0</td>\n",
       "      <td>76</td>\n",
       "      <td>76</td>\n",
       "      <td>0</td>\n",
       "      <td>0</td>\n",
       "      <td>0</td>\n",
       "      <td>0</td>\n",
       "      <td>0</td>\n",
       "    </tr>\n",
       "    <tr>\n",
       "      <th>189056</th>\n",
       "      <td>0</td>\n",
       "      <td>2</td>\n",
       "      <td>0</td>\n",
       "      <td>0</td>\n",
       "      <td>0</td>\n",
       "      <td>0</td>\n",
       "      <td>0</td>\n",
       "      <td>0</td>\n",
       "      <td>245</td>\n",
       "      <td>170</td>\n",
       "      <td>0</td>\n",
       "      <td>0</td>\n",
       "      <td>0</td>\n",
       "      <td>0</td>\n",
       "      <td>0</td>\n",
       "    </tr>\n",
       "    <tr>\n",
       "      <th>131466</th>\n",
       "      <td>0</td>\n",
       "      <td>2</td>\n",
       "      <td>0</td>\n",
       "      <td>0</td>\n",
       "      <td>0</td>\n",
       "      <td>0</td>\n",
       "      <td>0</td>\n",
       "      <td>0</td>\n",
       "      <td>185</td>\n",
       "      <td>145</td>\n",
       "      <td>0</td>\n",
       "      <td>0</td>\n",
       "      <td>0</td>\n",
       "      <td>0</td>\n",
       "      <td>0</td>\n",
       "    </tr>\n",
       "    <tr>\n",
       "      <th>207302</th>\n",
       "      <td>0</td>\n",
       "      <td>2</td>\n",
       "      <td>0</td>\n",
       "      <td>0</td>\n",
       "      <td>0</td>\n",
       "      <td>0</td>\n",
       "      <td>0</td>\n",
       "      <td>0</td>\n",
       "      <td>40</td>\n",
       "      <td>90</td>\n",
       "      <td>0</td>\n",
       "      <td>0</td>\n",
       "      <td>0</td>\n",
       "      <td>0</td>\n",
       "      <td>0</td>\n",
       "    </tr>\n",
       "  </tbody>\n",
       "</table>\n",
       "</div>"
      ],
      "text/plain": [
       "       id tipodepropiedad ciudad provincia antiguedad habitaciones garages  \\\n",
       "132827  0               3      0         0          0            0       0   \n",
       "210008  0               0      0         0          0            0       0   \n",
       "189056  0               2      0         0          0            0       0   \n",
       "131466  0               2      0         0          0            0       0   \n",
       "207302  0               2      0         0          0            0       0   \n",
       "\n",
       "       banos metroscubiertos metrostotales gimnasio usosmultiples piscina  \\\n",
       "132827     0             172           110        0             0       0   \n",
       "210008     0              76            76        0             0       0   \n",
       "189056     0             245           170        0             0       0   \n",
       "131466     0             185           145        0             0       0   \n",
       "207302     0              40            90        0             0       0   \n",
       "\n",
       "       escuelascercanas centroscomercialescercanos  \n",
       "132827                0                          0  \n",
       "210008                0                          0  \n",
       "189056                0                          0  \n",
       "131466                0                          0  \n",
       "207302                0                          0  "
      ]
     },
     "execution_count": 46,
     "metadata": {},
     "output_type": "execute_result"
    }
   ],
   "source": [
    "selected_features = pd.DataFrame(selector.inverse_transform(muestra_25_X_new), \n",
    "                                 index=muestra_25_X.index, \n",
    "                                 columns=feature_cols)\n",
    "selected_features.head()"
   ]
  },
  {
   "cell_type": "code",
   "execution_count": 47,
   "metadata": {},
   "outputs": [],
   "source": [
    "selected_columns = selected_features.columns[selected_features.var() != 0]"
   ]
  },
  {
   "cell_type": "code",
   "execution_count": 48,
   "metadata": {},
   "outputs": [
    {
     "data": {
      "text/plain": [
       "Index(['tipodepropiedad', 'metroscubiertos', 'metrostotales'], dtype='object')"
      ]
     },
     "execution_count": 48,
     "metadata": {},
     "output_type": "execute_result"
    }
   ],
   "source": [
    "selected_columns"
   ]
  },
  {
   "cell_type": "code",
   "execution_count": 49,
   "metadata": {},
   "outputs": [],
   "source": [
    "#train_simple_X_test[selected_columns].head()"
   ]
  },
  {
   "cell_type": "markdown",
   "metadata": {},
   "source": [
    "### chi2"
   ]
  },
  {
   "cell_type": "code",
   "execution_count": 50,
   "metadata": {},
   "outputs": [],
   "source": [
    "selector_chi2 = SelectKBest(chi2, k=3)\n",
    "\n",
    "muestra_25_X_new = selector_chi2.fit_transform(muestra_25_X, muestra_25_y)"
   ]
  },
  {
   "cell_type": "code",
   "execution_count": 51,
   "metadata": {},
   "outputs": [
    {
     "data": {
      "text/plain": [
       "array([2.90077157e+08, 8.36612651e+04, 6.62771016e+05, 3.14167371e+04,\n",
       "       4.83547075e+04, 2.90077157e+08, 2.90077157e+08, 2.90077157e+08,\n",
       "       1.56167272e+06, 7.97492271e+05, 8.54643955e+03, 8.28670285e+03,\n",
       "       7.10054521e+03, 3.27246964e+03, 3.49957177e+03])"
      ]
     },
     "execution_count": 51,
     "metadata": {},
     "output_type": "execute_result"
    }
   ],
   "source": [
    "selector_chi2.scores_"
   ]
  },
  {
   "cell_type": "code",
   "execution_count": 52,
   "metadata": {
    "scrolled": true
   },
   "outputs": [
    {
     "data": {
      "image/png": "[encoded data removed]",
      "text/plain": [
       "<Figure size 504x504 with 1 Axes>"
      ]
     },
     "metadata": {
      "needs_background": "light"
     },
     "output_type": "display_data"
    }
   ],
   "source": [
    "plot = sns.barplot(\n",
    "            y = feature_cols,\n",
    "            x = selector_chi2.scores_,\n",
    "        )\n",
    "\n",
    "plot.set_xlabel('Importancia', fontsize = 15)\n",
    "plot.set_ylabel('Columnas', fontsize = 15)\n",
    "plot.set_title('Importancia columnas con Univariate (chi2)', fontsize = 20)\n",
    "fig = plot.get_figure()\n",
    "fig.set_size_inches(7,7)\n",
    "\n",
    "plt.show()"
   ]
  },
  {
   "cell_type": "code",
   "execution_count": 70,
   "metadata": {
    "scrolled": true
   },
   "outputs": [
    {
     "data": {
      "image/png": "[encoded data removed]",
      "text/plain": [
       "<Figure size 504x504 with 1 Axes>"
      ]
     },
     "metadata": {
      "needs_background": "light"
     },
     "output_type": "display_data"
    }
   ],
   "source": [
    "plot = sns.barplot(\n",
    "            x = np.append(selector_chi2.scores_[1:5], selector_chi2.scores_[8:]),\n",
    "            y = np.append(feature_cols[1:5], feature_cols[8:])\n",
    "        )\n",
    "\n",
    "plot.set_xlabel('Importancia', fontsize = 15)\n",
    "plot.set_ylabel('Columnas', fontsize = 15)\n",
    "plot.set_title('Importancia columnas con Univariate (chi2) \\nmenor a 2 millones', fontsize = 20)\n",
    "fig = plot.get_figure()\n",
    "fig.set_size_inches(7,7)\n",
    "\n",
    "plt.show()"
   ]
  },
  {
   "cell_type": "code",
   "execution_count": 69,
   "metadata": {
    "scrolled": true
   },
   "outputs": [
    {
     "data": {
      "image/png": "[encoded data removed]",
      "text/plain": [
       "<Figure size 504x504 with 1 Axes>"
      ]
     },
     "metadata": {
      "needs_background": "light"
     },
     "output_type": "display_data"
    }
   ],
   "source": [
    "plot = sns.barplot(\n",
    "            x = selector_chi2.scores_[10:],\n",
    "            y = feature_cols[10:]\n",
    "        )\n",
    "\n",
    "plot.set_xlabel('Importancia', fontsize = 15)\n",
    "plot.set_ylabel('Columnas', fontsize = 15)\n",
    "plot.set_title('Importancia columnas con Univariate (chi2) \\nmenor a 10 mil', fontsize = 20)\n",
    "fig = plot.get_figure()\n",
    "fig.set_size_inches(7,7)\n",
    "\n",
    "plt.show()"
   ]
  },
  {
   "cell_type": "markdown",
   "metadata": {},
   "source": [
    "### mutual_info_classif"
   ]
  },
  {
   "cell_type": "code",
   "execution_count": 64,
   "metadata": {},
   "outputs": [],
   "source": [
    "selector_mutual = SelectKBest(mutual_info_classif, k=3)\n",
    "\n",
    "muestra_25_X_new = selector_mutual.fit_transform(muestra_25_X, muestra_25_y)"
   ]
  },
  {
   "cell_type": "code",
   "execution_count": 65,
   "metadata": {
    "scrolled": false
   },
   "outputs": [
    {
     "data": {
      "image/png": "[encoded data removed]",
      "text/plain": [
       "<Figure size 504x504 with 1 Axes>"
      ]
     },
     "metadata": {
      "needs_background": "light"
     },
     "output_type": "display_data"
    }
   ],
   "source": [
    "plot = sns.barplot(\n",
    "            y = feature_cols,\n",
    "            x = selector_mutual.scores_,\n",
    "        )\n",
    "\n",
    "plot.set_xlabel('Importancia', fontsize = 15)\n",
    "plot.set_ylabel('Columnas', fontsize = 15)\n",
    "plot.set_title('Importancia columnas con Univariate (mutual)', fontsize = 20)\n",
    "fig = plot.get_figure()\n",
    "fig.set_size_inches(7,7)\n",
    "\n",
    "plt.show()"
   ]
  },
  {
   "cell_type": "code",
   "execution_count": 68,
   "metadata": {},
   "outputs": [
    {
     "data": {
      "image/png": "[encoded data removed]",
      "text/plain": [
       "<Figure size 504x504 with 1 Axes>"
      ]
     },
     "metadata": {
      "needs_background": "light"
     },
     "output_type": "display_data"
    }
   ],
   "source": [
    "plot = sns.barplot(\n",
    "            x = np.append(selector_mutual.scores_[0], selector_mutual.scores_[5:8]) ,\n",
    "            y = np.append(feature_cols[0], feature_cols[5:8])\n",
    "        )\n",
    "\n",
    "plot.set_xlabel('Importancia', fontsize = 15)\n",
    "plot.set_ylabel('Columnas', fontsize = 15)\n",
    "plot.set_title('Importancia columnas con Univariate (mutual) \\nmucho menor a cero', fontsize = 20)\n",
    "fig = plot.get_figure()\n",
    "fig.set_size_inches(7,7)\n",
    "\n",
    "plt.show()"
   ]
  },
  {
   "cell_type": "markdown",
   "metadata": {},
   "source": [
    "## L1 regularization (Lasso Regression)"
   ]
  },
  {
   "cell_type": "markdown",
   "metadata": {},
   "source": [
    "Penalización al aumentar la complejidad del modelo"
   ]
  },
  {
   "cell_type": "code",
   "execution_count": null,
   "metadata": {},
   "outputs": [],
   "source": [
    "# Set the regularization parameter C=1\n",
    "logistic = LogisticRegression(C=1, penalty=\"l1\", random_state=7, solver = 'lbfgs', multi_class = 'auto').fit(muestra_25_X, muestra_25_y)"
   ]
  },
  {
   "cell_type": "code",
   "execution_count": null,
   "metadata": {},
   "outputs": [],
   "source": [
    "logistic.coef_"
   ]
  },
  {
   "cell_type": "code",
   "execution_count": null,
   "metadata": {},
   "outputs": [],
   "source": [
    "plt.bar(feature_cols, logistic.coef_[0])\n",
    "plt.xlabel('Features')\n",
    "plt.ylabel('Importancia')\n",
    "plt.title('Importancia Features con Lasso')\n",
    "plt.show()"
   ]
  },
  {
   "cell_type": "code",
   "execution_count": null,
   "metadata": {},
   "outputs": [],
   "source": [
    "model = SelectFromModel(logistic, prefit=True, max_features=3)\n",
    "\n",
    "X_new = model.transform(X)"
   ]
  },
  {
   "cell_type": "code",
   "execution_count": null,
   "metadata": {},
   "outputs": [],
   "source": [
    "selected_features = pd.DataFrame(model.inverse_transform(X_new), \n",
    "                                 index=train.index, \n",
    "                                 columns=feature_cols)\n",
    "selected_features.head()"
   ]
  },
  {
   "cell_type": "markdown",
   "metadata": {},
   "source": [
    "## Random Forest"
   ]
  },
  {
   "cell_type": "code",
   "execution_count": null,
   "metadata": {},
   "outputs": [],
   "source": [
    "from sklearn.ensemble import RandomForestClassifier\n",
    "from sklearn.metrics import mean_absolute_error\n",
    "\n",
    "X, y = train[train.columns.drop(\"outcome\")], train['outcome']\n",
    "val_X, val_y = valid[valid.columns.drop(\"outcome\")], valid['outcome']\n",
    "\n",
    "forest_model = RandomForestClassifier(random_state=1)\n",
    "forest_model.fit(X, y)\n",
    "preds = forest_model.predict(val_X)\n",
    "print(mean_absolute_error(val_y, preds))"
   ]
  },
  {
   "cell_type": "code",
   "execution_count": null,
   "metadata": {},
   "outputs": [],
   "source": [
    "forest_model.feature_importances_"
   ]
  },
  {
   "cell_type": "code",
   "execution_count": null,
   "metadata": {},
   "outputs": [],
   "source": [
    "plt.bar(feature_cols, forest_model.feature_importances_)\n",
    "plt.xlabel('Features')\n",
    "plt.ylabel('Importancia')\n",
    "plt.title('Importancia Features con RF')\n",
    "plt.show()"
   ]
  },
  {
   "cell_type": "code",
   "execution_count": null,
   "metadata": {},
   "outputs": [],
   "source": [
    "model = SelectFromModel(forest_model, prefit=True, max_features=3)\n",
    "\n",
    "X_new = model.transform(X)"
   ]
  },
  {
   "cell_type": "code",
   "execution_count": null,
   "metadata": {},
   "outputs": [],
   "source": [
    "X_new"
   ]
  }
 ],
 "metadata": {
  "kernelspec": {
   "display_name": "Python 3",
   "language": "python",
   "name": "python3"
  },
  "language_info": {
   "codemirror_mode": {
    "name": "ipython",
    "version": 3
   },
   "file_extension": ".py",
   "mimetype": "text/x-python",
   "name": "python",
   "nbconvert_exporter": "python",
   "pygments_lexer": "ipython3",
   "version": "3.7.3"
  }
 },
 "nbformat": 4,
 "nbformat_minor": 2
}
