{
 "cells": [
  {
   "cell_type": "markdown",
   "metadata": {},
   "source": [
    "En el anterior tuneo overfitee asique tratare de arreglar ese problema\n",
    "Ademas agrego features basados en titulo y descripcion"
   ]
  },
  {
   "cell_type": "code",
   "execution_count": 4,
   "metadata": {},
   "outputs": [],
   "source": [
    "import pandas as pd\n",
    "import numpy as np"
   ]
  },
  {
   "cell_type": "markdown",
   "metadata": {},
   "source": [
    "Preparo el dataframe"
   ]
  },
  {
   "cell_type": "code",
   "execution_count": 5,
   "metadata": {},
   "outputs": [],
   "source": [
    "from common import feature_num"
   ]
  },
  {
   "cell_type": "code",
   "execution_count": 9,
   "metadata": {},
   "outputs": [],
   "source": [
    "train = pd.read_csv(\"sets_de_datos/train.csv\", index_col=0)\n",
    "\n",
    "train[\"fecha\"] = pd.to_datetime(train[\"fecha\"])\n",
    "train[\"fecha_n\"] = train[\"fecha\"].dt.year * 10000 + train[\"fecha\"].dt.month * 100 + train[\"fecha\"].dt.day"
   ]
  },
  {
   "cell_type": "code",
   "execution_count": 10,
   "metadata": {},
   "outputs": [],
   "source": [
    "train = feature_num.completar_lat_lng_con_provincias_y_ciudades(train)\n",
    "train = feature_num.completar_lat_lng_con_idzona_mean(train)\n",
    "feature_num.completar_lat_lng_con_promedio_Mexico(train)"
   ]
  }
 ],
 "metadata": {
  "kernelspec": {
   "display_name": "Python 3",
   "language": "python",
   "name": "python3"
  },
  "language_info": {
   "codemirror_mode": {
    "name": "ipython",
    "version": 3
   },
   "file_extension": ".py",
   "mimetype": "text/x-python",
   "name": "python",
   "nbconvert_exporter": "python",
   "pygments_lexer": "ipython3",
   "version": "3.6.8"
  }
 },
 "nbformat": 4,
 "nbformat_minor": 2
}
