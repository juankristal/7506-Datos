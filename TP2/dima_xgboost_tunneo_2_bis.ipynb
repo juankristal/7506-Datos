{
 "cells": [
  {
   "cell_type": "markdown",
   "metadata": {},
   "source": [
    "## Imports "
   ]
  },
  {
   "cell_type": "code",
   "execution_count": 12,
   "metadata": {},
   "outputs": [],
   "source": [
    "import common.feature_string as feature_string\n",
    "import common.feature_num as feature_num\n",
    "import common.feature_categorica as feature_categorica\n",
    "import common.common_machine_learning as common\n",
    "import common.my_pipeline as my_pipe\n",
    "import pandas as pd\n",
    "import numpy as np\n",
    "from sklearn.pipeline import Pipeline\n",
    "from xgboost import XGBRegressor\n",
    "import time\n",
    "from hyperopt import fmin, tpe, hp, STATUS_OK\n",
    "from sklearn.model_selection import cross_val_score"
   ]
  },
  {
   "cell_type": "markdown",
   "metadata": {},
   "source": [
    "### Ignore Warnings "
   ]
  },
  {
   "cell_type": "code",
   "execution_count": 13,
   "metadata": {},
   "outputs": [],
   "source": [
    "from warnings import simplefilter\n",
    "simplefilter(action='ignore', category=FutureWarning)"
   ]
  },
  {
   "cell_type": "markdown",
   "metadata": {},
   "source": [
    "## Constantes"
   ]
  },
  {
   "cell_type": "code",
   "execution_count": 14,
   "metadata": {},
   "outputs": [],
   "source": [
    "TARGET = 'precio'\n",
    "K = 3\n",
    "RANDOM_SEMILLA = 3 # numero favorito (de la suerte)\n",
    "XGB_RE_OBJECTIVE = 'reg:squarederror'\n",
    "N_ITER = 15"
   ]
  },
  {
   "cell_type": "code",
   "execution_count": 15,
   "metadata": {},
   "outputs": [
    {
     "name": "stdout",
     "output_type": "stream",
     "text": [
      "Tiempo = 0.06 minutos\n"
     ]
    }
   ],
   "source": [
    "t0 = time.time()\n",
    "train = common.cargar_set_optimizado('sets_de_datos/train.csv', index_col = 0)\n",
    "t1 = time.time()\n",
    "print('Tiempo = {0:.2f} minutos'.format((t1-t0)/60))"
   ]
  },
  {
   "cell_type": "markdown",
   "metadata": {},
   "source": [
    "## Features agregables por registro (no necesita entrenamiento previo)"
   ]
  },
  {
   "cell_type": "markdown",
   "metadata": {},
   "source": [
    "Esto puede tardar unos minutos.  \n",
    "Dima'pc = 3 minutos (aprox)"
   ]
  },
  {
   "cell_type": "code",
   "execution_count": 16,
   "metadata": {},
   "outputs": [
    {
     "name": "stdout",
     "output_type": "stream",
     "text": [
      "Tiempo = 2.77 minutos\n"
     ]
    }
   ],
   "source": [
    "t0 = time.time()\n",
    "feature_num.agregar_feature_fecha_numerica(train)\n",
    "train = feature_categorica.agregar_feature_one_hot_encoding(train)\n",
    "feature_string.agregar_feature_todos_ref(train)\n",
    "t1 = time.time()\n",
    "print('Tiempo = {0:.2f} minutos'.format((t1-t0)/60))"
   ]
  },
  {
   "cell_type": "markdown",
   "metadata": {},
   "source": [
    "Elimino features no usar"
   ]
  },
  {
   "cell_type": "code",
   "execution_count": 17,
   "metadata": {},
   "outputs": [],
   "source": [
    "feature_num.eliminar_num_no_feature(train)\n",
    "feature_categorica.eliminar_categoria_no_feature(train)\n",
    "feature_string.eliminar_string_no_feature(train)"
   ]
  },
  {
   "cell_type": "markdown",
   "metadata": {},
   "source": [
    "## Muestra y Target"
   ]
  },
  {
   "cell_type": "code",
   "execution_count": 18,
   "metadata": {},
   "outputs": [],
   "source": [
    "X = train.drop([TARGET], axis = 1).copy()\n",
    "y = train[TARGET].copy()"
   ]
  },
  {
   "cell_type": "markdown",
   "metadata": {},
   "source": [
    "## Objective, Pipeline & Space "
   ]
  },
  {
   "cell_type": "code",
   "execution_count": 19,
   "metadata": {},
   "outputs": [],
   "source": [
    "pre_procesar_pipe = my_pipe.get_columns_pipeline()"
   ]
  },
  {
   "cell_type": "code",
   "execution_count": 20,
   "metadata": {},
   "outputs": [],
   "source": [
    "def objective(hyper_parametros):\n",
    "    \n",
    "    busqueda_pipe = Pipeline(steps = [\n",
    "        ('pre-procesar', pre_procesar_pipe),\n",
    "        ('xgb_regressor', XGBRegressor(objective = XGB_RE_OBJECTIVE, **hyper_parametros))\n",
    "    ])  \n",
    "    \n",
    "    score = cross_val_score(busqueda_pipe, X, y, scoring='neg_mean_absolute_error', cv=K).mean()\n",
    "    \n",
    "    print(\"SCORE: {:.3f} params {}\".format(score, hyper_parametros))\n",
    "    \n",
    "    return {'loss': -score, 'status': STATUS_OK}\n",
    "\n",
    "\"\"\"\n",
    "LAST BEST:\n",
    "{'xgb_re__colsample_bytree': 0.6269206294878382, \n",
    " 'xgb_re__gamma': 0.3627342789120286, \n",
    " 'xgb_re__lambda': 1.1126608037893504, \n",
    " 'xgb_re__learning_rate': 0.011511019740908655, \n",
    " 'xgb_re__max_depth': 75, \n",
    " 'xgb_re__min_child_weight': 8, \n",
    " 'xgb_re__n_estimators': 528, \n",
    " 'xgb_re__subsample': 0.5914933850528934}\n",
    "\"\"\"\n",
    "\n",
    "space = {\n",
    "    \"n_estimators\": hp.randint(\"xgb_re__n_estimators\", 1000) + 400, \n",
    "    \"learning_rate\": hp.uniform(\"xgb_re__learning_rate\", 0.005, 0.03), \n",
    "    \"gamma\": hp.uniform(\"xgb_re__gamma\", 0.2, 5),\n",
    "    \"lambda\": hp.uniform(\"xgb_re__lambda\",0.9, 3),\n",
    "    \"max_depth\": hp.randint(\"xgb_re__max_depth\", 100) + 70, \n",
    "    \"subsample\": hp.uniform(\"xgb_re__subsample\", 0.7, 0.5),\n",
    "    \"colsample_bytree\": hp.uniform(\"xgb_re__colsample_bytree\", 0.8, 0.5),\n",
    "    \"min_child_weight\": hp.randint(\"xgb_re__min_child_weight\", 15) + 5\n",
    "}"
   ]
  },
  {
   "cell_type": "markdown",
   "metadata": {},
   "source": [
    "## Tunning"
   ]
  },
  {
   "cell_type": "code",
   "execution_count": 21,
   "metadata": {
    "scrolled": false
   },
   "outputs": [
    {
     "name": "stdout",
     "output_type": "stream",
     "text": [
      "SCORE: -946958.062 params {'colsample_bytree': 0.6745284479404787, 'gamma': 3.459452183773617, 'lambda': 2.8925100961829124, 'learning_rate': 0.010207833244775434, 'max_depth': 81, 'min_child_weight': 18, 'n_estimators': 1023, 'subsample': 0.6715247786684874}\n",
      "SCORE: -948601.104 params {'colsample_bytree': 0.6203429356978385, 'gamma': 2.600321260170619, 'lambda': 2.8075934638758437, 'learning_rate': 0.006322422838602877, 'max_depth': 110, 'min_child_weight': 6, 'n_estimators': 1009, 'subsample': 0.597480581067935}\n",
      "SCORE: -972190.479 params {'colsample_bytree': 0.5797651918737197, 'gamma': 2.4907080624380584, 'lambda': 2.751097738736561, 'learning_rate': 0.015910206793269287, 'max_depth': 111, 'min_child_weight': 9, 'n_estimators': 1252, 'subsample': 0.6465691999472108}\n",
      "SCORE: -927340.812 params {'colsample_bytree': 0.758825416563804, 'gamma': 1.8586006281475769, 'lambda': 2.7701007509455757, 'learning_rate': 0.007938209899495991, 'max_depth': 134, 'min_child_weight': 12, 'n_estimators': 470, 'subsample': 0.6819576248705131}\n",
      "SCORE: -932304.708 params {'colsample_bytree': 0.6671282843447871, 'gamma': 4.520906945228564, 'lambda': 1.2185450867075165, 'learning_rate': 0.011079055371324678, 'max_depth': 87, 'min_child_weight': 18, 'n_estimators': 403, 'subsample': 0.578349602439802}\n",
      "SCORE: -948225.479 params {'colsample_bytree': 0.6104181598569323, 'gamma': 4.749128134795988, 'lambda': 2.842377676662557, 'learning_rate': 0.009492838317409533, 'max_depth': 162, 'min_child_weight': 13, 'n_estimators': 796, 'subsample': 0.5003031818029893}\n",
      "SCORE: -960703.479 params {'colsample_bytree': 0.6102263326276446, 'gamma': 2.4170220026926943, 'lambda': 2.579699418757419, 'learning_rate': 0.022079078255355277, 'max_depth': 165, 'min_child_weight': 11, 'n_estimators': 714, 'subsample': 0.6204221226106816}\n",
      "SCORE: -1006551.396 params {'colsample_bytree': 0.7531192815686042, 'gamma': 4.582545077090836, 'lambda': 2.0908958752226057, 'learning_rate': 0.029480148295704833, 'max_depth': 105, 'min_child_weight': 12, 'n_estimators': 1121, 'subsample': 0.6664019065542517}\n",
      "SCORE: -973847.896 params {'colsample_bytree': 0.7172511736050285, 'gamma': 4.154526187785015, 'lambda': 2.7481554369981778, 'learning_rate': 0.012693410261432506, 'max_depth': 74, 'min_child_weight': 8, 'n_estimators': 1261, 'subsample': 0.6193364776518937}\n",
      "SCORE: -992702.604 params {'colsample_bytree': 0.7990861447456019, 'gamma': 1.4313146820715472, 'lambda': 1.507442604616351, 'learning_rate': 0.01581939727684313, 'max_depth': 142, 'min_child_weight': 5, 'n_estimators': 1255, 'subsample': 0.5685947626245047}\n",
      "SCORE: -949889.708 params {'colsample_bytree': 0.5332869467135966, 'gamma': 1.9489876687409855, 'lambda': 1.7367576722771378, 'learning_rate': 0.006987114473260524, 'max_depth': 108, 'min_child_weight': 19, 'n_estimators': 823, 'subsample': 0.5473483189939387}\n",
      "SCORE: -949249.000 params {'colsample_bytree': 0.7577215438187954, 'gamma': 2.3060841240440833, 'lambda': 1.9300442325709208, 'learning_rate': 0.022099742386761018, 'max_depth': 116, 'min_child_weight': 15, 'n_estimators': 475, 'subsample': 0.5995409806813202}\n",
      "SCORE: -972809.917 params {'colsample_bytree': 0.7354873839285707, 'gamma': 3.5157681312181155, 'lambda': 2.5173620763150386, 'learning_rate': 0.017757217935220566, 'max_depth': 149, 'min_child_weight': 15, 'n_estimators': 1143, 'subsample': 0.6554982334235862}\n",
      "SCORE: -952896.375 params {'colsample_bytree': 0.6147148732546092, 'gamma': 4.269266642524492, 'lambda': 2.675080167750598, 'learning_rate': 0.019659648032840774, 'max_depth': 165, 'min_child_weight': 12, 'n_estimators': 614, 'subsample': 0.5636446802193734}\n",
      "SCORE: -949069.750 params {'colsample_bytree': 0.6149118130040009, 'gamma': 2.8669693714173916, 'lambda': 2.48227524143802, 'learning_rate': 0.01241700420872189, 'max_depth': 87, 'min_child_weight': 5, 'n_estimators': 461, 'subsample': 0.5107739669032593}\n",
      "100%|██████████| 15/15 [5:08:01<00:00, 1017.53s/it, best loss: 927340.8125]\n",
      "Tiempo = 308.03 minutos\n"
     ]
    }
   ],
   "source": [
    "t0 = time.time()\n",
    "best = fmin(fn=objective,\n",
    "            space=space,\n",
    "            algo=tpe.suggest,\n",
    "            max_evals=N_ITER)\n",
    "t1 = time.time()\n",
    "print('Tiempo = {0:.2f} minutos'.format((t1 - t0)/60))"
   ]
  },
  {
   "cell_type": "raw",
   "metadata": {},
   "source": [
    "SCORE: -946958.062 params {'colsample_bytree': 0.6745284479404787, 'gamma': 3.459452183773617, 'lambda': 2.8925100961829124, 'learning_rate': 0.010207833244775434, 'max_depth': 81, 'min_child_weight': 18, 'n_estimators': 1023, 'subsample': 0.6715247786684874}\n",
    "SCORE: -948601.104 params {'colsample_bytree': 0.6203429356978385, 'gamma': 2.600321260170619, 'lambda': 2.8075934638758437, 'learning_rate': 0.006322422838602877, 'max_depth': 110, 'min_child_weight': 6, 'n_estimators': 1009, 'subsample': 0.597480581067935}\n",
    "SCORE: -972190.479 params {'colsample_bytree': 0.5797651918737197, 'gamma': 2.4907080624380584, 'lambda': 2.751097738736561, 'learning_rate': 0.015910206793269287, 'max_depth': 111, 'min_child_weight': 9, 'n_estimators': 1252, 'subsample': 0.6465691999472108}\n",
    "SCORE: -927340.812 params {'colsample_bytree': 0.758825416563804, 'gamma': 1.8586006281475769, 'lambda': 2.7701007509455757, 'learning_rate': 0.007938209899495991, 'max_depth': 134, 'min_child_weight': 12, 'n_estimators': 470, 'subsample': 0.6819576248705131}\n",
    "SCORE: -932304.708 params {'colsample_bytree': 0.6671282843447871, 'gamma': 4.520906945228564, 'lambda': 1.2185450867075165, 'learning_rate': 0.011079055371324678, 'max_depth': 87, 'min_child_weight': 18, 'n_estimators': 403, 'subsample': 0.578349602439802}\n",
    "SCORE: -948225.479 params {'colsample_bytree': 0.6104181598569323, 'gamma': 4.749128134795988, 'lambda': 2.842377676662557, 'learning_rate': 0.009492838317409533, 'max_depth': 162, 'min_child_weight': 13, 'n_estimators': 796, 'subsample': 0.5003031818029893}\n",
    "SCORE: -960703.479 params {'colsample_bytree': 0.6102263326276446, 'gamma': 2.4170220026926943, 'lambda': 2.579699418757419, 'learning_rate': 0.022079078255355277, 'max_depth': 165, 'min_child_weight': 11, 'n_estimators': 714, 'subsample': 0.6204221226106816}\n",
    "SCORE: -1006551.396 params {'colsample_bytree': 0.7531192815686042, 'gamma': 4.582545077090836, 'lambda': 2.0908958752226057, 'learning_rate': 0.029480148295704833, 'max_depth': 105, 'min_child_weight': 12, 'n_estimators': 1121, 'subsample': 0.6664019065542517}\n",
    "SCORE: -973847.896 params {'colsample_bytree': 0.7172511736050285, 'gamma': 4.154526187785015, 'lambda': 2.7481554369981778, 'learning_rate': 0.012693410261432506, 'max_depth': 74, 'min_child_weight': 8, 'n_estimators': 1261, 'subsample': 0.6193364776518937}\n",
    "SCORE: -992702.604 params {'colsample_bytree': 0.7990861447456019, 'gamma': 1.4313146820715472, 'lambda': 1.507442604616351, 'learning_rate': 0.01581939727684313, 'max_depth': 142, 'min_child_weight': 5, 'n_estimators': 1255, 'subsample': 0.5685947626245047}\n",
    "SCORE: -949889.708 params {'colsample_bytree': 0.5332869467135966, 'gamma': 1.9489876687409855, 'lambda': 1.7367576722771378, 'learning_rate': 0.006987114473260524, 'max_depth': 108, 'min_child_weight': 19, 'n_estimators': 823, 'subsample': 0.5473483189939387}\n",
    "SCORE: -949249.000 params {'colsample_bytree': 0.7577215438187954, 'gamma': 2.3060841240440833, 'lambda': 1.9300442325709208, 'learning_rate': 0.022099742386761018, 'max_depth': 116, 'min_child_weight': 15, 'n_estimators': 475, 'subsample': 0.5995409806813202}\n",
    "SCORE: -972809.917 params {'colsample_bytree': 0.7354873839285707, 'gamma': 3.5157681312181155, 'lambda': 2.5173620763150386, 'learning_rate': 0.017757217935220566, 'max_depth': 149, 'min_child_weight': 15, 'n_estimators': 1143, 'subsample': 0.6554982334235862}\n",
    "SCORE: -952896.375 params {'colsample_bytree': 0.6147148732546092, 'gamma': 4.269266642524492, 'lambda': 2.675080167750598, 'learning_rate': 0.019659648032840774, 'max_depth': 165, 'min_child_weight': 12, 'n_estimators': 614, 'subsample': 0.5636446802193734}\n",
    "SCORE: -949069.750 params {'colsample_bytree': 0.6149118130040009, 'gamma': 2.8669693714173916, 'lambda': 2.48227524143802, 'learning_rate': 0.01241700420872189, 'max_depth': 87, 'min_child_weight': 5, 'n_estimators': 461, 'subsample': 0.5107739669032593}\n",
    "100%|██████████| 15/15 [5:08:01<00:00, 1017.53s/it, best loss: 927340.8125]\n",
    "Tiempo = 308.03 minutos"
   ]
  },
  {
   "cell_type": "markdown",
   "metadata": {},
   "source": [
    "Mejores resultados:"
   ]
  },
  {
   "cell_type": "raw",
   "metadata": {},
   "source": [
    "SCORE: -927340.812 params {'colsample_bytree': 0.758825416563804, 'gamma': 1.8586006281475769, 'lambda': 2.7701007509455757, 'learning_rate': 0.007938209899495991, 'max_depth': 134, 'min_child_weight': 12, 'n_estimators': 470, 'subsample': 0.6819576248705131}"
   ]
  },
  {
   "cell_type": "code",
   "execution_count": 24,
   "metadata": {},
   "outputs": [
    {
     "data": {
      "text/plain": [
       "5.166666666666667"
      ]
     },
     "execution_count": 24,
     "metadata": {},
     "output_type": "execute_result"
    }
   ],
   "source": [
    "310/60"
   ]
  },
  {
   "cell_type": "markdown",
   "metadata": {},
   "source": [
    "5 horas (aprox.)"
   ]
  },
  {
   "cell_type": "code",
   "execution_count": 23,
   "metadata": {},
   "outputs": [
    {
     "data": {
      "text/plain": [
       "20.666666666666668"
      ]
     },
     "execution_count": 23,
     "metadata": {},
     "output_type": "execute_result"
    }
   ],
   "source": [
    "310/15"
   ]
  },
  {
   "cell_type": "markdown",
   "metadata": {},
   "source": [
    "21 minutos/iteracion (aprox)"
   ]
  },
  {
   "cell_type": "markdown",
   "metadata": {},
   "source": [
    "## Resultados "
   ]
  },
  {
   "cell_type": "code",
   "execution_count": 25,
   "metadata": {
    "scrolled": true
   },
   "outputs": [
    {
     "name": "stdout",
     "output_type": "stream",
     "text": [
      "{'xgb_re__colsample_bytree': 0.758825416563804, 'xgb_re__gamma': 1.8586006281475769, 'xgb_re__lambda': 2.7701007509455757, 'xgb_re__learning_rate': 0.007938209899495991, 'xgb_re__max_depth': 64, 'xgb_re__min_child_weight': 7, 'xgb_re__n_estimators': 70, 'xgb_re__subsample': 0.6819576248705131}\n"
     ]
    }
   ],
   "source": [
    "print(best)"
   ]
  },
  {
   "cell_type": "raw",
   "metadata": {},
   "source": [
    "{'xgb_re__colsample_bytree': 0.758825416563804, 'xgb_re__gamma': 1.8586006281475769, 'xgb_re__lambda': 2.7701007509455757, 'xgb_re__learning_rate': 0.007938209899495991, 'xgb_re__max_depth': 64, 'xgb_re__min_child_weight': 7, 'xgb_re__n_estimators': 70, 'xgb_re__subsample': 0.6819576248705131}"
   ]
  },
  {
   "cell_type": "markdown",
   "metadata": {},
   "source": [
    "Estos \"mejores resultados\" no se corresponden a los resultados anteriores."
   ]
  },
  {
   "cell_type": "markdown",
   "metadata": {},
   "source": [
    "Parece ser que fmin devuelve los mejores valores obtenidos de los hp.randint, pero no sabe que a eso le sumamos constantes: "
   ]
  },
  {
   "cell_type": "raw",
   "metadata": {},
   "source": [
    "{\n",
    "    'xgb_re__colsample_bytree': 0.758825416563804, \n",
    "    'xgb_re__gamma': 1.8586006281475769, \n",
    "    'xgb_re__lambda': 2.7701007509455757, \n",
    "    'xgb_re__learning_rate': 0.007938209899495991, \n",
    "    'xgb_re__max_depth': 64 + 70 = 134, \n",
    "    'xgb_re__min_child_weight': 7 + 5 = 12, \n",
    "    'xgb_re__n_estimators': 70 + 400 = 470, \n",
    "    'xgb_re__subsample': 0.6819576248705131\n",
    "}"
   ]
  },
  {
   "cell_type": "markdown",
   "metadata": {},
   "source": [
    "Ahora los resultados si se corresponden"
   ]
  }
 ],
 "metadata": {
  "kernelspec": {
   "display_name": "Python 3",
   "language": "python",
   "name": "python3"
  },
  "language_info": {
   "codemirror_mode": {
    "name": "ipython",
    "version": 3
   },
   "file_extension": ".py",
   "mimetype": "text/x-python",
   "name": "python",
   "nbconvert_exporter": "python",
   "pygments_lexer": "ipython3",
   "version": "3.7.3"
  }
 },
 "nbformat": 4,
 "nbformat_minor": 2
}
