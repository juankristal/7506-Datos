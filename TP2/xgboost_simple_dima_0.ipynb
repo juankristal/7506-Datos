{
 "cells": [
  {
   "cell_type": "markdown",
   "metadata": {},
   "source": [
    "## XGBoost sin columnas complejas, modelo 0 "
   ]
  },
  {
   "cell_type": "code",
   "execution_count": null,
   "metadata": {},
   "outputs": [],
   "source": [
    "import common.common_machine_learning as common\n",
    "import common.metrica as metrica\n",
    "import numpy as np\n",
    "from scipy.stats import uniform, randint\n",
    "from sklearn.metrics import auc, accuracy_score, confusion_matrix, mean_squared_error\n",
    "from sklearn.model_selection import cross_val_score, GridSearchCV, KFold, RandomizedSearchCV, train_test_split\n",
    "import xgboost as xgb\n",
    "import time"
   ]
  },
  {
   "cell_type": "code",
   "execution_count": null,
   "metadata": {},
   "outputs": [],
   "source": [
    "TARGET = 'precio'\n",
    "TEST_FRACCION = 0.25\n",
    "RANDOM_SEMILLA = 1\n",
    "XGB_OBJECTIVE = 'reg:squarederror'\n",
    "K = 3"
   ]
  },
  {
   "cell_type": "code",
   "execution_count": null,
   "metadata": {},
   "outputs": [],
   "source": [
    "def display_scores(scores):\n",
    "    print(\"Scores: {0}\\nMean: {1:.3f}\\nStd: {2:.3f}\".format(scores, np.mean(scores), np.std(scores)))"
   ]
  },
  {
   "cell_type": "code",
   "execution_count": null,
   "metadata": {},
   "outputs": [],
   "source": [
    "def report_best_scores(results, n_top=3):\n",
    "    for i in range(1, n_top + 1):\n",
    "        candidates = np.flatnonzero(results['rank_test_score'] == i)\n",
    "        for candidate in candidates:\n",
    "            print(\"Model with rank: {0}\".format(i))\n",
    "            print(\"Mean validation score: {0:.3f} (std: {1:.3f})\".format(\n",
    "                  results['mean_test_score'][candidate],\n",
    "                  results['std_test_score'][candidate]))\n",
    "            print(\"Parameters: {0}\".format(results['params'][candidate]))\n",
    "            print(\"\")"
   ]
  },
  {
   "cell_type": "code",
   "execution_count": null,
   "metadata": {},
   "outputs": [],
   "source": [
    "X_train, X_test, y_train, y_test = train_test_split(X, y, test_size = TEST_FRACCION, random_state = RANDOM_SEMILLA)"
   ]
  },
  {
   "cell_type": "code",
   "execution_count": null,
   "metadata": {},
   "outputs": [],
   "source": [
    "X_train = common.label_encode_strings_simples(X_train)\n",
    "X_test = common.label_encode_strings_simples(X_test)"
   ]
  },
  {
   "cell_type": "markdown",
   "metadata": {},
   "source": [
    "Buscar en historial, como hacer el "
   ]
  },
  {
   "cell_type": "code",
   "execution_count": null,
   "metadata": {},
   "outputs": [],
   "source": [
    "xgb_model = xgb.XGBRegressor(objective = \"reg:squarederror\")\n",
    "\n",
    "params = {\n",
    "    \"n_estimators\": [100, 250, 750, 1000], # default 100,\n",
    "    \"learning_rate\": [0.03, 0.01, 0.1, 0.3], # default 0.1\n",
    "    \"gamma\": [0, 0.25, 0.75, 1],\n",
    "    \"lambda\": [0, 0.25, 0.75, 1],\n",
    "    \"max_depth\": [3, 5, 7, 9], # default 3 # < 15 columnas = cantidad columnas feature originales\n",
    "    \"subsample\": [0.6, 0.5, 0.4, 0.3],\n",
    "    \"colsample_bytree\": [0.6, 0.5, 0.4, 0.3],\n",
    "    \"min_child_weight\": [2, 3, 4, 5]\n",
    "}\n",
    "\n",
    "search = RandomizedSearchCV(\n",
    "            xgb_model, \n",
    "            param_distributions=params,\n",
    "            random_state = RANDOM_SEMILLA,\n",
    "            n_iter = 200,\n",
    "            cv=3, \n",
    "            verbose=1, \n",
    "            n_jobs=1, \n",
    "            return_train_score=True,\n",
    "            iid = True\n",
    "        )\n",
    "\n",
    "search.fit(X_train, y_train)\n",
    "\n",
    "report_best_scores(search.cv_results_, 1)"
   ]
  }
 ],
 "metadata": {
  "kernelspec": {
   "display_name": "Python 3",
   "language": "python",
   "name": "python3"
  },
  "language_info": {
   "codemirror_mode": {
    "name": "ipython",
    "version": 3
   },
   "file_extension": ".py",
   "mimetype": "text/x-python",
   "name": "python",
   "nbconvert_exporter": "python",
   "pygments_lexer": "ipython3",
   "version": "3.7.3"
  }
 },
 "nbformat": 4,
 "nbformat_minor": 2
}
