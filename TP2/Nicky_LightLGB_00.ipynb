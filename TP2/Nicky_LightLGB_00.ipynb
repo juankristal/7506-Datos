{
 "cells": [
  {
   "cell_type": "code",
   "execution_count": 51,
   "metadata": {},
   "outputs": [],
   "source": [
    "import pandas as pd\n",
    "import numpy as np\n",
    "import time\n",
    "from sklearn.model_selection import train_test_split\n",
    "from sklearn.model_selection import RandomizedSearchCV\n",
    "import common.common_machine_learning as common\n",
    "import common.feature_num as feature_num\n",
    "import common.features_precio_promedio_metroscubiertos as feature_metroscubiertos\n",
    "import common.features_precio_promedio_ciudad as feature_ciudades\n",
    "\n",
    "from scipy.stats import randint as sp_randint\n",
    "from scipy.stats import uniform as sp_uniform\n",
    "\n",
    "import lightgbm as lgb"
   ]
  },
  {
   "cell_type": "code",
   "execution_count": 81,
   "metadata": {},
   "outputs": [],
   "source": [
    "TARGET = \"precio\"\n",
    "MAX_ITER = 200"
   ]
  },
  {
   "cell_type": "markdown",
   "metadata": {},
   "source": [
    "### Funciones auxiliares"
   ]
  },
  {
   "cell_type": "code",
   "execution_count": 3,
   "metadata": {},
   "outputs": [],
   "source": [
    "def limpiar(df):\n",
    "    df.antiguedad = df.antiguedad.fillna(df.antiguedad.mean())\n",
    "    df.metroscubiertos = df.metroscubiertos.fillna(df.metroscubiertos.mean())\n",
    "    df.habitaciones = df.habitaciones.fillna(df.habitaciones.mean())\n",
    "    df.garages = df.garages.fillna(0)\n",
    "    df.banos = df.banos.fillna(1)\n",
    "    df.tipodepropiedad = df.tipodepropiedad.fillna('Casa')\n",
    "    df.metroscubiertos = df.metroscubiertos.fillna(df.metroscubiertos.mean())\n",
    "    df.metrostotales = df.metrostotales.fillna(df.metrostotales.mean())\n",
    "    df.gimnasio = df.gimnasio.fillna(0)\n",
    "    df.usosmultiples = df.usosmultiples.fillna(0)\n",
    "    df.piscina = df.piscina.fillna(0)\n",
    "    df.escuelascercanas = df.escuelascercanas.fillna(0)\n",
    "    df.centroscomercialescercanos = df.centroscomercialescercanos.fillna(0)\n",
    "    df[\"metroscubiertos\"] = df[\"metroscubiertos\"].fillna(df[\"metroscubiertos\"].mean())\n",
    "    df.fillna(value = {\"tipodepropiedad\" : df[\"tipodepropiedad\"].mode().to_string(),\n",
    "                        \"provincia\" : df[\"provincia\"].mode().to_string(),\n",
    "                        \"ciudad\": df[\"ciudad\"].mode().to_string()}, inplace = True)\n",
    "    \n",
    "def evaluar_rf(modelo, X_test, y_test):\n",
    "    y_pred = modelo.predict(X_test)\n",
    "    errors = abs(y_pred - y_test)\n",
    "    mape = 100 * np.mean(errors / y_test)\n",
    "    accuracy = 100 - mape\n",
    "    print('Performance del modelo:')\n",
    "    print('Average Error: {:0.4f} degrees.'.format(np.mean(errors)))\n",
    "    print('Accuracy = {:0.2f}%.'.format(accuracy))\n",
    "    \n",
    "    return accuracy"
   ]
  },
  {
   "cell_type": "code",
   "execution_count": 4,
   "metadata": {},
   "outputs": [],
   "source": [
    "def nuevas_features(df, precios_tipo,precio_m2,default_m2):\n",
    "    df['ratio_cubierto'] = df.apply(lambda x: x['metroscubiertos']/x['metrostotales'] if x['metrostotales'] else 1, axis = 1)\n",
    "    df['tipodepropiedad'] = df['tipodepropiedad'].apply(lambda x: precios_tipo.loc[x]['precio_por_tipo'])\n",
    "    df['precio_x_m2'] = df.apply(lambda x: precio_x_m2.get(x['ciudad'],default_m2), axis = 1)"
   ]
  },
  {
   "cell_type": "markdown",
   "metadata": {},
   "source": [
    "# Preparo el dataset"
   ]
  },
  {
   "cell_type": "markdown",
   "metadata": {},
   "source": [
    "## Carga de datos"
   ]
  },
  {
   "cell_type": "code",
   "execution_count": 5,
   "metadata": {},
   "outputs": [],
   "source": [
    "train = pd.read_csv('sets_de_datos/train.csv', index_col = 0)\n",
    "test = pd.read_csv('sets_de_datos/test.csv', index_col = 0)"
   ]
  },
  {
   "cell_type": "code",
   "execution_count": 6,
   "metadata": {},
   "outputs": [],
   "source": [
    "train[\"fecha\"] = pd.to_datetime(train[\"fecha\"], format=\"%Y-%m-%d %H:%M:%S\", errors='coerce')\n",
    "test[\"fecha\"] = pd.to_datetime(test[\"fecha\"], format=\"%Y-%m-%d %H:%M:%S\", errors='coerce')"
   ]
  },
  {
   "cell_type": "markdown",
   "metadata": {},
   "source": [
    "## Limpio las columnas que voy a usar"
   ]
  },
  {
   "cell_type": "code",
   "execution_count": 7,
   "metadata": {},
   "outputs": [],
   "source": [
    "train[\"provincia\"].replace([\"\", np.nan], [train[\"provincia\"].mode(), train[\"provincia\"].mode()], inplace=True)\n",
    "test[\"provincia\"].replace([\"\", np.nan], [test[\"provincia\"].mode(), test[\"provincia\"].mode()], inplace=True)"
   ]
  },
  {
   "cell_type": "code",
   "execution_count": 8,
   "metadata": {},
   "outputs": [],
   "source": [
    "limpiar(train)\n",
    "limpiar(test)"
   ]
  },
  {
   "cell_type": "code",
   "execution_count": 9,
   "metadata": {},
   "outputs": [],
   "source": [
    "test['tipodepropiedad'] = test['tipodepropiedad'].str.replace('0    Casa',\"Casa\")\n",
    "train = train[train[\"tipodepropiedad\"].isin(test[\"tipodepropiedad\"].unique())]\n",
    "train.dropna(subset=[\"tipodepropiedad\"], inplace=True)"
   ]
  },
  {
   "cell_type": "code",
   "execution_count": 10,
   "metadata": {},
   "outputs": [
    {
     "data": {
      "text/plain": [
       "titulo                          5386\n",
       "descripcion                     1619\n",
       "tipodepropiedad                    0\n",
       "direccion                      53072\n",
       "ciudad                             0\n",
       "provincia                          0\n",
       "antiguedad                         0\n",
       "habitaciones                       0\n",
       "garages                            0\n",
       "banos                              0\n",
       "metroscubiertos                    0\n",
       "metrostotales                      0\n",
       "idzona                         28621\n",
       "lat                           123486\n",
       "lng                           123486\n",
       "fecha                              0\n",
       "gimnasio                           0\n",
       "usosmultiples                      0\n",
       "piscina                            0\n",
       "escuelascercanas                   0\n",
       "centroscomercialescercanos         0\n",
       "precio                             0\n",
       "dtype: int64"
      ]
     },
     "execution_count": 10,
     "metadata": {},
     "output_type": "execute_result"
    }
   ],
   "source": [
    "train.isna().sum()"
   ]
  },
  {
   "cell_type": "code",
   "execution_count": 11,
   "metadata": {},
   "outputs": [
    {
     "data": {
      "text/plain": [
       "titulo                         1378\n",
       "descripcion                     401\n",
       "tipodepropiedad                   0\n",
       "direccion                     13191\n",
       "ciudad                            0\n",
       "provincia                         0\n",
       "antiguedad                        0\n",
       "habitaciones                      0\n",
       "garages                           0\n",
       "banos                             0\n",
       "metroscubiertos                   0\n",
       "metrostotales                     0\n",
       "idzona                         7179\n",
       "lat                           30695\n",
       "lng                           30695\n",
       "fecha                             0\n",
       "gimnasio                          0\n",
       "usosmultiples                     0\n",
       "piscina                           0\n",
       "escuelascercanas                  0\n",
       "centroscomercialescercanos        0\n",
       "dtype: int64"
      ]
     },
     "execution_count": 11,
     "metadata": {},
     "output_type": "execute_result"
    }
   ],
   "source": [
    "test.isna().sum()"
   ]
  },
  {
   "cell_type": "markdown",
   "metadata": {},
   "source": [
    "## Cargo features adicionales"
   ]
  },
  {
   "cell_type": "code",
   "execution_count": 12,
   "metadata": {},
   "outputs": [],
   "source": [
    "df_precios_por_tipo = train.groupby('tipodepropiedad').agg({'precio':'mean'}).rename(columns={'precio':'precio_por_tipo'})\n",
    "train['precio_x_m2'] = train['precio']/train['metroscubiertos']\n",
    "precio_x_m2 = train.groupby('ciudad').agg({'precio_x_m2':'mean'}).to_dict()['precio_x_m2']\n",
    "default = train.groupby('ciudad').agg({'precio_x_m2':'mean'})['precio_x_m2'].mean()\n",
    "promedios = train.set_index('ciudad')\\\n",
    "            .join(train.groupby('ciudad')\\\n",
    "                  .agg({'habitaciones':'mean', 'garages':'mean', 'banos':'mean'})\\\n",
    "                      .rename(columns={'habitaciones':'mean_hab', 'banos':'mean_ban', 'garages':'mean_gar'}))\\\n",
    "                        [['mean_hab','mean_gar','mean_ban']].to_dict()"
   ]
  },
  {
   "cell_type": "code",
   "execution_count": 13,
   "metadata": {},
   "outputs": [],
   "source": [
    "nuevas_features(train, df_precios_por_tipo, precio_x_m2,default)"
   ]
  },
  {
   "cell_type": "code",
   "execution_count": 14,
   "metadata": {},
   "outputs": [],
   "source": [
    "nuevas_features(test, df_precios_por_tipo, precio_x_m2,default)"
   ]
  },
  {
   "cell_type": "code",
   "execution_count": 15,
   "metadata": {},
   "outputs": [],
   "source": [
    "#features_descripcion_train = pd.read_csv('data/dima_train_categorias_descripciones.csv', index_col = 0)\n",
    "#train = train.join(features_descripcion_train)"
   ]
  },
  {
   "cell_type": "code",
   "execution_count": 16,
   "metadata": {},
   "outputs": [],
   "source": [
    "#features_descripcion_test = pd.read_csv('data/dima_test_categorias_descripciones.csv', index_col = 0)\n",
    "#test = test.join(features_descripcion_test)"
   ]
  },
  {
   "cell_type": "code",
   "execution_count": 17,
   "metadata": {},
   "outputs": [],
   "source": [
    "train = feature_num.completar_lat_lng_con_provincias_y_ciudades(train)\n",
    "train = feature_num.completar_lat_lng_con_idzona_mean(train)\n",
    "feature_num.completar_lat_lng_con_promedio_Mexico(train)"
   ]
  },
  {
   "cell_type": "code",
   "execution_count": 18,
   "metadata": {},
   "outputs": [],
   "source": [
    "test = feature_num.completar_lat_lng_con_provincias_y_ciudades(test)\n",
    "test = feature_num.completar_lat_lng_con_idzona_mean(test)\n",
    "feature_num.completar_lat_lng_con_promedio_Mexico(test)"
   ]
  },
  {
   "cell_type": "code",
   "execution_count": 19,
   "metadata": {},
   "outputs": [
    {
     "data": {
      "text/plain": [
       "titulo                         5386\n",
       "descripcion                    1619\n",
       "tipodepropiedad                   0\n",
       "direccion                     53072\n",
       "ciudad                            0\n",
       "provincia                         0\n",
       "antiguedad                        0\n",
       "habitaciones                      0\n",
       "garages                           0\n",
       "banos                             0\n",
       "metroscubiertos                   0\n",
       "metrostotales                     0\n",
       "idzona                        28621\n",
       "lat                               0\n",
       "lng                               0\n",
       "fecha                             0\n",
       "gimnasio                          0\n",
       "usosmultiples                     0\n",
       "piscina                           0\n",
       "escuelascercanas                  0\n",
       "centroscomercialescercanos        0\n",
       "precio                            0\n",
       "precio_x_m2                       0\n",
       "ratio_cubierto                    0\n",
       "dtype: int64"
      ]
     },
     "execution_count": 19,
     "metadata": {},
     "output_type": "execute_result"
    }
   ],
   "source": [
    "train.isna().sum()"
   ]
  },
  {
   "cell_type": "code",
   "execution_count": 20,
   "metadata": {},
   "outputs": [],
   "source": [
    "train = feature_ciudades.asignar_precio_promedio_por_cantidad_de_banos_por_ciudad(train)"
   ]
  },
  {
   "cell_type": "code",
   "execution_count": 21,
   "metadata": {},
   "outputs": [],
   "source": [
    "train = feature_ciudades.asignar_precio_promedio_por_cantidad_de_habitaciones_por_ciudad(train)"
   ]
  },
  {
   "cell_type": "code",
   "execution_count": 22,
   "metadata": {},
   "outputs": [],
   "source": [
    "train = feature_ciudades.asignar_precio_promedio_por_cantidad_de_garages_por_ciudad(train)"
   ]
  },
  {
   "cell_type": "code",
   "execution_count": 23,
   "metadata": {},
   "outputs": [],
   "source": [
    "test = feature_ciudades.asignar_precio_promedio_por_cantidad_de_banos_por_ciudad(test)"
   ]
  },
  {
   "cell_type": "code",
   "execution_count": 24,
   "metadata": {},
   "outputs": [],
   "source": [
    "test = feature_ciudades.asignar_precio_promedio_por_cantidad_de_habitaciones_por_ciudad(test)"
   ]
  },
  {
   "cell_type": "code",
   "execution_count": 25,
   "metadata": {},
   "outputs": [],
   "source": [
    "test = feature_ciudades.asignar_precio_promedio_por_cantidad_de_garages_por_ciudad(test)"
   ]
  },
  {
   "cell_type": "code",
   "execution_count": 26,
   "metadata": {},
   "outputs": [],
   "source": [
    "#train = feature_metroscubiertos.agregar_feature_precio_promedio_banos_por_metroscubiertos(train)"
   ]
  },
  {
   "cell_type": "code",
   "execution_count": 27,
   "metadata": {},
   "outputs": [],
   "source": [
    "#train = feature_metroscubiertos.agregar_feature_precio_promedio_habitaciones_por_metroscubiertos(train)"
   ]
  },
  {
   "cell_type": "code",
   "execution_count": 28,
   "metadata": {},
   "outputs": [],
   "source": [
    "#train = feature_metroscubiertos.agregar_feature_precio_promedio_garages_por_metroscubiertos(train)"
   ]
  },
  {
   "cell_type": "code",
   "execution_count": 29,
   "metadata": {},
   "outputs": [],
   "source": [
    "#test = feature_metroscubiertos.agregar_feature_precio_promedio_banos_por_metroscubiertos(test)"
   ]
  },
  {
   "cell_type": "code",
   "execution_count": 30,
   "metadata": {},
   "outputs": [],
   "source": [
    "#test = feature_metroscubiertos.agregar_feature_precio_promedio_habitaciones_por_metroscubiertos(test)"
   ]
  },
  {
   "cell_type": "code",
   "execution_count": 31,
   "metadata": {},
   "outputs": [],
   "source": [
    "#test = feature_metroscubiertos.agregar_feature_precio_promedio_garages_por_metroscubiertos(test)"
   ]
  },
  {
   "cell_type": "code",
   "execution_count": 32,
   "metadata": {},
   "outputs": [
    {
     "data": {
      "text/plain": [
       "(239998, 27)"
      ]
     },
     "execution_count": 32,
     "metadata": {},
     "output_type": "execute_result"
    }
   ],
   "source": [
    "train.shape"
   ]
  },
  {
   "cell_type": "code",
   "execution_count": 33,
   "metadata": {},
   "outputs": [
    {
     "data": {
      "text/plain": [
       "(60000, 26)"
      ]
     },
     "execution_count": 33,
     "metadata": {},
     "output_type": "execute_result"
    }
   ],
   "source": [
    "test.shape"
   ]
  },
  {
   "cell_type": "code",
   "execution_count": 34,
   "metadata": {},
   "outputs": [
    {
     "data": {
      "text/plain": [
       "Index(['titulo', 'descripcion', 'tipodepropiedad', 'direccion', 'ciudad',\n",
       "       'provincia', 'antiguedad', 'habitaciones', 'garages', 'banos',\n",
       "       'metroscubiertos', 'metrostotales', 'idzona', 'lat', 'lng', 'fecha',\n",
       "       'gimnasio', 'usosmultiples', 'piscina', 'escuelascercanas',\n",
       "       'centroscomercialescercanos', 'precio', 'precio_x_m2', 'ratio_cubierto',\n",
       "       'banos_preciopromedio_ciudad', 'habitaciones_preciopromedio_ciudad',\n",
       "       'garages_preciopromedio_ciudad'],\n",
       "      dtype='object')"
      ]
     },
     "execution_count": 34,
     "metadata": {},
     "output_type": "execute_result"
    }
   ],
   "source": [
    "train.columns"
   ]
  },
  {
   "cell_type": "markdown",
   "metadata": {},
   "source": [
    "## Me quedo con algunas features"
   ]
  },
  {
   "cell_type": "code",
   "execution_count": 39,
   "metadata": {},
   "outputs": [],
   "source": [
    "columnas_train = [\"provincia\", \"tipodepropiedad\", \"antiguedad\", \"lat\", \"lng\", \"gimnasio\", \"usosmultiples\", \"piscina\",\n",
    "                  \"centroscomercialescercanos\", \"ratio_cubierto\", \"banos_preciopromedio_ciudad\",\n",
    "                  \"habitaciones_preciopromedio_ciudad\", \"garages_preciopromedio_ciudad\", \"precio\"]\n",
    "\n",
    "columnas_test = [\"provincia\", \"tipodepropiedad\", \"antiguedad\", \"lat\", \"lng\", \"gimnasio\", \"usosmultiples\", \"piscina\",\n",
    "                  \"centroscomercialescercanos\", \"ratio_cubierto\", \"banos_preciopromedio_ciudad\",\n",
    "                  \"habitaciones_preciopromedio_ciudad\", \"garages_preciopromedio_ciudad\"]"
   ]
  },
  {
   "cell_type": "code",
   "execution_count": 40,
   "metadata": {},
   "outputs": [],
   "source": [
    "train = train[columnas_train]\n",
    "test = test[columnas_test]"
   ]
  },
  {
   "cell_type": "code",
   "execution_count": 41,
   "metadata": {},
   "outputs": [],
   "source": [
    "train_OHE  = pd.get_dummies(train)"
   ]
  },
  {
   "cell_type": "code",
   "execution_count": 42,
   "metadata": {},
   "outputs": [],
   "source": [
    "test_OHE = pd.get_dummies(test)"
   ]
  },
  {
   "cell_type": "code",
   "execution_count": 43,
   "metadata": {},
   "outputs": [
    {
     "data": {
      "text/plain": [
       "(239998, 45)"
      ]
     },
     "execution_count": 43,
     "metadata": {},
     "output_type": "execute_result"
    }
   ],
   "source": [
    "train_OHE.shape"
   ]
  },
  {
   "cell_type": "code",
   "execution_count": 44,
   "metadata": {},
   "outputs": [
    {
     "data": {
      "text/plain": [
       "(60000, 44)"
      ]
     },
     "execution_count": 44,
     "metadata": {},
     "output_type": "execute_result"
    }
   ],
   "source": [
    "test_OHE.shape"
   ]
  },
  {
   "cell_type": "code",
   "execution_count": 46,
   "metadata": {},
   "outputs": [],
   "source": [
    "train_OHE.banos_preciopromedio_ciudad = train_OHE.banos_preciopromedio_ciudad.fillna(train_OHE.banos_preciopromedio_ciudad.mean())\n",
    "train_OHE.habitaciones_preciopromedio_ciudad = train_OHE.habitaciones_preciopromedio_ciudad.fillna(train_OHE.habitaciones_preciopromedio_ciudad.mean())\n",
    "train_OHE.garages_preciopromedio_ciudad = train_OHE.garages_preciopromedio_ciudad.fillna(train_OHE.garages_preciopromedio_ciudad.mean())\n",
    "\n",
    "test_OHE.banos_preciopromedio_ciudad = test_OHE.banos_preciopromedio_ciudad.fillna(test_OHE.banos_preciopromedio_ciudad.mean())\n",
    "test_OHE.habitaciones_preciopromedio_ciudad = test_OHE.habitaciones_preciopromedio_ciudad.fillna(test_OHE.habitaciones_preciopromedio_ciudad.mean())\n",
    "test_OHE.garages_preciopromedio_ciudad = test_OHE.garages_preciopromedio_ciudad.fillna(test_OHE.garages_preciopromedio_ciudad.mean())\n"
   ]
  },
  {
   "cell_type": "markdown",
   "metadata": {},
   "source": [
    "# Tuneo"
   ]
  },
  {
   "cell_type": "markdown",
   "metadata": {},
   "source": [
    "### Divido el train"
   ]
  },
  {
   "cell_type": "code",
   "execution_count": 47,
   "metadata": {},
   "outputs": [],
   "source": [
    "X = train_OHE.drop([TARGET], axis = 1).copy().values\n",
    "y = list(train_OHE[TARGET].copy())"
   ]
  },
  {
   "cell_type": "code",
   "execution_count": 48,
   "metadata": {},
   "outputs": [],
   "source": [
    "X_train, X_test, y_train, y_test = train_test_split(X, y, test_size=0.1, random_state = 0)"
   ]
  },
  {
   "cell_type": "markdown",
   "metadata": {},
   "source": [
    "### Grilla de parápametros"
   ]
  },
  {
   "cell_type": "code",
   "execution_count": 82,
   "metadata": {},
   "outputs": [],
   "source": [
    "hiperparametros = {\n",
    "    \"learning_rate\": [0.03, 0.01, 0.1, 0.3],\n",
    "    \"n_estimators\": [100, 200, 250, 300, 350, 400],\n",
    "    \"max_depth\": [15, 20, 25, 30, 40, 50, 60],\n",
    "    \"reg_alpha\": [0, 1e-1, 1, 2, 5, 7, 10, 50, 100],\n",
    "    \"reg_lambda\": [0, 1e-1, 1, 5, 10, 20, 50, 100],\n",
    "    \"num_leaves\": [5, 10, 15, 20, 25, 30],\n",
    "    \"min_child_weight\": [1e-5, 1e-3, 1e-2, 1e-1, 1, 1e1, 1e2, 1e3, 1e4],\n",
    "\n",
    "}"
   ]
  },
  {
   "cell_type": "markdown",
   "metadata": {},
   "source": [
    "### Tuneo"
   ]
  },
  {
   "cell_type": "code",
   "execution_count": 83,
   "metadata": {},
   "outputs": [
    {
     "name": "stdout",
     "output_type": "stream",
     "text": [
      "Fitting 3 folds for each of 200 candidates, totalling 600 fits\n"
     ]
    },
    {
     "name": "stderr",
     "output_type": "stream",
     "text": [
      "[Parallel(n_jobs=-1)]: Using backend LokyBackend with 4 concurrent workers.\n",
      "[Parallel(n_jobs=-1)]: Done  33 tasks      | elapsed:  1.2min\n",
      "[Parallel(n_jobs=-1)]: Done 154 tasks      | elapsed:  5.3min\n",
      "[Parallel(n_jobs=-1)]: Done 357 tasks      | elapsed: 11.2min\n",
      "[Parallel(n_jobs=-1)]: Done 600 out of 600 | elapsed: 18.9min finished\n"
     ]
    },
    {
     "data": {
      "text/plain": [
       "RandomizedSearchCV(cv=3, error_score='raise-deprecating',\n",
       "                   estimator=LGBMRegressor(boosting_type='gbdt',\n",
       "                                           class_weight=None,\n",
       "                                           colsample_bytree=1.0,\n",
       "                                           importance_type='split',\n",
       "                                           learning_rate=0.5, max_depth=-1,\n",
       "                                           min_child_samples=20,\n",
       "                                           min_child_weight=0.001,\n",
       "                                           min_split_gain=0.0, n_estimators=100,\n",
       "                                           n_jobs=-1, num_leaves=31,\n",
       "                                           objective=None, random_state=None,\n",
       "                                           reg_alpha=0.0, reg_...\n",
       "                                        'max_depth': [15, 20, 25, 30, 40, 50,\n",
       "                                                      60],\n",
       "                                        'min_child_weight': [1e-05, 0.001, 0.01,\n",
       "                                                             0.1, 1, 10.0,\n",
       "                                                             100.0, 1000.0,\n",
       "                                                             10000.0],\n",
       "                                        'n_estimators': [100, 200, 250, 300,\n",
       "                                                         350, 400],\n",
       "                                        'num_leaves': [5, 10, 15, 20, 25, 30],\n",
       "                                        'reg_alpha': [0, 0.1, 1, 2, 5, 7, 10,\n",
       "                                                      50, 100],\n",
       "                                        'reg_lambda': [0, 0.1, 1, 5, 10, 20, 50,\n",
       "                                                       100]},\n",
       "                   pre_dispatch='2*n_jobs', random_state=42, refit=True,\n",
       "                   return_train_score=False, scoring=None, verbose=2)"
      ]
     },
     "execution_count": 83,
     "metadata": {},
     "output_type": "execute_result"
    }
   ],
   "source": [
    "modelo = lgb.LGBMRegressor(learning_rate = 0.5)\n",
    "\n",
    "inicio = time.time()\n",
    "\n",
    "\n",
    "modelo_random = RandomizedSearchCV(estimator = modelo, param_distributions = hiperparametros, n_iter = MAX_ITER, cv = 3, verbose=2, random_state=42, n_jobs = -1)\n",
    "\n",
    "fin = time.time()\n",
    "\n",
    "modelo_random.fit(X_train, y_train)"
   ]
  },
  {
   "cell_type": "code",
   "execution_count": 84,
   "metadata": {},
   "outputs": [
    {
     "name": "stdout",
     "output_type": "stream",
     "text": [
      "El tuneo tardó: 0.0 minutos.\n"
     ]
    }
   ],
   "source": [
    "print(\"El tuneo tardó: {} minutos.\".format((fin - inicio) / 60))"
   ]
  },
  {
   "cell_type": "code",
   "execution_count": 85,
   "metadata": {},
   "outputs": [
    {
     "name": "stdout",
     "output_type": "stream",
     "text": [
      "Mejores parámetros:\n",
      "{'reg_lambda': 10, 'reg_alpha': 7, 'num_leaves': 30, 'n_estimators': 400, 'min_child_weight': 100.0, 'max_depth': 60, 'learning_rate': 0.3}\n"
     ]
    }
   ],
   "source": [
    "print(\"Mejores parámetros:\")\n",
    "print(modelo_random.best_params_)"
   ]
  },
  {
   "cell_type": "markdown",
   "metadata": {},
   "source": [
    "Mejores parámetros:\n",
    "{'reg_lambda': 5, 'reg_alpha': 50, 'num_leaves': 30, 'n_estimators': 300, 'min_child_weight': 0.1, 'max_depth': 15, 'learning_rate': 0.3}"
   ]
  },
  {
   "cell_type": "markdown",
   "metadata": {},
   "source": [
    "# Entrenamiento"
   ]
  },
  {
   "cell_type": "code",
   "execution_count": 86,
   "metadata": {},
   "outputs": [],
   "source": [
    "mejores_hiperparametros = modelo_random.best_params_"
   ]
  },
  {
   "cell_type": "code",
   "execution_count": 87,
   "metadata": {},
   "outputs": [
    {
     "data": {
      "text/plain": [
       "LGBMRegressor(boosting_type='gbdt', class_weight=None, colsample_bytree=1.0,\n",
       "              importance_type='split', learning_rate=0.3, max_depth=60,\n",
       "              min_child_samples=20, min_child_weight=100.0, min_split_gain=0.0,\n",
       "              n_estimators=400, n_jobs=-1, num_leaves=30, objective=None,\n",
       "              random_state=None, reg_alpha=0.0, reg_lambda=10, silent=True,\n",
       "              subsample=1.0, subsample_for_bin=200000, subsample_freq=0)"
      ]
     },
     "execution_count": 87,
     "metadata": {},
     "output_type": "execute_result"
    }
   ],
   "source": [
    "mejor_lgb = lgb.LGBMRegressor(reg_lambda = mejores_hiperparametros[\"reg_lambda\"],\n",
    "                              num_leaves = mejores_hiperparametros[\"num_leaves\"],\n",
    "                              n_estimators = mejores_hiperparametros[\"n_estimators\"],\n",
    "                              min_child_weight = mejores_hiperparametros[\"min_child_weight\"],\n",
    "                              max_depth = mejores_hiperparametros[\"max_depth\"],\n",
    "                              learning_rate = mejores_hiperparametros[\"learning_rate\"])\n",
    "                                    \n",
    "mejor_lgb.fit(X_train, y_train)"
   ]
  },
  {
   "cell_type": "code",
   "execution_count": 88,
   "metadata": {},
   "outputs": [
    {
     "name": "stdout",
     "output_type": "stream",
     "text": [
      "Performance del modelo:\n",
      "Average Error: 787003.0393 degrees.\n",
      "Accuracy = 59.12%.\n"
     ]
    },
    {
     "data": {
      "text/plain": [
       "59.119928022612115"
      ]
     },
     "execution_count": 88,
     "metadata": {},
     "output_type": "execute_result"
    }
   ],
   "source": [
    "evaluar_rf(mejor_lgb, X_test, y_test)"
   ]
  },
  {
   "cell_type": "markdown",
   "metadata": {},
   "source": [
    "# Predicción"
   ]
  },
  {
   "cell_type": "code",
   "execution_count": 90,
   "metadata": {},
   "outputs": [],
   "source": [
    "y_pred = mejor_lgb.predict(test_OHE)"
   ]
  },
  {
   "cell_type": "code",
   "execution_count": 91,
   "metadata": {},
   "outputs": [],
   "source": [
    "df = pd.DataFrame({\"id\": test.index, \"target\": y_pred})"
   ]
  },
  {
   "cell_type": "code",
   "execution_count": 92,
   "metadata": {},
   "outputs": [],
   "source": [
    "filename = 'LightLGB_00.csv'\n",
    "\n",
    "df.to_csv(filename,index=False)"
   ]
  },
  {
   "cell_type": "code",
   "execution_count": null,
   "metadata": {},
   "outputs": [],
   "source": []
  }
 ],
 "metadata": {
  "kernelspec": {
   "display_name": "Python 3",
   "language": "python",
   "name": "python3"
  },
  "language_info": {
   "codemirror_mode": {
    "name": "ipython",
    "version": 3
   },
   "file_extension": ".py",
   "mimetype": "text/x-python",
   "name": "python",
   "nbconvert_exporter": "python",
   "pygments_lexer": "ipython3",
   "version": "3.7.3"
  }
 },
 "nbformat": 4,
 "nbformat_minor": 2
}
