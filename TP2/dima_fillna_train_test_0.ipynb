{
 "cells": [
  {
   "cell_type": "code",
   "execution_count": 125,
   "metadata": {},
   "outputs": [],
   "source": [
    "import common.common_machine_learning as common\n",
    "import pandas as pd\n",
    "import numpy as np\n",
    "import common.feature_num as feature_num"
   ]
  },
  {
   "cell_type": "code",
   "execution_count": 126,
   "metadata": {},
   "outputs": [],
   "source": [
    "train = common.cargar_set_optimizado('sets_de_datos/train.csv')"
   ]
  },
  {
   "cell_type": "markdown",
   "metadata": {},
   "source": [
    "## Fill NaN: tipodepropiedad, antiguedad, habitaciones, garages, banos "
   ]
  },
  {
   "cell_type": "code",
   "execution_count": 127,
   "metadata": {},
   "outputs": [],
   "source": [
    "for col in ['tipodepropiedad', 'idzona']:\n",
    "    modas_x_ciudad_x_provincia =\\\n",
    "        train.groupby(['provincia', 'ciudad'])[col]\\\n",
    "            .apply(lambda x: x.mode())\\\n",
    "            .reset_index()\\\n",
    "            .drop(['level_2'], axis = 1)\\\n",
    "            .rename(columns = {col : col + '_mode_x_ciudad'})\n",
    "    \n",
    "    train = train.merge(modas_x_ciudad_x_provincia, on = ['provincia', 'ciudad'], how = 'left')\n",
    "    \n",
    "    train[col] = train[col].fillna(train[col + '_mode_x_ciudad'])\n",
    "    \n",
    "    modas_x_provincia =\\\n",
    "        train.groupby(['provincia'])[col]\\\n",
    "            .apply(lambda x: x.mode())\\\n",
    "            .reset_index()\\\n",
    "            .drop(['level_1'], axis = 1)\\\n",
    "            .rename(columns = {col : col + '_mode_x_provincia'})\n",
    "    \n",
    "    train = train.merge(modas_x_provincia, on = ['provincia'], how = 'left')\n",
    "    \n",
    "    train[col] = train[col].fillna(train[col + '_mode_x_provincia'])\n",
    "    \n",
    "    train.fillna(value = {col : train[col].mode().get(0)}, inplace = True)"
   ]
  },
  {
   "cell_type": "code",
   "execution_count": 128,
   "metadata": {},
   "outputs": [],
   "source": [
    "for col in ['antiguedad', 'habitaciones', 'garages', 'banos']:    \n",
    "    modas_tipodepropiedad_x_ciudad_x_provincia =\\\n",
    "        train.groupby(['provincia', 'ciudad', 'tipodepropiedad'])[col]\\\n",
    "            .apply(lambda x: x.mode())\\\n",
    "            .reset_index()\\\n",
    "            .drop(['level_3'], axis = 1)\\\n",
    "            .rename(columns = {col : col + '_mode_x_tipodepropiedad'})\n",
    "    \n",
    "    train = train.merge(modas_tipodepropiedad_x_ciudad_x_provincia, on = ['provincia', 'ciudad', 'tipodepropiedad'], how = 'left')\n",
    "    \n",
    "    train[col] = train[col].fillna(train[col + '_mode_x_tipodepropiedad'])\n",
    "    \n",
    "    modas_x_ciudad_x_provincia =\\\n",
    "        train.groupby(['provincia', 'ciudad'])[col]\\\n",
    "            .apply(lambda x: x.mode())\\\n",
    "            .reset_index()\\\n",
    "            .drop(['level_2'], axis = 1)\\\n",
    "            .rename(columns = {col : col + '_mode_x_ciudad'})\n",
    "    \n",
    "    train = train.merge(modas_x_ciudad_x_provincia, on = ['provincia', 'ciudad'], how = 'left')\n",
    "    \n",
    "    train[col] = train[col].fillna(train[col + '_mode_x_ciudad'])\n",
    "    \n",
    "    modas_x_provincia =\\\n",
    "        train.groupby(['provincia'])[col]\\\n",
    "            .apply(lambda x: x.mode())\\\n",
    "            .reset_index()\\\n",
    "            .drop(['level_1'], axis = 1)\\\n",
    "            .rename(columns = {col : col + '_mode_x_provincia'})\n",
    "    \n",
    "    train = train.merge(modas_x_provincia, on = ['provincia'], how = 'left')\n",
    "    \n",
    "    train[col] = train[col].fillna(train[col + '_mode_x_provincia'])\n",
    "    \n",
    "    train.fillna(value = {col : train[col].mode().get(0)}, inplace = True)"
   ]
  },
  {
   "cell_type": "markdown",
   "metadata": {},
   "source": [
    "## Fill Titulo, descripcion & direccion "
   ]
  },
  {
   "cell_type": "code",
   "execution_count": 129,
   "metadata": {},
   "outputs": [],
   "source": [
    "train.fillna(value = {'titulo' : 'nan', 'descripcion' : 'nan', 'direccion' : 'nan'}, inplace = True)"
   ]
  },
  {
   "cell_type": "markdown",
   "metadata": {},
   "source": [
    "## Fill metrostotales & metroscubiertos "
   ]
  },
  {
   "cell_type": "code",
   "execution_count": 130,
   "metadata": {},
   "outputs": [],
   "source": [
    "train['metroscubiertos'] = train['metroscubiertos'].fillna(train['metrostotales'])\n",
    "train['metrostotales'] = train['metrostotales'].fillna(train['metroscubiertos'])"
   ]
  },
  {
   "cell_type": "markdown",
   "metadata": {},
   "source": [
    "## Fill Ciudad "
   ]
  },
  {
   "cell_type": "code",
   "execution_count": 133,
   "metadata": {},
   "outputs": [
    {
     "data": {
      "text/plain": [
       "Index(['id', 'titulo', 'descripcion', 'tipodepropiedad', 'direccion',\n",
       "       'ciudad_x', 'provincia', 'antiguedad', 'habitaciones', 'garages',\n",
       "       'banos', 'metroscubiertos', 'metrostotales', 'idzona', 'lat', 'lng',\n",
       "       'fecha', 'gimnasio', 'usosmultiples', 'piscina', 'escuelascercanas',\n",
       "       'centroscomercialescercanos', 'precio', 'tipodepropiedad_mode_x_ciudad',\n",
       "       'tipodepropiedad_mode_x_provincia', 'idzona_mode_x_ciudad',\n",
       "       'idzona_mode_x_provincia', 'antiguedad_mode_x_tipodepropiedad',\n",
       "       'antiguedad_mode_x_ciudad', 'antiguedad_mode_x_provincia',\n",
       "       'habitaciones_mode_x_tipodepropiedad', 'habitaciones_mode_x_ciudad',\n",
       "       'habitaciones_mode_x_provincia', 'garages_mode_x_tipodepropiedad',\n",
       "       'garages_mode_x_ciudad', 'garages_mode_x_provincia',\n",
       "       'banos_mode_x_tipodepropiedad', 'banos_mode_x_ciudad_x',\n",
       "       'banos_mode_x_provincia', 'ciudad_y', 'banos_mode_x_ciudad_y'],\n",
       "      dtype='object')"
      ]
     },
     "execution_count": 133,
     "metadata": {},
     "output_type": "execute_result"
    }
   ],
   "source": [
    "train.columns"
   ]
  },
  {
   "cell_type": "code",
   "execution_count": 132,
   "metadata": {
    "scrolled": true
   },
   "outputs": [
    {
     "ename": "KeyError",
     "evalue": "'Column not found: ciudad'",
     "output_type": "error",
     "traceback": [
      "\u001b[0;31m---------------------------------------------------------------------------\u001b[0m",
      "\u001b[0;31mKeyError\u001b[0m                                  Traceback (most recent call last)",
      "\u001b[0;32m<ipython-input-132-7a7730d22c1e>\u001b[0m in \u001b[0;36m<module>\u001b[0;34m\u001b[0m\n\u001b[1;32m      1\u001b[0m \u001b[0mciudad_modas_x_provincia\u001b[0m \u001b[0;34m=\u001b[0m\u001b[0;31m\\\u001b[0m\u001b[0;34m\u001b[0m\u001b[0;34m\u001b[0m\u001b[0m\n\u001b[0;32m----> 2\u001b[0;31m     \u001b[0mtrain\u001b[0m\u001b[0;34m.\u001b[0m\u001b[0mgroupby\u001b[0m\u001b[0;34m(\u001b[0m\u001b[0;34m[\u001b[0m\u001b[0;34m'provincia'\u001b[0m\u001b[0;34m]\u001b[0m\u001b[0;34m)\u001b[0m\u001b[0;34m[\u001b[0m\u001b[0;34m'ciudad'\u001b[0m\u001b[0;34m]\u001b[0m\u001b[0;31m\\\u001b[0m\u001b[0;34m\u001b[0m\u001b[0;34m\u001b[0m\u001b[0m\n\u001b[0m\u001b[1;32m      3\u001b[0m         \u001b[0;34m.\u001b[0m\u001b[0mapply\u001b[0m\u001b[0;34m(\u001b[0m\u001b[0;32mlambda\u001b[0m \u001b[0mx\u001b[0m\u001b[0;34m:\u001b[0m \u001b[0mx\u001b[0m\u001b[0;34m.\u001b[0m\u001b[0mmode\u001b[0m\u001b[0;34m(\u001b[0m\u001b[0;34m)\u001b[0m\u001b[0;34m)\u001b[0m\u001b[0;31m\\\u001b[0m\u001b[0;34m\u001b[0m\u001b[0;34m\u001b[0m\u001b[0m\n\u001b[1;32m      4\u001b[0m         \u001b[0;34m.\u001b[0m\u001b[0mreset_index\u001b[0m\u001b[0;34m(\u001b[0m\u001b[0;34m)\u001b[0m\u001b[0;31m\\\u001b[0m\u001b[0;34m\u001b[0m\u001b[0;34m\u001b[0m\u001b[0m\n\u001b[1;32m      5\u001b[0m         \u001b[0;34m.\u001b[0m\u001b[0mdrop\u001b[0m\u001b[0;34m(\u001b[0m\u001b[0;34m[\u001b[0m\u001b[0;34m'level_1'\u001b[0m\u001b[0;34m]\u001b[0m\u001b[0;34m,\u001b[0m \u001b[0maxis\u001b[0m \u001b[0;34m=\u001b[0m \u001b[0;36m1\u001b[0m\u001b[0;34m)\u001b[0m\u001b[0;31m\\\u001b[0m\u001b[0;34m\u001b[0m\u001b[0;34m\u001b[0m\u001b[0m\n",
      "\u001b[0;32m~/anaconda3/lib/python3.7/site-packages/pandas/core/base.py\u001b[0m in \u001b[0;36m__getitem__\u001b[0;34m(self, key)\u001b[0m\n\u001b[1;32m    273\u001b[0m         \u001b[0;32melse\u001b[0m\u001b[0;34m:\u001b[0m\u001b[0;34m\u001b[0m\u001b[0;34m\u001b[0m\u001b[0m\n\u001b[1;32m    274\u001b[0m             \u001b[0;32mif\u001b[0m \u001b[0mkey\u001b[0m \u001b[0;32mnot\u001b[0m \u001b[0;32min\u001b[0m \u001b[0mself\u001b[0m\u001b[0;34m.\u001b[0m\u001b[0mobj\u001b[0m\u001b[0;34m:\u001b[0m\u001b[0;34m\u001b[0m\u001b[0;34m\u001b[0m\u001b[0m\n\u001b[0;32m--> 275\u001b[0;31m                 \u001b[0;32mraise\u001b[0m \u001b[0mKeyError\u001b[0m\u001b[0;34m(\u001b[0m\u001b[0;34m\"Column not found: {key}\"\u001b[0m\u001b[0;34m.\u001b[0m\u001b[0mformat\u001b[0m\u001b[0;34m(\u001b[0m\u001b[0mkey\u001b[0m\u001b[0;34m=\u001b[0m\u001b[0mkey\u001b[0m\u001b[0;34m)\u001b[0m\u001b[0;34m)\u001b[0m\u001b[0;34m\u001b[0m\u001b[0;34m\u001b[0m\u001b[0m\n\u001b[0m\u001b[1;32m    276\u001b[0m             \u001b[0;32mreturn\u001b[0m \u001b[0mself\u001b[0m\u001b[0;34m.\u001b[0m\u001b[0m_gotitem\u001b[0m\u001b[0;34m(\u001b[0m\u001b[0mkey\u001b[0m\u001b[0;34m,\u001b[0m \u001b[0mndim\u001b[0m\u001b[0;34m=\u001b[0m\u001b[0;36m1\u001b[0m\u001b[0;34m)\u001b[0m\u001b[0;34m\u001b[0m\u001b[0;34m\u001b[0m\u001b[0m\n\u001b[1;32m    277\u001b[0m \u001b[0;34m\u001b[0m\u001b[0m\n",
      "\u001b[0;31mKeyError\u001b[0m: 'Column not found: ciudad'"
     ]
    }
   ],
   "source": [
    "ciudad_modas_x_provincia =\\\n",
    "    train.groupby(['provincia'])['ciudad']\\\n",
    "        .apply(lambda x: x.mode())\\\n",
    "        .reset_index()\\\n",
    "        .drop(['level_1'], axis = 1)\\\n",
    "        .rename(columns = {'ciudad' : 'ciudad' + '_mode_x_provincia'})\n",
    "\n",
    "train = train.merge(ciudad_modas_x_provincia, on = ['provincia'], how = 'left')\n",
    "train['ciudad'] = train['ciudad'].fillna(train['ciudad' + '_mode_x_ciudad'])"
   ]
  },
  {
   "cell_type": "markdown",
   "metadata": {},
   "source": [
    "## Fill Provincia "
   ]
  },
  {
   "cell_type": "code",
   "execution_count": null,
   "metadata": {},
   "outputs": [],
   "source": [
    "train['provincia'] = train['provincia'].fillna(train['provincia'].mode().get(0))"
   ]
  },
  {
   "cell_type": "markdown",
   "metadata": {},
   "source": [
    "## Fill Lat Lng "
   ]
  },
  {
   "cell_type": "code",
   "execution_count": null,
   "metadata": {
    "scrolled": true
   },
   "outputs": [],
   "source": [
    "train.isnull().sum()"
   ]
  },
  {
   "cell_type": "code",
   "execution_count": null,
   "metadata": {},
   "outputs": [],
   "source": [
    "train = completar_lat_lng_con_provincias_y_ciudades(train)\n",
    "train = completar_lat_lng_con_idzona_mean(train)\n",
    "completar_lat_lng_con_promedio_Mexico(train)"
   ]
  },
  {
   "cell_type": "markdown",
   "metadata": {},
   "source": [
    "## Resultado "
   ]
  },
  {
   "cell_type": "code",
   "execution_count": null,
   "metadata": {},
   "outputs": [],
   "source": [
    "train.isnullll"
   ]
  }
 ],
 "metadata": {
  "kernelspec": {
   "display_name": "Python 3",
   "language": "python",
   "name": "python3"
  },
  "language_info": {
   "codemirror_mode": {
    "name": "ipython",
    "version": 3
   },
   "file_extension": ".py",
   "mimetype": "text/x-python",
   "name": "python",
   "nbconvert_exporter": "python",
   "pygments_lexer": "ipython3",
   "version": "3.7.3"
  }
 },
 "nbformat": 4,
 "nbformat_minor": 2
}
