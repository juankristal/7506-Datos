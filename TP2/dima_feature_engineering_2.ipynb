{
 "cells": [
  {
   "cell_type": "code",
   "execution_count": 66,
   "metadata": {},
   "outputs": [],
   "source": [
    "import common.common_machine_learning as common\n",
    "import pandas as pd\n",
    "import numpy as np\n",
    "import common.feature_num as feature_num"
   ]
  },
  {
   "cell_type": "code",
   "execution_count": 41,
   "metadata": {},
   "outputs": [],
   "source": [
    "train = common.cargar_set_optimizado('sets_de_datos/train.csv')"
   ]
  },
  {
   "cell_type": "code",
   "execution_count": 42,
   "metadata": {},
   "outputs": [],
   "source": [
    "X_test = common.cargar_set_optimizado('sets_de_datos/test.csv')"
   ]
  },
  {
   "cell_type": "code",
   "execution_count": 43,
   "metadata": {},
   "outputs": [],
   "source": [
    "train['año'] = train['fecha'].dt.year\n",
    "train['mes'] = train['fecha'].dt.month\n",
    "train['dia'] = train['fecha'].dt.day"
   ]
  },
  {
   "cell_type": "code",
   "execution_count": 44,
   "metadata": {},
   "outputs": [],
   "source": [
    "train['metroscubiertos'] = train['metroscubiertos'].fillna(train['metrostotales'])\n",
    "train['metrostotales'] = train['metrostotales'].fillna(train['metroscubiertos'])"
   ]
  },
  {
   "cell_type": "code",
   "execution_count": 45,
   "metadata": {},
   "outputs": [],
   "source": [
    "def metros_no_cubiertos(m_totales, m_cubiertos):\n",
    "    if m_cubiertos >= m_totales:\n",
    "        return 0\n",
    "    return m_totales - m_cubiertos\n",
    "    \n",
    "\n",
    "train['metros_no_cubiertos'] =\\\n",
    "    train.apply(lambda x: metros_no_cubiertos(x['metrostotales'], x['metroscubiertos']), axis = 1)"
   ]
  },
  {
   "cell_type": "code",
   "execution_count": 46,
   "metadata": {
    "scrolled": true
   },
   "outputs": [
    {
     "data": {
      "text/plain": [
       "14.069029166666667"
      ]
     },
     "execution_count": 46,
     "metadata": {},
     "output_type": "execute_result"
    }
   ],
   "source": [
    "train['metros_no_cubiertos'].mean()"
   ]
  },
  {
   "cell_type": "code",
   "execution_count": 47,
   "metadata": {},
   "outputs": [],
   "source": [
    "train['habitaciones'] = train['habitaciones'].fillna(1)\n",
    "train['garages'] = train['garages'].fillna(0)\n",
    "train['banos'] = train['banos'].fillna(0)\n",
    "\n",
    "def cantidad_espacios(df):\n",
    "    cantidad_espacios = 0\n",
    "    for col in ['habitaciones', 'garages', 'banos', 'gimnasio', 'usosmultiples', 'piscina']:\n",
    "        cantidad_espacios += int(df[col])\n",
    "    return cantidad_espacios\n",
    "\n",
    "train['cantidad_espacios'] = train.apply(cantidad_espacios, axis = 1)"
   ]
  },
  {
   "cell_type": "code",
   "execution_count": 48,
   "metadata": {},
   "outputs": [],
   "source": [
    "def metros_x_espacio(cantidad_espacios, metros_cubiertos):\n",
    "    if cantidad_espacios <= 0 or metros_cubiertos <= 0:\n",
    "        return 0\n",
    "    return metros_cubiertos / cantidad_espacios\n",
    "\n",
    "train['metros_x_espacio'] = train.apply(lambda x: metros_x_espacio(x['cantidad_espacios'], x['metroscubiertos']), axis = 1)"
   ]
  },
  {
   "cell_type": "code",
   "execution_count": 49,
   "metadata": {
    "scrolled": true
   },
   "outputs": [],
   "source": [
    "def metros_x_espacios(repeticiones_espacio, metros_x_espacio):\n",
    "    if repeticiones_espacio <= 0 or metros_x_espacio <= 0:\n",
    "        return 0\n",
    "    return repeticiones_espacio * metros_x_espacio\n",
    "\n",
    "for col in ['habitaciones', 'garages', 'banos', 'gimnasio', 'usosmultiples', 'piscina']:\n",
    "    train['metros_x_' + col] =\\\n",
    "        train.apply(lambda x: metros_x_espacios(x[col], x['metros_x_espacio']), axis = 1)"
   ]
  },
  {
   "cell_type": "code",
   "execution_count": 50,
   "metadata": {},
   "outputs": [],
   "source": [
    "train['cosas_cercanas'] = train['escuelascercanas'].astype(int)  + train['centroscomercialescercanos'].astype(int)"
   ]
  },
  {
   "cell_type": "code",
   "execution_count": 51,
   "metadata": {},
   "outputs": [],
   "source": [
    "train['antiguedad'] = train['antiguedad'].fillna(0)"
   ]
  },
  {
   "cell_type": "code",
   "execution_count": 52,
   "metadata": {},
   "outputs": [],
   "source": [
    "idzona_mode_x_ciudad = train.groupby(['ciudad'])\\\n",
    "                        .apply(lambda x: x['idzona'].dropna().mode())\\\n",
    "                        .reset_index()\\\n",
    "                        .drop(['level_1'], axis = 1)\\\n",
    "                        .rename(columns = {0 : 'idzona_mode'})"
   ]
  },
  {
   "cell_type": "code",
   "execution_count": 53,
   "metadata": {},
   "outputs": [],
   "source": [
    "train = train.merge(idzona_mode_x_ciudad, on = 'ciudad', how = 'left')"
   ]
  },
  {
   "cell_type": "code",
   "execution_count": 54,
   "metadata": {},
   "outputs": [],
   "source": [
    "train['idzona'] = train['idzona'].fillna(train['idzona_mode'])"
   ]
  },
  {
   "cell_type": "code",
   "execution_count": 55,
   "metadata": {
    "scrolled": true
   },
   "outputs": [],
   "source": [
    "train = train.drop(['idzona_mode'], axis = 1)"
   ]
  },
  {
   "cell_type": "code",
   "execution_count": 56,
   "metadata": {},
   "outputs": [],
   "source": [
    "idzona_mode_x_provincia = train.groupby(['provincia'])\\\n",
    "                        .apply(lambda x: x['idzona'].dropna().mode())\\\n",
    "                        .reset_index()\\\n",
    "                        .drop(['level_1'], axis = 1)\\\n",
    "                        .rename(columns = {0 : 'idzona_mode'})"
   ]
  },
  {
   "cell_type": "code",
   "execution_count": 57,
   "metadata": {},
   "outputs": [],
   "source": [
    "train = train.merge(idzona_mode_x_provincia, on = 'provincia', how = 'left')"
   ]
  },
  {
   "cell_type": "code",
   "execution_count": 58,
   "metadata": {},
   "outputs": [],
   "source": [
    "train['idzona'] = train['idzona'].fillna(train['idzona_mode'])"
   ]
  },
  {
   "cell_type": "code",
   "execution_count": 59,
   "metadata": {},
   "outputs": [],
   "source": [
    "train = train.drop(['idzona_mode'], axis = 1)"
   ]
  },
  {
   "cell_type": "code",
   "execution_count": 60,
   "metadata": {},
   "outputs": [
    {
     "data": {
      "text/plain": [
       "155"
      ]
     },
     "execution_count": 60,
     "metadata": {},
     "output_type": "execute_result"
    }
   ],
   "source": [
    "train['idzona'].isnull().sum()"
   ]
  },
  {
   "cell_type": "code",
   "execution_count": 61,
   "metadata": {},
   "outputs": [],
   "source": [
    "id_zona_mode = train['idzona'].mode()"
   ]
  },
  {
   "cell_type": "code",
   "execution_count": 62,
   "metadata": {},
   "outputs": [],
   "source": [
    "train.fillna(value = {'idzona' : id_zona_mode.get(0)}, inplace = True)"
   ]
  },
  {
   "cell_type": "code",
   "execution_count": 67,
   "metadata": {},
   "outputs": [],
   "source": [
    "train = feature_num.completar_lat_lng_con_provincias_y_ciudades(train)"
   ]
  },
  {
   "cell_type": "code",
   "execution_count": 70,
   "metadata": {},
   "outputs": [
    {
     "data": {
      "text/plain": [
       "array(['Distrito Federal', 'Jalisco', 'Edo. de México', 'Oaxaca',\n",
       "       'Quintana Roo', 'Colima', 'San luis Potosí', 'Nuevo León',\n",
       "       'Querétaro', 'Tamaulipas', 'Puebla', 'Yucatán', 'Morelos',\n",
       "       'Guerrero', 'Tabasco', 'Guanajuato', 'Hidalgo', 'Veracruz',\n",
       "       'Chihuahua', 'Aguascalientes', 'Sonora', 'Michoacán',\n",
       "       'Baja California Norte', 'Baja California Sur', 'Coahuila',\n",
       "       'Durango', 'Sinaloa', 'Chiapas', 'Nayarit', 'Tlaxcala', 'Campeche',\n",
       "       'Zacatecas', ''], dtype=object)"
      ]
     },
     "execution_count": 70,
     "metadata": {},
     "output_type": "execute_result"
    }
   ],
   "source": [
    "train['provincia'].unique()"
   ]
  }
 ],
 "metadata": {
  "kernelspec": {
   "display_name": "Python 3",
   "language": "python",
   "name": "python3"
  },
  "language_info": {
   "codemirror_mode": {
    "name": "ipython",
    "version": 3
   },
   "file_extension": ".py",
   "mimetype": "text/x-python",
   "name": "python",
   "nbconvert_exporter": "python",
   "pygments_lexer": "ipython3",
   "version": "3.7.3"
  }
 },
 "nbformat": 4,
 "nbformat_minor": 2
}
