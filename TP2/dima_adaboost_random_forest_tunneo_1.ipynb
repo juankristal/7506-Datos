{
 "cells": [
  {
   "cell_type": "markdown",
   "metadata": {},
   "source": [
    "## Imports"
   ]
  },
  {
   "cell_type": "code",
   "execution_count": 57,
   "metadata": {},
   "outputs": [],
   "source": [
    "import common.feature_string as feature_string\n",
    "import common.feature_num as feature_num\n",
    "import common.feature_categorica as feature_categorica\n",
    "import common.common_machine_learning as common\n",
    "import common.my_pipeline as my_pipe\n",
    "import pandas as pd\n",
    "import numpy as np\n",
    "from hyperopt import fmin, tpe, hp, STATUS_OK\n",
    "from sklearn.model_selection import cross_val_score\n",
    "from sklearn.pipeline import Pipeline\n",
    "from sklearn.ensemble import AdaBoostRegressor\n",
    "from sklearn.ensemble import RandomForestRegressor\n",
    "import time"
   ]
  },
  {
   "cell_type": "markdown",
   "metadata": {},
   "source": [
    "#### Ignore Future Warning "
   ]
  },
  {
   "cell_type": "code",
   "execution_count": 36,
   "metadata": {},
   "outputs": [],
   "source": [
    "from warnings import simplefilter\n",
    "simplefilter(action='ignore', category=FutureWarning)"
   ]
  },
  {
   "cell_type": "markdown",
   "metadata": {},
   "source": [
    "## Constantes "
   ]
  },
  {
   "cell_type": "code",
   "execution_count": 37,
   "metadata": {},
   "outputs": [],
   "source": [
    "TARGET = 'precio'\n",
    "K = 2\n",
    "RANDOM_SEMILLA = 3 # numero favorito (de la suerte)\n",
    "N_ITER = 1"
   ]
  },
  {
   "cell_type": "markdown",
   "metadata": {},
   "source": [
    "## Train "
   ]
  },
  {
   "cell_type": "code",
   "execution_count": 38,
   "metadata": {},
   "outputs": [],
   "source": [
    "train = common.cargar_set_optimizado('sets_de_datos/train.csv')"
   ]
  },
  {
   "cell_type": "markdown",
   "metadata": {},
   "source": [
    "## Features"
   ]
  },
  {
   "cell_type": "code",
   "execution_count": 39,
   "metadata": {},
   "outputs": [],
   "source": [
    "feature_num.agregar_feature_fecha_numerica(train)"
   ]
  },
  {
   "cell_type": "markdown",
   "metadata": {},
   "source": [
    "Esto toma unos segundos"
   ]
  },
  {
   "cell_type": "code",
   "execution_count": 40,
   "metadata": {},
   "outputs": [],
   "source": [
    "train = feature_num.completar_lat_lng_con_provincias_y_ciudades(train)\n",
    "train = feature_num.completar_lat_lng_con_idzona_mean(train)\n",
    "feature_num.completar_lat_lng_con_promedio_Mexico(train)"
   ]
  },
  {
   "cell_type": "code",
   "execution_count": 41,
   "metadata": {},
   "outputs": [],
   "source": [
    "train = feature_categorica.agregar_tipodepropiedad_precio_mean(train)"
   ]
  },
  {
   "cell_type": "code",
   "execution_count": 42,
   "metadata": {},
   "outputs": [],
   "source": [
    "train = feature_categorica.train_agregar_feature_provincias_ciudades_ohe_reducido_df(train)"
   ]
  },
  {
   "cell_type": "code",
   "execution_count": 43,
   "metadata": {},
   "outputs": [],
   "source": [
    "train = feature_string.train_agregar_feature_string_todos_df(train)"
   ]
  },
  {
   "cell_type": "code",
   "execution_count": 44,
   "metadata": {
    "scrolled": true
   },
   "outputs": [
    {
     "data": {
      "text/plain": [
       "Index(['id', 'titulo', 'descripcion', 'tipodepropiedad', 'direccion', 'ciudad',\n",
       "       'provincia', 'antiguedad', 'habitaciones', 'garages', 'banos',\n",
       "       'metroscubiertos', 'metrostotales', 'idzona', 'lat', 'lng', 'fecha',\n",
       "       'gimnasio', 'usosmultiples', 'piscina', 'escuelascercanas',\n",
       "       'centroscomercialescercanos', 'precio', 'fecha_numerica',\n",
       "       'tipodepropiedad_precio_mean', 'ciudad_San_Luis_Potosí',\n",
       "       'ciudad_Querétaro', 'ciudad_Zapopan', 'ciudad_Huixquilucan',\n",
       "       'ciudad_Mérida', 'provincia_Distrito_Federal',\n",
       "       'provincia_Edo._de_México', 'provincia_San_luis_Potosí',\n",
       "       'provincia_Yucatán', 'provincia_Querétaro',\n",
       "       'titulo_cantidad_palabras_importantes',\n",
       "       'descripcion_cantidad_palabras_importantes',\n",
       "       'direccion_cantidad_palabras_importantes',\n",
       "       'titulo_cantidad_caracteres_en_palabras_importantes',\n",
       "       'descripcion_cantidad_caracteres_en_palabras_importantes',\n",
       "       'direccion_cantidad_caracteres_en_palabras_importantes',\n",
       "       'titulo_longitud_media_de_palabra',\n",
       "       'descripcion_longitud_media_de_palabra',\n",
       "       'direccion_longitud_media_de_palabra', 'titulo_cantidad_stopwords',\n",
       "       'descripcion_cantidad_stopwords', 'direccion_cantidad_stopwords',\n",
       "       'titulo_cantidad_signos_puntacion',\n",
       "       'descripcion_cantidad_signos_puntacion',\n",
       "       'direccion_cantidad_signos_puntacion',\n",
       "       'direccion_cantidad_palabras_en_mayuscula',\n",
       "       'direccion_cantidad_titulos', 'titulo_cantidad_palabras_top_k',\n",
       "       'descripcion_cantidad_palabras_top_k',\n",
       "       'direccion_cantidad_palabras_top_k',\n",
       "       'titulo_cantidad_palabras_bottom_k',\n",
       "       'descripcion_cantidad_palabras_bottom_k',\n",
       "       'direccion_cantidad_palabras_bottom_k',\n",
       "       'titulo_cantidad_prefijos_top_k', 'descripcion_cantidad_prefijos_top_k',\n",
       "       'direccion_cantidad_prefijos_top_k', 'titulo_cantidad_postfijos_top_k',\n",
       "       'descripcion_cantidad_postfijos_top_k',\n",
       "       'direccion_cantidad_postfijos_top_k'],\n",
       "      dtype='object')"
      ]
     },
     "execution_count": 44,
     "metadata": {},
     "output_type": "execute_result"
    }
   ],
   "source": [
    "train.columns"
   ]
  },
  {
   "cell_type": "code",
   "execution_count": 45,
   "metadata": {},
   "outputs": [],
   "source": [
    "drop_columns = ['titulo', 'descripcion', 'tipodepropiedad', 'direccion', 'ciudad', 'provincia', 'idzona']"
   ]
  },
  {
   "cell_type": "code",
   "execution_count": 46,
   "metadata": {},
   "outputs": [],
   "source": [
    "train = train.drop(drop_columns, axis = 1)"
   ]
  },
  {
   "cell_type": "code",
   "execution_count": 47,
   "metadata": {
    "scrolled": false
   },
   "outputs": [
    {
     "data": {
      "text/plain": [
       "(240000, 57)"
      ]
     },
     "execution_count": 47,
     "metadata": {},
     "output_type": "execute_result"
    }
   ],
   "source": [
    "train.shape"
   ]
  },
  {
   "cell_type": "code",
   "execution_count": 48,
   "metadata": {
    "scrolled": true
   },
   "outputs": [
    {
     "data": {
      "text/plain": [
       "id                                                             0\n",
       "antiguedad                                                 43555\n",
       "habitaciones                                               22471\n",
       "garages                                                    37765\n",
       "banos                                                      26221\n",
       "metroscubiertos                                            17400\n",
       "metrostotales                                              51467\n",
       "lat                                                            0\n",
       "lng                                                            0\n",
       "fecha                                                          0\n",
       "gimnasio                                                       0\n",
       "usosmultiples                                                  0\n",
       "piscina                                                        0\n",
       "escuelascercanas                                               0\n",
       "centroscomercialescercanos                                     0\n",
       "precio                                                         0\n",
       "fecha_numerica                                                 0\n",
       "tipodepropiedad_precio_mean                                    0\n",
       "ciudad_San_Luis_Potosí                                         0\n",
       "ciudad_Querétaro                                               0\n",
       "ciudad_Zapopan                                                 0\n",
       "ciudad_Huixquilucan                                            0\n",
       "ciudad_Mérida                                                  0\n",
       "provincia_Distrito_Federal                                     0\n",
       "provincia_Edo._de_México                                       0\n",
       "provincia_San_luis_Potosí                                      0\n",
       "provincia_Yucatán                                              0\n",
       "provincia_Querétaro                                            0\n",
       "titulo_cantidad_palabras_importantes                           0\n",
       "descripcion_cantidad_palabras_importantes                      0\n",
       "direccion_cantidad_palabras_importantes                        0\n",
       "titulo_cantidad_caracteres_en_palabras_importantes             0\n",
       "descripcion_cantidad_caracteres_en_palabras_importantes        0\n",
       "direccion_cantidad_caracteres_en_palabras_importantes          0\n",
       "titulo_longitud_media_de_palabra                               0\n",
       "descripcion_longitud_media_de_palabra                          0\n",
       "direccion_longitud_media_de_palabra                            0\n",
       "titulo_cantidad_stopwords                                      0\n",
       "descripcion_cantidad_stopwords                                 0\n",
       "direccion_cantidad_stopwords                                   0\n",
       "titulo_cantidad_signos_puntacion                               0\n",
       "descripcion_cantidad_signos_puntacion                          0\n",
       "direccion_cantidad_signos_puntacion                            0\n",
       "direccion_cantidad_palabras_en_mayuscula                       0\n",
       "direccion_cantidad_titulos                                     0\n",
       "titulo_cantidad_palabras_top_k                                 0\n",
       "descripcion_cantidad_palabras_top_k                            0\n",
       "direccion_cantidad_palabras_top_k                              0\n",
       "titulo_cantidad_palabras_bottom_k                              0\n",
       "descripcion_cantidad_palabras_bottom_k                         0\n",
       "direccion_cantidad_palabras_bottom_k                           0\n",
       "titulo_cantidad_prefijos_top_k                                 0\n",
       "descripcion_cantidad_prefijos_top_k                            0\n",
       "direccion_cantidad_prefijos_top_k                              0\n",
       "titulo_cantidad_postfijos_top_k                                0\n",
       "descripcion_cantidad_postfijos_top_k                           0\n",
       "direccion_cantidad_postfijos_top_k                             0\n",
       "dtype: int64"
      ]
     },
     "execution_count": 48,
     "metadata": {},
     "output_type": "execute_result"
    }
   ],
   "source": [
    "train.isnull().sum()"
   ]
  },
  {
   "cell_type": "code",
   "execution_count": 49,
   "metadata": {},
   "outputs": [],
   "source": [
    "train.set_index('id', inplace = True)"
   ]
  },
  {
   "cell_type": "code",
   "execution_count": 50,
   "metadata": {},
   "outputs": [],
   "source": [
    "X = train.drop([TARGET], axis = 1).copy()\n",
    "y = train[TARGET].copy()"
   ]
  },
  {
   "cell_type": "code",
   "execution_count": 59,
   "metadata": {},
   "outputs": [],
   "source": [
    "pre_procesar_pipe = my_pipe.get_columns_pipeline()\n",
    "\n",
    "def objective(hyper_parametros):\n",
    "    \n",
    "    rf_regressor = RandomForestRegressor(\n",
    "        n_estimators = hyper_parametros['n_estimators'],\n",
    "        max_depth = hyper_parametros['rf_max_depth'],\n",
    "        min_samples_split = hyper_parametros['rf_min_samples_split'],\n",
    "        min_samples_leaf = hyper_parametros['rf_min_samples_leaf'],\n",
    "        max_features = hyper_parametros['rf_max_features']\n",
    "    )\n",
    "    \n",
    "    ada_regressor = AdaBoostRegressor(\n",
    "                        base_estimator = rf_regressor, \n",
    "                        n_estimators = hyper_parametros['n_estimators'],\n",
    "                        learning_rate = hyper_parametros['ada_learning_rate']\n",
    "                    )\n",
    "    \n",
    "    busqueda_pipe = Pipeline(steps = [\n",
    "        ('pre-procesar', pre_procesar_pipe),\n",
    "        ('ada_regressor', ada_regressor)\n",
    "    ])  \n",
    "    \n",
    "    score = cross_val_score(busqueda_pipe, X, y, scoring='neg_mean_absolute_error', cv=K).mean()\n",
    "    \n",
    "    print(\"SCORE: {:.3f} params {}\".format(score, hyper_parametros))\n",
    "    \n",
    "    return {'loss': -score, 'status': STATUS_OK}"
   ]
  },
  {
   "cell_type": "code",
   "execution_count": 53,
   "metadata": {},
   "outputs": [],
   "source": [
    "space = {\n",
    "    \"n_estimators\": hp.randint(\"n_estimators\", 1000) + 1,\n",
    "    'ada_learning_rate' : hp.uniform('ada_learning_rate',1,5),\n",
    "    \"rf_max_depth\": hp.randint(\"rf_max_depth\", 15) + 1,\n",
    "    \"rf_min_samples_split\": hp.randint(\"rf_min_samples_split\", 10) + 1,\n",
    "    \"rf_min_samples_leaf\": hp.choice(\"rf_min_samples_leaf\", [1 ,2, 3, 4, 5, 6, 7, 8, 9, 10]),\n",
    "    \"rf_max_features\": hp.uniform(\"rf_max_features\", 0.6, 0.8)\n",
    "}"
   ]
  },
  {
   "cell_type": "code",
   "execution_count": 60,
   "metadata": {},
   "outputs": [
    {
     "name": "stdout",
     "output_type": "stream",
     "text": [
      "SCORE: -1251970.509 params {'ada_learning_rate': 3.4254758756396324, 'n_estimators': 156, 'rf_max_depth': 11, 'rf_max_features': 0.7385796133727545, 'rf_min_samples_leaf': 6, 'rf_min_samples_split': 5}\n",
      "100%|██████████| 1/1 [02:22<00:00, 142.32s/it, best loss: 1251970.5093388588]\n",
      "Tiempo = 2.37 minutos\n"
     ]
    }
   ],
   "source": [
    "t0 = time.time()\n",
    "best = fmin(fn=objective,\n",
    "            space=space,\n",
    "            algo=tpe.suggest,\n",
    "            max_evals=N_ITER)\n",
    "t1 = time.time()\n",
    "print('Tiempo = {0:.2f} minutos'.format((t1 - t0)/60))"
   ]
  },
  {
   "cell_type": "code",
   "execution_count": null,
   "metadata": {},
   "outputs": [],
   "source": [
    "print(best)"
   ]
  }
 ],
 "metadata": {
  "kernelspec": {
   "display_name": "Python 3",
   "language": "python",
   "name": "python3"
  },
  "language_info": {
   "codemirror_mode": {
    "name": "ipython",
    "version": 3
   },
   "file_extension": ".py",
   "mimetype": "text/x-python",
   "name": "python",
   "nbconvert_exporter": "python",
   "pygments_lexer": "ipython3",
   "version": "3.7.3"
  }
 },
 "nbformat": 4,
 "nbformat_minor": 2
}
