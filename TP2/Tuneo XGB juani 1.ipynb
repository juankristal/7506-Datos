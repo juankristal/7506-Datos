{
 "cells": [
  {
   "cell_type": "code",
   "execution_count": 1,
   "metadata": {},
   "outputs": [],
   "source": [
    "import pandas as pd\n",
    "import numpy as np\n",
    "from xgboost import XGBRegressor\n",
    "from hyperopt import fmin, tpe, hp, STATUS_OK\n",
    "from sklearn.model_selection import cross_val_score\n",
    "import time"
   ]
  },
  {
   "cell_type": "code",
   "execution_count": 2,
   "metadata": {},
   "outputs": [],
   "source": [
    "train = pd.read_csv(\"sets_de_datos/dima_train_with_features_6.csv\",\n",
    "                    dtype={ \\\n",
    "                            'antiguedad' : np.float32, \n",
    "                            'habitaciones' : np.float32, \n",
    "                            'garages' : np.float32, \n",
    "                            'banos' : np.float32,\n",
    "                            'metroscubiertos' : np.float32, \n",
    "                            'metrostotales' : np.float32, \n",
    "                            'idzona' : np.float32, \n",
    "                            'lat' : np.float32, \n",
    "                            'lng' : np.float32, \n",
    "                            'gimnasio' : np.float32, \n",
    "                            'usosmultiples' : np.float32, \n",
    "                            'piscina' : np.float32, \n",
    "                            'escuelascercanas' : np.float32,\n",
    "                            'centroscomercialescercanos' : np.float32, \n",
    "                            'precio' : np.float32, \n",
    "                            'servicios_cercanos' : np.float32,\n",
    "                            'utilidades_extra' : np.float32, \n",
    "                            'tipodepropiedad_mean_antiguedad' : np.float32,\n",
    "                            'tipodepropiedad_mean_habitaciones ' : np.float32, \n",
    "                            'tipodepropiedad_mean_garages' : np.float32,\n",
    "                            'tipodepropiedad_mean_banos' : np.float32, \n",
    "                            'tipodepropiedad_mean_metroscubiertos' : np.float32,\n",
    "                            'tipodepropiedad_mean_utilidades_extra' : np.float32,\n",
    "                            'tipodepropiedad_mean_servicios_cercanos' : np.float32, \n",
    "                            'ciudad_mean_antiguedad' : np.float32,\n",
    "                            'ciudad_mean_habitaciones' : np.float32, \n",
    "                            'ciudad_mean_garages' : np.float32, \n",
    "                            'ciudad_mean_banos': np.float32,\n",
    "                            'ciudad_mean_metroscubiertos' : np.float32, \n",
    "                            'ciudad_mean_utilidades_extra' : np.float32,\n",
    "                            'ciudad_mean_servicios_cercanos' : np.float32, \n",
    "                            'provincia_mean_antiguedad' : np.float32,\n",
    "                            'provincia_mean_habitaciones' : np.float32, \n",
    "                            'provincia_mean_garages' : np.float32,\n",
    "                            'provincia_mean_banos' : np.float32, \n",
    "                            'provincia_mean_metroscubiertos' : np.float32,\n",
    "                            'provincia_mean_utilidades_extra' : np.float32, \n",
    "                            'provincia_mean_servicios_cercanos' : np.float32,\n",
    "                            'ciudad_mean_lat' : np.float32, \n",
    "                            'ciudad_mean_lng' : np.float32, \n",
    "                            'provincia_mean_lat' : np.float32,\n",
    "                            'provincia_mean_lng' : np.float32, \n",
    "                            'coseno_distancia_angular_al_centro_ciudad' : np.float32,\n",
    "                            'coseno_distancia_angular_al_centro_provincia' : np.float32,\n",
    "                            'coseno_distancia_angular_al_centro_pais' : np.float32, \n",
    "                            'año' : np.float32, \n",
    "                            'mes' : np.float32, \n",
    "                            'dia' : np.float32,\n",
    "                            'metros_no_cubiertos' : np.float32, \n",
    "                            'cantidad_espacios' : np.float32, \n",
    "                            'metros_x_espacio' : np.float32,\n",
    "                            'metros_x_habitaciones' : np.float32, \n",
    "                            'metros_x_garages' : np.float32, \n",
    "                            'metros_x_banos' : np.float32,\n",
    "                            'metros_x_utilidades_extra' : np.float32, \n",
    "                            'ratio_metros_cubiertos' : np.float32,\n",
    "                            'distancia_minima_Terreno_comercial' : np.float32,\n",
    "                            'distancia_minima_Local_Comercial' : np.float32,\n",
    "                            'distancia_minima_Oficina_comercial' : np.float32,\n",
    "                            'distancia_minima_Local_en_centro_comercial' : np.float32,\n",
    "                            'distancia_minima_Bodega_comercial' : np.float32, \n",
    "                            'banos_preciopromedio_ciudad' : np.float32,\n",
    "                            'habitaciones_preciopromedio_ciudad' : np.float32, \n",
    "                            'garages_preciopromedio_ciudad' : np.float32,\n",
    "                            'banos_preciopromedio_metroscubiertos' : np.float32,\n",
    "                            'habitaciones_preciopromedio_metroscubiertos' : np.float32,\n",
    "                            'garages_preciopromedio_metroscubiertos' : np.float32, \n",
    "                            'precio_x_m2' : np.float32,\n",
    "                            'tipodepropiedad_mean_precio' : np.float32, \n",
    "                            'titulo_cantidad_palabras_importantes' : np.float32,\n",
    "                            'descripcion_cantidad_palabras_importantes' : np.float32,\n",
    "                            'direccion_cantidad_palabras_importantes' : np.float32,\n",
    "                            'titulo_cantidad_caracteres_en_palabras_importantes' : np.float32,\n",
    "                            'descripcion_cantidad_caracteres_en_palabras_importantes' : np.float32,\n",
    "                            'direccion_cantidad_caracteres_en_palabras_importantes' : np.float32,\n",
    "                            'titulo_longitud_media_de_palabra' : np.float32,\n",
    "                            'descripcion_longitud_media_de_palabra' : np.float32,\n",
    "                            'direccion_longitud_media_de_palabra' : np.float32, \n",
    "                            'titulo_cantidad_stopwords' : np.float32,\n",
    "                            'descripcion_cantidad_stopwords' : np.float32, \n",
    "                            'direccion_cantidad_stopwords' : np.float32,\n",
    "                            'titulo_cantidad_signos_puntacion' : np.float32,\n",
    "                            'descripcion_cantidad_signos_puntacion' : np.float32,\n",
    "                            'direccion_cantidad_signos_puntacion' : np.float32,\n",
    "                            'direccion_cantidad_palabras_en_mayuscula' : np.float32,\n",
    "                            'direccion_cantidad_titulos' : np.float32, \n",
    "                            'titulo_cantidad_palabras_top_k' : np.float32,\n",
    "                            'descripcion_cantidad_palabras_top_k' : np.float32,\n",
    "                            'direccion_cantidad_palabras_top_k' : np.float32,\n",
    "                            'titulo_cantidad_palabras_bottom_k' : np.float32,\n",
    "                            'descripcion_cantidad_palabras_bottom_k' : np.float32,\n",
    "                            'direccion_cantidad_palabras_bottom_k' : np.float32,\n",
    "                            'titulo_cantidad_prefijos_top_k' : np.float32, \n",
    "                            'descripcion_cantidad_prefijos_top_k' : np.float32,\n",
    "                            'direccion_cantidad_prefijos_top_k' : np.float32, \n",
    "                            'titulo_cantidad_postfijos_top_k' : np.float32,\n",
    "                            'descripcion_cantidad_postfijos_top_k' : np.float32,\n",
    "                            'direccion_cantidad_postfijos_top_k' : np.float32, \n",
    "                            '0' : np.float32, \n",
    "                            '1' : np.float32, \n",
    "                            '2' : np.float32, \n",
    "                            '3' : np.float32, \n",
    "                            '4' : np.float32, \n",
    "                            '5' : np.float32, \n",
    "                            '6' : np.float32,\n",
    "                            '7' : np.float32,\n",
    "                            'distancia_euclideana_al_origen' : np.float32, \n",
    "                            'distancia_minima_comercial' : np.float32,\n",
    "                            'coseno_maximo_ciudad_pais' : np.float32,\n",
    "                            'ciudad_mean_antiguedad_sobre_provincia_mean_antiguedad' : np.float32,\n",
    "                            'tipodepropiead_mean_utilidades_extra_sobre_ciudad_mean_utilidades_extra' : np.float32,\n",
    "                            'antiguedad_sobre_tipodepropiedad_mean_antiguedad' : np.float32,\n",
    "                            'direccion_cantidad_al_menos_una_mayuscula' : np.float32,\n",
    "                            'direccion_cantidad_fijos_top_k' : np.float32, \n",
    "                            'titulo_cantidad_fijos_top_k' : np.float32,\n",
    "                            'titulo_palabras_top_k_sobre_total_palabras' : np.float32,\n",
    "                            'ciudad_distancia_al_origen':  np.float32, \n",
    "                            'ciudad_mean_mean_todas' : np.float32,\n",
    "                            'ciudad_mean_antiguedad_sobre_mean_metrocubiertos' : np.float32\n",
    "                            }\n",
    "                    )"
   ]
  },
  {
   "cell_type": "code",
   "execution_count": 3,
   "metadata": {},
   "outputs": [],
   "source": [
    "train.set_index('id', inplace = True)"
   ]
  },
  {
   "cell_type": "code",
   "execution_count": 4,
   "metadata": {},
   "outputs": [],
   "source": [
    "TARGET = 'precio'\n",
    "FEATURES = ['descripcion_longitud_media_de_palabra', 'metrostotales',\n",
    "       'metros_x_espacio', 'idzona', 'lat', 'titulo_longitud_media_de_palabra',\n",
    "       'distancia_minima_Oficina_comercial',\n",
    "       'distancia_minima_Local_en_centro_comercial',\n",
    "       'distancia_minima_Bodega_comercial', 'metros_x_garages',\n",
    "       'metroscubiertos', 'metros_x_habitaciones', 'metros_x_banos',\n",
    "       'distancia_minima_Terreno_comercial',\n",
    "       'distancia_minima_Local_Comercial',\n",
    "       'titulo_cantidad_caracteres_en_palabras_importantes',\n",
    "       'descripcion_cantidad_palabras_top_k',\n",
    "       'descripcion_cantidad_caracteres_en_palabras_importantes',\n",
    "       'coseno_distancia_angular_al_centro_provincia',\n",
    "       'descripcion_cantidad_stopwords',\n",
    "       'descripcion_cantidad_signos_puntacion',\n",
    "       'direccion_longitud_media_de_palabra',\n",
    "       'titulo_palabras_top_k_sobre_total_palabras',\n",
    "       'habitaciones_preciopromedio_ciudad', 'antiguedad', 'lng',\n",
    "       'garages_preciopromedio_ciudad',\n",
    "       'direccion_cantidad_caracteres_en_palabras_importantes',\n",
    "       'coseno_distancia_angular_al_centro_ciudad',\n",
    "       'banos_preciopromedio_ciudad', 'descripcion_cantidad_prefijos_top_k',\n",
    "       'precio_x_m2', 'año', 'titulo_cantidad_fijos_top_k',\n",
    "       'descripcion_cantidad_palabras_importantes',\n",
    "       'descripcion_cantidad_postfijos_top_k', 'ciudad_mean_mean_todas',\n",
    "       'ciudad_mean_antiguedad_sobre_mean_metrocubiertos',\n",
    "       'habitaciones_preciopromedio_metroscubiertos', 'cantidad_espacios',\n",
    "       'direccion_cantidad_al_menos_una_mayuscula',\n",
    "       'direccion_cantidad_fijos_top_k', 'ciudad_distancia_al_origen', ]"
   ]
  },
  {
   "cell_type": "code",
   "execution_count": 5,
   "metadata": {},
   "outputs": [],
   "source": [
    "X = train[FEATURES]\n",
    "y = train[TARGET]"
   ]
  },
  {
   "cell_type": "code",
   "execution_count": 6,
   "metadata": {},
   "outputs": [],
   "source": [
    "K = 3\n",
    "def objective(hyper_parametros):\n",
    "\n",
    "    xgb_regressor = XGBRegressor(objective = 'reg:squarederror',**hyper_parametros)\n",
    "    \n",
    "    score = cross_val_score(xgb_regressor, X, y, \n",
    "                            scoring='neg_mean_absolute_error', cv=K).mean()\n",
    "    \n",
    "    print(\"SCORE: {:.3f} params {}\".format(score, hyper_parametros))\n",
    "    \n",
    "    return {'loss': -score, 'status': STATUS_OK}"
   ]
  },
  {
   "cell_type": "code",
   "execution_count": 7,
   "metadata": {},
   "outputs": [],
   "source": [
    "space = {\n",
    "    \"n_estimators\": hp.randint(\"xgb_re__n_estimators\", 200) + 500, \n",
    "    \"learning_rate\": hp.uniform(\"xgb_re__learning_rate\", 0.01, 0.03), \n",
    "    \"gamma\": hp.uniform(\"xgb_re__gamma\", 3, 5),\n",
    "    \"lambda\": hp.uniform(\"xgb_re__lambda\", 1, 2),\n",
    "    \"max_depth\": hp.randint(\"xgb_re__max_depth\", 4) + 16, \n",
    "    \"min_child_weight\": hp.randint(\"xgb_re__min_child_weight\", 1000) + 8,\n",
    "    'colsample_bytree': 0.8,\n",
    "}"
   ]
  },
  {
   "cell_type": "code",
   "execution_count": 8,
   "metadata": {},
   "outputs": [
    {
     "name": "stdout",
     "output_type": "stream",
     "text": [
      "\r",
      "  0%|                                                                             | 0/20 [00:00<?, ?it/s, best loss: ?]"
     ]
    },
    {
     "name": "stderr",
     "output_type": "stream",
     "text": [
      "c:\\users\\juani\\appdata\\local\\programs\\python\\python36\\lib\\site-packages\\xgboost\\core.py:587: FutureWarning: Series.base is deprecated and will be removed in a future version\n",
      "  if getattr(data, 'base', None) is not None and \\\n",
      "\n",
      "c:\\users\\juani\\appdata\\local\\programs\\python\\python36\\lib\\site-packages\\xgboost\\core.py:587: FutureWarning: Series.base is deprecated and will be removed in a future version\n",
      "  if getattr(data, 'base', None) is not None and \\\n",
      "\n",
      "c:\\users\\juani\\appdata\\local\\programs\\python\\python36\\lib\\site-packages\\xgboost\\core.py:587: FutureWarning: Series.base is deprecated and will be removed in a future version\n",
      "  if getattr(data, 'base', None) is not None and \\\n",
      "\n"
     ]
    },
    {
     "name": "stdout",
     "output_type": "stream",
     "text": [
      "SCORE: -620828.500 params {'colsample_bytree': 0.8, 'gamma': 3.970374385951927, 'lambda': 1.3194472510397675, 'learning_rate': 0.011381026817472084, 'max_depth': 18, 'min_child_weight': 898, 'n_estimators': 541}\n",
      "  5%|██▉                                                       | 1/20 [28:36<9:03:32, 1716.43s/it, best loss: 620828.5]"
     ]
    },
    {
     "name": "stderr",
     "output_type": "stream",
     "text": [
      "c:\\users\\juani\\appdata\\local\\programs\\python\\python36\\lib\\site-packages\\xgboost\\core.py:587: FutureWarning: Series.base is deprecated and will be removed in a future version\n",
      "  if getattr(data, 'base', None) is not None and \\\n",
      "\n",
      "c:\\users\\juani\\appdata\\local\\programs\\python\\python36\\lib\\site-packages\\xgboost\\core.py:587: FutureWarning: Series.base is deprecated and will be removed in a future version\n",
      "  if getattr(data, 'base', None) is not None and \\\n",
      "\n",
      "c:\\users\\juani\\appdata\\local\\programs\\python\\python36\\lib\\site-packages\\xgboost\\core.py:587: FutureWarning: Series.base is deprecated and will be removed in a future version\n",
      "  if getattr(data, 'base', None) is not None and \\\n",
      "\n"
     ]
    },
    {
     "name": "stdout",
     "output_type": "stream",
     "text": [
      "SCORE: -579476.667 params {'colsample_bytree': 0.8, 'gamma': 4.882310564371168, 'lambda': 1.3292628550216525, 'learning_rate': 0.027127441306839584, 'max_depth': 19, 'min_child_weight': 671, 'n_estimators': 674}\n",
      " 10%|████▋                                          | 2/20 [1:09:56<9:43:36, 1945.38s/it, best loss: 579476.6666666666]"
     ]
    },
    {
     "name": "stderr",
     "output_type": "stream",
     "text": [
      "c:\\users\\juani\\appdata\\local\\programs\\python\\python36\\lib\\site-packages\\xgboost\\core.py:587: FutureWarning: Series.base is deprecated and will be removed in a future version\n",
      "  if getattr(data, 'base', None) is not None and \\\n",
      "\n",
      "c:\\users\\juani\\appdata\\local\\programs\\python\\python36\\lib\\site-packages\\xgboost\\core.py:587: FutureWarning: Series.base is deprecated and will be removed in a future version\n",
      "  if getattr(data, 'base', None) is not None and \\\n",
      "\n",
      "c:\\users\\juani\\appdata\\local\\programs\\python\\python36\\lib\\site-packages\\xgboost\\core.py:587: FutureWarning: Series.base is deprecated and will be removed in a future version\n",
      "  if getattr(data, 'base', None) is not None and \\\n",
      "\n"
     ]
    },
    {
     "name": "stdout",
     "output_type": "stream",
     "text": [
      "SCORE: -578352.854 params {'colsample_bytree': 0.8, 'gamma': 4.124481765391348, 'lambda': 1.6008843105377548, 'learning_rate': 0.022754981861026598, 'max_depth': 16, 'min_child_weight': 438, 'n_estimators': 586}\n",
      " 15%|███████                                        | 3/20 [1:43:25<9:16:36, 1964.48s/it, best loss: 578352.8541666666]"
     ]
    },
    {
     "name": "stderr",
     "output_type": "stream",
     "text": [
      "c:\\users\\juani\\appdata\\local\\programs\\python\\python36\\lib\\site-packages\\xgboost\\core.py:587: FutureWarning: Series.base is deprecated and will be removed in a future version\n",
      "  if getattr(data, 'base', None) is not None and \\\n",
      "\n",
      "c:\\users\\juani\\appdata\\local\\programs\\python\\python36\\lib\\site-packages\\xgboost\\core.py:587: FutureWarning: Series.base is deprecated and will be removed in a future version\n",
      "  if getattr(data, 'base', None) is not None and \\\n",
      "\n",
      "c:\\users\\juani\\appdata\\local\\programs\\python\\python36\\lib\\site-packages\\xgboost\\core.py:587: FutureWarning: Series.base is deprecated and will be removed in a future version\n",
      "  if getattr(data, 'base', None) is not None and \\\n",
      "\n"
     ]
    },
    {
     "name": "stdout",
     "output_type": "stream",
     "text": [
      "SCORE: -587498.042 params {'colsample_bytree': 0.8, 'gamma': 3.2697915313833237, 'lambda': 1.0209356429676175, 'learning_rate': 0.0204178907133429, 'max_depth': 19, 'min_child_weight': 589, 'n_estimators': 532}\n",
      " 20%|█████████▍                                     | 4/20 [2:16:10<8:43:57, 1964.84s/it, best loss: 578352.8541666666]"
     ]
    },
    {
     "name": "stderr",
     "output_type": "stream",
     "text": [
      "c:\\users\\juani\\appdata\\local\\programs\\python\\python36\\lib\\site-packages\\xgboost\\core.py:587: FutureWarning: Series.base is deprecated and will be removed in a future version\n",
      "  if getattr(data, 'base', None) is not None and \\\n",
      "\n",
      "c:\\users\\juani\\appdata\\local\\programs\\python\\python36\\lib\\site-packages\\xgboost\\core.py:587: FutureWarning: Series.base is deprecated and will be removed in a future version\n",
      "  if getattr(data, 'base', None) is not None and \\\n",
      "\n",
      "c:\\users\\juani\\appdata\\local\\programs\\python\\python36\\lib\\site-packages\\xgboost\\core.py:587: FutureWarning: Series.base is deprecated and will be removed in a future version\n",
      "  if getattr(data, 'base', None) is not None and \\\n",
      "\n"
     ]
    },
    {
     "name": "stdout",
     "output_type": "stream",
     "text": [
      "SCORE: -584248.146 params {'colsample_bytree': 0.8, 'gamma': 4.046104656108767, 'lambda': 1.8027647811563103, 'learning_rate': 0.021960941550242558, 'max_depth': 17, 'min_child_weight': 590, 'n_estimators': 594}\n",
      " 25%|███████████▊                                   | 5/20 [2:50:13<8:17:01, 1988.13s/it, best loss: 578352.8541666666]"
     ]
    },
    {
     "name": "stderr",
     "output_type": "stream",
     "text": [
      "c:\\users\\juani\\appdata\\local\\programs\\python\\python36\\lib\\site-packages\\xgboost\\core.py:587: FutureWarning: Series.base is deprecated and will be removed in a future version\n",
      "  if getattr(data, 'base', None) is not None and \\\n",
      "\n",
      "c:\\users\\juani\\appdata\\local\\programs\\python\\python36\\lib\\site-packages\\xgboost\\core.py:587: FutureWarning: Series.base is deprecated and will be removed in a future version\n",
      "  if getattr(data, 'base', None) is not None and \\\n",
      "\n",
      "c:\\users\\juani\\appdata\\local\\programs\\python\\python36\\lib\\site-packages\\xgboost\\core.py:587: FutureWarning: Series.base is deprecated and will be removed in a future version\n",
      "  if getattr(data, 'base', None) is not None and \\\n",
      "\n"
     ]
    },
    {
     "name": "stdout",
     "output_type": "stream",
     "text": [
      "SCORE: -593652.354 params {'colsample_bytree': 0.8, 'gamma': 4.23987745817052, 'lambda': 1.939474455295891, 'learning_rate': 0.024922002362566177, 'max_depth': 19, 'min_child_weight': 986, 'n_estimators': 565}\n",
      " 30%|██████████████                                 | 6/20 [3:22:31<7:40:23, 1973.10s/it, best loss: 578352.8541666666]"
     ]
    },
    {
     "name": "stderr",
     "output_type": "stream",
     "text": [
      "c:\\users\\juani\\appdata\\local\\programs\\python\\python36\\lib\\site-packages\\xgboost\\core.py:587: FutureWarning: Series.base is deprecated and will be removed in a future version\n",
      "  if getattr(data, 'base', None) is not None and \\\n",
      "\n",
      "c:\\users\\juani\\appdata\\local\\programs\\python\\python36\\lib\\site-packages\\xgboost\\core.py:587: FutureWarning: Series.base is deprecated and will be removed in a future version\n",
      "  if getattr(data, 'base', None) is not None and \\\n",
      "\n",
      "c:\\users\\juani\\appdata\\local\\programs\\python\\python36\\lib\\site-packages\\xgboost\\core.py:587: FutureWarning: Series.base is deprecated and will be removed in a future version\n",
      "  if getattr(data, 'base', None) is not None and \\\n",
      "\n"
     ]
    },
    {
     "name": "stdout",
     "output_type": "stream",
     "text": [
      "SCORE: -578792.000 params {'colsample_bytree': 0.8, 'gamma': 4.116986286647666, 'lambda': 1.8013563542695739, 'learning_rate': 0.02866000341826784, 'max_depth': 19, 'min_child_weight': 660, 'n_estimators': 640}\n",
      " 35%|████████████████▍                              | 7/20 [4:01:45<7:32:14, 2087.29s/it, best loss: 578352.8541666666]"
     ]
    },
    {
     "name": "stderr",
     "output_type": "stream",
     "text": [
      "c:\\users\\juani\\appdata\\local\\programs\\python\\python36\\lib\\site-packages\\xgboost\\core.py:587: FutureWarning: Series.base is deprecated and will be removed in a future version\n",
      "  if getattr(data, 'base', None) is not None and \\\n",
      "\n",
      "c:\\users\\juani\\appdata\\local\\programs\\python\\python36\\lib\\site-packages\\xgboost\\core.py:587: FutureWarning: Series.base is deprecated and will be removed in a future version\n",
      "  if getattr(data, 'base', None) is not None and \\\n",
      "\n",
      "c:\\users\\juani\\appdata\\local\\programs\\python\\python36\\lib\\site-packages\\xgboost\\core.py:587: FutureWarning: Series.base is deprecated and will be removed in a future version\n",
      "  if getattr(data, 'base', None) is not None and \\\n",
      "\n"
     ]
    },
    {
     "name": "stdout",
     "output_type": "stream",
     "text": [
      "SCORE: -549904.854 params {'colsample_bytree': 0.8, 'gamma': 4.345439800510103, 'lambda': 1.2223895182782805, 'learning_rate': 0.015968193614337284, 'max_depth': 18, 'min_child_weight': 19, 'n_estimators': 674}\n",
      " 40%|██████████████████▊                            | 8/20 [4:57:43<8:13:45, 2468.76s/it, best loss: 549904.8541666666]"
     ]
    },
    {
     "name": "stderr",
     "output_type": "stream",
     "text": [
      "c:\\users\\juani\\appdata\\local\\programs\\python\\python36\\lib\\site-packages\\xgboost\\core.py:587: FutureWarning: Series.base is deprecated and will be removed in a future version\n",
      "  if getattr(data, 'base', None) is not None and \\\n",
      "\n",
      "c:\\users\\juani\\appdata\\local\\programs\\python\\python36\\lib\\site-packages\\xgboost\\core.py:587: FutureWarning: Series.base is deprecated and will be removed in a future version\n",
      "  if getattr(data, 'base', None) is not None and \\\n",
      "\n",
      "c:\\users\\juani\\appdata\\local\\programs\\python\\python36\\lib\\site-packages\\xgboost\\core.py:587: FutureWarning: Series.base is deprecated and will be removed in a future version\n",
      "  if getattr(data, 'base', None) is not None and \\\n",
      "\n"
     ]
    },
    {
     "name": "stdout",
     "output_type": "stream",
     "text": [
      "SCORE: -593012.896 params {'colsample_bytree': 0.8, 'gamma': 4.653677736581265, 'lambda': 1.9844007479969892, 'learning_rate': 0.012229082509348795, 'max_depth': 16, 'min_child_weight': 484, 'n_estimators': 668}\n",
      " 45%|█████████████████████▏                         | 9/20 [5:35:31<7:21:32, 2408.37s/it, best loss: 549904.8541666666]"
     ]
    },
    {
     "name": "stderr",
     "output_type": "stream",
     "text": [
      "c:\\users\\juani\\appdata\\local\\programs\\python\\python36\\lib\\site-packages\\xgboost\\core.py:587: FutureWarning: Series.base is deprecated and will be removed in a future version\n",
      "  if getattr(data, 'base', None) is not None and \\\n",
      "\n",
      "c:\\users\\juani\\appdata\\local\\programs\\python\\python36\\lib\\site-packages\\xgboost\\core.py:587: FutureWarning: Series.base is deprecated and will be removed in a future version\n",
      "  if getattr(data, 'base', None) is not None and \\\n",
      "\n",
      "c:\\users\\juani\\appdata\\local\\programs\\python\\python36\\lib\\site-packages\\xgboost\\core.py:587: FutureWarning: Series.base is deprecated and will be removed in a future version\n",
      "  if getattr(data, 'base', None) is not None and \\\n",
      "\n"
     ]
    },
    {
     "name": "stdout",
     "output_type": "stream",
     "text": [
      "SCORE: -549316.292 params {'colsample_bytree': 0.8, 'gamma': 4.258806532339227, 'lambda': 1.445151235281088, 'learning_rate': 0.01970315126652299, 'max_depth': 17, 'min_child_weight': 21, 'n_estimators': 636}\n",
      " 50%|███████████████████████                       | 10/20 [6:24:03<7:06:34, 2559.49s/it, best loss: 549316.2916666666]"
     ]
    },
    {
     "name": "stderr",
     "output_type": "stream",
     "text": [
      "c:\\users\\juani\\appdata\\local\\programs\\python\\python36\\lib\\site-packages\\xgboost\\core.py:587: FutureWarning: Series.base is deprecated and will be removed in a future version\n",
      "  if getattr(data, 'base', None) is not None and \\\n",
      "\n",
      "c:\\users\\juani\\appdata\\local\\programs\\python\\python36\\lib\\site-packages\\xgboost\\core.py:587: FutureWarning: Series.base is deprecated and will be removed in a future version\n",
      "  if getattr(data, 'base', None) is not None and \\\n",
      "\n",
      "c:\\users\\juani\\appdata\\local\\programs\\python\\python36\\lib\\site-packages\\xgboost\\core.py:587: FutureWarning: Series.base is deprecated and will be removed in a future version\n",
      "  if getattr(data, 'base', None) is not None and \\\n",
      "\n"
     ]
    },
    {
     "name": "stdout",
     "output_type": "stream",
     "text": [
      "SCORE: -607778.104 params {'colsample_bytree': 0.8, 'gamma': 3.286476471702223, 'lambda': 1.7546814177524617, 'learning_rate': 0.012589280864787509, 'max_depth': 17, 'min_child_weight': 794, 'n_estimators': 615}\n",
      " 55%|█████████████████████████▎                    | 11/20 [6:56:55<5:57:30, 2383.36s/it, best loss: 549316.2916666666]"
     ]
    },
    {
     "name": "stderr",
     "output_type": "stream",
     "text": [
      "c:\\users\\juani\\appdata\\local\\programs\\python\\python36\\lib\\site-packages\\xgboost\\core.py:587: FutureWarning: Series.base is deprecated and will be removed in a future version\n",
      "  if getattr(data, 'base', None) is not None and \\\n",
      "\n",
      "c:\\users\\juani\\appdata\\local\\programs\\python\\python36\\lib\\site-packages\\xgboost\\core.py:587: FutureWarning: Series.base is deprecated and will be removed in a future version\n",
      "  if getattr(data, 'base', None) is not None and \\\n",
      "\n",
      "c:\\users\\juani\\appdata\\local\\programs\\python\\python36\\lib\\site-packages\\xgboost\\core.py:587: FutureWarning: Series.base is deprecated and will be removed in a future version\n",
      "  if getattr(data, 'base', None) is not None and \\\n",
      "\n"
     ]
    },
    {
     "name": "stdout",
     "output_type": "stream",
     "text": [
      "SCORE: -579217.938 params {'colsample_bytree': 0.8, 'gamma': 3.820971211242722, 'lambda': 1.658209551219342, 'learning_rate': 0.01979555301167276, 'max_depth': 16, 'min_child_weight': 447, 'n_estimators': 664}\n",
      " 60%|███████████████████████████▌                  | 12/20 [7:34:27<5:12:31, 2343.99s/it, best loss: 549316.2916666666]"
     ]
    },
    {
     "name": "stderr",
     "output_type": "stream",
     "text": [
      "c:\\users\\juani\\appdata\\local\\programs\\python\\python36\\lib\\site-packages\\xgboost\\core.py:587: FutureWarning: Series.base is deprecated and will be removed in a future version\n",
      "  if getattr(data, 'base', None) is not None and \\\n",
      "\n",
      "c:\\users\\juani\\appdata\\local\\programs\\python\\python36\\lib\\site-packages\\xgboost\\core.py:587: FutureWarning: Series.base is deprecated and will be removed in a future version\n",
      "  if getattr(data, 'base', None) is not None and \\\n",
      "\n",
      "c:\\users\\juani\\appdata\\local\\programs\\python\\python36\\lib\\site-packages\\xgboost\\core.py:587: FutureWarning: Series.base is deprecated and will be removed in a future version\n",
      "  if getattr(data, 'base', None) is not None and \\\n",
      "\n"
     ]
    },
    {
     "name": "stdout",
     "output_type": "stream",
     "text": [
      "SCORE: -558373.438 params {'colsample_bytree': 0.8, 'gamma': 3.9822204089632867, 'lambda': 1.308486063289044, 'learning_rate': 0.029204175958432083, 'max_depth': 19, 'min_child_weight': 162, 'n_estimators': 541}\n",
      " 65%|█████████████████████████████▉                | 13/20 [8:13:37<4:33:39, 2345.59s/it, best loss: 549316.2916666666]"
     ]
    },
    {
     "name": "stderr",
     "output_type": "stream",
     "text": [
      "c:\\users\\juani\\appdata\\local\\programs\\python\\python36\\lib\\site-packages\\xgboost\\core.py:587: FutureWarning: Series.base is deprecated and will be removed in a future version\n",
      "  if getattr(data, 'base', None) is not None and \\\n",
      "\n",
      "c:\\users\\juani\\appdata\\local\\programs\\python\\python36\\lib\\site-packages\\xgboost\\core.py:587: FutureWarning: Series.base is deprecated and will be removed in a future version\n",
      "  if getattr(data, 'base', None) is not None and \\\n",
      "\n",
      "c:\\users\\juani\\appdata\\local\\programs\\python\\python36\\lib\\site-packages\\xgboost\\core.py:587: FutureWarning: Series.base is deprecated and will be removed in a future version\n",
      "  if getattr(data, 'base', None) is not None and \\\n",
      "\n"
     ]
    },
    {
     "name": "stdout",
     "output_type": "stream",
     "text": [
      "SCORE: -585262.583 params {'colsample_bytree': 0.8, 'gamma': 4.544590410552007, 'lambda': 1.225866946390847, 'learning_rate': 0.011829115577062304, 'max_depth': 17, 'min_child_weight': 231, 'n_estimators': 500}\n",
      " 70%|████████████████████████████████▏             | 14/20 [8:47:28<3:45:08, 2251.36s/it, best loss: 549316.2916666666]"
     ]
    },
    {
     "name": "stderr",
     "output_type": "stream",
     "text": [
      "c:\\users\\juani\\appdata\\local\\programs\\python\\python36\\lib\\site-packages\\xgboost\\core.py:587: FutureWarning: Series.base is deprecated and will be removed in a future version\n",
      "  if getattr(data, 'base', None) is not None and \\\n",
      "\n",
      "c:\\users\\juani\\appdata\\local\\programs\\python\\python36\\lib\\site-packages\\xgboost\\core.py:587: FutureWarning: Series.base is deprecated and will be removed in a future version\n",
      "  if getattr(data, 'base', None) is not None and \\\n",
      "\n",
      "c:\\users\\juani\\appdata\\local\\programs\\python\\python36\\lib\\site-packages\\xgboost\\core.py:587: FutureWarning: Series.base is deprecated and will be removed in a future version\n",
      "  if getattr(data, 'base', None) is not None and \\\n",
      "\n"
     ]
    },
    {
     "name": "stdout",
     "output_type": "stream",
     "text": [
      "SCORE: -603951.188 params {'colsample_bytree': 0.8, 'gamma': 4.253226999368322, 'lambda': 1.794893275894716, 'learning_rate': 0.012215713149008715, 'max_depth': 16, 'min_child_weight': 693, 'n_estimators': 644}\n",
      " 75%|██████████████████████████████████▌           | 15/20 [9:21:58<3:03:03, 2196.75s/it, best loss: 549316.2916666666]"
     ]
    },
    {
     "name": "stderr",
     "output_type": "stream",
     "text": [
      "c:\\users\\juani\\appdata\\local\\programs\\python\\python36\\lib\\site-packages\\xgboost\\core.py:587: FutureWarning: Series.base is deprecated and will be removed in a future version\n",
      "  if getattr(data, 'base', None) is not None and \\\n",
      "\n",
      "c:\\users\\juani\\appdata\\local\\programs\\python\\python36\\lib\\site-packages\\xgboost\\core.py:587: FutureWarning: Series.base is deprecated and will be removed in a future version\n",
      "  if getattr(data, 'base', None) is not None and \\\n",
      "\n",
      "c:\\users\\juani\\appdata\\local\\programs\\python\\python36\\lib\\site-packages\\xgboost\\core.py:587: FutureWarning: Series.base is deprecated and will be removed in a future version\n",
      "  if getattr(data, 'base', None) is not None and \\\n",
      "\n"
     ]
    },
    {
     "name": "stdout",
     "output_type": "stream",
     "text": [
      "SCORE: -595934.896 params {'colsample_bytree': 0.8, 'gamma': 3.164760709239312, 'lambda': 1.8532187248347398, 'learning_rate': 0.01617084076543574, 'max_depth': 18, 'min_child_weight': 764, 'n_estimators': 652}\n",
      " 80%|████████████████████████████████████▊         | 16/20 [9:58:52<2:26:48, 2202.10s/it, best loss: 549316.2916666666]"
     ]
    },
    {
     "name": "stderr",
     "output_type": "stream",
     "text": [
      "c:\\users\\juani\\appdata\\local\\programs\\python\\python36\\lib\\site-packages\\xgboost\\core.py:587: FutureWarning: Series.base is deprecated and will be removed in a future version\n",
      "  if getattr(data, 'base', None) is not None and \\\n",
      "\n",
      "c:\\users\\juani\\appdata\\local\\programs\\python\\python36\\lib\\site-packages\\xgboost\\core.py:587: FutureWarning: Series.base is deprecated and will be removed in a future version\n",
      "  if getattr(data, 'base', None) is not None and \\\n",
      "\n",
      "c:\\users\\juani\\appdata\\local\\programs\\python\\python36\\lib\\site-packages\\xgboost\\core.py:587: FutureWarning: Series.base is deprecated and will be removed in a future version\n",
      "  if getattr(data, 'base', None) is not None and \\\n",
      "\n"
     ]
    },
    {
     "name": "stdout",
     "output_type": "stream",
     "text": [
      "SCORE: -589362.438 params {'colsample_bytree': 0.8, 'gamma': 3.2502983623034725, 'lambda': 1.9010237502883562, 'learning_rate': 0.015815239157981845, 'max_depth': 19, 'min_child_weight': 511, 'n_estimators': 575}\n",
      " 85%|██████████████████████████████████████▎      | 17/20 [10:34:53<1:49:29, 2189.70s/it, best loss: 549316.2916666666]"
     ]
    },
    {
     "name": "stderr",
     "output_type": "stream",
     "text": [
      "c:\\users\\juani\\appdata\\local\\programs\\python\\python36\\lib\\site-packages\\xgboost\\core.py:587: FutureWarning: Series.base is deprecated and will be removed in a future version\n",
      "  if getattr(data, 'base', None) is not None and \\\n",
      "\n",
      "c:\\users\\juani\\appdata\\local\\programs\\python\\python36\\lib\\site-packages\\xgboost\\core.py:587: FutureWarning: Series.base is deprecated and will be removed in a future version\n",
      "  if getattr(data, 'base', None) is not None and \\\n",
      "\n",
      "c:\\users\\juani\\appdata\\local\\programs\\python\\python36\\lib\\site-packages\\xgboost\\core.py:587: FutureWarning: Series.base is deprecated and will be removed in a future version\n",
      "  if getattr(data, 'base', None) is not None and \\\n",
      "\n"
     ]
    },
    {
     "name": "stdout",
     "output_type": "stream",
     "text": [
      "SCORE: -546858.875 params {'colsample_bytree': 0.8, 'gamma': 4.33933557109701, 'lambda': 1.1231840463016995, 'learning_rate': 0.029821395947830544, 'max_depth': 18, 'min_child_weight': 44, 'n_estimators': 652}\n",
      " 90%|██████████████████████████████████████████████▊     | 18/20 [11:23:07<1:20:01, 2400.87s/it, best loss: 546858.875]"
     ]
    },
    {
     "name": "stderr",
     "output_type": "stream",
     "text": [
      "c:\\users\\juani\\appdata\\local\\programs\\python\\python36\\lib\\site-packages\\xgboost\\core.py:587: FutureWarning: Series.base is deprecated and will be removed in a future version\n",
      "  if getattr(data, 'base', None) is not None and \\\n",
      "\n",
      "c:\\users\\juani\\appdata\\local\\programs\\python\\python36\\lib\\site-packages\\xgboost\\core.py:587: FutureWarning: Series.base is deprecated and will be removed in a future version\n",
      "  if getattr(data, 'base', None) is not None and \\\n",
      "\n",
      "c:\\users\\juani\\appdata\\local\\programs\\python\\python36\\lib\\site-packages\\xgboost\\core.py:587: FutureWarning: Series.base is deprecated and will be removed in a future version\n",
      "  if getattr(data, 'base', None) is not None and \\\n",
      "\n"
     ]
    },
    {
     "name": "stdout",
     "output_type": "stream",
     "text": [
      "SCORE: -600396.604 params {'colsample_bytree': 0.8, 'gamma': 4.20083814772583, 'lambda': 1.9661037229320653, 'learning_rate': 0.017847133548675807, 'max_depth': 18, 'min_child_weight': 860, 'n_estimators': 571}\n",
      " 95%|███████████████████████████████████████████████████▎  | 19/20 [11:54:40<37:28, 2248.66s/it, best loss: 546858.875]"
     ]
    },
    {
     "name": "stderr",
     "output_type": "stream",
     "text": [
      "c:\\users\\juani\\appdata\\local\\programs\\python\\python36\\lib\\site-packages\\xgboost\\core.py:587: FutureWarning: Series.base is deprecated and will be removed in a future version\n",
      "  if getattr(data, 'base', None) is not None and \\\n",
      "\n",
      "c:\\users\\juani\\appdata\\local\\programs\\python\\python36\\lib\\site-packages\\xgboost\\core.py:587: FutureWarning: Series.base is deprecated and will be removed in a future version\n",
      "  if getattr(data, 'base', None) is not None and \\\n",
      "\n",
      "c:\\users\\juani\\appdata\\local\\programs\\python\\python36\\lib\\site-packages\\xgboost\\core.py:587: FutureWarning: Series.base is deprecated and will be removed in a future version\n",
      "  if getattr(data, 'base', None) is not None and \\\n",
      "\n"
     ]
    },
    {
     "name": "stdout",
     "output_type": "stream",
     "text": [
      "SCORE: -578486.250 params {'colsample_bytree': 0.8, 'gamma': 4.206224440970836, 'lambda': 1.6498172284765338, 'learning_rate': 0.025223780101520266, 'max_depth': 16, 'min_child_weight': 485, 'n_estimators': 604}\n",
      "100%|██████████████████████████████████████████████████████| 20/20 [12:28:27<00:00, 2245.35s/it, best loss: 546858.875]\n",
      "Tiempo = 12.47 horas\n"
     ]
    }
   ],
   "source": [
    "N_ITER = 20\n",
    "rstate = np.random.RandomState(42) \n",
    "t0 = time.time()\n",
    "best = fmin(fn=objective,\n",
    "            space=space,\n",
    "            algo=tpe.suggest,\n",
    "            max_evals=N_ITER,\n",
    "            rstate = rstate)\n",
    "t1 = time.time()\n",
    "print('Tiempo = {0:.2f} horas'.format((t1 - t0)/3600))"
   ]
  },
  {
   "cell_type": "code",
   "execution_count": 10,
   "metadata": {},
   "outputs": [],
   "source": [
    "params = {'colsample_bytree': 0.8, 'gamma': 4.33933557109701, 'lambda': 1.1231840463016995, 'learning_rate': 0.029821395947830544, 'max_depth': 18, 'min_child_weight': 44, 'n_estimators': 652}\n",
    "model = XGBRegressor(**params)"
   ]
  },
  {
   "cell_type": "code",
   "execution_count": null,
   "metadata": {},
   "outputs": [],
   "source": []
  }
 ],
 "metadata": {
  "kernelspec": {
   "display_name": "Python 3",
   "language": "python",
   "name": "python3"
  },
  "language_info": {
   "codemirror_mode": {
    "name": "ipython",
    "version": 3
   },
   "file_extension": ".py",
   "mimetype": "text/x-python",
   "name": "python",
   "nbconvert_exporter": "python",
   "pygments_lexer": "ipython3",
   "version": "3.6.0"
  }
 },
 "nbformat": 4,
 "nbformat_minor": 2
}
