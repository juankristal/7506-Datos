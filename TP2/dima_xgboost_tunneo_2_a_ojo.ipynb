{
 "cells": [
  {
   "cell_type": "markdown",
   "metadata": {},
   "source": [
    "## Imports "
   ]
  },
  {
   "cell_type": "code",
   "execution_count": 18,
   "metadata": {},
   "outputs": [],
   "source": [
    "import common.feature_string as feature_string\n",
    "import common.feature_num as feature_num\n",
    "import common.feature_categorica as feature_categorica\n",
    "import common.common_machine_learning as common\n",
    "import common.my_pipeline as my_pipe\n",
    "import pandas as pd\n",
    "import numpy as np\n",
    "from sklearn.pipeline import Pipeline\n",
    "from xgboost import XGBRegressor\n",
    "import xgboost as xgb\n",
    "import time\n",
    "from hyperopt import fmin, tpe, hp, STATUS_OK\n",
    "from sklearn.model_selection import cross_val_score"
   ]
  },
  {
   "cell_type": "markdown",
   "metadata": {},
   "source": [
    "### Ignore Warnings "
   ]
  },
  {
   "cell_type": "code",
   "execution_count": 2,
   "metadata": {},
   "outputs": [],
   "source": [
    "from warnings import simplefilter\n",
    "simplefilter(action='ignore', category=FutureWarning)"
   ]
  },
  {
   "cell_type": "markdown",
   "metadata": {},
   "source": [
    "## Constantes"
   ]
  },
  {
   "cell_type": "code",
   "execution_count": 3,
   "metadata": {},
   "outputs": [],
   "source": [
    "TARGET = 'precio'\n",
    "K = 3\n",
    "RANDOM_SEMILLA = 3 # numero favorito (de la suerte)\n",
    "XGB_RE_OBJECTIVE = 'reg:squarederror'\n",
    "N_ITER = 15"
   ]
  },
  {
   "cell_type": "code",
   "execution_count": 4,
   "metadata": {},
   "outputs": [
    {
     "name": "stdout",
     "output_type": "stream",
     "text": [
      "Tiempo = 0.06 minutos\n"
     ]
    }
   ],
   "source": [
    "t0 = time.time()\n",
    "train = common.cargar_set_optimizado('sets_de_datos/train.csv', index_col = 0)\n",
    "t1 = time.time()\n",
    "print('Tiempo = {0:.2f} minutos'.format((t1-t0)/60))"
   ]
  },
  {
   "cell_type": "markdown",
   "metadata": {},
   "source": [
    "## Features agregables por registro (no necesita entrenamiento previo)"
   ]
  },
  {
   "cell_type": "markdown",
   "metadata": {},
   "source": [
    "Esto puede tardar unos minutos.  \n",
    "Dima'pc = 3 minutos (aprox)"
   ]
  },
  {
   "cell_type": "code",
   "execution_count": 5,
   "metadata": {},
   "outputs": [
    {
     "name": "stdout",
     "output_type": "stream",
     "text": [
      "Tiempo = 7.87 minutos\n"
     ]
    }
   ],
   "source": [
    "t0 = time.time()\n",
    "feature_num.agregar_feature_fecha_numerica(train)\n",
    "train = feature_categorica.agregar_feature_one_hot_encoding(train)\n",
    "feature_string.agregar_feature_todos_ref(train)\n",
    "t1 = time.time()\n",
    "print('Tiempo = {0:.2f} minutos'.format((t1-t0)/60))"
   ]
  },
  {
   "cell_type": "markdown",
   "metadata": {},
   "source": [
    "Elimino features no usar"
   ]
  },
  {
   "cell_type": "code",
   "execution_count": 6,
   "metadata": {},
   "outputs": [],
   "source": [
    "feature_num.eliminar_num_no_feature(train)\n",
    "feature_categorica.eliminar_categoria_no_feature(train)\n",
    "feature_string.eliminar_string_no_feature(train)"
   ]
  },
  {
   "cell_type": "markdown",
   "metadata": {},
   "source": [
    "## Muestra y Target"
   ]
  },
  {
   "cell_type": "code",
   "execution_count": 7,
   "metadata": {},
   "outputs": [],
   "source": [
    "X = train.drop([TARGET], axis = 1).copy()\n",
    "y = train[TARGET].copy()"
   ]
  },
  {
   "cell_type": "markdown",
   "metadata": {},
   "source": [
    "## Mejor resultado tunneo 2 y 2 bis"
   ]
  },
  {
   "cell_type": "raw",
   "metadata": {},
   "source": [
    "{\n",
    "    'xgb_re__colsample_bytree': 0.758825416563804, \n",
    "    'xgb_re__gamma': 1.8586006281475769, \n",
    "    'xgb_re__lambda': 2.7701007509455757, \n",
    "    'xgb_re__learning_rate': 0.007938209899495991, \n",
    "    'xgb_re__max_depth': 64 + 70 = 134, \n",
    "    'xgb_re__min_child_weight': 7 + 5 = 12, \n",
    "    'xgb_re__n_estimators': 70 + 400 = 470, \n",
    "    'xgb_re__subsample': 0.6819576248705131\n",
    "}"
   ]
  },
  {
   "cell_type": "markdown",
   "metadata": {},
   "source": [
    "Simplificado"
   ]
  },
  {
   "cell_type": "raw",
   "metadata": {},
   "source": [
    "{\n",
    "    'xgb_re__colsample_bytree': 0.76, \n",
    "    'xgb_re__gamma': 1.86, \n",
    "    'xgb_re__lambda': 2.77, \n",
    "    'xgb_re__learning_rate': 0.0079, \n",
    "    'xgb_re__max_depth': 134, \n",
    "    'xgb_re__min_child_weight': 12, \n",
    "    'xgb_re__n_estimators':  470, \n",
    "    'xgb_re__subsample': 0.68\n",
    "}"
   ]
  },
  {
   "cell_type": "markdown",
   "metadata": {},
   "source": [
    "## Tunning Overfit"
   ]
  },
  {
   "cell_type": "code",
   "execution_count": 13,
   "metadata": {
    "scrolled": true
   },
   "outputs": [
    {
     "name": "stdout",
     "output_type": "stream",
     "text": [
      "SCORE: -923621.167 params {'colsample_bytree': 0.76, 'gamma': 0, 'lambda': 2.77, 'learning_rate': 0.0079, 'max_depth': 134, 'min_child_weight': 1, 'n_estimators': 470, 'subsample': 0.68}\n",
      "Tiempo = 13.46 minutos\n"
     ]
    }
   ],
   "source": [
    "hyper_parametros = {\n",
    "    'colsample_bytree': 0.76, \n",
    "    'gamma': 0, \n",
    "    'lambda': 2.77, \n",
    "    'learning_rate': 0.0079, \n",
    "    'max_depth': 134, \n",
    "    'min_child_weight': 1, \n",
    "    'n_estimators':  470, \n",
    "    'subsample': 0.68\n",
    "}\n",
    "\n",
    "xgb_model = XGBRegressor(objective = XGB_RE_OBJECTIVE, **hyper_parametros)\n",
    "\n",
    "pre_procesar_pipe = my_pipe.get_columns_pipeline()\n",
    "busqueda_pipe = Pipeline(steps = [\n",
    "        ('pre-procesar', pre_procesar_pipe),\n",
    "        ('xgb_regressor', )\n",
    "    ])  \n",
    "\n",
    "t0 = time.time()\n",
    "score = cross_val_score(busqueda_pipe, X, y, scoring='neg_mean_absolute_error', cv=K).mean()\n",
    "t1 = time.time()\n",
    "print(\"SCORE: {:.3f} params {}\".format(score, hyper_parametros))\n",
    "print('Tiempo = {0:.2f} minutos'.format((t1-t0)/60))"
   ]
  },
  {
   "cell_type": "markdown",
   "metadata": {},
   "source": [
    "Veamos si los mejores hiperparametros del random forest sirven para XGboost"
   ]
  },
  {
   "cell_type": "raw",
   "metadata": {},
   "source": [
    "bootstrap=True, \n",
    "criterion='mse', \n",
    "max_depth=40,\n",
    "max_features='auto', \n",
    "max_leaf_nodes=None,\n",
    "min_impurity_decrease=0.0, \n",
    "min_impurity_split=None,\n",
    "min_samples_leaf=4, \n",
    "min_samples_split=10,\n",
    "min_weight_fraction_leaf=0.0, \n",
    "n_estimators=300,\n",
    "n_jobs=None, \n",
    "oob_score=False, \n",
    "random_state=None,\n",
    "verbose=0, \n",
    "warm_start=False"
   ]
  }
 ],
 "metadata": {
  "kernelspec": {
   "display_name": "Python 3",
   "language": "python",
   "name": "python3"
  },
  "language_info": {
   "codemirror_mode": {
    "name": "ipython",
    "version": 3
   },
   "file_extension": ".py",
   "mimetype": "text/x-python",
   "name": "python",
   "nbconvert_exporter": "python",
   "pygments_lexer": "ipython3",
   "version": "3.7.3"
  }
 },
 "nbformat": 4,
 "nbformat_minor": 2
}
