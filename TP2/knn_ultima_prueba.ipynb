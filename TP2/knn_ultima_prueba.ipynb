{
 "cells": [
  {
   "cell_type": "code",
   "execution_count": 1,
   "metadata": {},
   "outputs": [],
   "source": [
    "import pandas as pd\n",
    "import numpy as np\n",
    "from sklearn.neighbors import KNeighborsRegressor\n",
    "from hyperopt import fmin, tpe, hp, STATUS_OK, Trials\n",
    "from sklearn.model_selection import cross_val_score"
   ]
  },
  {
   "cell_type": "code",
   "execution_count": 2,
   "metadata": {},
   "outputs": [],
   "source": [
    "from warnings import simplefilter\n",
    "simplefilter(action='ignore', category=FutureWarning)"
   ]
  },
  {
   "cell_type": "code",
   "execution_count": 3,
   "metadata": {},
   "outputs": [],
   "source": [
    "train = pd.read_csv(\"sets_de_datos/dima_train_with_features_6.csv\",\n",
    "                    dtype={ \\\n",
    "                            'antiguedad' : np.float32, \n",
    "                            'habitaciones' : np.float32, \n",
    "                            'garages' : np.float32, \n",
    "                            'banos' : np.float32,\n",
    "                            'metroscubiertos' : np.float32, \n",
    "                            'metrostotales' : np.float32, \n",
    "                            'idzona' : np.float32, \n",
    "                            'lat' : np.float32, \n",
    "                            'lng' : np.float32, \n",
    "                            'gimnasio' : np.float32, \n",
    "                            'usosmultiples' : np.float32, \n",
    "                            'piscina' : np.float32, \n",
    "                            'escuelascercanas' : np.float32,\n",
    "                            'centroscomercialescercanos' : np.float32, \n",
    "                            'precio' : np.float32, \n",
    "                            'servicios_cercanos' : np.float32,\n",
    "                            'utilidades_extra' : np.float32, \n",
    "                            'tipodepropiedad_mean_antiguedad' : np.float32,\n",
    "                            'tipodepropiedad_mean_habitaciones ' : np.float32, \n",
    "                            'tipodepropiedad_mean_garages' : np.float32,\n",
    "                            'tipodepropiedad_mean_banos' : np.float32, \n",
    "                            'tipodepropiedad_mean_metroscubiertos' : np.float32,\n",
    "                            'tipodepropiedad_mean_utilidades_extra' : np.float32,\n",
    "                            'tipodepropiedad_mean_servicios_cercanos' : np.float32, \n",
    "                            'ciudad_mean_antiguedad' : np.float32,\n",
    "                            'ciudad_mean_habitaciones' : np.float32, \n",
    "                            'ciudad_mean_garages' : np.float32, \n",
    "                            'ciudad_mean_banos': np.float32,\n",
    "                            'ciudad_mean_metroscubiertos' : np.float32, \n",
    "                            'ciudad_mean_utilidades_extra' : np.float32,\n",
    "                            'ciudad_mean_servicios_cercanos' : np.float32, \n",
    "                            'provincia_mean_antiguedad' : np.float32,\n",
    "                            'provincia_mean_habitaciones' : np.float32, \n",
    "                            'provincia_mean_garages' : np.float32,\n",
    "                            'provincia_mean_banos' : np.float32, \n",
    "                            'provincia_mean_metroscubiertos' : np.float32,\n",
    "                            'provincia_mean_utilidades_extra' : np.float32, \n",
    "                            'provincia_mean_servicios_cercanos' : np.float32,\n",
    "                            'ciudad_mean_lat' : np.float32, \n",
    "                            'ciudad_mean_lng' : np.float32, \n",
    "                            'provincia_mean_lat' : np.float32,\n",
    "                            'provincia_mean_lng' : np.float32, \n",
    "                            'coseno_distancia_angular_al_centro_ciudad' : np.float32,\n",
    "                            'coseno_distancia_angular_al_centro_provincia' : np.float32,\n",
    "                            'coseno_distancia_angular_al_centro_pais' : np.float32, \n",
    "                            'año' : np.float32, \n",
    "                            'mes' : np.float32, \n",
    "                            'dia' : np.float32,\n",
    "                            'metros_no_cubiertos' : np.float32, \n",
    "                            'cantidad_espacios' : np.float32, \n",
    "                            'metros_x_espacio' : np.float32,\n",
    "                            'metros_x_habitaciones' : np.float32, \n",
    "                            'metros_x_garages' : np.float32, \n",
    "                            'metros_x_banos' : np.float32,\n",
    "                            'metros_x_utilidades_extra' : np.float32, \n",
    "                            'ratio_metros_cubiertos' : np.float32,\n",
    "                            'distancia_minima_Terreno_comercial' : np.float32,\n",
    "                            'distancia_minima_Local_Comercial' : np.float32,\n",
    "                            'distancia_minima_Oficina_comercial' : np.float32,\n",
    "                            'distancia_minima_Local_en_centro_comercial' : np.float32,\n",
    "                            'distancia_minima_Bodega_comercial' : np.float32, \n",
    "                            'banos_preciopromedio_ciudad' : np.float32,\n",
    "                            'habitaciones_preciopromedio_ciudad' : np.float32, \n",
    "                            'garages_preciopromedio_ciudad' : np.float32,\n",
    "                            'banos_preciopromedio_metroscubiertos' : np.float32,\n",
    "                            'habitaciones_preciopromedio_metroscubiertos' : np.float32,\n",
    "                            'garages_preciopromedio_metroscubiertos' : np.float32, \n",
    "                            'precio_x_m2' : np.float32,\n",
    "                            'tipodepropiedad_mean_precio' : np.float32, \n",
    "                            'titulo_cantidad_palabras_importantes' : np.float32,\n",
    "                            'descripcion_cantidad_palabras_importantes' : np.float32,\n",
    "                            'direccion_cantidad_palabras_importantes' : np.float32,\n",
    "                            'titulo_cantidad_caracteres_en_palabras_importantes' : np.float32,\n",
    "                            'descripcion_cantidad_caracteres_en_palabras_importantes' : np.float32,\n",
    "                            'direccion_cantidad_caracteres_en_palabras_importantes' : np.float32,\n",
    "                            'titulo_longitud_media_de_palabra' : np.float32,\n",
    "                            'descripcion_longitud_media_de_palabra' : np.float32,\n",
    "                            'direccion_longitud_media_de_palabra' : np.float32, \n",
    "                            'titulo_cantidad_stopwords' : np.float32,\n",
    "                            'descripcion_cantidad_stopwords' : np.float32, \n",
    "                            'direccion_cantidad_stopwords' : np.float32,\n",
    "                            'titulo_cantidad_signos_puntacion' : np.float32,\n",
    "                            'descripcion_cantidad_signos_puntacion' : np.float32,\n",
    "                            'direccion_cantidad_signos_puntacion' : np.float32,\n",
    "                            'direccion_cantidad_palabras_en_mayuscula' : np.float32,\n",
    "                            'direccion_cantidad_titulos' : np.float32, \n",
    "                            'titulo_cantidad_palabras_top_k' : np.float32,\n",
    "                            'descripcion_cantidad_palabras_top_k' : np.float32,\n",
    "                            'direccion_cantidad_palabras_top_k' : np.float32,\n",
    "                            'titulo_cantidad_palabras_bottom_k' : np.float32,\n",
    "                            'descripcion_cantidad_palabras_bottom_k' : np.float32,\n",
    "                            'direccion_cantidad_palabras_bottom_k' : np.float32,\n",
    "                            'titulo_cantidad_prefijos_top_k' : np.float32, \n",
    "                            'descripcion_cantidad_prefijos_top_k' : np.float32,\n",
    "                            'direccion_cantidad_prefijos_top_k' : np.float32, \n",
    "                            'titulo_cantidad_postfijos_top_k' : np.float32,\n",
    "                            'descripcion_cantidad_postfijos_top_k' : np.float32,\n",
    "                            'direccion_cantidad_postfijos_top_k' : np.float32, \n",
    "                            '0' : np.float32, \n",
    "                            '1' : np.float32, \n",
    "                            '2' : np.float32, \n",
    "                            '3' : np.float32, \n",
    "                            '4' : np.float32, \n",
    "                            '5' : np.float32, \n",
    "                            '6' : np.float32,\n",
    "                            '7' : np.float32,\n",
    "                            'distancia_euclideana_al_origen' : np.float32, \n",
    "                            'distancia_minima_comercial' : np.float32,\n",
    "                            'coseno_maximo_ciudad_pais' : np.float32,\n",
    "                            'ciudad_mean_antiguedad_sobre_provincia_mean_antiguedad' : np.float32,\n",
    "                            'tipodepropiead_mean_utilidades_extra_sobre_ciudad_mean_utilidades_extra' : np.float32,\n",
    "                            'antiguedad_sobre_tipodepropiedad_mean_antiguedad' : np.float32,\n",
    "                            'direccion_cantidad_al_menos_una_mayuscula' : np.float32,\n",
    "                            'direccion_cantidad_fijos_top_k' : np.float32, \n",
    "                            'titulo_cantidad_fijos_top_k' : np.float32,\n",
    "                            'titulo_palabras_top_k_sobre_total_palabras' : np.float32,\n",
    "                            'ciudad_distancia_al_origen':  np.float32, \n",
    "                            'ciudad_mean_mean_todas' : np.float32,\n",
    "                            'ciudad_mean_antiguedad_sobre_mean_metrocubiertos' : np.float32\n",
    "                            }\n",
    "                    )"
   ]
  },
  {
   "cell_type": "code",
   "execution_count": 4,
   "metadata": {},
   "outputs": [],
   "source": [
    "train.set_index('id', inplace = True)"
   ]
  },
  {
   "cell_type": "code",
   "execution_count": 5,
   "metadata": {},
   "outputs": [],
   "source": [
    "TARGET = \"precio\"\n",
    "FEATURES = [\n",
    "            'metroscubiertos', 'metrostotales', 'lat', 'lng', 'idzona',\n",
    "            'antiguedad', 'coseno_distancia_angular_al_centro_ciudad',\n",
    "            'coseno_distancia_angular_al_centro_provincia',\n",
    "            'coseno_distancia_angular_al_centro_pais',\n",
    "            'año', 'mes', 'dia', 'ratio_metros_cubiertos',\n",
    "            'titulo_cantidad_palabras_importantes',\n",
    "            'descripcion_cantidad_palabras_importantes',\n",
    "            'titulo_longitud_media_de_palabra',\n",
    "            'descripcion_longitud_media_de_palabra',\n",
    "            'distancia_euclideana_al_origen',\n",
    "            'ciudad_mean_metroscubiertos',\n",
    "            'titulo_cantidad_signos_puntacion',\n",
    "            'descripcion_cantidad_signos_puntacion',\n",
    "            'provincia_mean_metroscubiertos',\n",
    "            'tipodepropiedad_mean_metroscubiertos',\n",
    "            'servicios_cercanos'\n",
    "]"
   ]
  },
  {
   "cell_type": "code",
   "execution_count": 6,
   "metadata": {},
   "outputs": [],
   "source": [
    "datos = train[FEATURES]\n",
    "precio = train[TARGET]"
   ]
  },
  {
   "cell_type": "code",
   "execution_count": 7,
   "metadata": {},
   "outputs": [],
   "source": [
    "def hyperopt_train_test(params):\n",
    "    modelo = KNeighborsRegressor(**params)\n",
    "    return cross_val_score(modelo, datos, precio, scoring=\"neg_mean_absolute_error\", cv=4).mean()"
   ]
  },
  {
   "cell_type": "code",
   "execution_count": 8,
   "metadata": {},
   "outputs": [],
   "source": [
    "espacio_knn = {\n",
    "    \"weights\" : \"distance\",\n",
    "    \"algorithm\" : hp.choice(\"algorithm\", [\"ball_tree\", \"kd_tree\"]),\n",
    "    \"n_neighbors\" : hp.choice(\"n_neighbors\", range(5, 21))\n",
    "}"
   ]
  },
  {
   "cell_type": "code",
   "execution_count": 9,
   "metadata": {},
   "outputs": [],
   "source": [
    "def f(params):\n",
    "    acc = hyperopt_train_test(params)\n",
    "    return {'loss': -acc, 'status': STATUS_OK}"
   ]
  },
  {
   "cell_type": "code",
   "execution_count": 10,
   "metadata": {},
   "outputs": [],
   "source": [
    "trials = Trials()"
   ]
  },
  {
   "cell_type": "code",
   "execution_count": 11,
   "metadata": {},
   "outputs": [
    {
     "name": "stdout",
     "output_type": "stream",
     "text": [
      "100%|██████████| 150/150 [6:32:31<00:00, 157.01s/it, best loss: 687519.3955224031]  \n"
     ]
    }
   ],
   "source": [
    "best = fmin(f, espacio_knn, algo=tpe.suggest, max_evals=150, trials=trials)"
   ]
  },
  {
   "cell_type": "code",
   "execution_count": null,
   "metadata": {},
   "outputs": [],
   "source": []
  }
 ],
 "metadata": {
  "kernelspec": {
   "display_name": "Python 3",
   "language": "python",
   "name": "python3"
  },
  "language_info": {
   "codemirror_mode": {
    "name": "ipython",
    "version": 3
   },
   "file_extension": ".py",
   "mimetype": "text/x-python",
   "name": "python",
   "nbconvert_exporter": "python",
   "pygments_lexer": "ipython3",
   "version": "3.6.8"
  }
 },
 "nbformat": 4,
 "nbformat_minor": 2
}
