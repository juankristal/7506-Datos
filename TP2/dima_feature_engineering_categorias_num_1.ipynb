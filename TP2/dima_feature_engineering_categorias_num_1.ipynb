{
 "cells": [
  {
   "cell_type": "markdown",
   "metadata": {},
   "source": [
    "## Imports "
   ]
  },
  {
   "cell_type": "code",
   "execution_count": 2,
   "metadata": {},
   "outputs": [],
   "source": [
    "import common.feature_string as feature_string\n",
    "import common.feature_num as feature_num\n",
    "import common.feature_categorica as feature_categorica\n",
    "import common.common_machine_learning as common\n",
    "import common.my_pipeline as my_pipe\n",
    "import pandas as pd\n",
    "import numpy as np\n",
    "from sklearn.pipeline import Pipeline\n",
    "from xgboost import XGBRegressor\n",
    "import time\n",
    "from hyperopt import fmin, tpe, hp, STATUS_OK\n",
    "from sklearn.model_selection import cross_val_score"
   ]
  },
  {
   "cell_type": "markdown",
   "metadata": {},
   "source": [
    "### Ignore Warnings "
   ]
  },
  {
   "cell_type": "code",
   "execution_count": 3,
   "metadata": {},
   "outputs": [],
   "source": [
    "from warnings import simplefilter\n",
    "simplefilter(action='ignore', category=FutureWarning)"
   ]
  },
  {
   "cell_type": "markdown",
   "metadata": {},
   "source": [
    "## Constantes"
   ]
  },
  {
   "cell_type": "markdown",
   "metadata": {},
   "source": [
    "## Set de datos "
   ]
  },
  {
   "cell_type": "code",
   "execution_count": 4,
   "metadata": {},
   "outputs": [],
   "source": [
    "train = common.cargar_set_optimizado('sets_de_datos/train.csv', index_col = 0)"
   ]
  },
  {
   "cell_type": "code",
   "execution_count": 5,
   "metadata": {},
   "outputs": [
    {
     "data": {
      "text/plain": [
       "Index(['titulo', 'descripcion', 'tipodepropiedad', 'direccion', 'ciudad',\n",
       "       'provincia', 'antiguedad', 'habitaciones', 'garages', 'banos',\n",
       "       'metroscubiertos', 'metrostotales', 'idzona', 'lat', 'lng', 'fecha',\n",
       "       'gimnasio', 'usosmultiples', 'piscina', 'escuelascercanas',\n",
       "       'centroscomercialescercanos', 'precio'],\n",
       "      dtype='object')"
      ]
     },
     "execution_count": 5,
     "metadata": {},
     "output_type": "execute_result"
    }
   ],
   "source": [
    "train.columns"
   ]
  },
  {
   "cell_type": "markdown",
   "metadata": {},
   "source": [
    "Analizar nuevas features:  \n",
    "* Precio segun año => Como año\n",
    "* Precio segun mes => OHE\n",
    "* Precio segun provincia con mas de 1000 registros => OHE\n",
    "* Precio segun ciudad con mas de 1000 registros => OHE\n",
    "* Precio segun lat, lng => Rotaciones\n",
    "* Precio segun idzona con mas de \n",
    "* Cero Garages, habitaciones, baños y no es Casa o Apartamento  \n",
    "  \n",
    "Extraer y generar csv's para los nuevos datos de Nicky"
   ]
  },
  {
   "cell_type": "code",
   "execution_count": null,
   "metadata": {},
   "outputs": [],
   "source": []
  },
  {
   "cell_type": "code",
   "execution_count": 31,
   "metadata": {},
   "outputs": [
    {
     "data": {
      "text/plain": [
       "provincia\n",
       "Aguascalientes            1753\n",
       "Baja California Norte     3220\n",
       "Baja California Sur       1700\n",
       "Campeche                   263\n",
       "Chiapas                   1126\n",
       "Chihuahua                 4590\n",
       "Coahuila                  3695\n",
       "Colima                    1008\n",
       "Distrito Federal         58790\n",
       "Durango                   2275\n",
       "Edo. de México           41607\n",
       "Guanajuato                2860\n",
       "Guerrero                  2678\n",
       "Hidalgo                   2521\n",
       "Jalisco                  21238\n",
       "Michoacán                 2471\n",
       "Morelos                   7337\n",
       "Nayarit                   1352\n",
       "Nuevo León               15324\n",
       "Oaxaca                     711\n",
       "Puebla                   10421\n",
       "Querétaro                16988\n",
       "Quintana Roo              4756\n",
       "San luis Potosí           8447\n",
       "Sinaloa                   1806\n",
       "Sonora                    2988\n",
       "Tabasco                    994\n",
       "Tamaulipas                2303\n",
       "Tlaxcala                   839\n",
       "Veracruz                  5762\n",
       "Yucatán                   7928\n",
       "Zacatecas                   94\n",
       "Name: cantidad, dtype: int64"
      ]
     },
     "execution_count": 31,
     "metadata": {},
     "output_type": "execute_result"
    }
   ],
   "source": [
    "train['cantidad'] = 1\n",
    "train.groupby(['provincia'])['cantidad'].apply(lambda x: x.sum())"
   ]
  }
 ],
 "metadata": {
  "kernelspec": {
   "display_name": "Python 3",
   "language": "python",
   "name": "python3"
  },
  "language_info": {
   "codemirror_mode": {
    "name": "ipython",
    "version": 3
   },
   "file_extension": ".py",
   "mimetype": "text/x-python",
   "name": "python",
   "nbconvert_exporter": "python",
   "pygments_lexer": "ipython3",
   "version": "3.7.3"
  }
 },
 "nbformat": 4,
 "nbformat_minor": 2
}
