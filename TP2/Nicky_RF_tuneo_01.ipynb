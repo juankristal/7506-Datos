{
 "cells": [
  {
   "cell_type": "code",
   "execution_count": 10,
   "metadata": {},
   "outputs": [],
   "source": [
    "import pandas as pd\n",
    "import numpy as np\n",
    "import time\n",
    "from sklearn.model_selection import train_test_split\n",
    "from sklearn.ensemble import RandomForestRegressor\n",
    "from sklearn.model_selection import RandomizedSearchCV\n",
    "import common.common_machine_learning as common\n",
    "import common.feature_num as feature_num\n",
    "import common.features_datasets_externos as feature"
   ]
  },
  {
   "cell_type": "code",
   "execution_count": 11,
   "metadata": {},
   "outputs": [],
   "source": [
    "TARGET = \"precio\"\n",
    "MAX_ITER = 10"
   ]
  },
  {
   "cell_type": "markdown",
   "metadata": {},
   "source": [
    "### Funciones auxiliares"
   ]
  },
  {
   "cell_type": "code",
   "execution_count": 41,
   "metadata": {},
   "outputs": [],
   "source": [
    "def limpiar(df):\n",
    "    df.antiguedad = df.antiguedad.fillna(df.antiguedad.mean())\n",
    "    df.metroscubiertos = df.metroscubiertos.fillna(df.metroscubiertos.mean())\n",
    "    df.habitaciones = df.habitaciones.fillna(df.habitaciones.mean())\n",
    "    df.garages = df.garages.fillna(0)\n",
    "    df.banos = df.banos.fillna(1)\n",
    "    df.tipodepropiedad = df.tipodepropiedad.fillna('Casa')\n",
    "    df.metroscubiertos = df.metroscubiertos.fillna(df.metroscubiertos.mean())\n",
    "    df.metrostotales = df.metrostotales.fillna(df.metrostotales.mean())\n",
    "    df.gimnasio = df.gimnasio.fillna(0)\n",
    "    df.usosmultiples = df.usosmultiples.fillna(0)\n",
    "    df.piscina = df.piscina.fillna(0)\n",
    "    df.escuelascercanas = df.escuelascercanas.fillna(0)\n",
    "    df.centroscomercialescercanos = df.centroscomercialescercanos.fillna(0)\n",
    "    df[\"metroscubiertos\"] = df[\"metroscubiertos\"].fillna(df[\"metroscubiertos\"].mean())\n",
    "    df.fillna(value = {\"tipodepropiedad\" : df[\"tipodepropiedad\"].mode().to_string(),\n",
    "                        \"provincia\" : df[\"provincia\"].mode().to_string(),\n",
    "                        \"ciudad\": df[\"ciudad\"].mode().to_string()}, inplace = True)\n",
    "    \n",
    "def evaluar_rf(modelo, X_test, y_test):\n",
    "    y_pred = modelo.predict(X_test)\n",
    "    errors = abs(y_pred - y_test)\n",
    "    mape = 100 * np.mean(errors / y_test)\n",
    "    accuracy = 100 - mape\n",
    "    print('Performance del modelo:')\n",
    "    print('Average Error: {:0.4f} degrees.'.format(np.mean(errors)))\n",
    "    print('Accuracy = {:0.2f}%.'.format(accuracy))\n",
    "    \n",
    "    return accuracy"
   ]
  },
  {
   "cell_type": "markdown",
   "metadata": {},
   "source": [
    "# Preparo el dataset"
   ]
  },
  {
   "cell_type": "markdown",
   "metadata": {},
   "source": [
    "## Carga de datos"
   ]
  },
  {
   "cell_type": "code",
   "execution_count": 13,
   "metadata": {},
   "outputs": [],
   "source": [
    "train = pd.read_csv('sets_de_datos/train.csv', index_col = 0)\n",
    "test = pd.read_csv('sets_de_datos/test.csv', index_col = 0)"
   ]
  },
  {
   "cell_type": "code",
   "execution_count": 14,
   "metadata": {},
   "outputs": [],
   "source": [
    "train[\"fecha\"] = pd.to_datetime(train[\"fecha\"], format=\"%Y-%m-%d %H:%M:%S\", errors='coerce')\n",
    "test[\"fecha\"] = pd.to_datetime(test[\"fecha\"], format=\"%Y-%m-%d %H:%M:%S\", errors='coerce')"
   ]
  },
  {
   "cell_type": "markdown",
   "metadata": {},
   "source": [
    "## Limpio las columnas que voy a usar"
   ]
  },
  {
   "cell_type": "code",
   "execution_count": 15,
   "metadata": {},
   "outputs": [],
   "source": [
    "train[\"provincia\"].replace([\"\", np.nan], [train[\"provincia\"].mode(), train[\"provincia\"].mode()], inplace=True)\n",
    "test[\"provincia\"].replace([\"\", np.nan], [test[\"provincia\"].mode(), test[\"provincia\"].mode()], inplace=True)"
   ]
  },
  {
   "cell_type": "code",
   "execution_count": 16,
   "metadata": {},
   "outputs": [],
   "source": [
    "limpiar(train)\n",
    "limpiar(test)"
   ]
  },
  {
   "cell_type": "code",
   "execution_count": 17,
   "metadata": {},
   "outputs": [],
   "source": [
    "test['tipodepropiedad'] = test['tipodepropiedad'].str.replace('0    Casa',\"Casa\")\n",
    "train = train[train[\"tipodepropiedad\"].isin(test[\"tipodepropiedad\"].unique())]\n",
    "train.dropna(subset=[\"tipodepropiedad\"], inplace=True)"
   ]
  },
  {
   "cell_type": "markdown",
   "metadata": {},
   "source": [
    "## Cargo features adicionales"
   ]
  },
  {
   "cell_type": "code",
   "execution_count": 18,
   "metadata": {},
   "outputs": [],
   "source": [
    "inicio = time.time()\n",
    "train = feature.agregar_feature_pbi(train)\n",
    "fin = time.time()"
   ]
  },
  {
   "cell_type": "code",
   "execution_count": 19,
   "metadata": {},
   "outputs": [
    {
     "name": "stdout",
     "output_type": "stream",
     "text": [
      "Tardó: 7.520368051528931 minutos en agregar las features pbi.\n"
     ]
    }
   ],
   "source": [
    "print(\"Tardó: {} minutos en agregar las features pbi.\".format((fin - inicio) / 60))"
   ]
  },
  {
   "cell_type": "code",
   "execution_count": 20,
   "metadata": {},
   "outputs": [],
   "source": [
    "inicio = time.time()\n",
    "test = feature.agregar_feature_pbi(test)\n",
    "fin = time.time()"
   ]
  },
  {
   "cell_type": "code",
   "execution_count": 21,
   "metadata": {},
   "outputs": [
    {
     "name": "stdout",
     "output_type": "stream",
     "text": [
      "Tardó: 1.9885783513387045 minutos en agregar las features pbi.\n"
     ]
    }
   ],
   "source": [
    "print(\"Tardó: {} minutos en agregar las features pbi.\".format((fin - inicio) / 60))"
   ]
  },
  {
   "cell_type": "code",
   "execution_count": 22,
   "metadata": {},
   "outputs": [],
   "source": [
    "train = feature_num.completar_lat_lng_con_provincias_y_ciudades(train)\n",
    "train = feature_num.completar_lat_lng_con_idzona_mean(train)\n",
    "feature_num.completar_lat_lng_con_promedio_Mexico(train)"
   ]
  },
  {
   "cell_type": "code",
   "execution_count": 23,
   "metadata": {},
   "outputs": [
    {
     "data": {
      "text/plain": [
       "Index(['titulo', 'descripcion', 'tipodepropiedad', 'direccion', 'ciudad',\n",
       "       'provincia', 'antiguedad', 'habitaciones', 'garages', 'banos',\n",
       "       'metroscubiertos', 'metrostotales', 'idzona', 'lat', 'lng', 'fecha',\n",
       "       'gimnasio', 'usosmultiples', 'piscina', 'escuelascercanas',\n",
       "       'centroscomercialescercanos', 'precio', 'pbi_campo', 'pbi_mineria',\n",
       "       'pbi_energia_agua_gas', 'pbi_construccion',\n",
       "       'pbi_industrias_manufactureras', 'pbi_comercio'],\n",
       "      dtype='object')"
      ]
     },
     "execution_count": 23,
     "metadata": {},
     "output_type": "execute_result"
    }
   ],
   "source": [
    "train.columns"
   ]
  },
  {
   "cell_type": "code",
   "execution_count": 24,
   "metadata": {},
   "outputs": [],
   "source": [
    "test = feature_num.completar_lat_lng_con_provincias_y_ciudades(test)\n",
    "test = feature_num.completar_lat_lng_con_idzona_mean(test)\n",
    "feature_num.completar_lat_lng_con_promedio_Mexico(test)"
   ]
  },
  {
   "cell_type": "code",
   "execution_count": 25,
   "metadata": {},
   "outputs": [
    {
     "data": {
      "text/html": [
       "<div>\n",
       "<style scoped>\n",
       "    .dataframe tbody tr th:only-of-type {\n",
       "        vertical-align: middle;\n",
       "    }\n",
       "\n",
       "    .dataframe tbody tr th {\n",
       "        vertical-align: top;\n",
       "    }\n",
       "\n",
       "    .dataframe thead th {\n",
       "        text-align: right;\n",
       "    }\n",
       "</style>\n",
       "<table border=\"1\" class=\"dataframe\">\n",
       "  <thead>\n",
       "    <tr style=\"text-align: right;\">\n",
       "      <th></th>\n",
       "      <th>titulo</th>\n",
       "      <th>descripcion</th>\n",
       "      <th>tipodepropiedad</th>\n",
       "      <th>direccion</th>\n",
       "      <th>ciudad</th>\n",
       "      <th>provincia</th>\n",
       "      <th>antiguedad</th>\n",
       "      <th>habitaciones</th>\n",
       "      <th>garages</th>\n",
       "      <th>banos</th>\n",
       "      <th>...</th>\n",
       "      <th>piscina</th>\n",
       "      <th>escuelascercanas</th>\n",
       "      <th>centroscomercialescercanos</th>\n",
       "      <th>precio</th>\n",
       "      <th>pbi_campo</th>\n",
       "      <th>pbi_mineria</th>\n",
       "      <th>pbi_energia_agua_gas</th>\n",
       "      <th>pbi_construccion</th>\n",
       "      <th>pbi_industrias_manufactureras</th>\n",
       "      <th>pbi_comercio</th>\n",
       "    </tr>\n",
       "  </thead>\n",
       "  <tbody>\n",
       "    <tr>\n",
       "      <th>0</th>\n",
       "      <td>depto. tipo a-402</td>\n",
       "      <td>depto. interior de 80.15m2, consta de sala com...</td>\n",
       "      <td>Apartamento</td>\n",
       "      <td>Avenida Division del Norte 2005</td>\n",
       "      <td>Benito Juárez</td>\n",
       "      <td>Distrito Federal</td>\n",
       "      <td>8.116114</td>\n",
       "      <td>2.0</td>\n",
       "      <td>1.0</td>\n",
       "      <td>2.0</td>\n",
       "      <td>...</td>\n",
       "      <td>0.0</td>\n",
       "      <td>0.0</td>\n",
       "      <td>0.0</td>\n",
       "      <td>2273000.0</td>\n",
       "      <td>994</td>\n",
       "      <td>120</td>\n",
       "      <td>13989</td>\n",
       "      <td>45092</td>\n",
       "      <td>172748</td>\n",
       "      <td>280309</td>\n",
       "    </tr>\n",
       "    <tr>\n",
       "      <th>1</th>\n",
       "      <td>condominio horizontal en venta</td>\n",
       "      <td>&lt;p&gt;entre sonora y guerrero, atr&amp;aacute;s del h...</td>\n",
       "      <td>Casa en condominio</td>\n",
       "      <td>AV. MEXICO</td>\n",
       "      <td>La Magdalena Contreras</td>\n",
       "      <td>Distrito Federal</td>\n",
       "      <td>10.000000</td>\n",
       "      <td>3.0</td>\n",
       "      <td>2.0</td>\n",
       "      <td>2.0</td>\n",
       "      <td>...</td>\n",
       "      <td>0.0</td>\n",
       "      <td>1.0</td>\n",
       "      <td>1.0</td>\n",
       "      <td>3600000.0</td>\n",
       "      <td>1186</td>\n",
       "      <td>295</td>\n",
       "      <td>11744</td>\n",
       "      <td>64787</td>\n",
       "      <td>158272</td>\n",
       "      <td>370801</td>\n",
       "    </tr>\n",
       "    <tr>\n",
       "      <th>2</th>\n",
       "      <td>casa en venta urbi 3 recamaras tonala</td>\n",
       "      <td>descripcion \\nla mejor ubicacion residencial e...</td>\n",
       "      <td>Casa</td>\n",
       "      <td>Urbi Tonala</td>\n",
       "      <td>Tonalá</td>\n",
       "      <td>Jalisco</td>\n",
       "      <td>5.000000</td>\n",
       "      <td>3.0</td>\n",
       "      <td>2.0</td>\n",
       "      <td>2.0</td>\n",
       "      <td>...</td>\n",
       "      <td>0.0</td>\n",
       "      <td>0.0</td>\n",
       "      <td>0.0</td>\n",
       "      <td>1200000.0</td>\n",
       "      <td>69867</td>\n",
       "      <td>2605</td>\n",
       "      <td>14657</td>\n",
       "      <td>96269</td>\n",
       "      <td>283192</td>\n",
       "      <td>143550</td>\n",
       "    </tr>\n",
       "    <tr>\n",
       "      <th>3</th>\n",
       "      <td>casa sola en toluca zinacantepec con credito i...</td>\n",
       "      <td>casa en privada con caseta de vigilancia casas...</td>\n",
       "      <td>Casa</td>\n",
       "      <td>IGNACIO MANUEL ALTAMIRANO 128</td>\n",
       "      <td>Zinacantepec</td>\n",
       "      <td>Edo. de México</td>\n",
       "      <td>1.000000</td>\n",
       "      <td>2.0</td>\n",
       "      <td>1.0</td>\n",
       "      <td>1.0</td>\n",
       "      <td>...</td>\n",
       "      <td>0.0</td>\n",
       "      <td>1.0</td>\n",
       "      <td>1.0</td>\n",
       "      <td>650000.0</td>\n",
       "      <td>19304</td>\n",
       "      <td>2869</td>\n",
       "      <td>19258</td>\n",
       "      <td>103309</td>\n",
       "      <td>346779</td>\n",
       "      <td>264426</td>\n",
       "    </tr>\n",
       "    <tr>\n",
       "      <th>4</th>\n",
       "      <td>paseos del sol</td>\n",
       "      <td>bonito departamento en excelentes condiciones ...</td>\n",
       "      <td>Apartamento</td>\n",
       "      <td>PASEOS DEL SOL</td>\n",
       "      <td>Zapopan</td>\n",
       "      <td>Jalisco</td>\n",
       "      <td>10.000000</td>\n",
       "      <td>2.0</td>\n",
       "      <td>1.0</td>\n",
       "      <td>1.0</td>\n",
       "      <td>...</td>\n",
       "      <td>0.0</td>\n",
       "      <td>0.0</td>\n",
       "      <td>0.0</td>\n",
       "      <td>1150000.0</td>\n",
       "      <td>76106</td>\n",
       "      <td>3013</td>\n",
       "      <td>15621</td>\n",
       "      <td>105854</td>\n",
       "      <td>305314</td>\n",
       "      <td>171948</td>\n",
       "    </tr>\n",
       "  </tbody>\n",
       "</table>\n",
       "<p>5 rows × 28 columns</p>\n",
       "</div>"
      ],
      "text/plain": [
       "                                              titulo  \\\n",
       "0                                  depto. tipo a-402   \n",
       "1                     condominio horizontal en venta   \n",
       "2              casa en venta urbi 3 recamaras tonala   \n",
       "3  casa sola en toluca zinacantepec con credito i...   \n",
       "4                                     paseos del sol   \n",
       "\n",
       "                                         descripcion     tipodepropiedad  \\\n",
       "0  depto. interior de 80.15m2, consta de sala com...         Apartamento   \n",
       "1  <p>entre sonora y guerrero, atr&aacute;s del h...  Casa en condominio   \n",
       "2  descripcion \\nla mejor ubicacion residencial e...                Casa   \n",
       "3  casa en privada con caseta de vigilancia casas...                Casa   \n",
       "4  bonito departamento en excelentes condiciones ...         Apartamento   \n",
       "\n",
       "                         direccion                  ciudad         provincia  \\\n",
       "0  Avenida Division del Norte 2005           Benito Juárez  Distrito Federal   \n",
       "1                       AV. MEXICO  La Magdalena Contreras  Distrito Federal   \n",
       "2                      Urbi Tonala                  Tonalá           Jalisco   \n",
       "3    IGNACIO MANUEL ALTAMIRANO 128            Zinacantepec    Edo. de México   \n",
       "4                  PASEOS DEL SOL                  Zapopan           Jalisco   \n",
       "\n",
       "   antiguedad  habitaciones  garages  banos  ...  piscina  escuelascercanas  \\\n",
       "0    8.116114           2.0      1.0    2.0  ...      0.0               0.0   \n",
       "1   10.000000           3.0      2.0    2.0  ...      0.0               1.0   \n",
       "2    5.000000           3.0      2.0    2.0  ...      0.0               0.0   \n",
       "3    1.000000           2.0      1.0    1.0  ...      0.0               1.0   \n",
       "4   10.000000           2.0      1.0    1.0  ...      0.0               0.0   \n",
       "\n",
       "   centroscomercialescercanos     precio  pbi_campo pbi_mineria  \\\n",
       "0                         0.0  2273000.0        994         120   \n",
       "1                         1.0  3600000.0       1186         295   \n",
       "2                         0.0  1200000.0      69867        2605   \n",
       "3                         1.0   650000.0      19304        2869   \n",
       "4                         0.0  1150000.0      76106        3013   \n",
       "\n",
       "   pbi_energia_agua_gas  pbi_construccion  pbi_industrias_manufactureras  \\\n",
       "0                 13989             45092                         172748   \n",
       "1                 11744             64787                         158272   \n",
       "2                 14657             96269                         283192   \n",
       "3                 19258            103309                         346779   \n",
       "4                 15621            105854                         305314   \n",
       "\n",
       "   pbi_comercio  \n",
       "0        280309  \n",
       "1        370801  \n",
       "2        143550  \n",
       "3        264426  \n",
       "4        171948  \n",
       "\n",
       "[5 rows x 28 columns]"
      ]
     },
     "execution_count": 25,
     "metadata": {},
     "output_type": "execute_result"
    }
   ],
   "source": [
    "train.head()"
   ]
  },
  {
   "cell_type": "code",
   "execution_count": 26,
   "metadata": {},
   "outputs": [],
   "source": [
    "train['ratio_cubierto'] = train.apply(lambda x: x['metroscubiertos']/x['metrostotales'] if x['metrostotales'] else 1, axis = 1)\n",
    "test['ratio_cubierto'] = test.apply(lambda x: x['metroscubiertos']/x['metrostotales'] if x['metrostotales'] else 1, axis = 1)"
   ]
  },
  {
   "cell_type": "markdown",
   "metadata": {},
   "source": [
    "## Me quedo con algunas features"
   ]
  },
  {
   "cell_type": "code",
   "execution_count": 27,
   "metadata": {},
   "outputs": [],
   "source": [
    "columnas_train = [\"tipodepropiedad\", \"antiguedad\", \"lat\", \"lng\", \"gimnasio\", \"usosmultiples\", \"piscina\", \"pbi_campo\",\n",
    "                  \"pbi_mineria\", \"pbi_energia_agua_gas\", \"pbi_construccion\", \"pbi_industrias_manufactureras\",\n",
    "                  \"pbi_comercio\", \"ratio_cubierto\", \"precio\"]\n",
    "columnas_test = [\"tipodepropiedad\", \"antiguedad\", \"lat\", \"lng\", \"gimnasio\", \"usosmultiples\", \"piscina\", \"pbi_campo\",\n",
    "                  \"pbi_mineria\", \"pbi_energia_agua_gas\", \"pbi_construccion\", \"pbi_industrias_manufactureras\",\n",
    "                  \"pbi_comercio\", \"ratio_cubierto\"]"
   ]
  },
  {
   "cell_type": "code",
   "execution_count": 28,
   "metadata": {},
   "outputs": [],
   "source": [
    "train = train[columnas_train]\n",
    "test = test[columnas_test]"
   ]
  },
  {
   "cell_type": "code",
   "execution_count": 29,
   "metadata": {},
   "outputs": [],
   "source": [
    "train_OHE  = pd.get_dummies(train)"
   ]
  },
  {
   "cell_type": "code",
   "execution_count": 30,
   "metadata": {},
   "outputs": [],
   "source": [
    "test_OHE = pd.get_dummies(test)"
   ]
  },
  {
   "cell_type": "code",
   "execution_count": 31,
   "metadata": {},
   "outputs": [
    {
     "data": {
      "text/plain": [
       "(60000, 35)"
      ]
     },
     "execution_count": 31,
     "metadata": {},
     "output_type": "execute_result"
    }
   ],
   "source": [
    "test_OHE.shape"
   ]
  },
  {
   "cell_type": "markdown",
   "metadata": {},
   "source": [
    "# Tuneo"
   ]
  },
  {
   "cell_type": "markdown",
   "metadata": {},
   "source": [
    "### Divido el train"
   ]
  },
  {
   "cell_type": "code",
   "execution_count": 32,
   "metadata": {},
   "outputs": [],
   "source": [
    "X = train_OHE.drop([TARGET], axis = 1).copy().values\n",
    "y = list(train_OHE[TARGET].copy())"
   ]
  },
  {
   "cell_type": "code",
   "execution_count": 33,
   "metadata": {},
   "outputs": [],
   "source": [
    "X_train, X_test, y_train, y_test = train_test_split(X, y, test_size=0.1, random_state = 0)"
   ]
  },
  {
   "cell_type": "markdown",
   "metadata": {},
   "source": [
    "### Grilla de parápametros"
   ]
  },
  {
   "cell_type": "code",
   "execution_count": 34,
   "metadata": {},
   "outputs": [],
   "source": [
    "hiperparametros = {\n",
    "    \"n_estimators\": [100, 200, 250 ,300, 350 ,400, 500],\n",
    "    \"max_depth\": [10, 20, 30, 40, 50, 60],\n",
    "    \"max_features\": [1, 5, 'auto', 'sqrt', 'log2'],\n",
    "    \"min_samples_leaf\": [1, 2, 4],\n",
    "    \"min_samples_split\": [2, 5, 10],\n",
    "}"
   ]
  },
  {
   "cell_type": "markdown",
   "metadata": {},
   "source": [
    "### Tuneo"
   ]
  },
  {
   "cell_type": "code",
   "execution_count": 35,
   "metadata": {},
   "outputs": [
    {
     "name": "stdout",
     "output_type": "stream",
     "text": [
      "Fitting 3 folds for each of 10 candidates, totalling 30 fits\n"
     ]
    },
    {
     "name": "stderr",
     "output_type": "stream",
     "text": [
      "[Parallel(n_jobs=-1)]: Using backend LokyBackend with 4 concurrent workers.\n",
      "[Parallel(n_jobs=-1)]: Done  30 out of  30 | elapsed: 37.7min finished\n"
     ]
    },
    {
     "data": {
      "text/plain": [
       "RandomizedSearchCV(cv=3, error_score='raise-deprecating',\n",
       "                   estimator=RandomForestRegressor(bootstrap=True,\n",
       "                                                   criterion='mse',\n",
       "                                                   max_depth=None,\n",
       "                                                   max_features='auto',\n",
       "                                                   max_leaf_nodes=None,\n",
       "                                                   min_impurity_decrease=0.0,\n",
       "                                                   min_impurity_split=None,\n",
       "                                                   min_samples_leaf=1,\n",
       "                                                   min_samples_split=2,\n",
       "                                                   min_weight_fraction_leaf=0.0,\n",
       "                                                   n_estimators='warn',\n",
       "                                                   n_jobs=None, oob_score=False,\n",
       "                                                   random_sta...se=0,\n",
       "                                                   warm_start=False),\n",
       "                   iid='warn', n_iter=10, n_jobs=-1,\n",
       "                   param_distributions={'max_depth': [10, 20, 30, 40, 50, 60],\n",
       "                                        'max_features': [1, 5, 'auto', 'sqrt',\n",
       "                                                         'log2'],\n",
       "                                        'min_samples_leaf': [1, 2, 4],\n",
       "                                        'min_samples_split': [2, 5, 10],\n",
       "                                        'n_estimators': [100, 200, 250, 300,\n",
       "                                                         350, 400, 500]},\n",
       "                   pre_dispatch='2*n_jobs', random_state=42, refit=True,\n",
       "                   return_train_score=False, scoring=None, verbose=2)"
      ]
     },
     "execution_count": 35,
     "metadata": {},
     "output_type": "execute_result"
    }
   ],
   "source": [
    "rf = RandomForestRegressor()\n",
    "\n",
    "inicio = time.time()\n",
    "\n",
    "\n",
    "rf_random = RandomizedSearchCV(estimator = rf, param_distributions = hiperparametros, n_iter = MAX_ITER, cv = 3, verbose=2, random_state=42, n_jobs = -1)\n",
    "\n",
    "fin = time.time()\n",
    "\n",
    "rf_random.fit(X_train, y_train)"
   ]
  },
  {
   "cell_type": "code",
   "execution_count": 36,
   "metadata": {},
   "outputs": [
    {
     "name": "stdout",
     "output_type": "stream",
     "text": [
      "El tuneo tardó: 1.6729036966959637e-05 minutos.\n"
     ]
    }
   ],
   "source": [
    "print(\"El tuneo tardó: {} minutos.\".format((fin - inicio) / 60))"
   ]
  },
  {
   "cell_type": "code",
   "execution_count": 37,
   "metadata": {},
   "outputs": [
    {
     "name": "stdout",
     "output_type": "stream",
     "text": [
      "Mejores parámetros:\n",
      "{'n_estimators': 300, 'min_samples_split': 10, 'min_samples_leaf': 4, 'max_features': 'auto', 'max_depth': 40}\n"
     ]
    }
   ],
   "source": [
    "print(\"Mejores parámetros:\")\n",
    "print(rf_random.best_params_)"
   ]
  },
  {
   "cell_type": "markdown",
   "metadata": {},
   "source": [
    "# Entrenamiento"
   ]
  },
  {
   "cell_type": "code",
   "execution_count": 38,
   "metadata": {},
   "outputs": [],
   "source": [
    "mejores_hiperparametros = rf_random.best_params_"
   ]
  },
  {
   "cell_type": "code",
   "execution_count": 39,
   "metadata": {},
   "outputs": [
    {
     "data": {
      "text/plain": [
       "RandomForestRegressor(bootstrap=True, criterion='mse', max_depth=40,\n",
       "                      max_features='auto', max_leaf_nodes=None,\n",
       "                      min_impurity_decrease=0.0, min_impurity_split=None,\n",
       "                      min_samples_leaf=4, min_samples_split=10,\n",
       "                      min_weight_fraction_leaf=0.0, n_estimators=300,\n",
       "                      n_jobs=None, oob_score=False, random_state=None,\n",
       "                      verbose=0, warm_start=False)"
      ]
     },
     "execution_count": 39,
     "metadata": {},
     "output_type": "execute_result"
    }
   ],
   "source": [
    "mejor_rf = RandomForestRegressor(n_estimators = mejores_hiperparametros[\"n_estimators\"],\n",
    "                                 min_samples_split = mejores_hiperparametros[\"min_samples_split\"],\n",
    "                                 min_samples_leaf = mejores_hiperparametros[\"min_samples_leaf\"],\n",
    "                                 max_features = mejores_hiperparametros[\"max_features\"],\n",
    "                                 max_depth = mejores_hiperparametros[\"max_depth\"])\n",
    "mejor_rf.fit(X_train, y_train)"
   ]
  },
  {
   "cell_type": "code",
   "execution_count": 42,
   "metadata": {},
   "outputs": [
    {
     "name": "stdout",
     "output_type": "stream",
     "text": [
      "Performance del modelo:\n",
      "Average Error: 1014794.7956 degrees.\n",
      "Accuracy = 36.78%.\n"
     ]
    },
    {
     "data": {
      "text/plain": [
       "36.78090522141504"
      ]
     },
     "execution_count": 42,
     "metadata": {},
     "output_type": "execute_result"
    }
   ],
   "source": [
    "evaluar_rf(mejor_rf, X_test, y_test)"
   ]
  },
  {
   "cell_type": "code",
   "execution_count": null,
   "metadata": {},
   "outputs": [],
   "source": []
  }
 ],
 "metadata": {
  "kernelspec": {
   "display_name": "Python 3",
   "language": "python",
   "name": "python3"
  },
  "language_info": {
   "codemirror_mode": {
    "name": "ipython",
    "version": 3
   },
   "file_extension": ".py",
   "mimetype": "text/x-python",
   "name": "python",
   "nbconvert_exporter": "python",
   "pygments_lexer": "ipython3",
   "version": "3.7.3"
  }
 },
 "nbformat": 4,
 "nbformat_minor": 2
}
