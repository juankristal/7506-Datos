{
 "cells": [
  {
   "cell_type": "markdown",
   "metadata": {},
   "source": [
    "## Imports "
   ]
  },
  {
   "cell_type": "code",
   "execution_count": 35,
   "metadata": {},
   "outputs": [],
   "source": [
    "import common.feature_string as feature_string\n",
    "import common.feature_num as feature_num\n",
    "import common.feature_categorica as feature_categorica\n",
    "import common.common_machine_learning as common\n",
    "import common.my_pipeline as my_pipe\n",
    "import pandas as pd\n",
    "import numpy as np\n",
    "from sklearn.pipeline import Pipeline\n",
    "from xgboost import XGBRegressor\n",
    "import time\n",
    "from hyperopt import fmin, tpe, hp, STATUS_OK\n",
    "from sklearn.model_selection import cross_val_score"
   ]
  },
  {
   "cell_type": "markdown",
   "metadata": {},
   "source": [
    "### Ignore Warnings "
   ]
  },
  {
   "cell_type": "code",
   "execution_count": 4,
   "metadata": {},
   "outputs": [],
   "source": [
    "from warnings import simplefilter\n",
    "simplefilter(action='ignore', category=FutureWarning)"
   ]
  },
  {
   "cell_type": "markdown",
   "metadata": {},
   "source": [
    "## Constantes"
   ]
  },
  {
   "cell_type": "code",
   "execution_count": 5,
   "metadata": {},
   "outputs": [],
   "source": [
    "TARGET = 'precio'\n",
    "K = 3\n",
    "RANDOM_SEMILLA = 3 # numero favorito (de la suerte)\n",
    "XGB_RE_OBJECTIVE = 'reg:squarederror'\n",
    "N_ITER = 15"
   ]
  },
  {
   "cell_type": "code",
   "execution_count": 6,
   "metadata": {},
   "outputs": [
    {
     "name": "stdout",
     "output_type": "stream",
     "text": [
      "Tiempo = 0.09 minutos\n"
     ]
    }
   ],
   "source": [
    "t0 = time.time()\n",
    "train = common.cargar_set_optimizado('sets_de_datos/train.csv', index_col = 0)\n",
    "t1 = time.time()\n",
    "print('Tiempo = {0:.2f} minutos'.format((t1-t0)/60))"
   ]
  },
  {
   "cell_type": "markdown",
   "metadata": {},
   "source": [
    "## Features agregables por registro (no necesita entrenamiento previo)"
   ]
  },
  {
   "cell_type": "code",
   "execution_count": 7,
   "metadata": {},
   "outputs": [
    {
     "name": "stdout",
     "output_type": "stream",
     "text": [
      "Tiempo = 0.00 minutos\n"
     ]
    }
   ],
   "source": [
    "t0 = time.time()\n",
    "feature_num.agregar_feature_fecha_numerica(train)\n",
    "t1 = time.time()\n",
    "print('Tiempo = {0:.2f} minutos'.format((t1-t0)/60))"
   ]
  },
  {
   "cell_type": "code",
   "execution_count": 8,
   "metadata": {},
   "outputs": [
    {
     "name": "stdout",
     "output_type": "stream",
     "text": [
      "Tiempo = 0.10 minutos\n"
     ]
    }
   ],
   "source": [
    "t0 = time.time()\n",
    "train = feature_categorica.agregar_feature_one_hot_encoding(train)\n",
    "t1 = time.time()\n",
    "print('Tiempo = {0:.2f} minutos'.format((t1-t0)/60))"
   ]
  },
  {
   "cell_type": "markdown",
   "metadata": {},
   "source": [
    "Esto puede tardar unos minutos.  \n",
    "Dima'pc = 3 minutos (aprox)"
   ]
  },
  {
   "cell_type": "code",
   "execution_count": 9,
   "metadata": {
    "scrolled": true
   },
   "outputs": [
    {
     "name": "stdout",
     "output_type": "stream",
     "text": [
      "Tiempo : 2.75 minutos\n"
     ]
    }
   ],
   "source": [
    "t0 = time.time()\n",
    "feature_string.agregar_feature_todos_ref(train)\n",
    "t1 = time.time()\n",
    "print('Tiempo : {0:.2f} minutos'.format((t1-t0)/60))"
   ]
  },
  {
   "cell_type": "markdown",
   "metadata": {},
   "source": [
    "Elimino features no usar"
   ]
  },
  {
   "cell_type": "code",
   "execution_count": null,
   "metadata": {},
   "outputs": [],
   "source": [
    "train.drop(['fecha', 'titulo', 'descripcion', 'tipodepropiedad', 'direccion', 'ciudad', 'provincia'], \n",
    "           axis = 1, inplace = True)"
   ]
  },
  {
   "cell_type": "markdown",
   "metadata": {},
   "source": [
    "## Muestra y Target"
   ]
  },
  {
   "cell_type": "code",
   "execution_count": 15,
   "metadata": {},
   "outputs": [],
   "source": [
    "X = train.drop([TARGET], axis = 1).copy()\n",
    "y = train[TARGET].copy()"
   ]
  },
  {
   "cell_type": "markdown",
   "metadata": {},
   "source": [
    "## Objective, Pipeline & Space "
   ]
  },
  {
   "cell_type": "code",
   "execution_count": 38,
   "metadata": {},
   "outputs": [],
   "source": [
    "pre_procesar_pipe = my_pipe.get_columns_pipeline()"
   ]
  },
  {
   "cell_type": "code",
   "execution_count": 40,
   "metadata": {},
   "outputs": [],
   "source": [
    "def objective(hyper_parametros):\n",
    "    \n",
    "    busqueda_pipe = Pipeline(steps = [\n",
    "        ('pre-procesar', pre_procesar_pipe),\n",
    "        ('xgb_regressor', XGBRegressor(objective = XGB_RE_OBJECTIVE, **hyper_parametros))\n",
    "    ])  \n",
    "    \n",
    "    score = cross_val_score(busqueda_pipe, X, y, scoring='neg_mean_absolute_error', cv=K).mean()\n",
    "    \n",
    "    print(\"SCORE: {:.3f} params {}\".format(score, hyper_parametros))\n",
    "    \n",
    "    return {'loss': -score, 'status': STATUS_OK}\n",
    "\n",
    "space = {\n",
    "    \"n_estimators\": hp.randint(\"xgb_re__n_estimators\", 1000) + 200, \n",
    "    \"learning_rate\": hp.uniform(\"xgb_re__learning_rate\", 0.01, 0.05), \n",
    "    \"gamma\": hp.uniform(\"xgb_re__gamma\", 0.2, 0.8),\n",
    "    \"lambda\": hp.uniform(\"xgb_re__lambda\",0.8, 1.2),\n",
    "    \"max_depth\": hp.randint(\"xgb_re__max_depth\", 100) + 0, \n",
    "    \"subsample\": hp.uniform(\"xgb_re__subsample\", 0.7, 0.3),\n",
    "    \"colsample_bytree\": hp.uniform(\"xgb_re__colsample_bytree\", 0.7, 0.3),\n",
    "    \"min_child_weight\": hp.randint(\"xgb_re__min_child_weight\", 10) + 3\n",
    "}"
   ]
  },
  {
   "cell_type": "markdown",
   "metadata": {},
   "source": [
    "## Tunning"
   ]
  },
  {
   "cell_type": "code",
   "execution_count": 41,
   "metadata": {
    "scrolled": true
   },
   "outputs": [
    {
     "name": "stdout",
     "output_type": "stream",
     "text": [
      "SCORE: -982961.208 params {'colsample_bytree': 0.4799463108251202, 'gamma': 0.5240451034358968, 'lambda': 0.8449436558155858, 'learning_rate': 0.01085809260576967, 'max_depth': 91, 'min_child_weight': 10, 'n_estimators': 928, 'subsample': 0.36254794079645364}\n",
      "SCORE: -1017062.188 params {'colsample_bytree': 0.6369612663512698, 'gamma': 0.47805721771571624, 'lambda': 1.1622963072085777, 'learning_rate': 0.04801343139585802, 'max_depth': 44, 'min_child_weight': 6, 'n_estimators': 988, 'subsample': 0.3701504843769523}\n",
      "SCORE: -1010385.354 params {'colsample_bytree': 0.3628948343116692, 'gamma': 0.6282533274568436, 'lambda': 0.8397094506563801, 'learning_rate': 0.011261018364973188, 'max_depth': 24, 'min_child_weight': 5, 'n_estimators': 385, 'subsample': 0.3262675458746168}\n",
      "SCORE: -996300.396 params {'colsample_bytree': 0.5467219291201606, 'gamma': 0.5945045068026142, 'lambda': 1.0518282382183866, 'learning_rate': 0.027991749432059586, 'max_depth': 50, 'min_child_weight': 7, 'n_estimators': 1030, 'subsample': 0.6766948415285099}\n",
      "SCORE: -997541.500 params {'colsample_bytree': 0.5970634686884797, 'gamma': 0.7451133032849659, 'lambda': 0.914545382040489, 'learning_rate': 0.02748887586928663, 'max_depth': 49, 'min_child_weight': 4, 'n_estimators': 1107, 'subsample': 0.3794444273965337}\n",
      "SCORE: -949269.396 params {'colsample_bytree': 0.6618664196802868, 'gamma': 0.5005670706555005, 'lambda': 0.863263491296643, 'learning_rate': 0.014167241630284325, 'max_depth': 70, 'min_child_weight': 6, 'n_estimators': 529, 'subsample': 0.3075410401308102}\n",
      "SCORE: -967752.917 params {'colsample_bytree': 0.61068249959797, 'gamma': 0.5834177700535563, 'lambda': 1.1235305142104681, 'learning_rate': 0.026229373191665205, 'max_depth': 55, 'min_child_weight': 5, 'n_estimators': 542, 'subsample': 0.6907756619531764}\n",
      "SCORE: -1004452.792 params {'colsample_bytree': 0.6031697380223061, 'gamma': 0.5182655129992406, 'lambda': 0.9925029904968513, 'learning_rate': 0.04048210117975918, 'max_depth': 3, 'min_child_weight': 11, 'n_estimators': 804, 'subsample': 0.5600436348553202}\n",
      "SCORE: -948855.125 params {'colsample_bytree': 0.6269206294878382, 'gamma': 0.3627342789120286, 'lambda': 1.1126608037893504, 'learning_rate': 0.011511019740908655, 'max_depth': 75, 'min_child_weight': 11, 'n_estimators': 728, 'subsample': 0.5914933850528934}\n",
      "SCORE: -988932.771 params {'colsample_bytree': 0.6939397068244257, 'gamma': 0.6521154096110531, 'lambda': 0.877834101313064, 'learning_rate': 0.03419383456644108, 'max_depth': 20, 'min_child_weight': 6, 'n_estimators': 1054, 'subsample': 0.4615641728520121}\n",
      "100%|██████████| 10/10 [2:04:21<00:00, 738.09s/it, best loss: 948855.125]\n",
      "Tiempo = 124.35 minutos\n"
     ]
    }
   ],
   "source": [
    "t0 = time.time()\n",
    "best = fmin(fn=objective,\n",
    "            space=space,\n",
    "            algo=tpe.suggest,\n",
    "            max_evals=10)\n",
    "t1 = time.time()\n",
    "print('Tiempo = {0:.2f} minutos'.format((t1 - t0)/60))"
   ]
  },
  {
   "cell_type": "raw",
   "metadata": {},
   "source": [
    "SCORE: -982961.208 params {'colsample_bytree': 0.4799463108251202, 'gamma': 0.5240451034358968, 'lambda': 0.8449436558155858, 'learning_rate': 0.01085809260576967, 'max_depth': 91, 'min_child_weight': 10, 'n_estimators': 928, 'subsample': 0.36254794079645364}\n",
    "SCORE: -1017062.188 params {'colsample_bytree': 0.6369612663512698, 'gamma': 0.47805721771571624, 'lambda': 1.1622963072085777, 'learning_rate': 0.04801343139585802, 'max_depth': 44, 'min_child_weight': 6, 'n_estimators': 988, 'subsample': 0.3701504843769523}\n",
    "SCORE: -1010385.354 params {'colsample_bytree': 0.3628948343116692, 'gamma': 0.6282533274568436, 'lambda': 0.8397094506563801, 'learning_rate': 0.011261018364973188, 'max_depth': 24, 'min_child_weight': 5, 'n_estimators': 385, 'subsample': 0.3262675458746168}\n",
    "SCORE: -996300.396 params {'colsample_bytree': 0.5467219291201606, 'gamma': 0.5945045068026142, 'lambda': 1.0518282382183866, 'learning_rate': 0.027991749432059586, 'max_depth': 50, 'min_child_weight': 7, 'n_estimators': 1030, 'subsample': 0.6766948415285099}\n",
    "SCORE: -997541.500 params {'colsample_bytree': 0.5970634686884797, 'gamma': 0.7451133032849659, 'lambda': 0.914545382040489, 'learning_rate': 0.02748887586928663, 'max_depth': 49, 'min_child_weight': 4, 'n_estimators': 1107, 'subsample': 0.3794444273965337}\n",
    "SCORE: -949269.396 params {'colsample_bytree': 0.6618664196802868, 'gamma': 0.5005670706555005, 'lambda': 0.863263491296643, 'learning_rate': 0.014167241630284325, 'max_depth': 70, 'min_child_weight': 6, 'n_estimators': 529, 'subsample': 0.3075410401308102}\n",
    "SCORE: -967752.917 params {'colsample_bytree': 0.61068249959797, 'gamma': 0.5834177700535563, 'lambda': 1.1235305142104681, 'learning_rate': 0.026229373191665205, 'max_depth': 55, 'min_child_weight': 5, 'n_estimators': 542, 'subsample': 0.6907756619531764}\n",
    "SCORE: -1004452.792 params {'colsample_bytree': 0.6031697380223061, 'gamma': 0.5182655129992406, 'lambda': 0.9925029904968513, 'learning_rate': 0.04048210117975918, 'max_depth': 3, 'min_child_weight': 11, 'n_estimators': 804, 'subsample': 0.5600436348553202}\n",
    "SCORE: -948855.125 params {'colsample_bytree': 0.6269206294878382, 'gamma': 0.3627342789120286, 'lambda': 1.1126608037893504, 'learning_rate': 0.011511019740908655, 'max_depth': 75, 'min_child_weight': 11, 'n_estimators': 728, 'subsample': 0.5914933850528934}\n",
    "SCORE: -988932.771 params {'colsample_bytree': 0.6939397068244257, 'gamma': 0.6521154096110531, 'lambda': 0.877834101313064, 'learning_rate': 0.03419383456644108, 'max_depth': 20, 'min_child_weight': 6, 'n_estimators': 1054, 'subsample': 0.4615641728520121}\n",
    "100%|██████████| 10/10 [2:04:21<00:00, 738.09s/it, best loss: 948855.125]\n",
    "Tiempo = 124.35 minutos"
   ]
  },
  {
   "cell_type": "markdown",
   "metadata": {},
   "source": [
    "## Resultados "
   ]
  },
  {
   "cell_type": "code",
   "execution_count": 42,
   "metadata": {},
   "outputs": [
    {
     "name": "stdout",
     "output_type": "stream",
     "text": [
      "{'xgb_re__colsample_bytree': 0.6269206294878382, 'xgb_re__gamma': 0.3627342789120286, 'xgb_re__lambda': 1.1126608037893504, 'xgb_re__learning_rate': 0.011511019740908655, 'xgb_re__max_depth': 75, 'xgb_re__min_child_weight': 8, 'xgb_re__n_estimators': 528, 'xgb_re__subsample': 0.5914933850528934}\n"
     ]
    }
   ],
   "source": [
    "print(best)"
   ]
  },
  {
   "cell_type": "raw",
   "metadata": {},
   "source": [
    "{'xgb_re__colsample_bytree': 0.6269206294878382, 'xgb_re__gamma': 0.3627342789120286, 'xgb_re__lambda': 1.1126608037893504, 'xgb_re__learning_rate': 0.011511019740908655, 'xgb_re__max_depth': 75, 'xgb_re__min_child_weight': 8, 'xgb_re__n_estimators': 528, 'xgb_re__subsample': 0.5914933850528934}\n"
   ]
  }
 ],
 "metadata": {
  "kernelspec": {
   "display_name": "Python 3",
   "language": "python",
   "name": "python3"
  },
  "language_info": {
   "codemirror_mode": {
    "name": "ipython",
    "version": 3
   },
   "file_extension": ".py",
   "mimetype": "text/x-python",
   "name": "python",
   "nbconvert_exporter": "python",
   "pygments_lexer": "ipython3",
   "version": "3.7.3"
  }
 },
 "nbformat": 4,
 "nbformat_minor": 2
}
