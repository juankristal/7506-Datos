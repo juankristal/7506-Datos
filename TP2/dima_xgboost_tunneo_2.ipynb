{
 "cells": [
  {
   "cell_type": "markdown",
   "metadata": {},
   "source": [
    "## Imports "
   ]
  },
  {
   "cell_type": "code",
   "execution_count": 1,
   "metadata": {},
   "outputs": [],
   "source": [
    "import common.feature_string as feature_string\n",
    "import common.feature_num as feature_num\n",
    "import common.feature_categorica as feature_categorica\n",
    "import common.common_machine_learning as common\n",
    "import common.my_pipeline as my_pipe\n",
    "import pandas as pd\n",
    "import numpy as np\n",
    "from sklearn.model_selection import GridSearchCV, RandomizedSearchCV\n",
    "from sklearn.pipeline import Pipeline\n",
    "from sklearn.metrics import mean_squared_error\n",
    "from xgboost import XGBRegressor\n",
    "import time"
   ]
  },
  {
   "cell_type": "markdown",
   "metadata": {},
   "source": [
    "### Ignore Warnings "
   ]
  },
  {
   "cell_type": "code",
   "execution_count": 2,
   "metadata": {},
   "outputs": [],
   "source": [
    "from warnings import simplefilter\n",
    "simplefilter(action='ignore', category=FutureWarning)"
   ]
  },
  {
   "cell_type": "markdown",
   "metadata": {},
   "source": [
    "## Constantes"
   ]
  },
  {
   "cell_type": "code",
   "execution_count": 3,
   "metadata": {},
   "outputs": [],
   "source": [
    "TARGET = 'precio'\n",
    "K = 3\n",
    "RANDOM_SEMILLA = 3 # numero favorito (de la suerte)\n",
    "XGB_RE_OBJECTIVE = 'reg:squarederror'\n",
    "N_ITER = 15"
   ]
  },
  {
   "cell_type": "code",
   "execution_count": 11,
   "metadata": {},
   "outputs": [
    {
     "name": "stdout",
     "output_type": "stream",
     "text": [
      "Tiempo = 0.05 minutos\n"
     ]
    }
   ],
   "source": [
    "t0 = time.time()\n",
    "train = common.cargar_set_optimizado('sets_de_datos/train.csv', index_col = 0)\n",
    "t1 = time.time()\n",
    "print('Tiempo = {0:.2f} minutos'.format((t1-t0)/60))"
   ]
  },
  {
   "cell_type": "markdown",
   "metadata": {},
   "source": [
    "## Features agregables por registro (no necesita entrenamiento previo)"
   ]
  },
  {
   "cell_type": "code",
   "execution_count": 12,
   "metadata": {},
   "outputs": [
    {
     "name": "stdout",
     "output_type": "stream",
     "text": [
      "Tiempo = 0.00 minutos\n"
     ]
    }
   ],
   "source": [
    "t0 = time.time()\n",
    "feature_num.agregar_feature_fecha_numerica(train)\n",
    "t1 = time.time()\n",
    "print('Tiempo = {0:.2f} minutos'.format((t1-t0)/60))"
   ]
  },
  {
   "cell_type": "code",
   "execution_count": 14,
   "metadata": {},
   "outputs": [
    {
     "name": "stdout",
     "output_type": "stream",
     "text": [
      "Tiempo = 0.09 minutos\n"
     ]
    }
   ],
   "source": [
    "t0 = time.time()\n",
    "train = feature_categorica.agregar_feature_one_hot_encoding(train)\n",
    "t1 = time.time()\n",
    "print('Tiempo = {0:.2f} minutos'.format((t1-t0)/60))"
   ]
  },
  {
   "cell_type": "markdown",
   "metadata": {},
   "source": [
    "Esto puede tardar unos minutos.  \n",
    "Dima'pc = 3 minutos (aprox)"
   ]
  },
  {
   "cell_type": "code",
   "execution_count": 5,
   "metadata": {},
   "outputs": [
    {
     "name": "stdout",
     "output_type": "stream",
     "text": [
      "Tiempo : 2.58 minutos\n"
     ]
    }
   ],
   "source": [
    "t0 = time.time()\n",
    "feature_string.agregar_feature_todos_ref(train)\n",
    "t1 = time.time()\n",
    "print('Tiempo : {0:.2f} minutos'.format((t1-t0)/60))"
   ]
  },
  {
   "cell_type": "markdown",
   "metadata": {},
   "source": [
    "## Muestra y Target"
   ]
  },
  {
   "cell_type": "code",
   "execution_count": 4,
   "metadata": {},
   "outputs": [],
   "source": [
    "X = train.drop([TARGET], axis = 1).copy()\n",
    "y = train[TARGET].copy()"
   ]
  },
  {
   "cell_type": "markdown",
   "metadata": {},
   "source": [
    "## Pipeline "
   ]
  },
  {
   "cell_type": "code",
   "execution_count": 26,
   "metadata": {},
   "outputs": [],
   "source": [
    "#pre_procesar_pipe = my_pipe.get_train_simple_pre_pipeline()\n",
    "busqueda_pipe = Pipeline(steps = [\n",
    "#    ('pre-procesar', pre_procesar_pipe),\n",
    "    ('xgb_regressor', XGBRegressor(objective = XGB_RE_OBJECTIVE))\n",
    "])  "
   ]
  },
  {
   "cell_type": "code",
   "execution_count": null,
   "metadata": {},
   "outputs": [],
   "source": [
    "hyper_params = {\n",
    "    \"xgb_regressor__n_estimators\": [650 ,850], # default 100,\n",
    "    \"xgb_regressor__learning_rate\": [0.01, 0.05], # default 0.1\n",
    "    \"xgb_regressor__gamma\": [0.2, 0.8],\n",
    "    \"xgb_regressor__lambda\": [0.8, 1.2],\n",
    "    \"xgb_regressor__max_depth\": [4, 7], # default 3 # < 15 columnas = cantidad columnas feature originales\n",
    "    \"xgb_regressor__subsample\": [0.65, 0.45],\n",
    "    \"xgb_regressor__colsample_bytree\": [0.65, 0.45],\n",
    "    \"xgb_regressor__min_child_weight\": [3, 6]\n",
    "}\n",
    "\n",
    "busqueda = RandomizedSearchCV(\n",
    "            busqueda_pipe, \n",
    "            param_distributions=hyper_params,\n",
    "            random_state = RANDOM_SEMILLA,\n",
    "            n_iter = N_ITER,\n",
    "            cv=K, \n",
    "            verbose=1, \n",
    "            n_jobs=1, \n",
    "            return_train_score=True,\n",
    "            iid = True\n",
    "        )"
   ]
  },
  {
   "cell_type": "raw",
   "metadata": {},
   "source": [
    "tiempo_inicio = time.time()\n",
    "busqueda = busqueda.fit(X,y)\n",
    "tiempo_fin = time.time()\n",
    "minutos = (tiempo_fin - tiempo_inicio) / 60\n",
    "print('Tiempo de busqueda : {0:.2f} minutos'.format(minutos))"
   ]
  },
  {
   "cell_type": "raw",
   "metadata": {},
   "source": [
    "common.busqueda_mostrar_resultados_df(busqueda.cv_results_)\n",
    "#common.busqueda_guardar_resultados_df(busqueda.cv_results_, 'resultados_busquedas/dima_xgboost_train_simple_busqueda_1_resultados.csv')"
   ]
  },
  {
   "cell_type": "raw",
   "metadata": {},
   "source": [
    "pd.read_csv('resultados_busquedas/dima_xgboost_train_simple_busqueda_1_resultados.csv')"
   ]
  }
 ],
 "metadata": {
  "kernelspec": {
   "display_name": "Python 3",
   "language": "python",
   "name": "python3"
  },
  "language_info": {
   "codemirror_mode": {
    "name": "ipython",
    "version": 3
   },
   "file_extension": ".py",
   "mimetype": "text/x-python",
   "name": "python",
   "nbconvert_exporter": "python",
   "pygments_lexer": "ipython3",
   "version": "3.7.3"
  }
 },
 "nbformat": 4,
 "nbformat_minor": 2
}
