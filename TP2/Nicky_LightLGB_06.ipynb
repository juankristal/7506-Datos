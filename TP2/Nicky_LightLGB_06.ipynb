{
 "cells": [
  {
   "cell_type": "code",
   "execution_count": 1,
   "metadata": {},
   "outputs": [],
   "source": [
    "import pandas as pd\n",
    "import numpy as np\n",
    "import time\n",
    "from sklearn.model_selection import train_test_split\n",
    "from sklearn.model_selection import RandomizedSearchCV\n",
    "import common.common_machine_learning as common\n",
    "import common.feature_num as feature_num\n",
    "import common.features_precio_promedio_metroscubiertos as feature_metroscubiertos\n",
    "import common.features_precio_promedio_ciudad as feature_ciudades\n",
    "\n",
    "from scipy.stats import randint as sp_randint\n",
    "from scipy.stats import uniform as sp_uniform\n",
    "\n",
    "import lightgbm as lgb"
   ]
  },
  {
   "cell_type": "code",
   "execution_count": 2,
   "metadata": {},
   "outputs": [],
   "source": [
    "def evaluar_rf(modelo, X_test, y_test):\n",
    "    y_pred = modelo.predict(X_test)\n",
    "    errors = abs(y_pred - y_test)\n",
    "    mape = 100 * np.mean(errors / y_test)\n",
    "    accuracy = 100 - mape\n",
    "    print('Performance del modelo:')\n",
    "    print('Average Error: {:0.4f} degrees.'.format(np.mean(errors)))\n",
    "    print('Accuracy = {:0.2f}%.'.format(accuracy))\n",
    "    \n",
    "    return accuracy"
   ]
  },
  {
   "cell_type": "code",
   "execution_count": 3,
   "metadata": {},
   "outputs": [],
   "source": [
    "TARGET = \"precio\"\n",
    "MAX_ITER = 400"
   ]
  },
  {
   "cell_type": "code",
   "execution_count": 4,
   "metadata": {},
   "outputs": [],
   "source": [
    "train = pd.read_csv('sets_de_datos/dima_train_with_features_6.csv', index_col = 0)\n",
    "test = pd.read_csv('sets_de_datos/dima_test_with_features_6.csv', index_col = 0)"
   ]
  },
  {
   "cell_type": "code",
   "execution_count": 5,
   "metadata": {},
   "outputs": [
    {
     "data": {
      "text/plain": [
       "Index(['titulo', 'descripcion', 'tipodepropiedad', 'direccion', 'ciudad',\n",
       "       'provincia', 'antiguedad', 'habitaciones', 'garages', 'banos',\n",
       "       ...\n",
       "       'ciudad_mean_antiguedad_sobre_provincia_mean_antiguedad',\n",
       "       'tipodepropiead_mean_utilidades_extra_sobre_ciudad_mean_utilidades_extra',\n",
       "       'antiguedad_sobre_tipodepropiedad_mean_antiguedad',\n",
       "       'direccion_cantidad_al_menos_una_mayuscula',\n",
       "       'direccion_cantidad_fijos_top_k', 'titulo_cantidad_fijos_top_k',\n",
       "       'titulo_palabras_top_k_sobre_total_palabras',\n",
       "       'ciudad_distancia_al_origen', 'ciudad_mean_mean_todas',\n",
       "       'ciudad_mean_antiguedad_sobre_mean_metrocubiertos'],\n",
       "      dtype='object', length=126)"
      ]
     },
     "execution_count": 5,
     "metadata": {},
     "output_type": "execute_result"
    }
   ],
   "source": [
    "train.columns"
   ]
  },
  {
   "cell_type": "code",
   "execution_count": 6,
   "metadata": {},
   "outputs": [],
   "source": [
    "columnas = [\n",
    "'descripcion_longitud_media_de_palabra', 'metrostotales',\n",
    "'metros_x_espacio', 'idzona', 'lat', 'titulo_longitud_media_de_palabra',\n",
    "'distancia_minima_Oficina_comercial',\n",
    "'distancia_minima_Local_en_centro_comercial',\n",
    "'distancia_minima_Bodega_comercial', 'metros_x_garages',\n",
    "'metroscubiertos', 'metros_x_habitaciones', 'metros_x_banos',\n",
    "'distancia_minima_Terreno_comercial',\n",
    "'distancia_minima_Local_Comercial',\n",
    "'titulo_cantidad_caracteres_en_palabras_importantes',\n",
    "'descripcion_cantidad_palabras_top_k',\n",
    "'descripcion_cantidad_caracteres_en_palabras_importantes',\n",
    "'coseno_distancia_angular_al_centro_provincia',\n",
    "'descripcion_cantidad_stopwords',\n",
    "'descripcion_cantidad_signos_puntacion',\n",
    "'direccion_longitud_media_de_palabra',\n",
    "'titulo_palabras_top_k_sobre_total_palabras',\n",
    "'habitaciones_preciopromedio_ciudad', 'antiguedad', 'lng',\n",
    "'garages_preciopromedio_ciudad',\n",
    "'direccion_cantidad_caracteres_en_palabras_importantes',\n",
    "'coseno_distancia_angular_al_centro_ciudad',\n",
    "'banos_preciopromedio_ciudad', 'descripcion_cantidad_prefijos_top_k',\n",
    "'precio_x_m2', 'año', 'titulo_cantidad_fijos_top_k',\n",
    "'descripcion_cantidad_palabras_importantes',\n",
    "'descripcion_cantidad_postfijos_top_k', 'ciudad_mean_mean_todas',\n",
    "'ciudad_mean_antiguedad_sobre_mean_metrocubiertos',\n",
    "'habitaciones_preciopromedio_metroscubiertos', 'cantidad_espacios',\n",
    "'direccion_cantidad_al_menos_una_mayuscula',\n",
    "'direccion_cantidad_fijos_top_k', 'ciudad_distancia_al_origen']"
   ]
  },
  {
   "cell_type": "code",
   "execution_count": 7,
   "metadata": {},
   "outputs": [],
   "source": [
    "train = train[train[\"tipodepropiedad\"].isin(test[\"tipodepropiedad\"].unique())]"
   ]
  },
  {
   "cell_type": "code",
   "execution_count": 8,
   "metadata": {},
   "outputs": [],
   "source": [
    "train['provincia'] = train['provincia'].str.replace(\"0    Distrito Federal\",\"Distrito Federal\")\n",
    "test['provincia'] = test['provincia'].str.replace(\"0    Distrito Federal\",\"Distrito Federal\")"
   ]
  },
  {
   "cell_type": "code",
   "execution_count": 9,
   "metadata": {},
   "outputs": [],
   "source": [
    "train = train[columnas + [\"precio\"]]\n",
    "test = test[columnas]"
   ]
  },
  {
   "cell_type": "code",
   "execution_count": 10,
   "metadata": {},
   "outputs": [],
   "source": [
    "#train_OHE  = pd.get_dummies(train)"
   ]
  },
  {
   "cell_type": "code",
   "execution_count": 11,
   "metadata": {},
   "outputs": [],
   "source": [
    "#test_OHE = pd.get_dummies(test)"
   ]
  },
  {
   "cell_type": "code",
   "execution_count": 12,
   "metadata": {},
   "outputs": [],
   "source": [
    "#train_OHE.shape"
   ]
  },
  {
   "cell_type": "code",
   "execution_count": 13,
   "metadata": {},
   "outputs": [],
   "source": [
    "#test_OHE.shape"
   ]
  },
  {
   "cell_type": "code",
   "execution_count": 14,
   "metadata": {},
   "outputs": [],
   "source": [
    "#X = train_OHE.drop([TARGET], axis = 1).copy().values\n",
    "#y = list(train_OHE[TARGET].copy())\n",
    "\n",
    "X = train.drop([TARGET], axis = 1).copy().values\n",
    "y = list(train[TARGET].copy())"
   ]
  },
  {
   "cell_type": "code",
   "execution_count": 15,
   "metadata": {},
   "outputs": [],
   "source": [
    "X_train, X_test, y_train, y_test = train_test_split(X, y, test_size=0.1, random_state = 0)"
   ]
  },
  {
   "cell_type": "code",
   "execution_count": 16,
   "metadata": {},
   "outputs": [],
   "source": [
    "hiperparametros = {\n",
    "    \"learning_rate\": [0.03, 0.01, 0.1, 0.3],\n",
    "    \"n_estimators\": [100, 200, 250, 300, 350, 400],\n",
    "    \"max_depth\": [15, 20, 25, 30, 40, 50, 60],\n",
    "    \"reg_alpha\": [0, 1e-1, 1, 2, 5, 7, 10, 50, 100],\n",
    "    \"reg_lambda\": [0, 1e-1, 1, 5, 10, 20, 50, 100],\n",
    "    \"num_leaves\": [5, 10, 15, 20, 25, 30],\n",
    "    \"min_child_weight\": [1e-5, 1e-3, 1e-2, 1e-1, 1, 1e1, 1e2, 1e3, 1e4],\n",
    "\n",
    "}"
   ]
  },
  {
   "cell_type": "code",
   "execution_count": 17,
   "metadata": {},
   "outputs": [
    {
     "name": "stdout",
     "output_type": "stream",
     "text": [
      "Fitting 3 folds for each of 400 candidates, totalling 1200 fits\n"
     ]
    },
    {
     "name": "stderr",
     "output_type": "stream",
     "text": [
      "[Parallel(n_jobs=-1)]: Using backend LokyBackend with 4 concurrent workers.\n",
      "[Parallel(n_jobs=-1)]: Done  33 tasks      | elapsed:  3.2min\n",
      "[Parallel(n_jobs=-1)]: Done 154 tasks      | elapsed: 11.8min\n",
      "[Parallel(n_jobs=-1)]: Done 357 tasks      | elapsed: 25.5min\n",
      "[Parallel(n_jobs=-1)]: Done 640 tasks      | elapsed: 45.5min\n",
      "[Parallel(n_jobs=-1)]: Done 1005 tasks      | elapsed: 73.0min\n",
      "[Parallel(n_jobs=-1)]: Done 1200 out of 1200 | elapsed: 88.7min finished\n"
     ]
    },
    {
     "data": {
      "text/plain": [
       "RandomizedSearchCV(cv=3, error_score='raise-deprecating',\n",
       "                   estimator=LGBMRegressor(boosting_type='gbdt',\n",
       "                                           class_weight=None,\n",
       "                                           colsample_bytree=1.0,\n",
       "                                           importance_type='split',\n",
       "                                           learning_rate=0.5, max_depth=-1,\n",
       "                                           min_child_samples=20,\n",
       "                                           min_child_weight=0.001,\n",
       "                                           min_split_gain=0.0, n_estimators=100,\n",
       "                                           n_jobs=-1, num_leaves=31,\n",
       "                                           objective=None, random_state=None,\n",
       "                                           reg_alpha=0.0, reg_...\n",
       "                                        'max_depth': [15, 20, 25, 30, 40, 50,\n",
       "                                                      60],\n",
       "                                        'min_child_weight': [1e-05, 0.001, 0.01,\n",
       "                                                             0.1, 1, 10.0,\n",
       "                                                             100.0, 1000.0,\n",
       "                                                             10000.0],\n",
       "                                        'n_estimators': [100, 200, 250, 300,\n",
       "                                                         350, 400],\n",
       "                                        'num_leaves': [5, 10, 15, 20, 25, 30],\n",
       "                                        'reg_alpha': [0, 0.1, 1, 2, 5, 7, 10,\n",
       "                                                      50, 100],\n",
       "                                        'reg_lambda': [0, 0.1, 1, 5, 10, 20, 50,\n",
       "                                                       100]},\n",
       "                   pre_dispatch='2*n_jobs', random_state=42, refit=True,\n",
       "                   return_train_score=False, scoring=None, verbose=2)"
      ]
     },
     "execution_count": 17,
     "metadata": {},
     "output_type": "execute_result"
    }
   ],
   "source": [
    "modelo = lgb.LGBMRegressor(learning_rate = 0.5)\n",
    "\n",
    "inicio = time.time()\n",
    "\n",
    "\n",
    "modelo_random = RandomizedSearchCV(estimator = modelo, param_distributions = hiperparametros, n_iter = MAX_ITER, cv = 3, verbose=2, random_state=42, n_jobs = -1)\n",
    "\n",
    "fin = time.time()\n",
    "\n",
    "modelo_random.fit(X_train, y_train)"
   ]
  },
  {
   "cell_type": "code",
   "execution_count": 18,
   "metadata": {},
   "outputs": [
    {
     "name": "stdout",
     "output_type": "stream",
     "text": [
      "El tuneo tardó: 0.0 minutos.\n"
     ]
    }
   ],
   "source": [
    "print(\"El tuneo tardó: {} minutos.\".format((fin - inicio) / 60))"
   ]
  },
  {
   "cell_type": "code",
   "execution_count": 19,
   "metadata": {},
   "outputs": [
    {
     "name": "stdout",
     "output_type": "stream",
     "text": [
      "Mejores parámetros:\n",
      "{'reg_lambda': 1, 'reg_alpha': 7, 'num_leaves': 30, 'n_estimators': 400, 'min_child_weight': 1000.0, 'max_depth': 50, 'learning_rate': 0.3}\n"
     ]
    }
   ],
   "source": [
    "print(\"Mejores parámetros:\")\n",
    "print(modelo_random.best_params_)"
   ]
  },
  {
   "cell_type": "code",
   "execution_count": 20,
   "metadata": {},
   "outputs": [],
   "source": [
    "mejores_hiperparametros = modelo_random.best_params_"
   ]
  },
  {
   "cell_type": "code",
   "execution_count": 21,
   "metadata": {},
   "outputs": [
    {
     "data": {
      "text/plain": [
       "LGBMRegressor(boosting_type='gbdt', class_weight=None, colsample_bytree=1.0,\n",
       "              importance_type='split', learning_rate=0.3, max_depth=50,\n",
       "              min_child_samples=20, min_child_weight=1000.0, min_split_gain=0.0,\n",
       "              n_estimators=400, n_jobs=-1, num_leaves=30, objective=None,\n",
       "              random_state=None, reg_alpha=0.0, reg_lambda=1, silent=True,\n",
       "              subsample=1.0, subsample_for_bin=200000, subsample_freq=0)"
      ]
     },
     "execution_count": 21,
     "metadata": {},
     "output_type": "execute_result"
    }
   ],
   "source": [
    "mejor_lgb = lgb.LGBMRegressor(reg_lambda = mejores_hiperparametros[\"reg_lambda\"],\n",
    "                              num_leaves = mejores_hiperparametros[\"num_leaves\"],\n",
    "                              n_estimators = mejores_hiperparametros[\"n_estimators\"],\n",
    "                              min_child_weight = mejores_hiperparametros[\"min_child_weight\"],\n",
    "                              max_depth = mejores_hiperparametros[\"max_depth\"],\n",
    "                              learning_rate = mejores_hiperparametros[\"learning_rate\"])\n",
    "                                    \n",
    "mejor_lgb.fit(X_train, y_train)"
   ]
  },
  {
   "cell_type": "code",
   "execution_count": 22,
   "metadata": {},
   "outputs": [
    {
     "name": "stdout",
     "output_type": "stream",
     "text": [
      "Performance del modelo:\n",
      "Average Error: 582670.1109 degrees.\n",
      "Accuracy = 70.65%.\n"
     ]
    },
    {
     "data": {
      "text/plain": [
       "70.65210307356402"
      ]
     },
     "execution_count": 22,
     "metadata": {},
     "output_type": "execute_result"
    }
   ],
   "source": [
    "evaluar_rf(mejor_lgb, X_test, y_test)"
   ]
  },
  {
   "cell_type": "code",
   "execution_count": 23,
   "metadata": {},
   "outputs": [],
   "source": [
    "y_pred = mejor_lgb.predict(test)"
   ]
  },
  {
   "cell_type": "code",
   "execution_count": 24,
   "metadata": {},
   "outputs": [],
   "source": [
    "df = pd.DataFrame({\"id\": test.index, \"target\": y_pred})"
   ]
  },
  {
   "cell_type": "code",
   "execution_count": 28,
   "metadata": {},
   "outputs": [],
   "source": [
    "filename = 'LightLGB_06.csv'\n",
    "\n",
    "df.to_csv(filename,index=False)"
   ]
  },
  {
   "cell_type": "code",
   "execution_count": null,
   "metadata": {},
   "outputs": [],
   "source": []
  }
 ],
 "metadata": {
  "kernelspec": {
   "display_name": "Python 3",
   "language": "python",
   "name": "python3"
  },
  "language_info": {
   "codemirror_mode": {
    "name": "ipython",
    "version": 3
   },
   "file_extension": ".py",
   "mimetype": "text/x-python",
   "name": "python",
   "nbconvert_exporter": "python",
   "pygments_lexer": "ipython3",
   "version": "3.7.3"
  }
 },
 "nbformat": 4,
 "nbformat_minor": 2
}
