{
 "cells": [
  {
   "cell_type": "markdown",
   "metadata": {},
   "source": [
    "# Meta Data Navent Modificado"
   ]
  },
  {
   "cell_type": "markdown",
   "metadata": {},
   "source": [
    "## ¿Que habia basicamente en los set de datos?\n",
    "El dataset son propiedades en `venta` en México entre `2012` y `2016`, valuadas en `pesos mexicanos`. El csv de train tiene `240K` filas y `22` columnas. El csv de test tiene `60K` filas (y 21 columnas). La columna a predecir es `precio`."
   ]
  },
  {
   "cell_type": "markdown",
   "metadata": {},
   "source": [
    "## Imports "
   ]
  },
  {
   "cell_type": "markdown",
   "metadata": {},
   "source": [
    "#### Import common "
   ]
  },
  {
   "cell_type": "code",
   "execution_count": 38,
   "metadata": {},
   "outputs": [],
   "source": [
    "import common.common_machine_learning as common"
   ]
  },
  {
   "cell_type": "markdown",
   "metadata": {},
   "source": [
    "#### Import pandas & numpy"
   ]
  },
  {
   "cell_type": "code",
   "execution_count": 39,
   "metadata": {},
   "outputs": [],
   "source": [
    "# Importamos librerías de análisis de datos\n",
    "%matplotlib inline\n",
    "import numpy as np\n",
    "import pandas as pd\n",
    "pd.set_option('display.max_columns', 100)\n",
    "pd.set_option('display.float_format', '{:.2f}'.format)\n",
    "pd.set_option('mode.chained_assignment', None) # Deshabilita SettingWithCopyWarning. Ojo."
   ]
  },
  {
   "cell_type": "markdown",
   "metadata": {},
   "source": [
    "#### Import sklearn "
   ]
  },
  {
   "cell_type": "code",
   "execution_count": 40,
   "metadata": {},
   "outputs": [],
   "source": [
    "# Importamos utilidades y modelos de sklearn\n",
    "from sklearn.impute import SimpleImputer\n",
    "from sklearn.model_selection import train_test_split\n",
    "from sklearn.dummy import DummyRegressor\n",
    "from sklearn.linear_model import LinearRegression\n",
    "from sklearn.tree import DecisionTreeRegressor\n",
    "from sklearn.metrics import mean_absolute_error"
   ]
  },
  {
   "cell_type": "markdown",
   "metadata": {},
   "source": [
    "### Set de datos a usar "
   ]
  },
  {
   "cell_type": "code",
   "execution_count": 41,
   "metadata": {},
   "outputs": [],
   "source": [
    "train = common.cargar_set_optimizado('sets_de_datos/train.csv')"
   ]
  },
  {
   "cell_type": "markdown",
   "metadata": {},
   "source": [
    "## Metrica visualmente conveniente : RMSLE "
   ]
  },
  {
   "cell_type": "markdown",
   "metadata": {},
   "source": [
    "## Root Mean Squared Logarithmic Error\n",
    "$\n",
    "\\huge\n",
    "\\begin{align}\n",
    "RMSLE = \\sqrt{\\frac{\\sum((log(\\text{actual}+1) - log(\\text{pred}+1))^2}{n}}\n",
    "\\end{align}\n",
    "$"
   ]
  },
  {
   "cell_type": "code",
   "execution_count": 74,
   "metadata": {},
   "outputs": [],
   "source": [
    "from common.metrica import RMSLE"
   ]
  },
  {
   "cell_type": "markdown",
   "metadata": {},
   "source": [
    "#### Intuición detrás de RMSLE"
   ]
  },
  {
   "cell_type": "markdown",
   "metadata": {},
   "source": [
    "La razón para usar error logarítmico es que relativiza el error al valor absoluto considerado. Por ejemplo, consideremos un error absoluto de 1000 sobre un valor absoluto de 10 y uno de 100.000:"
   ]
  },
  {
   "cell_type": "code",
   "execution_count": 43,
   "metadata": {},
   "outputs": [
    {
     "name": "stdout",
     "output_type": "stream",
     "text": [
      "Error relativo grande - Abs: 1000.0000, Log:4.5208\n",
      "Error relativo chico  - Abs: 1000.0000, Log:0.0010\n"
     ]
    }
   ],
   "source": [
    "actual_1 = 10\n",
    "actual_2 = 1000000\n",
    "error = 1000\n",
    "\n",
    "abs_error_1 = np.abs(actual_1 - (actual_1 + error))\n",
    "abs_error_2 = np.abs(actual_2 - (actual_2 + error))\n",
    "\n",
    "log_error_1 = np.abs(np.log(actual_1 + 1) - np.log(actual_1 + error + 1))\n",
    "log_error_2 = np.abs(np.log(actual_2 + 1) - np.log(actual_2 + error + 1))\n",
    "\n",
    "print(f\"Error relativo grande - Abs: {abs_error_1:.4f}, Log:{log_error_1:.4f}\")\n",
    "print(f\"Error relativo chico  - Abs: {abs_error_2:.4f}, Log:{log_error_2:.4f}\")"
   ]
  },
  {
   "cell_type": "markdown",
   "metadata": {},
   "source": [
    "## Métrica Competencia: Mean Absolute Error"
   ]
  },
  {
   "cell_type": "code",
   "execution_count": 73,
   "metadata": {},
   "outputs": [],
   "source": [
    "from common.metrica import MAE"
   ]
  },
  {
   "cell_type": "markdown",
   "metadata": {},
   "source": [
    "# Modelos baseline"
   ]
  },
  {
   "cell_type": "markdown",
   "metadata": {},
   "source": [
    "## Baseline 1: [DummyRegressor](http://scikit-learn.org/stable/modules/model_evaluation.html#dummy-estimators)"
   ]
  },
  {
   "cell_type": "markdown",
   "metadata": {},
   "source": [
    "Un DummyRegressor(strategy='mean') predice el precio promedio del train set (como constante), no es verdaderamente útil, pero sirve como baseline para darse una idea del bottom-line de valores de predicción"
   ]
  },
  {
   "cell_type": "markdown",
   "metadata": {},
   "source": [
    "### Preprocesamiento"
   ]
  },
  {
   "cell_type": "code",
   "execution_count": 45,
   "metadata": {},
   "outputs": [
    {
     "name": "stdout",
     "output_type": "stream",
     "text": [
      "Train de df(train.csv) shapes: X=(180000, 14) y=(180000,)\n",
      "Test de df(train.csv) shapes: X=(60000, 14)  y=(60000,)\n"
     ]
    }
   ],
   "source": [
    "# Tiramos todas las columnas no numéricas para que sklearn nos acepte el dataframe. \n",
    "# Igualmente, el DummyRegressor no va a utilizar ninguna más que el precio \n",
    "drop_cols = ['fecha', 'ciudad', 'idzona', 'tipodepropiedad', 'provincia', 'titulo', 'descripcion', 'direccion']\n",
    "X = train.drop(['precio'] + drop_cols, axis=1)\n",
    "y = train['precio']\n",
    "train_X_train, train_X_test, train_y_train, train_y_test = train_test_split(X, y, test_size=0.25, random_state=1)\n",
    "print(f\"Train de df(train.csv) shapes: X={train_X_train.shape} y={train_y_train.shape}\")\n",
    "print(f\"Test de df(train.csv) shapes: X={train_X_test.shape}  y={train_y_test.shape}\")"
   ]
  },
  {
   "cell_type": "markdown",
   "metadata": {},
   "source": [
    "### Modelo"
   ]
  },
  {
   "cell_type": "code",
   "execution_count": 46,
   "metadata": {},
   "outputs": [],
   "source": [
    "dummy = DummyRegressor(strategy='mean').fit(train_X_train, train_y_train)\n",
    "pred = dummy.predict(train_X_test)"
   ]
  },
  {
   "cell_type": "code",
   "execution_count": 47,
   "metadata": {},
   "outputs": [
    {
     "name": "stdout",
     "output_type": "stream",
     "text": [
      "Promedio de precios del train de train set: 2536987.5\n",
      "Primeras 3 predicciones: [2536913.2 2536913.2 2536913.2]\n"
     ]
    }
   ],
   "source": [
    "print(f\"Promedio de precios del train de train set: {train_y_train.mean()}\")\n",
    "print(f\"Primeras 3 predicciones: {pred[:3]}\")"
   ]
  },
  {
   "cell_type": "code",
   "execution_count": 48,
   "metadata": {},
   "outputs": [
    {
     "name": "stdout",
     "output_type": "stream",
     "text": [
      "RMSLE DummyRegressor (train): 0.90225\n",
      "(Error que se comete al predecir la particion de entrenamiento, es decir, datos usados para entrenar el predictor)\n",
      "RMSLE DummyRegressor: 0.90315\n",
      "(Error que se comete al predecir la particion de test, es decir, nuevos datos)\n"
     ]
    }
   ],
   "source": [
    "dummy_rmsle = RMSLE(train_y_test, pred)\n",
    "dummy_rmsle_train = RMSLE(train_y_train, dummy.predict(train_X_train))\n",
    "print(f\"RMSLE DummyRegressor (train): {dummy_rmsle_train:.5f}\")\n",
    "print('(Error que se comete al predecir la particion de entrenamiento, es decir, datos usados para entrenar el predictor)')\n",
    "print(f\"RMSLE DummyRegressor: {dummy_rmsle:.5f}\")\n",
    "print('(Error que se comete al predecir la particion de test, es decir, nuevos datos)')"
   ]
  },
  {
   "cell_type": "markdown",
   "metadata": {},
   "source": [
    "#### RMSLE no tiene cota superior, asi que 0.903 no es tan malo"
   ]
  },
  {
   "cell_type": "code",
   "execution_count": 49,
   "metadata": {},
   "outputs": [
    {
     "name": "stdout",
     "output_type": "stream",
     "text": [
      "MAE DummyRegressor (train): 1612538.75000\n",
      "(Error que se comete al predecir la particion de entrenamiento, es decir, datos usados para entrenar el predictor)\n",
      "MAE DummyRegressor: 1602571.25000\n",
      "(Error que se comete al predecir la particion de test, es decir, nuevos datos)\n"
     ]
    }
   ],
   "source": [
    "dummy_mae = MAE(train_y_test, pred)\n",
    "dummy_mae_train = MAE(train_y_train, dummy.predict(train_X_train))\n",
    "print(f\"MAE DummyRegressor (train): {dummy_mae_train:.5f}\")\n",
    "print('(Error que se comete al predecir la particion de entrenamiento, es decir, datos usados para entrenar el predictor)')\n",
    "print(f\"MAE DummyRegressor: {dummy_mae:.5f}\")\n",
    "print('(Error que se comete al predecir la particion de test, es decir, nuevos datos)')"
   ]
  },
  {
   "cell_type": "code",
   "execution_count": 50,
   "metadata": {},
   "outputs": [
    {
     "name": "stdout",
     "output_type": "stream",
     "text": [
      "Si predijesemos todo 1 el RMSLE sería: 13.7364\n",
      "Si predijesemos un valor altísimo, sería: 29.3569\n"
     ]
    }
   ],
   "source": [
    "rmsle_1 = RMSLE(train_y_test, np.array([1 for _ in range(len(train_y_test))]))\n",
    "rmsle_inf = RMSLE(train_y_test, np.array([9999999999999999999 for _ in range(len(train_y_test))]))\n",
    "print(f\"Si predijesemos todo 1 el RMSLE sería: {rmsle_1:.4f}\")\n",
    "print(f\"Si predijesemos un valor altísimo, sería: {rmsle_inf:.4f}\")"
   ]
  },
  {
   "cell_type": "code",
   "execution_count": 51,
   "metadata": {},
   "outputs": [
    {
     "name": "stdout",
     "output_type": "stream",
     "text": [
      "Si predijesemos todo 1 el MAE sería: 2512596.5000\n",
      "Si predijesemos un valor altísimo, sería: 9999999999984371712.0000\n"
     ]
    }
   ],
   "source": [
    "mae_1 = MAE(train_y_test, np.array([1 for _ in range(len(train_y_test))]))\n",
    "mae_inf = MAE(train_y_test, np.array([9999999999999999999 for _ in range(len(train_y_test))]))\n",
    "print(f\"Si predijesemos todo 1 el MAE sería: {mae_1:.4f}\")\n",
    "print(f\"Si predijesemos un valor altísimo, sería: {mae_inf:.4f}\")"
   ]
  },
  {
   "cell_type": "markdown",
   "metadata": {},
   "source": [
    "## Baseline 2: Regresión lineal sobre metros cubiertos"
   ]
  },
  {
   "cell_type": "markdown",
   "metadata": {},
   "source": [
    "### Preprocesamiento"
   ]
  },
  {
   "cell_type": "code",
   "execution_count": 52,
   "metadata": {},
   "outputs": [
    {
     "name": "stdout",
     "output_type": "stream",
     "text": [
      "Train de df(train.csv) shapes: X=(180000, 1) y=(180000,)\n",
      "Test de df(train.csv) shapes: X=(60000, 1)  y=(60000,)\n"
     ]
    }
   ],
   "source": [
    "X = train[['metroscubiertos']]\n",
    "y = train['precio']\n",
    "train_X_train, train_X_test, train_y_train, train_y_test = train_test_split(X, y, test_size=0.25, random_state=1)\n",
    "print(f\"Train de df(train.csv) shapes: X={train_X_train.shape} y={train_y_train.shape}\")\n",
    "print(f\"Test de df(train.csv) shapes: X={train_X_test.shape}  y={train_y_test.shape}\")"
   ]
  },
  {
   "cell_type": "markdown",
   "metadata": {},
   "source": [
    "#### Imputación de nulls\n",
    "Un [Imputer](http://scikit-learn.org/stable/modules/preprocessing.html#imputation) (\"imputador\") es una manera de rellenar los nulls  un poco más sofisticada que reemplazarlos por 0 o por -1 (o tirarlos).\n",
    "\n",
    "En este caso, reemplazamos los nulls por el valor promedio de las muestras existentes, pero podríamos reemplazarlos por otro valor (la moda, la mediana, etc).\n",
    "\n",
    "Acá imputamos los metros cubiertos.\n",
    "\n",
    "**OJO!** Al tomar el promedio (`fittear`) hay que hacerlo sobre el train set, sino estaríamos leakeando información!"
   ]
  },
  {
   "cell_type": "code",
   "execution_count": 53,
   "metadata": {},
   "outputs": [],
   "source": [
    "imp_mean = SimpleImputer()\n",
    "train_X_train['metroscubiertos'] = imp_mean.fit_transform(train_X_train[['metroscubiertos']])\n",
    "train_X_test['metroscubiertos'] = imp_mean.transform(train_X_test[['metroscubiertos']])"
   ]
  },
  {
   "cell_type": "code",
   "execution_count": 54,
   "metadata": {
    "scrolled": false
   },
   "outputs": [
    {
     "data": {
      "text/plain": [
       "metroscubiertos    0\n",
       "dtype: int64"
      ]
     },
     "execution_count": 54,
     "metadata": {},
     "output_type": "execute_result"
    }
   ],
   "source": [
    "train_X_test.isnull().sum()"
   ]
  },
  {
   "cell_type": "markdown",
   "metadata": {},
   "source": [
    "### Modelo"
   ]
  },
  {
   "cell_type": "code",
   "execution_count": 55,
   "metadata": {},
   "outputs": [],
   "source": [
    "linear_model = LinearRegression().fit(train_X_train, train_y_train)\n",
    "pred = linear_model.predict(train_X_test)"
   ]
  },
  {
   "cell_type": "code",
   "execution_count": 56,
   "metadata": {},
   "outputs": [
    {
     "name": "stdout",
     "output_type": "stream",
     "text": [
      "RMSLE LinearRegression (train): 0.65673\n",
      "RMSLE LinearRegression: 0.65657\n"
     ]
    }
   ],
   "source": [
    "# El modelo de regresion lineal con una variable obtiene RMSLE=0.65\n",
    "linear_rmsle_train = RMSLE(train_y_train, linear_model.predict(train_X_train))\n",
    "linear_rmsle = RMSLE(train_y_test, pred)\n",
    "print(f\"RMSLE LinearRegression (train): {linear_rmsle_train:.5f}\")\n",
    "print(f\"RMSLE LinearRegression: {linear_rmsle:.5f}\")"
   ]
  },
  {
   "cell_type": "code",
   "execution_count": 57,
   "metadata": {},
   "outputs": [
    {
     "name": "stdout",
     "output_type": "stream",
     "text": [
      "MAE LinearRegression (train): 1202603.98514\n",
      "MAE LinearRegression: 1191167.10603\n"
     ]
    }
   ],
   "source": [
    "# El modelo de regresion lineal con una variable obtiene RMSLE=0.65\n",
    "linear_mae_train = MAE(train_y_train, linear_model.predict(train_X_train))\n",
    "linear_mae = MAE(train_y_test, pred)\n",
    "print(f\"MAE LinearRegression (train): {linear_mae_train:.5f}\")\n",
    "print(f\"MAE LinearRegression: {linear_mae:.5f}\")"
   ]
  },
  {
   "cell_type": "markdown",
   "metadata": {},
   "source": [
    "## Baseline 3: Árbol de decisión sobre varios features"
   ]
  },
  {
   "cell_type": "markdown",
   "metadata": {},
   "source": [
    "### Preprocesamiento"
   ]
  },
  {
   "cell_type": "code",
   "execution_count": 58,
   "metadata": {},
   "outputs": [
    {
     "name": "stdout",
     "output_type": "stream",
     "text": [
      "Columnas (16): ['id', 'tipodepropiedad', 'ciudad', 'provincia', 'antiguedad', 'habitaciones', 'garages', 'banos', 'metroscubiertos', 'metrostotales', 'gimnasio', 'usosmultiples', 'piscina', 'escuelascercanas', 'centroscomercialescercanos', 'precio']\n"
     ]
    },
    {
     "data": {
      "text/html": [
       "<div>\n",
       "<style scoped>\n",
       "    .dataframe tbody tr th:only-of-type {\n",
       "        vertical-align: middle;\n",
       "    }\n",
       "\n",
       "    .dataframe tbody tr th {\n",
       "        vertical-align: top;\n",
       "    }\n",
       "\n",
       "    .dataframe thead th {\n",
       "        text-align: right;\n",
       "    }\n",
       "</style>\n",
       "<table border=\"1\" class=\"dataframe\">\n",
       "  <thead>\n",
       "    <tr style=\"text-align: right;\">\n",
       "      <th></th>\n",
       "      <th>id</th>\n",
       "      <th>tipodepropiedad</th>\n",
       "      <th>ciudad</th>\n",
       "      <th>provincia</th>\n",
       "      <th>antiguedad</th>\n",
       "      <th>habitaciones</th>\n",
       "      <th>garages</th>\n",
       "      <th>banos</th>\n",
       "      <th>metroscubiertos</th>\n",
       "      <th>metrostotales</th>\n",
       "      <th>gimnasio</th>\n",
       "      <th>usosmultiples</th>\n",
       "      <th>piscina</th>\n",
       "      <th>escuelascercanas</th>\n",
       "      <th>centroscomercialescercanos</th>\n",
       "      <th>precio</th>\n",
       "    </tr>\n",
       "  </thead>\n",
       "  <tbody>\n",
       "    <tr>\n",
       "      <th>0</th>\n",
       "      <td>254099</td>\n",
       "      <td>Apartamento</td>\n",
       "      <td>Benito Juárez</td>\n",
       "      <td>Distrito Federal</td>\n",
       "      <td>nan</td>\n",
       "      <td>2.00</td>\n",
       "      <td>1.00</td>\n",
       "      <td>2.00</td>\n",
       "      <td>80.00</td>\n",
       "      <td>80.00</td>\n",
       "      <td>False</td>\n",
       "      <td>False</td>\n",
       "      <td>False</td>\n",
       "      <td>False</td>\n",
       "      <td>False</td>\n",
       "      <td>2273000.00</td>\n",
       "    </tr>\n",
       "    <tr>\n",
       "      <th>1</th>\n",
       "      <td>53461</td>\n",
       "      <td>Casa en condominio</td>\n",
       "      <td>La Magdalena Contreras</td>\n",
       "      <td>Distrito Federal</td>\n",
       "      <td>10.00</td>\n",
       "      <td>3.00</td>\n",
       "      <td>2.00</td>\n",
       "      <td>2.00</td>\n",
       "      <td>268.00</td>\n",
       "      <td>180.00</td>\n",
       "      <td>False</td>\n",
       "      <td>False</td>\n",
       "      <td>False</td>\n",
       "      <td>True</td>\n",
       "      <td>True</td>\n",
       "      <td>3600000.00</td>\n",
       "    </tr>\n",
       "    <tr>\n",
       "      <th>2</th>\n",
       "      <td>247984</td>\n",
       "      <td>Casa</td>\n",
       "      <td>Tonalá</td>\n",
       "      <td>Jalisco</td>\n",
       "      <td>5.00</td>\n",
       "      <td>3.00</td>\n",
       "      <td>2.00</td>\n",
       "      <td>2.00</td>\n",
       "      <td>144.00</td>\n",
       "      <td>166.00</td>\n",
       "      <td>False</td>\n",
       "      <td>False</td>\n",
       "      <td>False</td>\n",
       "      <td>False</td>\n",
       "      <td>False</td>\n",
       "      <td>1200000.00</td>\n",
       "    </tr>\n",
       "    <tr>\n",
       "      <th>3</th>\n",
       "      <td>209067</td>\n",
       "      <td>Casa</td>\n",
       "      <td>Zinacantepec</td>\n",
       "      <td>Edo. de México</td>\n",
       "      <td>1.00</td>\n",
       "      <td>2.00</td>\n",
       "      <td>1.00</td>\n",
       "      <td>1.00</td>\n",
       "      <td>63.00</td>\n",
       "      <td>67.00</td>\n",
       "      <td>False</td>\n",
       "      <td>False</td>\n",
       "      <td>False</td>\n",
       "      <td>True</td>\n",
       "      <td>True</td>\n",
       "      <td>650000.00</td>\n",
       "    </tr>\n",
       "    <tr>\n",
       "      <th>4</th>\n",
       "      <td>185997</td>\n",
       "      <td>Apartamento</td>\n",
       "      <td>Zapopan</td>\n",
       "      <td>Jalisco</td>\n",
       "      <td>10.00</td>\n",
       "      <td>2.00</td>\n",
       "      <td>1.00</td>\n",
       "      <td>1.00</td>\n",
       "      <td>95.00</td>\n",
       "      <td>95.00</td>\n",
       "      <td>False</td>\n",
       "      <td>False</td>\n",
       "      <td>False</td>\n",
       "      <td>False</td>\n",
       "      <td>False</td>\n",
       "      <td>1150000.00</td>\n",
       "    </tr>\n",
       "  </tbody>\n",
       "</table>\n",
       "</div>"
      ],
      "text/plain": [
       "       id     tipodepropiedad                  ciudad         provincia  \\\n",
       "0  254099         Apartamento           Benito Juárez  Distrito Federal   \n",
       "1   53461  Casa en condominio  La Magdalena Contreras  Distrito Federal   \n",
       "2  247984                Casa                  Tonalá           Jalisco   \n",
       "3  209067                Casa            Zinacantepec    Edo. de México   \n",
       "4  185997         Apartamento                 Zapopan           Jalisco   \n",
       "\n",
       "   antiguedad  habitaciones  garages  banos  metroscubiertos  metrostotales  \\\n",
       "0         nan          2.00     1.00   2.00            80.00          80.00   \n",
       "1       10.00          3.00     2.00   2.00           268.00         180.00   \n",
       "2        5.00          3.00     2.00   2.00           144.00         166.00   \n",
       "3        1.00          2.00     1.00   1.00            63.00          67.00   \n",
       "4       10.00          2.00     1.00   1.00            95.00          95.00   \n",
       "\n",
       "   gimnasio  usosmultiples  piscina  escuelascercanas  \\\n",
       "0     False          False    False             False   \n",
       "1     False          False    False              True   \n",
       "2     False          False    False             False   \n",
       "3     False          False    False              True   \n",
       "4     False          False    False             False   \n",
       "\n",
       "   centroscomercialescercanos     precio  \n",
       "0                       False 2273000.00  \n",
       "1                        True 3600000.00  \n",
       "2                       False 1200000.00  \n",
       "3                        True  650000.00  \n",
       "4                       False 1150000.00  "
      ]
     },
     "execution_count": 58,
     "metadata": {},
     "output_type": "execute_result"
    }
   ],
   "source": [
    "# Droppeamos strings y columnas complejas y repetidas\n",
    "drop_cols = ['titulo', 'descripcion', 'direccion', 'lat', 'lng', 'fecha', 'idzona']\n",
    "train_simple = train.drop(drop_cols, axis=1).copy()\n",
    "print(f\"Columnas ({len(train_simple.columns)}): {train_simple.columns.tolist()}\")\n",
    "train_simple.head()"
   ]
  },
  {
   "cell_type": "markdown",
   "metadata": {},
   "source": [
    "#### Observamos nulls y de features categóricos"
   ]
  },
  {
   "cell_type": "code",
   "execution_count": 59,
   "metadata": {},
   "outputs": [
    {
     "data": {
      "text/plain": [
       "id                                0\n",
       "tipodepropiedad                  46\n",
       "ciudad                          372\n",
       "provincia                       155\n",
       "antiguedad                    43555\n",
       "habitaciones                  22471\n",
       "garages                       37765\n",
       "banos                         26221\n",
       "metroscubiertos               17400\n",
       "metrostotales                 51467\n",
       "gimnasio                          0\n",
       "usosmultiples                     0\n",
       "piscina                           0\n",
       "escuelascercanas                  0\n",
       "centroscomercialescercanos        0\n",
       "precio                            0\n",
       "dtype: int64"
      ]
     },
     "metadata": {},
     "output_type": "display_data"
    },
    {
     "name": "stdout",
     "output_type": "stream",
     "text": [
      "['antiguedad', 'habitaciones', 'metroscubiertos', 'garages', 'banos', 'metrostotales']\n"
     ]
    }
   ],
   "source": [
    "display(train_simple.isnull().sum())\n",
    "numeric_columns_with_nulls = list(set(train_simple.columns[train_simple.isnull().sum() > 0].tolist()) \\\n",
    "                                  - set(['tipodepropiedad', 'ciudad', 'provincia']))\n",
    "print(numeric_columns_with_nulls)"
   ]
  },
  {
   "cell_type": "markdown",
   "metadata": {},
   "source": [
    "#### One-hot-encodeamos los categóricos [`tipodepropiedad`, `ciudad` y `provincia`] sobre todo el dataset"
   ]
  },
  {
   "cell_type": "code",
   "execution_count": 60,
   "metadata": {},
   "outputs": [
    {
     "name": "stdout",
     "output_type": "stream",
     "text": [
      "Cantidad de columnas después del one-hot-encoding: 947\n"
     ]
    },
    {
     "data": {
      "text/html": [
       "<div>\n",
       "<style scoped>\n",
       "    .dataframe tbody tr th:only-of-type {\n",
       "        vertical-align: middle;\n",
       "    }\n",
       "\n",
       "    .dataframe tbody tr th {\n",
       "        vertical-align: top;\n",
       "    }\n",
       "\n",
       "    .dataframe thead th {\n",
       "        text-align: right;\n",
       "    }\n",
       "</style>\n",
       "<table border=\"1\" class=\"dataframe\">\n",
       "  <thead>\n",
       "    <tr style=\"text-align: right;\">\n",
       "      <th></th>\n",
       "      <th>id</th>\n",
       "      <th>antiguedad</th>\n",
       "      <th>habitaciones</th>\n",
       "      <th>garages</th>\n",
       "      <th>banos</th>\n",
       "      <th>metroscubiertos</th>\n",
       "      <th>metrostotales</th>\n",
       "      <th>gimnasio</th>\n",
       "      <th>usosmultiples</th>\n",
       "      <th>piscina</th>\n",
       "      <th>escuelascercanas</th>\n",
       "      <th>centroscomercialescercanos</th>\n",
       "      <th>precio</th>\n",
       "      <th>tipodepropiedad_Apartamento</th>\n",
       "      <th>tipodepropiedad_Bodega comercial</th>\n",
       "      <th>tipodepropiedad_Casa</th>\n",
       "      <th>tipodepropiedad_Casa en condominio</th>\n",
       "      <th>tipodepropiedad_Casa uso de suelo</th>\n",
       "      <th>tipodepropiedad_Departamento Compartido</th>\n",
       "      <th>tipodepropiedad_Duplex</th>\n",
       "      <th>tipodepropiedad_Edificio</th>\n",
       "      <th>tipodepropiedad_Garage</th>\n",
       "      <th>tipodepropiedad_Hospedaje</th>\n",
       "      <th>tipodepropiedad_Huerta</th>\n",
       "      <th>tipodepropiedad_Inmuebles productivos urbanos</th>\n",
       "      <th>tipodepropiedad_Local Comercial</th>\n",
       "      <th>tipodepropiedad_Local en centro comercial</th>\n",
       "      <th>tipodepropiedad_Lote</th>\n",
       "      <th>tipodepropiedad_Nave industrial</th>\n",
       "      <th>tipodepropiedad_Oficina comercial</th>\n",
       "      <th>tipodepropiedad_Otros</th>\n",
       "      <th>tipodepropiedad_Quinta Vacacional</th>\n",
       "      <th>tipodepropiedad_Rancho</th>\n",
       "      <th>tipodepropiedad_Terreno</th>\n",
       "      <th>tipodepropiedad_Terreno comercial</th>\n",
       "      <th>tipodepropiedad_Terreno industrial</th>\n",
       "      <th>tipodepropiedad_Villa</th>\n",
       "      <th>tipodepropiedad_nan</th>\n",
       "      <th>ciudad_Abalá</th>\n",
       "      <th>ciudad_Abasolo</th>\n",
       "      <th>ciudad_Abejones</th>\n",
       "      <th>ciudad_Acajete</th>\n",
       "      <th>ciudad_Acambay</th>\n",
       "      <th>ciudad_Acaponeta</th>\n",
       "      <th>ciudad_Acapulco de Juárez</th>\n",
       "      <th>ciudad_Acateno</th>\n",
       "      <th>ciudad_Acatic</th>\n",
       "      <th>ciudad_Acatzingo</th>\n",
       "      <th>ciudad_Acayucan</th>\n",
       "      <th>ciudad_Acolman</th>\n",
       "      <th>...</th>\n",
       "      <th>ciudad_Zimapán</th>\n",
       "      <th>ciudad_Zimatlán de Alvarez</th>\n",
       "      <th>ciudad_Zinacantepec</th>\n",
       "      <th>ciudad_Zinapécuaro</th>\n",
       "      <th>ciudad_Zináparo</th>\n",
       "      <th>ciudad_ZirAndaro</th>\n",
       "      <th>ciudad_Zitácuaro</th>\n",
       "      <th>ciudad_Zumpahuacán</th>\n",
       "      <th>ciudad_Zumpango</th>\n",
       "      <th>ciudad_otra</th>\n",
       "      <th>ciudad_ácatlán</th>\n",
       "      <th>ciudad_ácatlán de Juárez</th>\n",
       "      <th>ciudad_ácaxochitlán</th>\n",
       "      <th>ciudad_ácámbaro</th>\n",
       "      <th>ciudad_áutlán de Navarro</th>\n",
       "      <th>ciudad_áyotlán</th>\n",
       "      <th>ciudad_nan</th>\n",
       "      <th>provincia_Aguascalientes</th>\n",
       "      <th>provincia_Baja California Norte</th>\n",
       "      <th>provincia_Baja California Sur</th>\n",
       "      <th>provincia_Campeche</th>\n",
       "      <th>provincia_Chiapas</th>\n",
       "      <th>provincia_Chihuahua</th>\n",
       "      <th>provincia_Coahuila</th>\n",
       "      <th>provincia_Colima</th>\n",
       "      <th>provincia_Distrito Federal</th>\n",
       "      <th>provincia_Durango</th>\n",
       "      <th>provincia_Edo. de México</th>\n",
       "      <th>provincia_Guanajuato</th>\n",
       "      <th>provincia_Guerrero</th>\n",
       "      <th>provincia_Hidalgo</th>\n",
       "      <th>provincia_Jalisco</th>\n",
       "      <th>provincia_Michoacán</th>\n",
       "      <th>provincia_Morelos</th>\n",
       "      <th>provincia_Nayarit</th>\n",
       "      <th>provincia_Nuevo León</th>\n",
       "      <th>provincia_Oaxaca</th>\n",
       "      <th>provincia_Puebla</th>\n",
       "      <th>provincia_Querétaro</th>\n",
       "      <th>provincia_Quintana Roo</th>\n",
       "      <th>provincia_San luis Potosí</th>\n",
       "      <th>provincia_Sinaloa</th>\n",
       "      <th>provincia_Sonora</th>\n",
       "      <th>provincia_Tabasco</th>\n",
       "      <th>provincia_Tamaulipas</th>\n",
       "      <th>provincia_Tlaxcala</th>\n",
       "      <th>provincia_Veracruz</th>\n",
       "      <th>provincia_Yucatán</th>\n",
       "      <th>provincia_Zacatecas</th>\n",
       "      <th>provincia_nan</th>\n",
       "    </tr>\n",
       "  </thead>\n",
       "  <tbody>\n",
       "    <tr>\n",
       "      <th>0</th>\n",
       "      <td>254099</td>\n",
       "      <td>nan</td>\n",
       "      <td>2.00</td>\n",
       "      <td>1.00</td>\n",
       "      <td>2.00</td>\n",
       "      <td>80.00</td>\n",
       "      <td>80.00</td>\n",
       "      <td>False</td>\n",
       "      <td>False</td>\n",
       "      <td>False</td>\n",
       "      <td>False</td>\n",
       "      <td>False</td>\n",
       "      <td>2273000.00</td>\n",
       "      <td>1</td>\n",
       "      <td>0</td>\n",
       "      <td>0</td>\n",
       "      <td>0</td>\n",
       "      <td>0</td>\n",
       "      <td>0</td>\n",
       "      <td>0</td>\n",
       "      <td>0</td>\n",
       "      <td>0</td>\n",
       "      <td>0</td>\n",
       "      <td>0</td>\n",
       "      <td>0</td>\n",
       "      <td>0</td>\n",
       "      <td>0</td>\n",
       "      <td>0</td>\n",
       "      <td>0</td>\n",
       "      <td>0</td>\n",
       "      <td>0</td>\n",
       "      <td>0</td>\n",
       "      <td>0</td>\n",
       "      <td>0</td>\n",
       "      <td>0</td>\n",
       "      <td>0</td>\n",
       "      <td>0</td>\n",
       "      <td>0</td>\n",
       "      <td>0</td>\n",
       "      <td>0</td>\n",
       "      <td>0</td>\n",
       "      <td>0</td>\n",
       "      <td>0</td>\n",
       "      <td>0</td>\n",
       "      <td>0</td>\n",
       "      <td>0</td>\n",
       "      <td>0</td>\n",
       "      <td>0</td>\n",
       "      <td>0</td>\n",
       "      <td>0</td>\n",
       "      <td>...</td>\n",
       "      <td>0</td>\n",
       "      <td>0</td>\n",
       "      <td>0</td>\n",
       "      <td>0</td>\n",
       "      <td>0</td>\n",
       "      <td>0</td>\n",
       "      <td>0</td>\n",
       "      <td>0</td>\n",
       "      <td>0</td>\n",
       "      <td>0</td>\n",
       "      <td>0</td>\n",
       "      <td>0</td>\n",
       "      <td>0</td>\n",
       "      <td>0</td>\n",
       "      <td>0</td>\n",
       "      <td>0</td>\n",
       "      <td>0</td>\n",
       "      <td>0</td>\n",
       "      <td>0</td>\n",
       "      <td>0</td>\n",
       "      <td>0</td>\n",
       "      <td>0</td>\n",
       "      <td>0</td>\n",
       "      <td>0</td>\n",
       "      <td>0</td>\n",
       "      <td>1</td>\n",
       "      <td>0</td>\n",
       "      <td>0</td>\n",
       "      <td>0</td>\n",
       "      <td>0</td>\n",
       "      <td>0</td>\n",
       "      <td>0</td>\n",
       "      <td>0</td>\n",
       "      <td>0</td>\n",
       "      <td>0</td>\n",
       "      <td>0</td>\n",
       "      <td>0</td>\n",
       "      <td>0</td>\n",
       "      <td>0</td>\n",
       "      <td>0</td>\n",
       "      <td>0</td>\n",
       "      <td>0</td>\n",
       "      <td>0</td>\n",
       "      <td>0</td>\n",
       "      <td>0</td>\n",
       "      <td>0</td>\n",
       "      <td>0</td>\n",
       "      <td>0</td>\n",
       "      <td>0</td>\n",
       "      <td>0</td>\n",
       "    </tr>\n",
       "    <tr>\n",
       "      <th>1</th>\n",
       "      <td>53461</td>\n",
       "      <td>10.00</td>\n",
       "      <td>3.00</td>\n",
       "      <td>2.00</td>\n",
       "      <td>2.00</td>\n",
       "      <td>268.00</td>\n",
       "      <td>180.00</td>\n",
       "      <td>False</td>\n",
       "      <td>False</td>\n",
       "      <td>False</td>\n",
       "      <td>True</td>\n",
       "      <td>True</td>\n",
       "      <td>3600000.00</td>\n",
       "      <td>0</td>\n",
       "      <td>0</td>\n",
       "      <td>0</td>\n",
       "      <td>1</td>\n",
       "      <td>0</td>\n",
       "      <td>0</td>\n",
       "      <td>0</td>\n",
       "      <td>0</td>\n",
       "      <td>0</td>\n",
       "      <td>0</td>\n",
       "      <td>0</td>\n",
       "      <td>0</td>\n",
       "      <td>0</td>\n",
       "      <td>0</td>\n",
       "      <td>0</td>\n",
       "      <td>0</td>\n",
       "      <td>0</td>\n",
       "      <td>0</td>\n",
       "      <td>0</td>\n",
       "      <td>0</td>\n",
       "      <td>0</td>\n",
       "      <td>0</td>\n",
       "      <td>0</td>\n",
       "      <td>0</td>\n",
       "      <td>0</td>\n",
       "      <td>0</td>\n",
       "      <td>0</td>\n",
       "      <td>0</td>\n",
       "      <td>0</td>\n",
       "      <td>0</td>\n",
       "      <td>0</td>\n",
       "      <td>0</td>\n",
       "      <td>0</td>\n",
       "      <td>0</td>\n",
       "      <td>0</td>\n",
       "      <td>0</td>\n",
       "      <td>0</td>\n",
       "      <td>...</td>\n",
       "      <td>0</td>\n",
       "      <td>0</td>\n",
       "      <td>0</td>\n",
       "      <td>0</td>\n",
       "      <td>0</td>\n",
       "      <td>0</td>\n",
       "      <td>0</td>\n",
       "      <td>0</td>\n",
       "      <td>0</td>\n",
       "      <td>0</td>\n",
       "      <td>0</td>\n",
       "      <td>0</td>\n",
       "      <td>0</td>\n",
       "      <td>0</td>\n",
       "      <td>0</td>\n",
       "      <td>0</td>\n",
       "      <td>0</td>\n",
       "      <td>0</td>\n",
       "      <td>0</td>\n",
       "      <td>0</td>\n",
       "      <td>0</td>\n",
       "      <td>0</td>\n",
       "      <td>0</td>\n",
       "      <td>0</td>\n",
       "      <td>0</td>\n",
       "      <td>1</td>\n",
       "      <td>0</td>\n",
       "      <td>0</td>\n",
       "      <td>0</td>\n",
       "      <td>0</td>\n",
       "      <td>0</td>\n",
       "      <td>0</td>\n",
       "      <td>0</td>\n",
       "      <td>0</td>\n",
       "      <td>0</td>\n",
       "      <td>0</td>\n",
       "      <td>0</td>\n",
       "      <td>0</td>\n",
       "      <td>0</td>\n",
       "      <td>0</td>\n",
       "      <td>0</td>\n",
       "      <td>0</td>\n",
       "      <td>0</td>\n",
       "      <td>0</td>\n",
       "      <td>0</td>\n",
       "      <td>0</td>\n",
       "      <td>0</td>\n",
       "      <td>0</td>\n",
       "      <td>0</td>\n",
       "      <td>0</td>\n",
       "    </tr>\n",
       "    <tr>\n",
       "      <th>2</th>\n",
       "      <td>247984</td>\n",
       "      <td>5.00</td>\n",
       "      <td>3.00</td>\n",
       "      <td>2.00</td>\n",
       "      <td>2.00</td>\n",
       "      <td>144.00</td>\n",
       "      <td>166.00</td>\n",
       "      <td>False</td>\n",
       "      <td>False</td>\n",
       "      <td>False</td>\n",
       "      <td>False</td>\n",
       "      <td>False</td>\n",
       "      <td>1200000.00</td>\n",
       "      <td>0</td>\n",
       "      <td>0</td>\n",
       "      <td>1</td>\n",
       "      <td>0</td>\n",
       "      <td>0</td>\n",
       "      <td>0</td>\n",
       "      <td>0</td>\n",
       "      <td>0</td>\n",
       "      <td>0</td>\n",
       "      <td>0</td>\n",
       "      <td>0</td>\n",
       "      <td>0</td>\n",
       "      <td>0</td>\n",
       "      <td>0</td>\n",
       "      <td>0</td>\n",
       "      <td>0</td>\n",
       "      <td>0</td>\n",
       "      <td>0</td>\n",
       "      <td>0</td>\n",
       "      <td>0</td>\n",
       "      <td>0</td>\n",
       "      <td>0</td>\n",
       "      <td>0</td>\n",
       "      <td>0</td>\n",
       "      <td>0</td>\n",
       "      <td>0</td>\n",
       "      <td>0</td>\n",
       "      <td>0</td>\n",
       "      <td>0</td>\n",
       "      <td>0</td>\n",
       "      <td>0</td>\n",
       "      <td>0</td>\n",
       "      <td>0</td>\n",
       "      <td>0</td>\n",
       "      <td>0</td>\n",
       "      <td>0</td>\n",
       "      <td>0</td>\n",
       "      <td>...</td>\n",
       "      <td>0</td>\n",
       "      <td>0</td>\n",
       "      <td>0</td>\n",
       "      <td>0</td>\n",
       "      <td>0</td>\n",
       "      <td>0</td>\n",
       "      <td>0</td>\n",
       "      <td>0</td>\n",
       "      <td>0</td>\n",
       "      <td>0</td>\n",
       "      <td>0</td>\n",
       "      <td>0</td>\n",
       "      <td>0</td>\n",
       "      <td>0</td>\n",
       "      <td>0</td>\n",
       "      <td>0</td>\n",
       "      <td>0</td>\n",
       "      <td>0</td>\n",
       "      <td>0</td>\n",
       "      <td>0</td>\n",
       "      <td>0</td>\n",
       "      <td>0</td>\n",
       "      <td>0</td>\n",
       "      <td>0</td>\n",
       "      <td>0</td>\n",
       "      <td>0</td>\n",
       "      <td>0</td>\n",
       "      <td>0</td>\n",
       "      <td>0</td>\n",
       "      <td>0</td>\n",
       "      <td>0</td>\n",
       "      <td>1</td>\n",
       "      <td>0</td>\n",
       "      <td>0</td>\n",
       "      <td>0</td>\n",
       "      <td>0</td>\n",
       "      <td>0</td>\n",
       "      <td>0</td>\n",
       "      <td>0</td>\n",
       "      <td>0</td>\n",
       "      <td>0</td>\n",
       "      <td>0</td>\n",
       "      <td>0</td>\n",
       "      <td>0</td>\n",
       "      <td>0</td>\n",
       "      <td>0</td>\n",
       "      <td>0</td>\n",
       "      <td>0</td>\n",
       "      <td>0</td>\n",
       "      <td>0</td>\n",
       "    </tr>\n",
       "    <tr>\n",
       "      <th>3</th>\n",
       "      <td>209067</td>\n",
       "      <td>1.00</td>\n",
       "      <td>2.00</td>\n",
       "      <td>1.00</td>\n",
       "      <td>1.00</td>\n",
       "      <td>63.00</td>\n",
       "      <td>67.00</td>\n",
       "      <td>False</td>\n",
       "      <td>False</td>\n",
       "      <td>False</td>\n",
       "      <td>True</td>\n",
       "      <td>True</td>\n",
       "      <td>650000.00</td>\n",
       "      <td>0</td>\n",
       "      <td>0</td>\n",
       "      <td>1</td>\n",
       "      <td>0</td>\n",
       "      <td>0</td>\n",
       "      <td>0</td>\n",
       "      <td>0</td>\n",
       "      <td>0</td>\n",
       "      <td>0</td>\n",
       "      <td>0</td>\n",
       "      <td>0</td>\n",
       "      <td>0</td>\n",
       "      <td>0</td>\n",
       "      <td>0</td>\n",
       "      <td>0</td>\n",
       "      <td>0</td>\n",
       "      <td>0</td>\n",
       "      <td>0</td>\n",
       "      <td>0</td>\n",
       "      <td>0</td>\n",
       "      <td>0</td>\n",
       "      <td>0</td>\n",
       "      <td>0</td>\n",
       "      <td>0</td>\n",
       "      <td>0</td>\n",
       "      <td>0</td>\n",
       "      <td>0</td>\n",
       "      <td>0</td>\n",
       "      <td>0</td>\n",
       "      <td>0</td>\n",
       "      <td>0</td>\n",
       "      <td>0</td>\n",
       "      <td>0</td>\n",
       "      <td>0</td>\n",
       "      <td>0</td>\n",
       "      <td>0</td>\n",
       "      <td>0</td>\n",
       "      <td>...</td>\n",
       "      <td>0</td>\n",
       "      <td>0</td>\n",
       "      <td>1</td>\n",
       "      <td>0</td>\n",
       "      <td>0</td>\n",
       "      <td>0</td>\n",
       "      <td>0</td>\n",
       "      <td>0</td>\n",
       "      <td>0</td>\n",
       "      <td>0</td>\n",
       "      <td>0</td>\n",
       "      <td>0</td>\n",
       "      <td>0</td>\n",
       "      <td>0</td>\n",
       "      <td>0</td>\n",
       "      <td>0</td>\n",
       "      <td>0</td>\n",
       "      <td>0</td>\n",
       "      <td>0</td>\n",
       "      <td>0</td>\n",
       "      <td>0</td>\n",
       "      <td>0</td>\n",
       "      <td>0</td>\n",
       "      <td>0</td>\n",
       "      <td>0</td>\n",
       "      <td>0</td>\n",
       "      <td>0</td>\n",
       "      <td>1</td>\n",
       "      <td>0</td>\n",
       "      <td>0</td>\n",
       "      <td>0</td>\n",
       "      <td>0</td>\n",
       "      <td>0</td>\n",
       "      <td>0</td>\n",
       "      <td>0</td>\n",
       "      <td>0</td>\n",
       "      <td>0</td>\n",
       "      <td>0</td>\n",
       "      <td>0</td>\n",
       "      <td>0</td>\n",
       "      <td>0</td>\n",
       "      <td>0</td>\n",
       "      <td>0</td>\n",
       "      <td>0</td>\n",
       "      <td>0</td>\n",
       "      <td>0</td>\n",
       "      <td>0</td>\n",
       "      <td>0</td>\n",
       "      <td>0</td>\n",
       "      <td>0</td>\n",
       "    </tr>\n",
       "    <tr>\n",
       "      <th>4</th>\n",
       "      <td>185997</td>\n",
       "      <td>10.00</td>\n",
       "      <td>2.00</td>\n",
       "      <td>1.00</td>\n",
       "      <td>1.00</td>\n",
       "      <td>95.00</td>\n",
       "      <td>95.00</td>\n",
       "      <td>False</td>\n",
       "      <td>False</td>\n",
       "      <td>False</td>\n",
       "      <td>False</td>\n",
       "      <td>False</td>\n",
       "      <td>1150000.00</td>\n",
       "      <td>1</td>\n",
       "      <td>0</td>\n",
       "      <td>0</td>\n",
       "      <td>0</td>\n",
       "      <td>0</td>\n",
       "      <td>0</td>\n",
       "      <td>0</td>\n",
       "      <td>0</td>\n",
       "      <td>0</td>\n",
       "      <td>0</td>\n",
       "      <td>0</td>\n",
       "      <td>0</td>\n",
       "      <td>0</td>\n",
       "      <td>0</td>\n",
       "      <td>0</td>\n",
       "      <td>0</td>\n",
       "      <td>0</td>\n",
       "      <td>0</td>\n",
       "      <td>0</td>\n",
       "      <td>0</td>\n",
       "      <td>0</td>\n",
       "      <td>0</td>\n",
       "      <td>0</td>\n",
       "      <td>0</td>\n",
       "      <td>0</td>\n",
       "      <td>0</td>\n",
       "      <td>0</td>\n",
       "      <td>0</td>\n",
       "      <td>0</td>\n",
       "      <td>0</td>\n",
       "      <td>0</td>\n",
       "      <td>0</td>\n",
       "      <td>0</td>\n",
       "      <td>0</td>\n",
       "      <td>0</td>\n",
       "      <td>0</td>\n",
       "      <td>0</td>\n",
       "      <td>...</td>\n",
       "      <td>0</td>\n",
       "      <td>0</td>\n",
       "      <td>0</td>\n",
       "      <td>0</td>\n",
       "      <td>0</td>\n",
       "      <td>0</td>\n",
       "      <td>0</td>\n",
       "      <td>0</td>\n",
       "      <td>0</td>\n",
       "      <td>0</td>\n",
       "      <td>0</td>\n",
       "      <td>0</td>\n",
       "      <td>0</td>\n",
       "      <td>0</td>\n",
       "      <td>0</td>\n",
       "      <td>0</td>\n",
       "      <td>0</td>\n",
       "      <td>0</td>\n",
       "      <td>0</td>\n",
       "      <td>0</td>\n",
       "      <td>0</td>\n",
       "      <td>0</td>\n",
       "      <td>0</td>\n",
       "      <td>0</td>\n",
       "      <td>0</td>\n",
       "      <td>0</td>\n",
       "      <td>0</td>\n",
       "      <td>0</td>\n",
       "      <td>0</td>\n",
       "      <td>0</td>\n",
       "      <td>0</td>\n",
       "      <td>1</td>\n",
       "      <td>0</td>\n",
       "      <td>0</td>\n",
       "      <td>0</td>\n",
       "      <td>0</td>\n",
       "      <td>0</td>\n",
       "      <td>0</td>\n",
       "      <td>0</td>\n",
       "      <td>0</td>\n",
       "      <td>0</td>\n",
       "      <td>0</td>\n",
       "      <td>0</td>\n",
       "      <td>0</td>\n",
       "      <td>0</td>\n",
       "      <td>0</td>\n",
       "      <td>0</td>\n",
       "      <td>0</td>\n",
       "      <td>0</td>\n",
       "      <td>0</td>\n",
       "    </tr>\n",
       "  </tbody>\n",
       "</table>\n",
       "<p>5 rows × 947 columns</p>\n",
       "</div>"
      ],
      "text/plain": [
       "       id  antiguedad  habitaciones  garages  banos  metroscubiertos  \\\n",
       "0  254099         nan          2.00     1.00   2.00            80.00   \n",
       "1   53461       10.00          3.00     2.00   2.00           268.00   \n",
       "2  247984        5.00          3.00     2.00   2.00           144.00   \n",
       "3  209067        1.00          2.00     1.00   1.00            63.00   \n",
       "4  185997       10.00          2.00     1.00   1.00            95.00   \n",
       "\n",
       "   metrostotales  gimnasio  usosmultiples  piscina  escuelascercanas  \\\n",
       "0          80.00     False          False    False             False   \n",
       "1         180.00     False          False    False              True   \n",
       "2         166.00     False          False    False             False   \n",
       "3          67.00     False          False    False              True   \n",
       "4          95.00     False          False    False             False   \n",
       "\n",
       "   centroscomercialescercanos     precio  tipodepropiedad_Apartamento  \\\n",
       "0                       False 2273000.00                            1   \n",
       "1                        True 3600000.00                            0   \n",
       "2                       False 1200000.00                            0   \n",
       "3                        True  650000.00                            0   \n",
       "4                       False 1150000.00                            1   \n",
       "\n",
       "   tipodepropiedad_Bodega comercial  tipodepropiedad_Casa  \\\n",
       "0                                 0                     0   \n",
       "1                                 0                     0   \n",
       "2                                 0                     1   \n",
       "3                                 0                     1   \n",
       "4                                 0                     0   \n",
       "\n",
       "   tipodepropiedad_Casa en condominio  tipodepropiedad_Casa uso de suelo  \\\n",
       "0                                   0                                  0   \n",
       "1                                   1                                  0   \n",
       "2                                   0                                  0   \n",
       "3                                   0                                  0   \n",
       "4                                   0                                  0   \n",
       "\n",
       "   tipodepropiedad_Departamento Compartido  tipodepropiedad_Duplex  \\\n",
       "0                                        0                       0   \n",
       "1                                        0                       0   \n",
       "2                                        0                       0   \n",
       "3                                        0                       0   \n",
       "4                                        0                       0   \n",
       "\n",
       "   tipodepropiedad_Edificio  tipodepropiedad_Garage  \\\n",
       "0                         0                       0   \n",
       "1                         0                       0   \n",
       "2                         0                       0   \n",
       "3                         0                       0   \n",
       "4                         0                       0   \n",
       "\n",
       "   tipodepropiedad_Hospedaje  tipodepropiedad_Huerta  \\\n",
       "0                          0                       0   \n",
       "1                          0                       0   \n",
       "2                          0                       0   \n",
       "3                          0                       0   \n",
       "4                          0                       0   \n",
       "\n",
       "   tipodepropiedad_Inmuebles productivos urbanos  \\\n",
       "0                                              0   \n",
       "1                                              0   \n",
       "2                                              0   \n",
       "3                                              0   \n",
       "4                                              0   \n",
       "\n",
       "   tipodepropiedad_Local Comercial  tipodepropiedad_Local en centro comercial  \\\n",
       "0                                0                                          0   \n",
       "1                                0                                          0   \n",
       "2                                0                                          0   \n",
       "3                                0                                          0   \n",
       "4                                0                                          0   \n",
       "\n",
       "   tipodepropiedad_Lote  tipodepropiedad_Nave industrial  \\\n",
       "0                     0                                0   \n",
       "1                     0                                0   \n",
       "2                     0                                0   \n",
       "3                     0                                0   \n",
       "4                     0                                0   \n",
       "\n",
       "   tipodepropiedad_Oficina comercial  tipodepropiedad_Otros  \\\n",
       "0                                  0                      0   \n",
       "1                                  0                      0   \n",
       "2                                  0                      0   \n",
       "3                                  0                      0   \n",
       "4                                  0                      0   \n",
       "\n",
       "   tipodepropiedad_Quinta Vacacional  tipodepropiedad_Rancho  \\\n",
       "0                                  0                       0   \n",
       "1                                  0                       0   \n",
       "2                                  0                       0   \n",
       "3                                  0                       0   \n",
       "4                                  0                       0   \n",
       "\n",
       "   tipodepropiedad_Terreno  tipodepropiedad_Terreno comercial  \\\n",
       "0                        0                                  0   \n",
       "1                        0                                  0   \n",
       "2                        0                                  0   \n",
       "3                        0                                  0   \n",
       "4                        0                                  0   \n",
       "\n",
       "   tipodepropiedad_Terreno industrial  tipodepropiedad_Villa  \\\n",
       "0                                   0                      0   \n",
       "1                                   0                      0   \n",
       "2                                   0                      0   \n",
       "3                                   0                      0   \n",
       "4                                   0                      0   \n",
       "\n",
       "   tipodepropiedad_nan  ciudad_Abalá  ciudad_Abasolo  ciudad_Abejones  \\\n",
       "0                    0             0               0                0   \n",
       "1                    0             0               0                0   \n",
       "2                    0             0               0                0   \n",
       "3                    0             0               0                0   \n",
       "4                    0             0               0                0   \n",
       "\n",
       "   ciudad_Acajete  ciudad_Acambay  ciudad_Acaponeta  \\\n",
       "0               0               0                 0   \n",
       "1               0               0                 0   \n",
       "2               0               0                 0   \n",
       "3               0               0                 0   \n",
       "4               0               0                 0   \n",
       "\n",
       "   ciudad_Acapulco de Juárez  ciudad_Acateno  ciudad_Acatic  ciudad_Acatzingo  \\\n",
       "0                          0               0              0                 0   \n",
       "1                          0               0              0                 0   \n",
       "2                          0               0              0                 0   \n",
       "3                          0               0              0                 0   \n",
       "4                          0               0              0                 0   \n",
       "\n",
       "   ciudad_Acayucan  ciudad_Acolman  ...  ciudad_Zimapán  \\\n",
       "0                0               0  ...               0   \n",
       "1                0               0  ...               0   \n",
       "2                0               0  ...               0   \n",
       "3                0               0  ...               0   \n",
       "4                0               0  ...               0   \n",
       "\n",
       "   ciudad_Zimatlán de Alvarez  ciudad_Zinacantepec  ciudad_Zinapécuaro  \\\n",
       "0                           0                    0                   0   \n",
       "1                           0                    0                   0   \n",
       "2                           0                    0                   0   \n",
       "3                           0                    1                   0   \n",
       "4                           0                    0                   0   \n",
       "\n",
       "   ciudad_Zináparo  ciudad_ZirAndaro  ciudad_Zitácuaro  ciudad_Zumpahuacán  \\\n",
       "0                0                 0                 0                   0   \n",
       "1                0                 0                 0                   0   \n",
       "2                0                 0                 0                   0   \n",
       "3                0                 0                 0                   0   \n",
       "4                0                 0                 0                   0   \n",
       "\n",
       "   ciudad_Zumpango  ciudad_otra  ciudad_ácatlán  ciudad_ácatlán de Juárez  \\\n",
       "0                0            0               0                         0   \n",
       "1                0            0               0                         0   \n",
       "2                0            0               0                         0   \n",
       "3                0            0               0                         0   \n",
       "4                0            0               0                         0   \n",
       "\n",
       "   ciudad_ácaxochitlán  ciudad_ácámbaro  ciudad_áutlán de Navarro  \\\n",
       "0                    0                0                         0   \n",
       "1                    0                0                         0   \n",
       "2                    0                0                         0   \n",
       "3                    0                0                         0   \n",
       "4                    0                0                         0   \n",
       "\n",
       "   ciudad_áyotlán  ciudad_nan  provincia_Aguascalientes  \\\n",
       "0               0           0                         0   \n",
       "1               0           0                         0   \n",
       "2               0           0                         0   \n",
       "3               0           0                         0   \n",
       "4               0           0                         0   \n",
       "\n",
       "   provincia_Baja California Norte  provincia_Baja California Sur  \\\n",
       "0                                0                              0   \n",
       "1                                0                              0   \n",
       "2                                0                              0   \n",
       "3                                0                              0   \n",
       "4                                0                              0   \n",
       "\n",
       "   provincia_Campeche  provincia_Chiapas  provincia_Chihuahua  \\\n",
       "0                   0                  0                    0   \n",
       "1                   0                  0                    0   \n",
       "2                   0                  0                    0   \n",
       "3                   0                  0                    0   \n",
       "4                   0                  0                    0   \n",
       "\n",
       "   provincia_Coahuila  provincia_Colima  provincia_Distrito Federal  \\\n",
       "0                   0                 0                           1   \n",
       "1                   0                 0                           1   \n",
       "2                   0                 0                           0   \n",
       "3                   0                 0                           0   \n",
       "4                   0                 0                           0   \n",
       "\n",
       "   provincia_Durango  provincia_Edo. de México  provincia_Guanajuato  \\\n",
       "0                  0                         0                     0   \n",
       "1                  0                         0                     0   \n",
       "2                  0                         0                     0   \n",
       "3                  0                         1                     0   \n",
       "4                  0                         0                     0   \n",
       "\n",
       "   provincia_Guerrero  provincia_Hidalgo  provincia_Jalisco  \\\n",
       "0                   0                  0                  0   \n",
       "1                   0                  0                  0   \n",
       "2                   0                  0                  1   \n",
       "3                   0                  0                  0   \n",
       "4                   0                  0                  1   \n",
       "\n",
       "   provincia_Michoacán  provincia_Morelos  provincia_Nayarit  \\\n",
       "0                    0                  0                  0   \n",
       "1                    0                  0                  0   \n",
       "2                    0                  0                  0   \n",
       "3                    0                  0                  0   \n",
       "4                    0                  0                  0   \n",
       "\n",
       "   provincia_Nuevo León  provincia_Oaxaca  provincia_Puebla  \\\n",
       "0                     0                 0                 0   \n",
       "1                     0                 0                 0   \n",
       "2                     0                 0                 0   \n",
       "3                     0                 0                 0   \n",
       "4                     0                 0                 0   \n",
       "\n",
       "   provincia_Querétaro  provincia_Quintana Roo  provincia_San luis Potosí  \\\n",
       "0                    0                       0                          0   \n",
       "1                    0                       0                          0   \n",
       "2                    0                       0                          0   \n",
       "3                    0                       0                          0   \n",
       "4                    0                       0                          0   \n",
       "\n",
       "   provincia_Sinaloa  provincia_Sonora  provincia_Tabasco  \\\n",
       "0                  0                 0                  0   \n",
       "1                  0                 0                  0   \n",
       "2                  0                 0                  0   \n",
       "3                  0                 0                  0   \n",
       "4                  0                 0                  0   \n",
       "\n",
       "   provincia_Tamaulipas  provincia_Tlaxcala  provincia_Veracruz  \\\n",
       "0                     0                   0                   0   \n",
       "1                     0                   0                   0   \n",
       "2                     0                   0                   0   \n",
       "3                     0                   0                   0   \n",
       "4                     0                   0                   0   \n",
       "\n",
       "   provincia_Yucatán  provincia_Zacatecas  provincia_nan  \n",
       "0                  0                    0              0  \n",
       "1                  0                    0              0  \n",
       "2                  0                    0              0  \n",
       "3                  0                    0              0  \n",
       "4                  0                    0              0  \n",
       "\n",
       "[5 rows x 947 columns]"
      ]
     },
     "execution_count": 60,
     "metadata": {},
     "output_type": "execute_result"
    }
   ],
   "source": [
    "# Con dummy_na=True, creamos la categoria \"Es nulo\" como una coordenada más de los one-hot vectors\n",
    "# Comentar: ¿Hay leaks acá? ¿Sí / No? ¿Por qué?\n",
    "train_simple = pd.get_dummies(train_simple, dummy_na=True)\n",
    "print(f\"Cantidad de columnas después del one-hot-encoding: {len(train_simple.columns)}\")\n",
    "train_simple.head()"
   ]
  },
  {
   "cell_type": "markdown",
   "metadata": {},
   "source": [
    "##### Ejemplo de one-hot-encoding (pasar categóricos a `dummies`)"
   ]
  },
  {
   "cell_type": "code",
   "execution_count": 61,
   "metadata": {},
   "outputs": [
    {
     "data": {
      "text/html": [
       "<div>\n",
       "<style scoped>\n",
       "    .dataframe tbody tr th:only-of-type {\n",
       "        vertical-align: middle;\n",
       "    }\n",
       "\n",
       "    .dataframe tbody tr th {\n",
       "        vertical-align: top;\n",
       "    }\n",
       "\n",
       "    .dataframe thead th {\n",
       "        text-align: right;\n",
       "    }\n",
       "</style>\n",
       "<table border=\"1\" class=\"dataframe\">\n",
       "  <thead>\n",
       "    <tr style=\"text-align: right;\">\n",
       "      <th></th>\n",
       "      <th>color</th>\n",
       "    </tr>\n",
       "  </thead>\n",
       "  <tbody>\n",
       "    <tr>\n",
       "      <th>0</th>\n",
       "      <td>red</td>\n",
       "    </tr>\n",
       "    <tr>\n",
       "      <th>1</th>\n",
       "      <td>red</td>\n",
       "    </tr>\n",
       "    <tr>\n",
       "      <th>2</th>\n",
       "      <td>green</td>\n",
       "    </tr>\n",
       "    <tr>\n",
       "      <th>3</th>\n",
       "      <td>blue</td>\n",
       "    </tr>\n",
       "    <tr>\n",
       "      <th>4</th>\n",
       "      <td>NaN</td>\n",
       "    </tr>\n",
       "  </tbody>\n",
       "</table>\n",
       "</div>"
      ],
      "text/plain": [
       "   color\n",
       "0    red\n",
       "1    red\n",
       "2  green\n",
       "3   blue\n",
       "4    NaN"
      ]
     },
     "metadata": {},
     "output_type": "display_data"
    },
    {
     "data": {
      "text/html": [
       "<div>\n",
       "<style scoped>\n",
       "    .dataframe tbody tr th:only-of-type {\n",
       "        vertical-align: middle;\n",
       "    }\n",
       "\n",
       "    .dataframe tbody tr th {\n",
       "        vertical-align: top;\n",
       "    }\n",
       "\n",
       "    .dataframe thead th {\n",
       "        text-align: right;\n",
       "    }\n",
       "</style>\n",
       "<table border=\"1\" class=\"dataframe\">\n",
       "  <thead>\n",
       "    <tr style=\"text-align: right;\">\n",
       "      <th></th>\n",
       "      <th>color_blue</th>\n",
       "      <th>color_green</th>\n",
       "      <th>color_red</th>\n",
       "    </tr>\n",
       "  </thead>\n",
       "  <tbody>\n",
       "    <tr>\n",
       "      <th>0</th>\n",
       "      <td>0</td>\n",
       "      <td>0</td>\n",
       "      <td>1</td>\n",
       "    </tr>\n",
       "    <tr>\n",
       "      <th>1</th>\n",
       "      <td>0</td>\n",
       "      <td>0</td>\n",
       "      <td>1</td>\n",
       "    </tr>\n",
       "    <tr>\n",
       "      <th>2</th>\n",
       "      <td>0</td>\n",
       "      <td>1</td>\n",
       "      <td>0</td>\n",
       "    </tr>\n",
       "    <tr>\n",
       "      <th>3</th>\n",
       "      <td>1</td>\n",
       "      <td>0</td>\n",
       "      <td>0</td>\n",
       "    </tr>\n",
       "    <tr>\n",
       "      <th>4</th>\n",
       "      <td>0</td>\n",
       "      <td>0</td>\n",
       "      <td>0</td>\n",
       "    </tr>\n",
       "  </tbody>\n",
       "</table>\n",
       "</div>"
      ],
      "text/plain": [
       "   color_blue  color_green  color_red\n",
       "0           0            0          1\n",
       "1           0            0          1\n",
       "2           0            1          0\n",
       "3           1            0          0\n",
       "4           0            0          0"
      ]
     },
     "metadata": {},
     "output_type": "display_data"
    },
    {
     "data": {
      "text/html": [
       "<div>\n",
       "<style scoped>\n",
       "    .dataframe tbody tr th:only-of-type {\n",
       "        vertical-align: middle;\n",
       "    }\n",
       "\n",
       "    .dataframe tbody tr th {\n",
       "        vertical-align: top;\n",
       "    }\n",
       "\n",
       "    .dataframe thead th {\n",
       "        text-align: right;\n",
       "    }\n",
       "</style>\n",
       "<table border=\"1\" class=\"dataframe\">\n",
       "  <thead>\n",
       "    <tr style=\"text-align: right;\">\n",
       "      <th></th>\n",
       "      <th>color_blue</th>\n",
       "      <th>color_green</th>\n",
       "      <th>color_red</th>\n",
       "      <th>color_nan</th>\n",
       "    </tr>\n",
       "  </thead>\n",
       "  <tbody>\n",
       "    <tr>\n",
       "      <th>0</th>\n",
       "      <td>0</td>\n",
       "      <td>0</td>\n",
       "      <td>1</td>\n",
       "      <td>0</td>\n",
       "    </tr>\n",
       "    <tr>\n",
       "      <th>1</th>\n",
       "      <td>0</td>\n",
       "      <td>0</td>\n",
       "      <td>1</td>\n",
       "      <td>0</td>\n",
       "    </tr>\n",
       "    <tr>\n",
       "      <th>2</th>\n",
       "      <td>0</td>\n",
       "      <td>1</td>\n",
       "      <td>0</td>\n",
       "      <td>0</td>\n",
       "    </tr>\n",
       "    <tr>\n",
       "      <th>3</th>\n",
       "      <td>1</td>\n",
       "      <td>0</td>\n",
       "      <td>0</td>\n",
       "      <td>0</td>\n",
       "    </tr>\n",
       "    <tr>\n",
       "      <th>4</th>\n",
       "      <td>0</td>\n",
       "      <td>0</td>\n",
       "      <td>0</td>\n",
       "      <td>1</td>\n",
       "    </tr>\n",
       "  </tbody>\n",
       "</table>\n",
       "</div>"
      ],
      "text/plain": [
       "   color_blue  color_green  color_red  color_nan\n",
       "0           0            0          1          0\n",
       "1           0            0          1          0\n",
       "2           0            1          0          0\n",
       "3           1            0          0          0\n",
       "4           0            0          0          1"
      ]
     },
     "metadata": {},
     "output_type": "display_data"
    }
   ],
   "source": [
    "one_hot_encoding_example_df = pd.DataFrame(['red', 'red', 'green', 'blue', np.nan], columns=['color'])\n",
    "display(one_hot_encoding_example_df)\n",
    "display(pd.get_dummies(one_hot_encoding_example_df))\n",
    "display(pd.get_dummies(one_hot_encoding_example_df, dummy_na=True))"
   ]
  },
  {
   "cell_type": "markdown",
   "metadata": {},
   "source": [
    "Más sobre one-hot-encoding [acá](https://www.kaggle.com/dansbecker/using-categorical-data-with-one-hot-encoding)"
   ]
  },
  {
   "cell_type": "markdown",
   "metadata": {},
   "source": [
    "#### Imputación de nulls numéricos"
   ]
  },
  {
   "cell_type": "code",
   "execution_count": 62,
   "metadata": {},
   "outputs": [],
   "source": [
    "# Para los nulls numéricos, usar un Imputer con strategy mean (reemplazamos los NaN por el promedio)\n",
    "# Para no leakear, spliteamos el dataset antes\n",
    "X_simple = train_simple.drop(\"precio\", axis=1)\n",
    "y_simple = train_simple['precio']\n",
    "train_simple_X_train, train_simple_X_test, train_simple_y_train, train_simple_y_test = train_test_split(\n",
    "                                                                                            X_simple, \n",
    "                                                                                            y_simple, \n",
    "                                                                                            test_size=0.25, \n",
    "                                                                                            random_state=1)"
   ]
  },
  {
   "cell_type": "code",
   "execution_count": 63,
   "metadata": {},
   "outputs": [],
   "source": [
    "for c in numeric_columns_with_nulls:\n",
    "    imp_mean = SimpleImputer()\n",
    "    train_simple_X_train[c] = imp_mean.fit_transform(train_simple_X_train[[c]])\n",
    "    train_simple_X_test[c] = imp_mean.transform(train_simple_X_test[[c]])"
   ]
  },
  {
   "cell_type": "code",
   "execution_count": 64,
   "metadata": {},
   "outputs": [
    {
     "data": {
      "text/plain": [
       "0"
      ]
     },
     "execution_count": 64,
     "metadata": {},
     "output_type": "execute_result"
    }
   ],
   "source": [
    "train_simple_X_train.isnull().sum().sum()"
   ]
  },
  {
   "cell_type": "code",
   "execution_count": 65,
   "metadata": {},
   "outputs": [
    {
     "data": {
      "text/plain": [
       "0"
      ]
     },
     "execution_count": 65,
     "metadata": {},
     "output_type": "execute_result"
    }
   ],
   "source": [
    "train_simple_X_test.isnull().sum().sum()"
   ]
  },
  {
   "cell_type": "markdown",
   "metadata": {},
   "source": [
    "### Modelo"
   ]
  },
  {
   "cell_type": "code",
   "execution_count": 66,
   "metadata": {},
   "outputs": [],
   "source": [
    "tree = DecisionTreeRegressor().fit(train_simple_X_train, train_simple_y_train)\n",
    "tree_pred = tree.predict(train_simple_X_test)"
   ]
  },
  {
   "cell_type": "code",
   "execution_count": 67,
   "metadata": {},
   "outputs": [
    {
     "name": "stdout",
     "output_type": "stream",
     "text": [
      "RMSLE DecisionTreeRegressor (train): 0.00000\n",
      "RMSLE DecisionTreeRegressor: 0.47962\n"
     ]
    }
   ],
   "source": [
    "tree_rmsle = RMSLE(train_simple_y_test, tree_pred)\n",
    "tree_rmsle_train = RMSLE(train_simple_y_train, tree.predict(train_simple_X_train))\n",
    "print(f\"RMSLE DecisionTreeRegressor (train): {tree_rmsle_train:.5f}\")\n",
    "print(f\"RMSLE DecisionTreeRegressor: {tree_rmsle:.5f}\")"
   ]
  },
  {
   "cell_type": "code",
   "execution_count": 68,
   "metadata": {},
   "outputs": [
    {
     "name": "stdout",
     "output_type": "stream",
     "text": [
      "MAE DecisionTreeRegressor (train): 0.00000\n",
      "MAE DecisionTreeRegressor: 849212.98907\n"
     ]
    }
   ],
   "source": [
    "tree_mae = MAE(train_simple_y_test, tree_pred)\n",
    "tree_mae_train = MAE(train_simple_y_train, tree.predict(train_simple_X_train))\n",
    "print(f\"MAE DecisionTreeRegressor (train): {tree_mae_train:.5f}\")\n",
    "print(f\"MAE DecisionTreeRegressor: {tree_mae:.5f}\")"
   ]
  },
  {
   "cell_type": "code",
   "execution_count": 69,
   "metadata": {},
   "outputs": [
    {
     "name": "stdout",
     "output_type": "stream",
     "text": [
      "RMSLE DummyRegressor       : 0.90315\n",
      "RMSLE LinearRegressor      : 0.65657\n",
      "RMSLE DecisionTreeRegressor: 0.47962\n"
     ]
    }
   ],
   "source": [
    "print(f\"RMSLE DummyRegressor       : {dummy_rmsle:.5f}\")\n",
    "print(f\"RMSLE LinearRegressor      : {linear_rmsle:.5f}\")\n",
    "print(f\"RMSLE DecisionTreeRegressor: {tree_rmsle:.5f}\")"
   ]
  },
  {
   "cell_type": "code",
   "execution_count": 70,
   "metadata": {
    "scrolled": true
   },
   "outputs": [
    {
     "name": "stdout",
     "output_type": "stream",
     "text": [
      "MAE DummyRegressor       : 1602571.25000\n",
      "MAE LinearRegressor      : 1191167.10603\n",
      "MAE DecisionTreeRegressor: 849212.98907\n"
     ]
    }
   ],
   "source": [
    "print(f\"MAE DummyRegressor       : {dummy_mae:.5f}\")\n",
    "print(f\"MAE LinearRegressor      : {linear_mae:.5f}\")\n",
    "print(f\"MAE DecisionTreeRegressor: {tree_mae:.5f}\")"
   ]
  },
  {
   "cell_type": "markdown",
   "metadata": {},
   "source": [
    "# LinearRegressor para submit\n",
    "El mismo proceso pero con el archivo test.csv en lugar de haciendo train/test split para que tengan el código disponible para generar un submit"
   ]
  },
  {
   "cell_type": "code",
   "execution_count": 71,
   "metadata": {},
   "outputs": [],
   "source": [
    "train = common.cargar_set_optimizado('sets_de_datos/train.csv', index_col = 0)\n",
    "test = common.cargar_set_optimizado('sets_de_datos/test.csv', index_col = 0)"
   ]
  },
  {
   "cell_type": "code",
   "execution_count": 72,
   "metadata": {},
   "outputs": [
    {
     "data": {
      "text/html": [
       "<div>\n",
       "<style scoped>\n",
       "    .dataframe tbody tr th:only-of-type {\n",
       "        vertical-align: middle;\n",
       "    }\n",
       "\n",
       "    .dataframe tbody tr th {\n",
       "        vertical-align: top;\n",
       "    }\n",
       "\n",
       "    .dataframe thead th {\n",
       "        text-align: right;\n",
       "    }\n",
       "</style>\n",
       "<table border=\"1\" class=\"dataframe\">\n",
       "  <thead>\n",
       "    <tr style=\"text-align: right;\">\n",
       "      <th></th>\n",
       "      <th>target</th>\n",
       "    </tr>\n",
       "    <tr>\n",
       "      <th>id</th>\n",
       "      <th></th>\n",
       "    </tr>\n",
       "  </thead>\n",
       "  <tbody>\n",
       "    <tr>\n",
       "      <th>4941</th>\n",
       "      <td>4200756.25</td>\n",
       "    </tr>\n",
       "    <tr>\n",
       "      <th>51775</th>\n",
       "      <td>1112322.29</td>\n",
       "    </tr>\n",
       "    <tr>\n",
       "      <th>115253</th>\n",
       "      <td>1377423.92</td>\n",
       "    </tr>\n",
       "    <tr>\n",
       "      <th>299321</th>\n",
       "      <td>1364168.84</td>\n",
       "    </tr>\n",
       "    <tr>\n",
       "      <th>173570</th>\n",
       "      <td>1284638.35</td>\n",
       "    </tr>\n",
       "  </tbody>\n",
       "</table>\n",
       "</div>"
      ],
      "text/plain": [
       "           target\n",
       "id               \n",
       "4941   4200756.25\n",
       "51775  1112322.29\n",
       "115253 1377423.92\n",
       "299321 1364168.84\n",
       "173570 1284638.35"
      ]
     },
     "metadata": {},
     "output_type": "display_data"
    }
   ],
   "source": [
    "# Imputamos los NaNs\n",
    "imp_mean = SimpleImputer()\n",
    "train['metroscubiertos'] = imp_mean.fit_transform(train[['metroscubiertos']])\n",
    "test['metroscubiertos'] = imp_mean.transform(test[['metroscubiertos']])\n",
    "\n",
    "linear_pred = LinearRegression()\\\n",
    "                    .fit(train[['metroscubiertos']], train['precio'])\\\n",
    "                    .predict(test[['metroscubiertos']])\n",
    "\n",
    "res = pd.DataFrame(linear_pred, index=test.index, columns=['precio'])\n",
    "res.columns = ['target']\n",
    "display(res.head())\n",
    "res.to_csv(\"submits/submit_metaDataNavent_mod.csv\", header=True) # RMSLE=0.65487"
   ]
  }
 ],
 "metadata": {
  "kernelspec": {
   "display_name": "Python 3",
   "language": "python",
   "name": "python3"
  },
  "language_info": {
   "codemirror_mode": {
    "name": "ipython",
    "version": 3
   },
   "file_extension": ".py",
   "mimetype": "text/x-python",
   "name": "python",
   "nbconvert_exporter": "python",
   "pygments_lexer": "ipython3",
   "version": "3.7.3"
  }
 },
 "nbformat": 4,
 "nbformat_minor": 2
}
