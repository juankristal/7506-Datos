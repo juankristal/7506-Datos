{
 "cells": [
  {
   "cell_type": "code",
   "execution_count": 13,
   "metadata": {
    "colab": {
     "base_uri": "https://localhost:8080/",
     "height": 34
    },
    "colab_type": "code",
    "executionInfo": {
     "elapsed": 2085,
     "status": "ok",
     "timestamp": 1575086187893,
     "user": {
      "displayName": "Franco Martin Di Maria",
      "photoUrl": "",
      "userId": "06870354967482048614"
     },
     "user_tz": 180
    },
    "id": "EQFepb4zcSjR",
    "outputId": "dc6806cb-64d1-4e1a-b291-106fb2fdb285"
   },
   "outputs": [
    {
     "name": "stdout",
     "output_type": "stream",
     "text": [
      "Drive already mounted at /content/drive; to attempt to forcibly remount, call drive.mount(\"/content/drive\", force_remount=True).\n"
     ]
    }
   ],
   "source": [
    "from google.colab import drive\n",
    "drive.mount('/content/drive')"
   ]
  },
  {
   "cell_type": "code",
   "execution_count": 0,
   "metadata": {
    "colab": {},
    "colab_type": "code",
    "id": "ss8YDMbOcTlh"
   },
   "outputs": [],
   "source": [
    "import sys\n",
    "sys.path.append('/content/drive/My Drive/Colab Notebooks')"
   ]
  },
  {
   "cell_type": "code",
   "execution_count": 0,
   "metadata": {
    "colab": {},
    "colab_type": "code",
    "id": "QYdWdbGMcKT0"
   },
   "outputs": [],
   "source": [
    "import common_machine_learning as common\n",
    "import pandas as pd\n",
    "import numpy as np"
   ]
  },
  {
   "cell_type": "code",
   "execution_count": 0,
   "metadata": {
    "colab": {},
    "colab_type": "code",
    "id": "EWl8VMz5cKUE"
   },
   "outputs": [],
   "source": [
    "train = common.cargar_set_optimizado('/content/drive/My Drive/Colab Notebooks/sets_de_datos/dima_train_fill_0.csv')"
   ]
  },
  {
   "cell_type": "code",
   "execution_count": 0,
   "metadata": {
    "colab": {},
    "colab_type": "code",
    "id": "g2p1oyrccKUa"
   },
   "outputs": [],
   "source": [
    "train['año'] = train['fecha'].dt.year\n",
    "train['mes'] = train['fecha'].dt.month\n",
    "train['dia'] = train['fecha'].dt.day"
   ]
  },
  {
   "cell_type": "code",
   "execution_count": 0,
   "metadata": {
    "colab": {},
    "colab_type": "code",
    "id": "JdReRXSicKUs"
   },
   "outputs": [],
   "source": [
    "def metros_no_cubiertos(m_totales, m_cubiertos):\n",
    "    if m_cubiertos >= m_totales:\n",
    "        return 0\n",
    "    return m_totales - m_cubiertos\n",
    "    \n",
    "\n",
    "train['metros_no_cubiertos'] =\\\n",
    "    train.apply(lambda x: metros_no_cubiertos(x['metrostotales'], x['metroscubiertos']), axis = 1)"
   ]
  },
  {
   "cell_type": "code",
   "execution_count": 19,
   "metadata": {
    "colab": {
     "base_uri": "https://localhost:8080/",
     "height": 34
    },
    "colab_type": "code",
    "executionInfo": {
     "elapsed": 10623,
     "status": "ok",
     "timestamp": 1575086196489,
     "user": {
      "displayName": "Franco Martin Di Maria",
      "photoUrl": "",
      "userId": "06870354967482048614"
     },
     "user_tz": 180
    },
    "id": "OkAVwxpbcKU1",
    "outputId": "31351964-a9da-42a3-fdd9-488367047be6",
    "scrolled": true
   },
   "outputs": [
    {
     "data": {
      "text/plain": [
       "14.069029166666667"
      ]
     },
     "execution_count": 19,
     "metadata": {
      "tags": []
     },
     "output_type": "execute_result"
    }
   ],
   "source": [
    "train['metros_no_cubiertos'].mean()"
   ]
  },
  {
   "cell_type": "code",
   "execution_count": 0,
   "metadata": {
    "colab": {},
    "colab_type": "code",
    "id": "iI2pO5UtcKU8"
   },
   "outputs": [],
   "source": [
    "def cantidad_espacios(df):\n",
    "    cantidad_espacios = 0\n",
    "    for col in ['habitaciones', 'garages', 'banos', 'gimnasio', 'usosmultiples', 'piscina']:\n",
    "        cantidad_espacios += int(df[col])\n",
    "    return cantidad_espacios\n",
    "\n",
    "train['cantidad_espacios'] = train.apply(cantidad_espacios, axis = 1)"
   ]
  },
  {
   "cell_type": "code",
   "execution_count": 0,
   "metadata": {
    "colab": {},
    "colab_type": "code",
    "id": "UVVgWX5TcKVF"
   },
   "outputs": [],
   "source": [
    "def metros_x_espacio(cantidad_espacios, metros_cubiertos):\n",
    "    if cantidad_espacios <= 0 or metros_cubiertos <= 0:\n",
    "        return 0\n",
    "    return metros_cubiertos / cantidad_espacios\n",
    "\n",
    "train['metros_x_espacio'] = train.apply(lambda x: metros_x_espacio(x['cantidad_espacios'], x['metroscubiertos']), axis = 1)"
   ]
  },
  {
   "cell_type": "code",
   "execution_count": 0,
   "metadata": {
    "colab": {},
    "colab_type": "code",
    "id": "Y6-HnzGPcKVM",
    "scrolled": true
   },
   "outputs": [],
   "source": [
    "def metros_en_varios_espacios(repeticiones_espacio, metros_x_espacio):\n",
    "    if repeticiones_espacio <= 0 or metros_x_espacio <= 0:\n",
    "        return 0\n",
    "    return repeticiones_espacio * metros_x_espacio\n",
    "\n",
    "for col in ['habitaciones', 'garages', 'banos', 'gimnasio', 'usosmultiples', 'piscina']:\n",
    "    train['metros_x_' + col] =\\\n",
    "        train.apply(lambda x: metros_en_varios_espacios(x[col], x['metros_x_espacio']), axis = 1)"
   ]
  },
  {
   "cell_type": "code",
   "execution_count": 0,
   "metadata": {
    "colab": {},
    "colab_type": "code",
    "id": "BjCfrSZ7cKVU"
   },
   "outputs": [],
   "source": [
    "train['cosas_cercanas'] = train['escuelascercanas'].astype(int)  + train['centroscomercialescercanos'].astype(int)"
   ]
  },
  {
   "cell_type": "code",
   "execution_count": 0,
   "metadata": {
    "colab": {},
    "colab_type": "code",
    "id": "6mE5ZVGYeZNB"
   },
   "outputs": [],
   "source": [
    "metros_x_tipodepropiedad = train.groupby(['tipodepropiedad']).agg({'metroscubiertos' : 'mean'}).to_dict()\n",
    "train['metros_x_tipodepropiedad'] =\\\n",
    "  train.apply(lambda x: \n",
    "                metros_x_tipodepropiedad['metroscubiertos'].get(\n",
    "                    x['tipodepropiedad'], \n",
    "                    train['metroscubiertos'].astype(np.float32).mean()\n",
    "                    ), axis = 1)"
   ]
  },
  {
   "cell_type": "code",
   "execution_count": 0,
   "metadata": {
    "colab": {},
    "colab_type": "code",
    "id": "9Q-AGvQGdQ2o"
   },
   "outputs": [],
   "source": [
    "from sklearn.model_selection import train_test_split\n",
    "from sklearn.ensemble import RandomForestRegressor"
   ]
  },
  {
   "cell_type": "code",
   "execution_count": 0,
   "metadata": {
    "colab": {},
    "colab_type": "code",
    "id": "cpwIW03QeUSe"
   },
   "outputs": [],
   "source": [
    "TARGET = 'precio'\n",
    "FEATURES = ['id', 'tipodepropiedad', 'ciudad', 'provincia', 'antiguedad', 'habitaciones', \n",
    "            'garages', 'banos', 'metroscubiertos', 'metrostotales', 'idzona', 'lat', \n",
    "            'lng', 'fecha', 'gimnasio', 'usosmultiples', 'piscina', 'escuelascercanas',\n",
    "            'centroscomercialescercanos', 'precio', 'año', 'mes', 'dia', \n",
    "            'metros_no_cubiertos', 'cantidad_espacios', 'metros_x_espacio',\n",
    "            'metros_x_habitaciones', 'metros_x_garages', 'metros_x_banos',\n",
    "            'metros_x_gimnasio', 'metros_x_usosmultiples', 'metros_x_piscina',\n",
    "            'cosas_cercanas']"
   ]
  },
  {
   "cell_type": "code",
   "execution_count": 0,
   "metadata": {
    "colab": {},
    "colab_type": "code",
    "id": "OuZ9f9Rfdpek"
   },
   "outputs": [],
   "source": [
    "def evaluar_modelo(modelo, X_test, y_test):\n",
    "    y_pred = modelo.predict(X_test)\n",
    "    errors = abs(y_pred - y_test)\n",
    "    mape = 100 * np.mean(errors / y_test)\n",
    "    accuracy = 100 - mape\n",
    "    print('Performance del modelo:')\n",
    "    print('Average Error: {:0.4f} degrees.'.format(np.mean(errors)))\n",
    "    print('Accuracy = {:0.2f}%.'.format(accuracy))\n",
    "    \n",
    "    return accuracy"
   ]
  },
  {
   "cell_type": "code",
   "execution_count": 0,
   "metadata": {
    "colab": {},
    "colab_type": "code",
    "id": "6PCLrpv2eQGo"
   },
   "outputs": [],
   "source": [
    "X_train, X_test, y_train, y_test = train_test_split(X, y, test_size=0.33, random_state=42)"
   ]
  },
  {
   "cell_type": "code",
   "execution_count": 0,
   "metadata": {
    "colab": {},
    "colab_type": "code",
    "id": "Y_FZ98H7dqqF"
   },
   "outputs": [],
   "source": [
    "params = {'max_depth': 51, 'max_features': 9, 'min_samples_leaf': 2, 'min_samples_split': 9, 'n_estimators': 236}\n",
    "rf_regressor = RandomForestRegressor(**params)"
   ]
  },
  {
   "cell_type": "code",
   "execution_count": 0,
   "metadata": {
    "colab": {},
    "colab_type": "code",
    "id": "sqL23u4Ud98W"
   },
   "outputs": [],
   "source": [
    "rf.fit(train[FEATURES], target_train.values.ravel())"
   ]
  },
  {
   "cell_type": "code",
   "execution_count": 0,
   "metadata": {
    "colab": {},
    "colab_type": "code",
    "id": "zTRoKAYqeBy5"
   },
   "outputs": [],
   "source": [
    "rf.predict(test[FEATURES])"
   ]
  }
 ],
 "metadata": {
  "colab": {
   "collapsed_sections": [],
   "name": "dima_feature_engineering_2.ipynb",
   "provenance": []
  },
  "kernelspec": {
   "display_name": "Python 3",
   "language": "python",
   "name": "python3"
  },
  "language_info": {
   "codemirror_mode": {
    "name": "ipython",
    "version": 3
   },
   "file_extension": ".py",
   "mimetype": "text/x-python",
   "name": "python",
   "nbconvert_exporter": "python",
   "pygments_lexer": "ipython3",
   "version": "3.6.8"
  }
 },
 "nbformat": 4,
 "nbformat_minor": 1
}
