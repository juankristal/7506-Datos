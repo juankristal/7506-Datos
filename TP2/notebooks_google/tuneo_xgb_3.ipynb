{
 "cells": [
  {
   "cell_type": "code",
   "execution_count": 16,
   "metadata": {
    "colab": {
     "base_uri": "https://localhost:8080/",
     "height": 34
    },
    "colab_type": "code",
    "executionInfo": {
     "elapsed": 1192,
     "status": "ok",
     "timestamp": 1575264491758,
     "user": {
      "displayName": "Ariel Marchesini",
      "photoUrl": "",
      "userId": "09313016384185977219"
     },
     "user_tz": 180
    },
    "id": "mAil7NovwkB5",
    "outputId": "ea584f4b-96e2-4a4b-db1e-35cea36933d7"
   },
   "outputs": [
    {
     "name": "stdout",
     "output_type": "stream",
     "text": [
      "Drive already mounted at /content/drive; to attempt to forcibly remount, call drive.mount(\"/content/drive\", force_remount=True).\n"
     ]
    }
   ],
   "source": [
    "from google.colab import drive\n",
    "drive.mount('/content/drive')"
   ]
  },
  {
   "cell_type": "code",
   "execution_count": 0,
   "metadata": {
    "colab": {},
    "colab_type": "code",
    "id": "RpAb9obl0HU9"
   },
   "outputs": [],
   "source": [
    "from warnings import simplefilter\n",
    "simplefilter(action='ignore', category=FutureWarning)"
   ]
  },
  {
   "cell_type": "code",
   "execution_count": 0,
   "metadata": {
    "colab": {},
    "colab_type": "code",
    "id": "cVFa2TQT0YZd"
   },
   "outputs": [],
   "source": [
    "import pandas as pd\n",
    "import numpy as np\n",
    "from xgboost import XGBRegressor\n",
    "from hyperopt import fmin, tpe, hp, STATUS_OK, Trials, space_eval\n",
    "from sklearn.model_selection import cross_val_score\n",
    "import matplotlib.pylab as plt"
   ]
  },
  {
   "cell_type": "code",
   "execution_count": 0,
   "metadata": {
    "colab": {},
    "colab_type": "code",
    "id": "fE_IBAmp0dVi"
   },
   "outputs": [],
   "source": [
    "train = pd.read_csv(\"/content/drive/My Drive/Colab Notebooks/Datos/dima_train_with_features_6.csv\",\n",
    "                    dtype={ \\\n",
    "                            'antiguedad' : np.float32, \n",
    "                            'habitaciones' : np.float32, \n",
    "                            'garages' : np.float32, \n",
    "                            'banos' : np.float32,\n",
    "                            'metroscubiertos' : np.float32, \n",
    "                            'metrostotales' : np.float32, \n",
    "                            'idzona' : np.float32, \n",
    "                            'lat' : np.float32, \n",
    "                            'lng' : np.float32, \n",
    "                            'gimnasio' : np.float32, \n",
    "                            'usosmultiples' : np.float32, \n",
    "                            'piscina' : np.float32, \n",
    "                            'escuelascercanas' : np.float32,\n",
    "                            'centroscomercialescercanos' : np.float32, \n",
    "                            'precio' : np.float32, \n",
    "                            'servicios_cercanos' : np.float32,\n",
    "                            'utilidades_extra' : np.float32, \n",
    "                            'tipodepropiedad_mean_antiguedad' : np.float32,\n",
    "                            'tipodepropiedad_mean_habitaciones ' : np.float32, \n",
    "                            'tipodepropiedad_mean_garages' : np.float32,\n",
    "                            'tipodepropiedad_mean_banos' : np.float32, \n",
    "                            'tipodepropiedad_mean_metroscubiertos' : np.float32,\n",
    "                            'tipodepropiedad_mean_utilidades_extra' : np.float32,\n",
    "                            'tipodepropiedad_mean_servicios_cercanos' : np.float32, \n",
    "                            'ciudad_mean_antiguedad' : np.float32,\n",
    "                            'ciudad_mean_habitaciones' : np.float32, \n",
    "                            'ciudad_mean_garages' : np.float32, \n",
    "                            'ciudad_mean_banos': np.float32,\n",
    "                            'ciudad_mean_metroscubiertos' : np.float32, \n",
    "                            'ciudad_mean_utilidades_extra' : np.float32,\n",
    "                            'ciudad_mean_servicios_cercanos' : np.float32, \n",
    "                            'provincia_mean_antiguedad' : np.float32,\n",
    "                            'provincia_mean_habitaciones' : np.float32, \n",
    "                            'provincia_mean_garages' : np.float32,\n",
    "                            'provincia_mean_banos' : np.float32, \n",
    "                            'provincia_mean_metroscubiertos' : np.float32,\n",
    "                            'provincia_mean_utilidades_extra' : np.float32, \n",
    "                            'provincia_mean_servicios_cercanos' : np.float32,\n",
    "                            'ciudad_mean_lat' : np.float32, \n",
    "                            'ciudad_mean_lng' : np.float32, \n",
    "                            'provincia_mean_lat' : np.float32,\n",
    "                            'provincia_mean_lng' : np.float32, \n",
    "                            'coseno_distancia_angular_al_centro_ciudad' : np.float32,\n",
    "                            'coseno_distancia_angular_al_centro_provincia' : np.float32,\n",
    "                            'coseno_distancia_angular_al_centro_pais' : np.float32, \n",
    "                            'año' : np.float32, \n",
    "                            'mes' : np.float32, \n",
    "                            'dia' : np.float32,\n",
    "                            'metros_no_cubiertos' : np.float32, \n",
    "                            'cantidad_espacios' : np.float32, \n",
    "                            'metros_x_espacio' : np.float32,\n",
    "                            'metros_x_habitaciones' : np.float32, \n",
    "                            'metros_x_garages' : np.float32, \n",
    "                            'metros_x_banos' : np.float32,\n",
    "                            'metros_x_utilidades_extra' : np.float32, \n",
    "                            'ratio_metros_cubiertos' : np.float32,\n",
    "                            'distancia_minima_Terreno_comercial' : np.float32,\n",
    "                            'distancia_minima_Local_Comercial' : np.float32,\n",
    "                            'distancia_minima_Oficina_comercial' : np.float32,\n",
    "                            'distancia_minima_Local_en_centro_comercial' : np.float32,\n",
    "                            'distancia_minima_Bodega_comercial' : np.float32, \n",
    "                            'banos_preciopromedio_ciudad' : np.float32,\n",
    "                            'habitaciones_preciopromedio_ciudad' : np.float32, \n",
    "                            'garages_preciopromedio_ciudad' : np.float32,\n",
    "                            'banos_preciopromedio_metroscubiertos' : np.float32,\n",
    "                            'habitaciones_preciopromedio_metroscubiertos' : np.float32,\n",
    "                            'garages_preciopromedio_metroscubiertos' : np.float32, \n",
    "                            'precio_x_m2' : np.float32,\n",
    "                            'tipodepropiedad_mean_precio' : np.float32, \n",
    "                            'titulo_cantidad_palabras_importantes' : np.float32,\n",
    "                            'descripcion_cantidad_palabras_importantes' : np.float32,\n",
    "                            'direccion_cantidad_palabras_importantes' : np.float32,\n",
    "                            'titulo_cantidad_caracteres_en_palabras_importantes' : np.float32,\n",
    "                            'descripcion_cantidad_caracteres_en_palabras_importantes' : np.float32,\n",
    "                            'direccion_cantidad_caracteres_en_palabras_importantes' : np.float32,\n",
    "                            'titulo_longitud_media_de_palabra' : np.float32,\n",
    "                            'descripcion_longitud_media_de_palabra' : np.float32,\n",
    "                            'direccion_longitud_media_de_palabra' : np.float32, \n",
    "                            'titulo_cantidad_stopwords' : np.float32,\n",
    "                            'descripcion_cantidad_stopwords' : np.float32, \n",
    "                            'direccion_cantidad_stopwords' : np.float32,\n",
    "                            'titulo_cantidad_signos_puntacion' : np.float32,\n",
    "                            'descripcion_cantidad_signos_puntacion' : np.float32,\n",
    "                            'direccion_cantidad_signos_puntacion' : np.float32,\n",
    "                            'direccion_cantidad_palabras_en_mayuscula' : np.float32,\n",
    "                            'direccion_cantidad_titulos' : np.float32, \n",
    "                            'titulo_cantidad_palabras_top_k' : np.float32,\n",
    "                            'descripcion_cantidad_palabras_top_k' : np.float32,\n",
    "                            'direccion_cantidad_palabras_top_k' : np.float32,\n",
    "                            'titulo_cantidad_palabras_bottom_k' : np.float32,\n",
    "                            'descripcion_cantidad_palabras_bottom_k' : np.float32,\n",
    "                            'direccion_cantidad_palabras_bottom_k' : np.float32,\n",
    "                            'titulo_cantidad_prefijos_top_k' : np.float32, \n",
    "                            'descripcion_cantidad_prefijos_top_k' : np.float32,\n",
    "                            'direccion_cantidad_prefijos_top_k' : np.float32, \n",
    "                            'titulo_cantidad_postfijos_top_k' : np.float32,\n",
    "                            'descripcion_cantidad_postfijos_top_k' : np.float32,\n",
    "                            'direccion_cantidad_postfijos_top_k' : np.float32, \n",
    "                            '0' : np.float32, \n",
    "                            '1' : np.float32, \n",
    "                            '2' : np.float32, \n",
    "                            '3' : np.float32, \n",
    "                            '4' : np.float32, \n",
    "                            '5' : np.float32, \n",
    "                            '6' : np.float32,\n",
    "                            '7' : np.float32,\n",
    "                            'distancia_euclideana_al_origen' : np.float32, \n",
    "                            'distancia_minima_comercial' : np.float32,\n",
    "                            'coseno_maximo_ciudad_pais' : np.float32,\n",
    "                            'ciudad_mean_antiguedad_sobre_provincia_mean_antiguedad' : np.float32,\n",
    "                            'tipodepropiead_mean_utilidades_extra_sobre_ciudad_mean_utilidades_extra' : np.float32,\n",
    "                            'antiguedad_sobre_tipodepropiedad_mean_antiguedad' : np.float32,\n",
    "                            'direccion_cantidad_al_menos_una_mayuscula' : np.float32,\n",
    "                            'direccion_cantidad_fijos_top_k' : np.float32, \n",
    "                            'titulo_cantidad_fijos_top_k' : np.float32,\n",
    "                            'titulo_palabras_top_k_sobre_total_palabras' : np.float32,\n",
    "                            'ciudad_distancia_al_origen':  np.float32, \n",
    "                            'ciudad_mean_mean_todas' : np.float32,\n",
    "                            'ciudad_mean_antiguedad_sobre_mean_metrocubiertos' : np.float32\n",
    "                            }\n",
    "                    )"
   ]
  },
  {
   "cell_type": "code",
   "execution_count": 0,
   "metadata": {
    "colab": {},
    "colab_type": "code",
    "id": "R5Qjrc4V0mml"
   },
   "outputs": [],
   "source": [
    "train.set_index('id', inplace = True)"
   ]
  },
  {
   "cell_type": "code",
   "execution_count": 0,
   "metadata": {
    "colab": {},
    "colab_type": "code",
    "id": "BqNULViB1Keg"
   },
   "outputs": [],
   "source": [
    "TARGET = \"precio\"\n",
    "FEATURES = [\n",
    "            'metroscubiertos', 'metrostotales', 'lat', 'lng', 'idzona',\n",
    "            'antiguedad', 'coseno_distancia_angular_al_centro_ciudad',\n",
    "            'coseno_distancia_angular_al_centro_provincia',\n",
    "            'coseno_distancia_angular_al_centro_pais',\n",
    "            'año', 'mes', 'dia', 'ratio_metros_cubiertos',\n",
    "            'titulo_cantidad_palabras_importantes',\n",
    "            'descripcion_cantidad_palabras_importantes',\n",
    "            'titulo_longitud_media_de_palabra',\n",
    "            'descripcion_longitud_media_de_palabra',\n",
    "            'distancia_euclideana_al_origen',\n",
    "            'ciudad_mean_metroscubiertos',\n",
    "            'titulo_cantidad_signos_puntacion',\n",
    "            'descripcion_cantidad_signos_puntacion',\n",
    "            'provincia_mean_metroscubiertos',\n",
    "            'tipodepropiedad_mean_metroscubiertos',\n",
    "            'servicios_cercanos'\n",
    "]"
   ]
  },
  {
   "cell_type": "code",
   "execution_count": 0,
   "metadata": {
    "colab": {},
    "colab_type": "code",
    "id": "8EJb4j_XGu0-"
   },
   "outputs": [],
   "source": [
    "datos = train[FEATURES]\n",
    "precio = train[TARGET]"
   ]
  },
  {
   "cell_type": "code",
   "execution_count": 0,
   "metadata": {
    "colab": {},
    "colab_type": "code",
    "id": "KJFJ7QDjDers"
   },
   "outputs": [],
   "source": [
    "def hyperopt_train_test(params):\n",
    "    modelo = XGBRegressor(**params)\n",
    "    return cross_val_score(modelo, datos, precio, scoring=\"neg_mean_absolute_error\", cv=4).mean()"
   ]
  },
  {
   "cell_type": "code",
   "execution_count": 0,
   "metadata": {
    "colab": {},
    "colab_type": "code",
    "id": "24Y4HSU3DmVw"
   },
   "outputs": [],
   "source": [
    "espacio_xgb = {\n",
    "    \"objective\" : \"reg:squarederror\",\n",
    "    \"n_estimators\" : hp.choice(\"n_estimators\", range(700, 1400)),\n",
    "    \"min_child_weight\" : hp.choice(\"min_child_weight\", range(1,10)),\n",
    "    \"max_depth\" : hp.choice(\"max_depth\", range(3, 11)),\n",
    "    \"learning_rate\" : hp.uniform(\"learning_rate\", 0.005, 0.15),\n",
    "    \"reg_lambda\" : hp.uniform(\"reg_lambda\", 0.03, 1),\n",
    "    \"gamma\" : hp.uniform(\"gamma\", 0, 3),\n",
    "    \"colsample_bytree\" : hp.uniform(\"colsample_bytree\", 0.5, 1),\n",
    "    \"subsample\" : hp.uniform(\"subsample\", 0.5, 1)\n",
    "}"
   ]
  },
  {
   "cell_type": "code",
   "execution_count": 0,
   "metadata": {
    "colab": {},
    "colab_type": "code",
    "id": "xJoikmEYE2CJ"
   },
   "outputs": [],
   "source": [
    "def f(params):\n",
    "    acc = hyperopt_train_test(params)\n",
    "    return {'loss': -acc, 'status': STATUS_OK}"
   ]
  },
  {
   "cell_type": "code",
   "execution_count": 0,
   "metadata": {
    "colab": {},
    "colab_type": "code",
    "id": "5SMf8zwXE5I0"
   },
   "outputs": [],
   "source": [
    "trials = Trials()"
   ]
  },
  {
   "cell_type": "code",
   "execution_count": 32,
   "metadata": {
    "colab": {
     "base_uri": "https://localhost:8080/",
     "height": 34
    },
    "colab_type": "code",
    "executionInfo": {
     "elapsed": 17908202,
     "status": "ok",
     "timestamp": 1575286477502,
     "user": {
      "displayName": "Ariel Marchesini",
      "photoUrl": "",
      "userId": "09313016384185977219"
     },
     "user_tz": 180
    },
    "id": "beL4yLIkE9Dc",
    "outputId": "04e03cd8-6f31-46ef-f5ed-c06e6a2a150b"
   },
   "outputs": [
    {
     "name": "stdout",
     "output_type": "stream",
     "text": [
      "100%|██████████| 15/15 [5:58:49<00:00, 1441.80s/it, best loss: 560892.078125]\n"
     ]
    }
   ],
   "source": [
    "best = fmin(f, espacio_xgb, algo=tpe.suggest, max_evals=15, trials=trials)"
   ]
  },
  {
   "cell_type": "code",
   "execution_count": 34,
   "metadata": {
    "colab": {
     "base_uri": "https://localhost:8080/",
     "height": 298
    },
    "colab_type": "code",
    "executionInfo": {
     "elapsed": 1295,
     "status": "ok",
     "timestamp": 1575296579721,
     "user": {
      "displayName": "Ariel Marchesini",
      "photoUrl": "",
      "userId": "09313016384185977219"
     },
     "user_tz": 180
    },
    "id": "qk_mJcA9GrZx",
    "outputId": "2852ae51-d87c-4046-967d-b762e7492c49"
   },
   "outputs": [
    {
     "name": "stdout",
     "output_type": "stream",
     "text": [
      "{'state': 2, 'tid': 0, 'spec': None, 'result': {'loss': 572469.328125, 'status': 'ok'}, 'misc': {'tid': 0, 'cmd': ('domain_attachment', 'FMinIter_Domain'), 'workdir': None, 'idxs': {'colsample_bytree': [0], 'gamma': [0], 'learning_rate': [0], 'max_depth': [0], 'min_child_weight': [0], 'n_estimators': [0], 'reg_lambda': [0], 'subsample': [0]}, 'vals': {'colsample_bytree': [0.7223790676494821], 'gamma': [1.7036607346426322], 'learning_rate': [0.13220763809429406], 'max_depth': [6], 'min_child_weight': [1], 'n_estimators': [154], 'reg_lambda': [0.24091670021279354], 'subsample': [0.6753613809952825]}}, 'exp_key': None, 'owner': None, 'version': 0, 'book_time': datetime.datetime(2019, 12, 2, 5, 35, 47, 364000), 'refresh_time': datetime.datetime(2019, 12, 2, 6, 12, 37, 707000)}\n",
      "{'state': 2, 'tid': 1, 'spec': None, 'result': {'loss': 653248.5625, 'status': 'ok'}, 'misc': {'tid': 1, 'cmd': ('domain_attachment', 'FMinIter_Domain'), 'workdir': None, 'idxs': {'colsample_bytree': [1], 'gamma': [1], 'learning_rate': [1], 'max_depth': [1], 'min_child_weight': [1], 'n_estimators': [1], 'reg_lambda': [1], 'subsample': [1]}, 'vals': {'colsample_bytree': [0.5915226863785172], 'gamma': [1.9667902449120773], 'learning_rate': [0.07582595872183698], 'max_depth': [0], 'min_child_weight': [6], 'n_estimators': [82], 'reg_lambda': [0.3294816377537274], 'subsample': [0.7106696741880183]}}, 'exp_key': None, 'owner': None, 'version': 0, 'book_time': datetime.datetime(2019, 12, 2, 6, 12, 37, 768000), 'refresh_time': datetime.datetime(2019, 12, 2, 6, 21, 3, 894000)}\n",
      "{'state': 2, 'tid': 2, 'spec': None, 'result': {'loss': 568018.28125, 'status': 'ok'}, 'misc': {'tid': 2, 'cmd': ('domain_attachment', 'FMinIter_Domain'), 'workdir': None, 'idxs': {'colsample_bytree': [2], 'gamma': [2], 'learning_rate': [2], 'max_depth': [2], 'min_child_weight': [2], 'n_estimators': [2], 'reg_lambda': [2], 'subsample': [2]}, 'vals': {'colsample_bytree': [0.6393422958288817], 'gamma': [2.022997545003196], 'learning_rate': [0.12064052136471001], 'max_depth': [5], 'min_child_weight': [0], 'n_estimators': [291], 'reg_lambda': [0.43797214971402365], 'subsample': [0.7221473530183803]}}, 'exp_key': None, 'owner': None, 'version': 0, 'book_time': datetime.datetime(2019, 12, 2, 6, 21, 4, 186000), 'refresh_time': datetime.datetime(2019, 12, 2, 6, 54, 4, 615000)}\n",
      "{'state': 2, 'tid': 3, 'spec': None, 'result': {'loss': 572314.9375, 'status': 'ok'}, 'misc': {'tid': 3, 'cmd': ('domain_attachment', 'FMinIter_Domain'), 'workdir': None, 'idxs': {'colsample_bytree': [3], 'gamma': [3], 'learning_rate': [3], 'max_depth': [3], 'min_child_weight': [3], 'n_estimators': [3], 'reg_lambda': [3], 'subsample': [3]}, 'vals': {'colsample_bytree': [0.5554695560365249], 'gamma': [0.5339672351630839], 'learning_rate': [0.12221472940703823], 'max_depth': [6], 'min_child_weight': [3], 'n_estimators': [258], 'reg_lambda': [0.3365455527884209], 'subsample': [0.6836468371147135]}}, 'exp_key': None, 'owner': None, 'version': 0, 'book_time': datetime.datetime(2019, 12, 2, 6, 54, 4, 665000), 'refresh_time': datetime.datetime(2019, 12, 2, 7, 27, 46, 116000)}\n",
      "{'state': 2, 'tid': 4, 'spec': None, 'result': {'loss': 653768.328125, 'status': 'ok'}, 'misc': {'tid': 4, 'cmd': ('domain_attachment', 'FMinIter_Domain'), 'workdir': None, 'idxs': {'colsample_bytree': [4], 'gamma': [4], 'learning_rate': [4], 'max_depth': [4], 'min_child_weight': [4], 'n_estimators': [4], 'reg_lambda': [4], 'subsample': [4]}, 'vals': {'colsample_bytree': [0.5306896745029523], 'gamma': [0.4933706667304063], 'learning_rate': [0.04981641927483374], 'max_depth': [0], 'min_child_weight': [6], 'n_estimators': [528], 'reg_lambda': [0.4435115812538758], 'subsample': [0.7411392057362607]}}, 'exp_key': None, 'owner': None, 'version': 0, 'book_time': datetime.datetime(2019, 12, 2, 7, 27, 46, 165000), 'refresh_time': datetime.datetime(2019, 12, 2, 7, 39, 55, 129000)}\n",
      "{'state': 2, 'tid': 5, 'spec': None, 'result': {'loss': 560892.078125, 'status': 'ok'}, 'misc': {'tid': 5, 'cmd': ('domain_attachment', 'FMinIter_Domain'), 'workdir': None, 'idxs': {'colsample_bytree': [5], 'gamma': [5], 'learning_rate': [5], 'max_depth': [5], 'min_child_weight': [5], 'n_estimators': [5], 'reg_lambda': [5], 'subsample': [5]}, 'vals': {'colsample_bytree': [0.6121196706532945], 'gamma': [1.5316021035421175], 'learning_rate': [0.09242686528701206], 'max_depth': [5], 'min_child_weight': [6], 'n_estimators': [21], 'reg_lambda': [0.27922369205947617], 'subsample': [0.9275339779001934]}}, 'exp_key': None, 'owner': None, 'version': 0, 'book_time': datetime.datetime(2019, 12, 2, 7, 39, 55, 181000), 'refresh_time': datetime.datetime(2019, 12, 2, 8, 2, 1, 488000)}\n",
      "{'state': 2, 'tid': 6, 'spec': None, 'result': {'loss': 599409.1875, 'status': 'ok'}, 'misc': {'tid': 6, 'cmd': ('domain_attachment', 'FMinIter_Domain'), 'workdir': None, 'idxs': {'colsample_bytree': [6], 'gamma': [6], 'learning_rate': [6], 'max_depth': [6], 'min_child_weight': [6], 'n_estimators': [6], 'reg_lambda': [6], 'subsample': [6]}, 'vals': {'colsample_bytree': [0.564833251219975], 'gamma': [1.54846902352506], 'learning_rate': [0.027590944637536877], 'max_depth': [3], 'min_child_weight': [2], 'n_estimators': [268], 'reg_lambda': [0.9215115232397313], 'subsample': [0.6004662530139406]}}, 'exp_key': None, 'owner': None, 'version': 0, 'book_time': datetime.datetime(2019, 12, 2, 8, 2, 1, 691000), 'refresh_time': datetime.datetime(2019, 12, 2, 8, 23, 2, 214000)}\n",
      "{'state': 2, 'tid': 7, 'spec': None, 'result': {'loss': 635807.9375, 'status': 'ok'}, 'misc': {'tid': 7, 'cmd': ('domain_attachment', 'FMinIter_Domain'), 'workdir': None, 'idxs': {'colsample_bytree': [7], 'gamma': [7], 'learning_rate': [7], 'max_depth': [7], 'min_child_weight': [7], 'n_estimators': [7], 'reg_lambda': [7], 'subsample': [7]}, 'vals': {'colsample_bytree': [0.7158306285552449], 'gamma': [1.7769749256895064], 'learning_rate': [0.02674694382059777], 'max_depth': [1], 'min_child_weight': [7], 'n_estimators': [572], 'reg_lambda': [0.945261333087251], 'subsample': [0.850428916867679]}}, 'exp_key': None, 'owner': None, 'version': 0, 'book_time': datetime.datetime(2019, 12, 2, 8, 23, 2, 269000), 'refresh_time': datetime.datetime(2019, 12, 2, 8, 43, 14, 711000)}\n",
      "{'state': 2, 'tid': 8, 'spec': None, 'result': {'loss': 632200.515625, 'status': 'ok'}, 'misc': {'tid': 8, 'cmd': ('domain_attachment', 'FMinIter_Domain'), 'workdir': None, 'idxs': {'colsample_bytree': [8], 'gamma': [8], 'learning_rate': [8], 'max_depth': [8], 'min_child_weight': [8], 'n_estimators': [8], 'reg_lambda': [8], 'subsample': [8]}, 'vals': {'colsample_bytree': [0.6110297320918154], 'gamma': [1.5725715049278188], 'learning_rate': [0.02205714450596051], 'max_depth': [2], 'min_child_weight': [7], 'n_estimators': [138], 'reg_lambda': [0.18110104682708542], 'subsample': [0.5665482162715036]}}, 'exp_key': None, 'owner': None, 'version': 0, 'book_time': datetime.datetime(2019, 12, 2, 8, 43, 14, 759000), 'refresh_time': datetime.datetime(2019, 12, 2, 8, 58, 38, 237000)}\n",
      "{'state': 2, 'tid': 9, 'spec': None, 'result': {'loss': 743629.015625, 'status': 'ok'}, 'misc': {'tid': 9, 'cmd': ('domain_attachment', 'FMinIter_Domain'), 'workdir': None, 'idxs': {'colsample_bytree': [9], 'gamma': [9], 'learning_rate': [9], 'max_depth': [9], 'min_child_weight': [9], 'n_estimators': [9], 'reg_lambda': [9], 'subsample': [9]}, 'vals': {'colsample_bytree': [0.8383277865783313], 'gamma': [1.176827373812079], 'learning_rate': [0.008715107333867001], 'max_depth': [0], 'min_child_weight': [0], 'n_estimators': [281], 'reg_lambda': [0.18375578105983412], 'subsample': [0.507411472411647]}}, 'exp_key': None, 'owner': None, 'version': 0, 'book_time': datetime.datetime(2019, 12, 2, 8, 58, 38, 293000), 'refresh_time': datetime.datetime(2019, 12, 2, 9, 12, 19, 512000)}\n",
      "{'state': 2, 'tid': 10, 'spec': None, 'result': {'loss': 647381.890625, 'status': 'ok'}, 'misc': {'tid': 10, 'cmd': ('domain_attachment', 'FMinIter_Domain'), 'workdir': None, 'idxs': {'colsample_bytree': [10], 'gamma': [10], 'learning_rate': [10], 'max_depth': [10], 'min_child_weight': [10], 'n_estimators': [10], 'reg_lambda': [10], 'subsample': [10]}, 'vals': {'colsample_bytree': [0.7036064194972956], 'gamma': [0.6308554737754887], 'learning_rate': [0.03001341395692245], 'max_depth': [1], 'min_child_weight': [5], 'n_estimators': [140], 'reg_lambda': [0.03556811902594144], 'subsample': [0.6145356522710337]}}, 'exp_key': None, 'owner': None, 'version': 0, 'book_time': datetime.datetime(2019, 12, 2, 9, 12, 19, 569000), 'refresh_time': datetime.datetime(2019, 12, 2, 9, 25, 35, 576000)}\n",
      "{'state': 2, 'tid': 11, 'spec': None, 'result': {'loss': 563716.21875, 'status': 'ok'}, 'misc': {'tid': 11, 'cmd': ('domain_attachment', 'FMinIter_Domain'), 'workdir': None, 'idxs': {'colsample_bytree': [11], 'gamma': [11], 'learning_rate': [11], 'max_depth': [11], 'min_child_weight': [11], 'n_estimators': [11], 'reg_lambda': [11], 'subsample': [11]}, 'vals': {'colsample_bytree': [0.5874005839572168], 'gamma': [0.20288437832840567], 'learning_rate': [0.14638723679640742], 'max_depth': [7], 'min_child_weight': [0], 'n_estimators': [643], 'reg_lambda': [0.36882006580782556], 'subsample': [0.925864814933144]}}, 'exp_key': None, 'owner': None, 'version': 0, 'book_time': datetime.datetime(2019, 12, 2, 9, 25, 35, 820000), 'refresh_time': datetime.datetime(2019, 12, 2, 10, 19, 22, 568000)}\n",
      "{'state': 2, 'tid': 12, 'spec': None, 'result': {'loss': 560944.890625, 'status': 'ok'}, 'misc': {'tid': 12, 'cmd': ('domain_attachment', 'FMinIter_Domain'), 'workdir': None, 'idxs': {'colsample_bytree': [12], 'gamma': [12], 'learning_rate': [12], 'max_depth': [12], 'min_child_weight': [12], 'n_estimators': [12], 'reg_lambda': [12], 'subsample': [12]}, 'vals': {'colsample_bytree': [0.5127693006827468], 'gamma': [2.2539466368131293], 'learning_rate': [0.09769594993671277], 'max_depth': [6], 'min_child_weight': [5], 'n_estimators': [277], 'reg_lambda': [0.9338115153316962], 'subsample': [0.7576008637836047]}}, 'exp_key': None, 'owner': None, 'version': 0, 'book_time': datetime.datetime(2019, 12, 2, 10, 19, 22, 621000), 'refresh_time': datetime.datetime(2019, 12, 2, 10, 51, 19, 839000)}\n",
      "{'state': 2, 'tid': 13, 'spec': None, 'result': {'loss': 568621.875, 'status': 'ok'}, 'misc': {'tid': 13, 'cmd': ('domain_attachment', 'FMinIter_Domain'), 'workdir': None, 'idxs': {'colsample_bytree': [13], 'gamma': [13], 'learning_rate': [13], 'max_depth': [13], 'min_child_weight': [13], 'n_estimators': [13], 'reg_lambda': [13], 'subsample': [13]}, 'vals': {'colsample_bytree': [0.5869819830505152], 'gamma': [0.49604199127307536], 'learning_rate': [0.14283951004792883], 'max_depth': [5], 'min_child_weight': [3], 'n_estimators': [460], 'reg_lambda': [0.40184545013664574], 'subsample': [0.8442053256451961]}}, 'exp_key': None, 'owner': None, 'version': 0, 'book_time': datetime.datetime(2019, 12, 2, 10, 51, 19, 896000), 'refresh_time': datetime.datetime(2019, 12, 2, 11, 27, 6, 268000)}\n",
      "{'state': 2, 'tid': 14, 'spec': None, 'result': {'loss': 641649.15625, 'status': 'ok'}, 'misc': {'tid': 14, 'cmd': ('domain_attachment', 'FMinIter_Domain'), 'workdir': None, 'idxs': {'colsample_bytree': [14], 'gamma': [14], 'learning_rate': [14], 'max_depth': [14], 'min_child_weight': [14], 'n_estimators': [14], 'reg_lambda': [14], 'subsample': [14]}, 'vals': {'colsample_bytree': [0.5580894674412246], 'gamma': [0.5605201740108118], 'learning_rate': [0.1477063463924833], 'max_depth': [0], 'min_child_weight': [8], 'n_estimators': [15], 'reg_lambda': [0.5667619105077798], 'subsample': [0.5996861697546387]}}, 'exp_key': None, 'owner': None, 'version': 0, 'book_time': datetime.datetime(2019, 12, 2, 11, 27, 6, 319000), 'refresh_time': datetime.datetime(2019, 12, 2, 11, 34, 36, 702000)}\n"
     ]
    }
   ],
   "source": [
    "for t in trials:\n",
    "  print(t)"
   ]
  },
  {
   "cell_type": "code",
   "execution_count": 45,
   "metadata": {
    "colab": {
     "base_uri": "https://localhost:8080/",
     "height": 729
    },
    "colab_type": "code",
    "executionInfo": {
     "elapsed": 3406,
     "status": "ok",
     "timestamp": 1575298351198,
     "user": {
      "displayName": "Ariel Marchesini",
      "photoUrl": "",
      "userId": "09313016384185977219"
     },
     "user_tz": 180
    },
    "id": "Nu6LMVfX_gB_",
    "outputId": "a7161e10-86b7-4dc1-e2b5-421b91a30eb1"
   },
   "outputs": [
    {
     "data": {
      "image/png": "[encoded data removed]",
      "text/plain": [
       "<Figure size 1512x720 with 8 Axes>"
      ]
     },
     "metadata": {
      "tags": []
     },
     "output_type": "display_data"
    }
   ],
   "source": [
    "hyperp = [\"colsample_bytree\", \"gamma\", \"learning_rate\", \"max_depth\", \"min_child_weight\",\n",
    "            \"n_estimators\", \"reg_lambda\", \"subsample\"]\n",
    "fig, a = plt.subplots(2, 4, figsize=(21, 10))\n",
    "for (i, e) in enumerate(hyperp):\n",
    "    x = [t[\"misc\"][\"vals\"][e] for t in trials if (\"loss\" in t[\"result\"])]\n",
    "    y = [-t[\"result\"][\"loss\"] for t in trials if (\"loss\" in t[\"result\"])]\n",
    "    a[int(i/4), i%4].scatter(x, y, s=20, linewidth=0.01)\n",
    "    a[int(i/4), i%4].set_title(e)\n",
    "    \n",
    "plt.tight_layout()"
   ]
  },
  {
   "cell_type": "code",
   "execution_count": 46,
   "metadata": {
    "colab": {
     "base_uri": "https://localhost:8080/",
     "height": 156
    },
    "colab_type": "code",
    "executionInfo": {
     "elapsed": 1247,
     "status": "ok",
     "timestamp": 1575298383528,
     "user": {
      "displayName": "Ariel Marchesini",
      "photoUrl": "",
      "userId": "09313016384185977219"
     },
     "user_tz": 180
    },
    "id": "fcRZTU5SF3lK",
    "outputId": "6a49cbd6-3942-41d5-ec87-4ccc8e96769d"
   },
   "outputs": [
    {
     "data": {
      "text/plain": [
       "{'colsample_bytree': 0.6121196706532945,\n",
       " 'gamma': 1.5316021035421175,\n",
       " 'learning_rate': 0.09242686528701206,\n",
       " 'max_depth': 5,\n",
       " 'min_child_weight': 6,\n",
       " 'n_estimators': 21,\n",
       " 'reg_lambda': 0.27922369205947617,\n",
       " 'subsample': 0.9275339779001934}"
      ]
     },
     "execution_count": 46,
     "metadata": {
      "tags": []
     },
     "output_type": "execute_result"
    }
   ],
   "source": [
    "best"
   ]
  },
  {
   "cell_type": "code",
   "execution_count": 48,
   "metadata": {
    "colab": {
     "base_uri": "https://localhost:8080/",
     "height": 173
    },
    "colab_type": "code",
    "executionInfo": {
     "elapsed": 935,
     "status": "ok",
     "timestamp": 1575298440902,
     "user": {
      "displayName": "Ariel Marchesini",
      "photoUrl": "",
      "userId": "09313016384185977219"
     },
     "user_tz": 180
    },
    "id": "UkNRqHw_GbjQ",
    "outputId": "72614086-1a13-43ea-82d2-869f9f5aa47b"
   },
   "outputs": [
    {
     "data": {
      "text/plain": [
       "{'colsample_bytree': 0.6121196706532945,\n",
       " 'gamma': 1.5316021035421175,\n",
       " 'learning_rate': 0.09242686528701206,\n",
       " 'max_depth': 8,\n",
       " 'min_child_weight': 7,\n",
       " 'n_estimators': 721,\n",
       " 'objective': 'reg:squarederror',\n",
       " 'reg_lambda': 0.27922369205947617,\n",
       " 'subsample': 0.9275339779001934}"
      ]
     },
     "execution_count": 48,
     "metadata": {
      "tags": []
     },
     "output_type": "execute_result"
    }
   ],
   "source": [
    "space_eval(espacio_xgb, best)"
   ]
  },
  {
   "cell_type": "code",
   "execution_count": 0,
   "metadata": {
    "colab": {},
    "colab_type": "code",
    "id": "DbFSHSkzGppO"
   },
   "outputs": [],
   "source": [
    "xgb = XGBRegressor(\n",
    "    colsample_bytree = 0.6121196706532945,\n",
    "    gamma = 1.5316021035421175,\n",
    "    learning_rate = 0.09242686528701206,\n",
    "    max_depth = 8,\n",
    "    min_child_weight = 7,\n",
    "    n_estimators = 721,\n",
    "    objective = 'reg:squarederror',\n",
    "    reg_lambda = 0.27922369205947617,\n",
    "    subsample = 0.9275339779001934\n",
    "    \n",
    ")"
   ]
  },
  {
   "cell_type": "code",
   "execution_count": 0,
   "metadata": {
    "colab": {},
    "colab_type": "code",
    "id": "5xP2zB9VHJkO"
   },
   "outputs": [],
   "source": [
    "predictor = xgb.fit(datos, precio)"
   ]
  },
  {
   "cell_type": "code",
   "execution_count": 52,
   "metadata": {
    "colab": {
     "base_uri": "https://localhost:8080/",
     "height": 682
    },
    "colab_type": "code",
    "executionInfo": {
     "elapsed": 2914,
     "status": "ok",
     "timestamp": 1575299247263,
     "user": {
      "displayName": "Ariel Marchesini",
      "photoUrl": "",
      "userId": "09313016384185977219"
     },
     "user_tz": 180
    },
    "id": "qF15IF_MHUp0",
    "outputId": "bf173daf-50ab-4916-83a9-fa7a4e4f12be"
   },
   "outputs": [
    {
     "data": {
      "text/plain": [
       "Text(0, 0.5, 'Feature Importance Score')"
      ]
     },
     "execution_count": 52,
     "metadata": {
      "tags": []
     },
     "output_type": "execute_result"
    },
    {
     "data": {
      "image/png": "[encoded data removed]",
      "text/plain": [
       "<Figure size 1080x504 with 1 Axes>"
      ]
     },
     "metadata": {
      "tags": []
     },
     "output_type": "display_data"
    }
   ],
   "source": [
    "feat_imp = pd.Series(predictor.get_booster().get_fscore()).sort_values(ascending=False)\n",
    "feat_imp.plot(kind='bar', title='Feature Importances', figsize=(15, 7))\n",
    "plt.ylabel('Feature Importance Score')"
   ]
  },
  {
   "cell_type": "code",
   "execution_count": 0,
   "metadata": {
    "colab": {},
    "colab_type": "code",
    "id": "x3_RGXGwXhJq"
   },
   "outputs": [],
   "source": []
  }
 ],
 "metadata": {
  "colab": {
   "name": "Untitled1.ipynb",
   "provenance": []
  },
  "kernelspec": {
   "display_name": "Python 3",
   "language": "python",
   "name": "python3"
  },
  "language_info": {
   "codemirror_mode": {
    "name": "ipython",
    "version": 3
   },
   "file_extension": ".py",
   "mimetype": "text/x-python",
   "name": "python",
   "nbconvert_exporter": "python",
   "pygments_lexer": "ipython3",
   "version": "3.7.3"
  }
 },
 "nbformat": 4,
 "nbformat_minor": 1
}
