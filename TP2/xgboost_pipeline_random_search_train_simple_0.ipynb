{
 "cells": [
  {
   "cell_type": "markdown",
   "metadata": {},
   "source": [
    "# XGBoost Regressor - Pipeline - Random Search - Train simple - 0 "
   ]
  },
  {
   "cell_type": "markdown",
   "metadata": {},
   "source": [
    "Se descartan columnas complejas."
   ]
  },
  {
   "cell_type": "markdown",
   "metadata": {},
   "source": [
    "## Imports "
   ]
  },
  {
   "cell_type": "code",
   "execution_count": 1,
   "metadata": {},
   "outputs": [],
   "source": [
    "import common.common_machine_learning as common\n",
    "import pandas as pd\n",
    "import numpy as np\n",
    "from category_encoders import OrdinalEncoder\n",
    "from sklearn.impute import SimpleImputer\n",
    "from sklearn.compose import ColumnTransformer\n",
    "from sklearn.model_selection import train_test_split\n",
    "from sklearn.model_selection import GridSearchCV, RandomizedSearchCV\n",
    "from sklearn.pipeline import Pipeline\n",
    "from sklearn.metrics import mean_squared_error\n",
    "from xgboost import XGBRegressor\n",
    "import time"
   ]
  },
  {
   "cell_type": "markdown",
   "metadata": {},
   "source": [
    "### Ignorar FutureWarnings "
   ]
  },
  {
   "cell_type": "code",
   "execution_count": 2,
   "metadata": {},
   "outputs": [],
   "source": [
    "from warnings import simplefilter\n",
    "simplefilter(action='ignore', category=FutureWarning)"
   ]
  },
  {
   "cell_type": "markdown",
   "metadata": {},
   "source": [
    "## Constantes "
   ]
  },
  {
   "cell_type": "code",
   "execution_count": 3,
   "metadata": {},
   "outputs": [],
   "source": [
    "TARGET = 'precio'\n",
    "K = 3\n",
    "N_ITER = 10 # 0.5 minutos * 10 = 5 minutos (aprox.)\n",
    "RANDOM_SEMILLA = 3 # numero favorito (de la suerte)"
   ]
  },
  {
   "cell_type": "markdown",
   "metadata": {},
   "source": [
    "## Set de datos "
   ]
  },
  {
   "cell_type": "code",
   "execution_count": 4,
   "metadata": {},
   "outputs": [],
   "source": [
    "train = common.cargar_set_optimizado('sets_de_datos/train.csv')"
   ]
  },
  {
   "cell_type": "code",
   "execution_count": 5,
   "metadata": {},
   "outputs": [],
   "source": [
    "X = train.drop([TARGET], axis = 1).copy()\n",
    "y = train[TARGET].copy()"
   ]
  },
  {
   "cell_type": "code",
   "execution_count": 6,
   "metadata": {},
   "outputs": [],
   "source": [
    "X = common.eliminar_columnas_complejas(X)\n",
    "X = X.fillna(value = {'tipodepropiedad' : 'nan', 'provincia' : 'nan', 'ciudad' : 'nan'})"
   ]
  },
  {
   "cell_type": "code",
   "execution_count": 7,
   "metadata": {},
   "outputs": [],
   "source": [
    "X_train, X_test, y_train, y_test = train_test_split(X, y, test_size = 0.25, random_state = 1)"
   ]
  },
  {
   "cell_type": "markdown",
   "metadata": {},
   "source": [
    "## Pipeline "
   ]
  },
  {
   "cell_type": "code",
   "execution_count": 8,
   "metadata": {},
   "outputs": [],
   "source": [
    "columns_pipe = ColumnTransformer(transformers = [\n",
    "    ('nan_to_mean', SimpleImputer(strategy = 'mean'), ['metrostotales', 'metroscubiertos', 'antiguedad']),\n",
    "    ('nan_to_cero', SimpleImputer(strategy = 'constant', fill_value = 0), ['habitaciones', 'banos', 'garages'])\n",
    "])\n",
    "\n",
    "pre_processor_pipe = Pipeline(steps =[\n",
    "    ('ordinal_encoder', OrdinalEncoder(cols = ['tipodepropiedad', 'provincia', 'ciudad'])),\n",
    "    ('columns_pipe', columns_pipe)\n",
    "])\n",
    "\n",
    "ppal_pipe = Pipeline(steps = [\n",
    "    ('preprocessing', pre_processor_pipe), \n",
    "    ('xgb_regressor', XGBRegressor(objective = 'reg:squarederror'))\n",
    "])"
   ]
  },
  {
   "cell_type": "code",
   "execution_count": 12,
   "metadata": {},
   "outputs": [],
   "source": [
    "ppal_pipe = ppal_pipe.fit(X_train, y_train)"
   ]
  },
  {
   "cell_type": "code",
   "execution_count": 13,
   "metadata": {},
   "outputs": [
    {
     "name": "stdout",
     "output_type": "stream",
     "text": [
      "RMSE : 1532881.75\n"
     ]
    }
   ],
   "source": [
    "y_pred = ppal_pipe.predict(X_test)\n",
    "\n",
    "print('RMSE : {0:.2f}'.format(np.sqrt(mean_squared_error(y_pred, y_test))))"
   ]
  },
  {
   "cell_type": "markdown",
   "metadata": {},
   "source": [
    "## RandomSearch "
   ]
  },
  {
   "cell_type": "code",
   "execution_count": 9,
   "metadata": {
    "scrolled": true
   },
   "outputs": [
    {
     "name": "stdout",
     "output_type": "stream",
     "text": [
      "Fitting 3 folds for each of 10 candidates, totalling 30 fits\n"
     ]
    },
    {
     "name": "stderr",
     "output_type": "stream",
     "text": [
      "[Parallel(n_jobs=1)]: Using backend SequentialBackend with 1 concurrent workers.\n",
      "[Parallel(n_jobs=1)]: Done  30 out of  30 | elapsed: 17.8min finished\n"
     ]
    },
    {
     "name": "stdout",
     "output_type": "stream",
     "text": [
      "Tiempo de busqueda : 19.02\n"
     ]
    }
   ],
   "source": [
    "params = {\n",
    "    \"xgb_regressor__n_estimators\": [100, 250, 750, 1000], # default 100,\n",
    "    \"xgb_regressor__learning_rate\": [0.03, 0.01, 0.1, 0.3], # default 0.1\n",
    "    \"xgb_regressor__gamma\": [0, 0.25, 0.75, 1],\n",
    "    \"xgb_regressor__lambda\": [0, 0.25, 0.75, 1],\n",
    "    \"xgb_regressor__max_depth\": [3, 5, 7, 9], # default 3 # < 15 columnas = cantidad columnas feature originales\n",
    "    \"xgb_regressor__subsample\": [0.6, 0.5, 0.4, 0.3],\n",
    "    \"xgb_regressor__colsample_bytree\": [0.6, 0.5, 0.4, 0.3],\n",
    "    \"xgb_regressor__min_child_weight\": [2, 3, 4, 5]\n",
    "}\n",
    "\n",
    "search = RandomizedSearchCV(\n",
    "            ppal_pipe, \n",
    "            param_distributions=params,\n",
    "            random_state = RANDOM_SEMILLA,\n",
    "            n_iter = N_ITER,\n",
    "            cv=K, \n",
    "            verbose=1, \n",
    "            n_jobs=1, \n",
    "            return_train_score=True,\n",
    "            iid = True\n",
    "        )\n",
    "inicio = time.time()\n",
    "search = search.fit(X_train, y_train)\n",
    "fin = time.time()\n",
    "\n",
    "minutos = (fin-inicio)/60\n",
    "\n",
    "print(\"Tiempo de busqueda : {0:.2f}\".format(minutos))"
   ]
  },
  {
   "cell_type": "code",
   "execution_count": 10,
   "metadata": {
    "scrolled": true
   },
   "outputs": [
    {
     "name": "stdout",
     "output_type": "stream",
     "text": [
      "Modelo con rango: 1\n",
      "MEAN: 0.531 (STD: 0.001)\n",
      "Hiper-Parametros: {'xgb_regressor__subsample': 0.5, 'xgb_regressor__n_estimators': 750, 'xgb_regressor__min_child_weight': 5, 'xgb_regressor__max_depth': 9, 'xgb_regressor__learning_rate': 0.03, 'xgb_regressor__lambda': 1, 'xgb_regressor__gamma': 0.75, 'xgb_regressor__colsample_bytree': 0.6}\n",
      "\n",
      "Modelo con rango: 2\n",
      "MEAN: 0.522 (STD: 0.001)\n",
      "Hiper-Parametros: {'xgb_regressor__subsample': 0.6, 'xgb_regressor__n_estimators': 750, 'xgb_regressor__min_child_weight': 3, 'xgb_regressor__max_depth': 7, 'xgb_regressor__learning_rate': 0.1, 'xgb_regressor__lambda': 0.25, 'xgb_regressor__gamma': 0, 'xgb_regressor__colsample_bytree': 0.6}\n",
      "\n",
      "Modelo con rango: 3\n",
      "MEAN: 0.517 (STD: 0.002)\n",
      "Hiper-Parametros: {'xgb_regressor__subsample': 0.3, 'xgb_regressor__n_estimators': 100, 'xgb_regressor__min_child_weight': 3, 'xgb_regressor__max_depth': 7, 'xgb_regressor__learning_rate': 0.1, 'xgb_regressor__lambda': 0.75, 'xgb_regressor__gamma': 0, 'xgb_regressor__colsample_bytree': 0.5}\n",
      "\n",
      "Modelo con rango: 4\n",
      "MEAN: 0.503 (STD: 0.001)\n",
      "Hiper-Parametros: {'xgb_regressor__subsample': 0.4, 'xgb_regressor__n_estimators': 750, 'xgb_regressor__min_child_weight': 4, 'xgb_regressor__max_depth': 5, 'xgb_regressor__learning_rate': 0.3, 'xgb_regressor__lambda': 0.25, 'xgb_regressor__gamma': 0.25, 'xgb_regressor__colsample_bytree': 0.6}\n",
      "\n",
      "Modelo con rango: 5\n",
      "MEAN: 0.503 (STD: 0.001)\n",
      "Hiper-Parametros: {'xgb_regressor__subsample': 0.5, 'xgb_regressor__n_estimators': 250, 'xgb_regressor__min_child_weight': 3, 'xgb_regressor__max_depth': 3, 'xgb_regressor__learning_rate': 0.3, 'xgb_regressor__lambda': 0, 'xgb_regressor__gamma': 0.75, 'xgb_regressor__colsample_bytree': 0.5}\n",
      "\n",
      "Modelo con rango: 6\n",
      "MEAN: 0.496 (STD: 0.002)\n",
      "Hiper-Parametros: {'xgb_regressor__subsample': 0.6, 'xgb_regressor__n_estimators': 750, 'xgb_regressor__min_child_weight': 5, 'xgb_regressor__max_depth': 7, 'xgb_regressor__learning_rate': 0.3, 'xgb_regressor__lambda': 0.75, 'xgb_regressor__gamma': 1, 'xgb_regressor__colsample_bytree': 0.4}\n",
      "\n",
      "Modelo con rango: 7\n",
      "MEAN: 0.439 (STD: 0.002)\n",
      "Hiper-Parametros: {'xgb_regressor__subsample': 0.6, 'xgb_regressor__n_estimators': 750, 'xgb_regressor__min_child_weight': 2, 'xgb_regressor__max_depth': 9, 'xgb_regressor__learning_rate': 0.3, 'xgb_regressor__lambda': 0, 'xgb_regressor__gamma': 0.75, 'xgb_regressor__colsample_bytree': 0.5}\n",
      "\n",
      "Modelo con rango: 8\n",
      "MEAN: 0.426 (STD: 0.003)\n",
      "Hiper-Parametros: {'xgb_regressor__subsample': 0.5, 'xgb_regressor__n_estimators': 1000, 'xgb_regressor__min_child_weight': 5, 'xgb_regressor__max_depth': 9, 'xgb_regressor__learning_rate': 0.3, 'xgb_regressor__lambda': 0.75, 'xgb_regressor__gamma': 0.75, 'xgb_regressor__colsample_bytree': 0.6}\n",
      "\n",
      "Modelo con rango: 9\n",
      "MEAN: 0.411 (STD: 0.002)\n",
      "Hiper-Parametros: {'xgb_regressor__subsample': 0.3, 'xgb_regressor__n_estimators': 100, 'xgb_regressor__min_child_weight': 2, 'xgb_regressor__max_depth': 7, 'xgb_regressor__learning_rate': 0.1, 'xgb_regressor__lambda': 0.25, 'xgb_regressor__gamma': 0.75, 'xgb_regressor__colsample_bytree': 0.3}\n",
      "\n",
      "Modelo con rango: 10\n",
      "MEAN: 0.098 (STD: 0.001)\n",
      "Hiper-Parametros: {'xgb_regressor__subsample': 0.6, 'xgb_regressor__n_estimators': 100, 'xgb_regressor__min_child_weight': 2, 'xgb_regressor__max_depth': 3, 'xgb_regressor__learning_rate': 0.01, 'xgb_regressor__lambda': 0.75, 'xgb_regressor__gamma': 0.25, 'xgb_regressor__colsample_bytree': 0.4}\n",
      "\n"
     ]
    }
   ],
   "source": [
    "common.busqueda_reportar_mejores_resultados(search.cv_results_, 30)"
   ]
  },
  {
   "cell_type": "markdown",
   "metadata": {},
   "source": [
    "Modelo con rango: 1  \n",
    "MEAN: 0.531 (STD: 0.001)  \n",
    "Hiper-Parametros: {  \n",
    "    - 'regressor__subsample': 0.5,  \n",
    "    - 'regressor__n_estimators': 750,  \n",
    "    - 'regressor__min_child_weight': 5,  \n",
    "    - 'regressor__max_depth': 9,  \n",
    "    - 'regressor__learning_rate': 0.03,  \n",
    "    - 'regressor__lambda': 1,  \n",
    "    - 'regressor__gamma': 0.75,  \n",
    "    - 'regressor__colsample_bytree': 0.6\n",
    "    }"
   ]
  },
  {
   "cell_type": "code",
   "execution_count": 21,
   "metadata": {},
   "outputs": [],
   "source": [
    "xgb_model = XGBRegressor(\n",
    "    objective = 'reg:squarederror',\n",
    "    subsample = 0.5,\n",
    "    n_estimators = 750,\n",
    "    min_child_weight = 5,\n",
    "    max_depth = 9,\n",
    "    learning_rate = 0.03,\n",
    "    reg_lambda = 1,\n",
    "    gamma = 0.75,\n",
    "    colsample_bytree = 0.6\n",
    ")\n",
    "\n",
    "mejor_pipe = Pipeline(steps = [\n",
    "    ('preprocessing', pre_processor_pipe), \n",
    "    ('xgb_regressor', xgb_model)\n",
    "])\n"
   ]
  },
  {
   "cell_type": "code",
   "execution_count": null,
   "metadata": {
    "scrolled": true
   },
   "outputs": [],
   "source": [
    "mejor_pipe = mejor_pipe.fit(X_train, y_train)"
   ]
  },
  {
   "cell_type": "code",
   "execution_count": 25,
   "metadata": {},
   "outputs": [
    {
     "name": "stdout",
     "output_type": "stream",
     "text": [
      "RMSE : 1449886.38\n"
     ]
    }
   ],
   "source": [
    "y_pred = mejor_pipe.predict(X_test)\n",
    "\n",
    "print(\"RMSE : {0:.2f}\".format(np.sqrt(mean_squared_error(y_pred, y_test))))"
   ]
  }
 ],
 "metadata": {
  "kernelspec": {
   "display_name": "Python 3",
   "language": "python",
   "name": "python3"
  },
  "language_info": {
   "codemirror_mode": {
    "name": "ipython",
    "version": 3
   },
   "file_extension": ".py",
   "mimetype": "text/x-python",
   "name": "python",
   "nbconvert_exporter": "python",
   "pygments_lexer": "ipython3",
   "version": "3.7.3"
  }
 },
 "nbformat": 4,
 "nbformat_minor": 2
}
