{
 "cells": [
  {
   "cell_type": "markdown",
   "metadata": {},
   "source": [
    "## Imports "
   ]
  },
  {
   "cell_type": "code",
   "execution_count": 4,
   "metadata": {},
   "outputs": [],
   "source": [
    "import common.common_machine_learning as common\n",
    "import pandas as pd\n",
    "import numpy as np\n",
    "from category_encoders import OrdinalEncoder\n",
    "from sklearn.impute import SimpleImputer\n",
    "from sklearn.compose import ColumnTransformer\n",
    "from sklearn.pipeline import Pipeline\n",
    "from sklearn.metrics import mean_squared_error\n",
    "from xgboost import XGBRegressor\n",
    "import time"
   ]
  },
  {
   "cell_type": "markdown",
   "metadata": {},
   "source": [
    "### Ignore Future Warnings "
   ]
  },
  {
   "cell_type": "code",
   "execution_count": 6,
   "metadata": {},
   "outputs": [],
   "source": [
    "from warnings import simplefilter\n",
    "simplefilter(action='ignore', category=FutureWarning)"
   ]
  },
  {
   "cell_type": "markdown",
   "metadata": {},
   "source": [
    "## Constantes "
   ]
  },
  {
   "cell_type": "code",
   "execution_count": 5,
   "metadata": {},
   "outputs": [],
   "source": [
    "TARGET = 'precio'\n",
    "RANDOM_SEMILLA = 3 # numero favorito (de la suerte)"
   ]
  },
  {
   "cell_type": "markdown",
   "metadata": {},
   "source": [
    "## Carga y pre pre proceso del set de datos "
   ]
  },
  {
   "cell_type": "code",
   "execution_count": 15,
   "metadata": {},
   "outputs": [],
   "source": [
    "train = common.cargar_set_optimizado('sets_de_datos/train.csv', index_col = 0)\n",
    "\n",
    "X_train = train.drop([TARGET], axis = 1).copy()\n",
    "y_train = train[TARGET].copy()\n",
    "\n",
    "X_test = common.cargar_set_optimizado('sets_de_datos/test.csv', index_col = 0)\n",
    "\n",
    "X_train = common.eliminar_columnas_complejas(X_train)\n",
    "X_test = common.eliminar_columnas_complejas(X_test)\n",
    "\n",
    "X_train = X_train.fillna(value = {'tipodepropiedad' : 'nan', 'provincia' : 'nan', 'ciudad' : 'nan'})\n",
    "X_test = X_test.fillna(value = {'tipodepropiedad' : 'nan', 'provincia' : 'nan', 'ciudad' : 'nan'})"
   ]
  },
  {
   "cell_type": "markdown",
   "metadata": {},
   "source": [
    "## Pipeline "
   ]
  },
  {
   "cell_type": "code",
   "execution_count": 8,
   "metadata": {},
   "outputs": [],
   "source": [
    "columns_pipe = ColumnTransformer(transformers = [\n",
    "    ('nan_to_mean', SimpleImputer(strategy = 'mean'), ['metrostotales', 'metroscubiertos', 'antiguedad']),\n",
    "    ('nan_to_cero', SimpleImputer(strategy = 'constant', fill_value = 0), ['habitaciones', 'banos', 'garages'])\n",
    "])\n",
    "\n",
    "pre_processor_pipe = Pipeline(steps =[\n",
    "    ('ordinal_encoder', OrdinalEncoder(cols = ['tipodepropiedad', 'provincia', 'ciudad'])),\n",
    "    ('columns_pipe', columns_pipe)\n",
    "])\n",
    "\n",
    "xgb_model = XGBRegressor(\n",
    "    objective = 'reg:squarederror',\n",
    "    subsample = 0.5,\n",
    "    n_estimators = 750,\n",
    "    min_child_weight = 5,\n",
    "    max_depth = 9,\n",
    "    learning_rate = 0.03,\n",
    "    reg_lambda = 1,\n",
    "    gamma = 0.75,\n",
    "    colsample_bytree = 0.6\n",
    ")\n",
    "\n",
    "pipe = Pipeline(steps = [\n",
    "    ('preprocessing', pre_processor_pipe), \n",
    "    ('xgb_regressor', xgb_model)\n",
    "])\n"
   ]
  },
  {
   "cell_type": "markdown",
   "metadata": {},
   "source": [
    "## Entrenamiento "
   ]
  },
  {
   "cell_type": "code",
   "execution_count": 16,
   "metadata": {},
   "outputs": [],
   "source": [
    "pipe = pipe.fit(X_train, y_train)"
   ]
  },
  {
   "cell_type": "markdown",
   "metadata": {},
   "source": [
    "## Prediccion "
   ]
  },
  {
   "cell_type": "code",
   "execution_count": 17,
   "metadata": {},
   "outputs": [],
   "source": [
    "y_pred = pipe.predict(X_test)"
   ]
  },
  {
   "cell_type": "code",
   "execution_count": 18,
   "metadata": {},
   "outputs": [],
   "source": [
    "res = pd.DataFrame(y_pred, index=X_test.index, columns=['target'])\n",
    "res.to_csv(\"submits/submit_xgboost_0.csv\", header=True)"
   ]
  }
 ],
 "metadata": {
  "kernelspec": {
   "display_name": "Python 3",
   "language": "python",
   "name": "python3"
  },
  "language_info": {
   "codemirror_mode": {
    "name": "ipython",
    "version": 3
   },
   "file_extension": ".py",
   "mimetype": "text/x-python",
   "name": "python",
   "nbconvert_exporter": "python",
   "pygments_lexer": "ipython3",
   "version": "3.6.8"
  }
 },
 "nbformat": 4,
 "nbformat_minor": 2
}
